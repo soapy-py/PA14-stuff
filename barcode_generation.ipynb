{
  "nbformat": 4,
  "nbformat_minor": 0,
  "metadata": {
    "colab": {
      "provenance": []
    },
    "kernelspec": {
      "name": "python3",
      "display_name": "Python 3"
    },
    "language_info": {
      "name": "python"
    }
  },
  "cells": [
    {
      "cell_type": "code",
      "execution_count": null,
      "metadata": {
        "colab": {
          "base_uri": "https://localhost:8080/"
        },
        "id": "znB_iHgAF02J",
        "outputId": "193a1612-f443-4a1e-8f09-5e6da5f50304"
      },
      "outputs": [
        {
          "output_type": "stream",
          "name": "stdout",
          "text": [
            "generated 10 barcodes\n",
            "generated 20 barcodes\n",
            "generated 30 barcodes\n",
            "generated 40 barcodes\n",
            "generated 50 barcodes\n",
            "generated 60 barcodes\n",
            "generated 70 barcodes\n",
            "generated 80 barcodes\n",
            "generated 90 barcodes\n",
            "generated 100 barcodes\n",
            "generated 110 barcodes\n",
            "generated 120 barcodes\n",
            "finished generating 120 barcodes. Saved to dna_barcodes_1.txt.\n"
          ]
        }
      ],
      "source": [
        "from itertools import product\n",
        "import random\n",
        "\n",
        "def calculate_gc_content(seq):\n",
        "    return (seq.count('G') + seq.count('C')) / len(seq)\n",
        "\n",
        "def repeated_bases(seq, max_run=2):\n",
        "    #runs of the same base of length > max_run.\n",
        "    for i in range(len(seq) - max_run):\n",
        "        if seq[i] == seq[i + 1] == seq[i + 2]:\n",
        "            return True\n",
        "    return False\n",
        "\n",
        "def hamming_distance(seq1, seq2):\n",
        "    return sum(c1 != c2 for c1, c2 in zip(seq1, seq2))\n",
        "\n",
        "def valid_candidate(candidate, barcode_set, min_hamming_distance, gc_min, gc_max):\n",
        "    gc_content = calculate_gc_content(candidate)\n",
        "    if gc_content < gc_min or gc_content > gc_max:\n",
        "        return False\n",
        "    if repeated_bases(candidate):\n",
        "        return False\n",
        "    for barcode in barcode_set:\n",
        "        if hamming_distance(candidate, barcode) < min_hamming_distance:\n",
        "            return False\n",
        "    return True\n",
        "\n",
        "def generate_barcodes(length, num_barcodes, min_hamming_distance, gc_min, gc_max, output_file, max_iterations):\n",
        "    barcode_set = []  # To store already accepted barcodes temporarily\n",
        "\n",
        "    with open(output_file, 'w') as f:\n",
        "        for _ in range(max_iterations):  # Iterate up to max_iterations times\n",
        "            if len(barcode_set) >= num_barcodes:\n",
        "                break\n",
        "            seq = ''.join(random.choice('ACGT') for _ in range(length))\n",
        "            if valid_candidate(seq, barcode_set, min_hamming_distance, gc_min, gc_max):\n",
        "                barcode_set.append(seq)\n",
        "                f.write(seq + '\\n')\n",
        "                if len(barcode_set) % 10 == 0:\n",
        "                    print(f\"generated {len(barcode_set)} barcodes\")\n",
        "\n",
        "    print(f\"finished generating {len(barcode_set)} barcodes. Saved to {output_file}.\")\n",
        "\n",
        "# params\n",
        "barcode_length = 18\n",
        "num_barcodes = 120\n",
        "min_hamming_distance = 5\n",
        "gc_min = 0.4\n",
        "gc_max = 0.7\n",
        "output_file = 'dna_barcodes_1.txt'\n",
        "max_iterations = 500000\n",
        "\n",
        "generate_barcodes(barcode_length, num_barcodes, min_hamming_distance, gc_min, gc_max, output_file, max_iterations)\n"
      ]
    },
    {
      "cell_type": "code",
      "source": [],
      "metadata": {
        "id": "FzX7VUW1G_Wz"
      },
      "execution_count": null,
      "outputs": []
    }
  ]
}