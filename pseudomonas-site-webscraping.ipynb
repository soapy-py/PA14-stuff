{
  "nbformat": 4,
  "nbformat_minor": 0,
  "metadata": {
    "colab": {
      "provenance": []
    },
    "kernelspec": {
      "name": "python3",
      "display_name": "Python 3"
    },
    "language_info": {
      "name": "python"
    }
  },
  "cells": [
    {
      "cell_type": "code",
      "source": [
        "#!/usr/bin/env python\n",
        "# coding: utf-8\n",
        "\n",
        "import urllib.request\n",
        "import requests\n",
        "from bs4 import BeautifulSoup\n",
        "from tqdm import tqdm\n",
        "import pandas as pd\n",
        "import re\n",
        "import os\n",
        "import pickle"
      ],
      "metadata": {
        "id": "iN--25rrc3uW"
      },
      "execution_count": null,
      "outputs": []
    },
    {
      "cell_type": "code",
      "source": [
        "# Step 1: Extract Locus IDs from the .tex file\n",
        "def extract_locus_ids(tex_file_path):\n",
        "    locus_ids = []\n",
        "    with open(tex_file_path, 'r') as file:\n",
        "        content = file.read()\n",
        "        locus_ids = re.findall(r'PA14_\\d{5}', content)\n",
        "    return locus_ids"
      ],
      "metadata": {
        "id": "UCu2jG_tc4CG"
      },
      "execution_count": null,
      "outputs": []
    },
    {
      "cell_type": "code",
      "source": [
        "# just checking\n",
        "\n",
        "tex_file_path = '/content/ES_master_list.txt'\n",
        "locus_ids = extract_locus_ids(tex_file_path)\n",
        "print(locus_ids)\n",
        "print(len(locus_ids))"
      ],
      "metadata": {
        "colab": {
          "base_uri": "https://localhost:8080/"
        },
        "id": "v1w7zVT7dMVX",
        "outputId": "e89fd41c-073b-4e36-dc51-c4f624ff5092"
      },
      "execution_count": null,
      "outputs": [
        {
          "output_type": "stream",
          "name": "stdout",
          "text": [
            "['PA14_00010', 'PA14_00020', 'PA14_00030', 'PA14_00050', 'PA14_00060', 'PA14_00070', 'PA14_00090', 'PA14_00100', 'PA14_00120', 'PA14_00190', 'PA14_00200', 'PA14_00240', 'PA14_00280', 'PA14_00290', 'PA14_00440', 'PA14_00450', 'PA14_00800', 'PA14_01130', 'PA14_01510', 'PA14_02620', 'PA14_02690', 'PA14_02900', 'PA14_02970', 'PA14_03163', 'PA14_04110', 'PA14_04140', 'PA14_04310', 'PA14_04380', 'PA14_04460', 'PA14_04480', 'PA14_04580', 'PA14_04630', 'PA14_04750', 'PA14_04760', 'PA14_04900', 'PA14_04930', 'PA14_04980', 'PA14_05070', 'PA14_05080', 'PA14_05150', 'PA14_05250', 'PA14_05260', 'PA14_05280', 'PA14_05460', 'PA14_05550', 'PA14_05590', 'PA14_05620', 'PA14_05775', 'PA14_06500', 'PA14_06510', 'PA14_06530', 'PA14_06540', 'PA14_06570', 'PA14_06600', 'PA14_07090', 'PA14_07130', 'PA14_07170', 'PA14_07190', 'PA14_07230', 'PA14_07520', 'PA14_07530', 'PA14_07560', 'PA14_07570', 'PA14_07590', 'PA14_07600', 'PA14_07620', 'PA14_07700', 'PA14_07740', 'PA14_07760', 'PA14_07770', 'PA14_07910', 'PA14_07940', 'PA14_07960', 'PA14_08340', 'PA14_08350', 'PA14_08360', 'PA14_08400', 'PA14_08470', 'PA14_08480', 'PA14_08510', 'PA14_08620', 'PA14_08630', 'PA14_08695', 'PA14_08710', 'PA14_08720', 'PA14_08730', 'PA14_08740', 'PA14_08750', 'PA14_08760', 'PA14_08780', 'PA14_08790', 'PA14_08810', 'PA14_08820', 'PA14_08840', 'PA14_08850', 'PA14_08860', 'PA14_08870', 'PA14_08880', 'PA14_08890', 'PA14_08900', 'PA14_08910', 'PA14_08920', 'PA14_08930', 'PA14_08940', 'PA14_08950', 'PA14_08960', 'PA14_08970', 'PA14_08980', 'PA14_08990', 'PA14_09000', 'PA14_09010', 'PA14_09020', 'PA14_09030', 'PA14_09040', 'PA14_09050', 'PA14_09080', 'PA14_09090', 'PA14_09100', 'PA14_09115', 'PA14_09130', 'PA14_09200', 'PA14_10360', 'PA14_10400', 'PA14_10410', 'PA14_10420', 'PA14_10530', 'PA14_10570', 'PA14_10590', 'PA14_10800', 'PA14_11090', 'PA14_11120', 'PA14_11260', 'PA14_11380', 'PA14_11400', 'PA14_11410', 'PA14_11430', 'PA14_11450', 'PA14_11460', 'PA14_11510', 'PA14_11550', 'PA14_11560', 'PA14_11570', 'PA14_11580', 'PA14_11690', 'PA14_11845', 'PA14_11860', 'PA14_12010', 'PA14_12060', 'PA14_12070', 'PA14_12090', 'PA14_12120', 'PA14_12130', 'PA14_12200', 'PA14_12210', 'PA14_12230', 'PA14_12280', 'PA14_12310', 'PA14_12390', 'PA14_12400', 'PA14_12410', 'PA14_13810', 'PA14_13950', 'PA14_14440', 'PA14_14500', 'PA14_14510', 'PA14_14630', 'PA14_14650', 'PA14_14680', 'PA14_14700', 'PA14_14730', 'PA14_14740', 'PA14_14750', 'PA14_14770', 'PA14_14780', 'PA14_14800', 'PA14_14820', 'PA14_14860', 'PA14_14880', 'PA14_14890', 'PA14_14930', 'PA14_15030', 'PA14_15050', 'PA14_15110', 'PA14_15310', 'PA14_15340', 'PA14_15430', 'PA14_15460', 'PA14_15470', 'PA14_15490', 'PA14_15580', 'PA14_15590', 'PA14_15600', 'PA14_15680', 'PA14_15740', 'PA14_15960', 'PA14_15970', 'PA14_15980', 'PA14_15990', 'PA14_16000', 'PA14_16020', 'PA14_16070', 'PA14_16090', 'PA14_16150', 'PA14_16380', 'PA14_16480', 'PA14_16510', 'PA14_16530', 'PA14_16600', 'PA14_16700', 'PA14_16710', 'PA14_16950', 'PA14_17040', 'PA14_17060', 'PA14_17070', 'PA14_17080', 'PA14_17100', 'PA14_17110', 'PA14_17120', 'PA14_17130', 'PA14_17150', 'PA14_17180', 'PA14_17190', 'PA14_17210', 'PA14_17220', 'PA14_17260', 'PA14_17270', 'PA14_17280', 'PA14_17290', 'PA14_17310', 'PA14_17320', 'PA14_17330', 'PA14_17340', 'PA14_17420', 'PA14_17490', 'PA14_17530', 'PA14_17540', 'PA14_17670', 'PA14_17900', 'PA14_17930', 'PA14_18100', 'PA14_18320', 'PA14_18500', 'PA14_18610', 'PA14_18700', 'PA14_18710', 'PA14_18740', 'PA14_18750', 'PA14_19050', 'PA14_19065', 'PA14_19090', 'PA14_19850', 'PA14_20010', 'PA14_20140', 'PA14_20400', 'PA14_20520', 'PA14_20530', 'PA14_21470', 'PA14_21480', 'PA14_21490', 'PA14_22010', 'PA14_22020', 'PA14_22040', 'PA14_22050', 'PA14_22100', 'PA14_22110', 'PA14_22120', 'PA14_22130', 'PA14_22140', 'PA14_22160', 'PA14_22180', 'PA14_22220', 'PA14_22230', 'PA14_22240', 'PA14_22250', 'PA14_22260', 'PA14_22270', 'PA14_22910', 'PA14_23070', 'PA14_23080', 'PA14_23090', 'PA14_23220', 'PA14_23260', 'PA14_23270', 'PA14_23280', 'PA14_23290', 'PA14_23310', 'PA14_23320', 'PA14_23330', 'PA14_23360', 'PA14_23370', 'PA14_23380', 'PA14_23390', 'PA14_23400', 'PA14_23410', 'PA14_23420', 'PA14_23430', 'PA14_23440', 'PA14_23450', 'PA14_23460', 'PA14_23500', 'PA14_23560', 'PA14_23750', 'PA14_23760', 'PA14_23790', 'PA14_23800', 'PA14_23850', 'PA14_23860', 'PA14_23880', 'PA14_23920', 'PA14_23930', 'PA14_24220', 'PA14_24370', 'PA14_24640', 'PA14_24710', 'PA14_25050', 'PA14_25080', 'PA14_25090', 'PA14_25110', 'PA14_25250', 'PA14_25390', 'PA14_25430', 'PA14_25440', 'PA14_25450', 'PA14_25500', 'PA14_25510', 'PA14_25520', 'PA14_25530', 'PA14_25550', 'PA14_25560', 'PA14_25650', 'PA14_25660', 'PA14_25690', 'PA14_25710', 'PA14_25740', 'PA14_25760', 'PA14_25840', 'PA14_25860', 'PA14_25880', 'PA14_25900', 'PA14_26000', 'PA14_26300', 'PA14_26590', 'PA14_26890', 'PA14_27200', 'PA14_27210', 'PA14_27220', 'PA14_27940', 'PA14_27950', 'PA14_27990', 'PA14_28200', 'PA14_28650', 'PA14_28660', 'PA14_28680', 'PA14_28690', 'PA14_28710', 'PA14_28770', 'PA14_28780', 'PA14_29260', 'PA14_29440', 'PA14_29860', 'PA14_29880', 'PA14_29900', 'PA14_30110', 'PA14_30150', 'PA14_30240', 'PA14_30290', 'PA14_30310', 'PA14_30330', 'PA14_30340', 'PA14_30370', 'PA14_30380', 'PA14_30390', 'PA14_30400', 'PA14_30670', 'PA14_30910', 'PA14_30940', 'PA14_31250', 'PA14_31290', 'PA14_31390', 'PA14_31580', 'PA14_32130', 'PA14_32220', 'PA14_32380', 'PA14_32420', 'PA14_32790', 'PA14_32810', 'PA14_32820', 'PA14_32830', 'PA14_33060', 'PA14_33270', 'PA14_33500', 'PA14_33530', 'PA14_33590', 'PA14_33600', 'PA14_33630', 'PA14_33650', 'PA14_33680', 'PA14_33690', 'PA14_33710', 'PA14_33730', 'PA14_33750', 'PA14_33760', 'PA14_33920', 'PA14_33960', 'PA14_34000', 'PA14_34020', 'PA14_34150', 'PA14_34190', 'PA14_34200', 'PA14_34290', 'PA14_34320', 'PA14_34350', 'PA14_34410', 'PA14_34500', 'PA14_34550', 'PA14_34600', 'PA14_35170', 'PA14_35700', 'PA14_35760', 'PA14_35770', 'PA14_35780', 'PA14_35790', 'PA14_35850', 'PA14_36050', 'PA14_36730', 'PA14_36780', 'PA14_37010', 'PA14_37250', 'PA14_37340', 'PA14_37470', 'PA14_37650', 'PA14_37830', 'PA14_38180', 'PA14_38190', 'PA14_38350', 'PA14_38395', 'PA14_38410', 'PA14_38550', 'PA14_38910', 'PA14_39470', 'PA14_39480', 'PA14_39640', 'PA14_39860', 'PA14_39910', 'PA14_39980', 'PA14_40040', 'PA14_40240', 'PA14_40260', 'PA14_40300', 'PA14_40310', 'PA14_40630', 'PA14_41050', 'PA14_41060', 'PA14_41230', 'PA14_41240', 'PA14_41350', 'PA14_41360', 'PA14_41380', 'PA14_41400', 'PA14_41470', 'PA14_41570', 'PA14_41575', 'PA14_41730', 'PA14_41840', 'PA14_41870', 'PA14_42260', 'PA14_42570', 'PA14_42720', 'PA14_42760', 'PA14_42850', 'PA14_43240', 'PA14_43440', 'PA14_43680', 'PA14_43690', 'PA14_43940', 'PA14_43950', 'PA14_43970', 'PA14_44000', 'PA14_44010', 'PA14_44020', 'PA14_44030', 'PA14_44050', 'PA14_44060', 'PA14_44070', 'PA14_44370', 'PA14_44380', 'PA14_44400', 'PA14_44440', 'PA14_44460', 'PA14_44630', 'PA14_44660', 'PA14_44670', 'PA14_44780', 'PA14_44910', 'PA14_44920', 'PA14_45280', 'PA14_45290', 'PA14_45300', 'PA14_45310', 'PA14_45340', 'PA14_45350', 'PA14_45370', 'PA14_45640', 'PA14_46020', 'PA14_46460', 'PA14_46470', 'PA14_46550', 'PA14_46840', 'PA14_48530', 'PA14_48980', 'PA14_49020', 'PA14_49030', 'PA14_49340', 'PA14_49380', 'PA14_49460', 'PA14_49470', 'PA14_49480', 'PA14_49510', 'PA14_49520', 'PA14_49730', 'PA14_50610', 'PA14_50800', 'PA14_50870', 'PA14_51240', 'PA14_51270', 'PA14_51310', 'PA14_51320', 'PA14_51460', 'PA14_51480', 'PA14_51590', 'PA14_51600', 'PA14_51610', 'PA14_51690', 'PA14_51710', 'PA14_51720', 'PA14_51730', 'PA14_51740', 'PA14_51750', 'PA14_51790', 'PA14_51820', 'PA14_51900', 'PA14_52010', 'PA14_52040', 'PA14_52050', 'PA14_52120', 'PA14_52530', 'PA14_52580', 'PA14_52600', 'PA14_52700', 'PA14_52850', 'PA14_53580', 'PA14_53590', 'PA14_53600', 'PA14_53610', 'PA14_53620', 'PA14_54290', 'PA14_54320', 'PA14_54330', 'PA14_54350', 'PA14_54390', 'PA14_54420', 'PA14_54480', 'PA14_54550', 'PA14_55040', 'PA14_55230', 'PA14_55340', 'PA14_55390', 'PA14_55410', 'PA14_55450', 'PA14_55520', 'PA14_55530', 'PA14_55660', 'PA14_55670', 'PA14_55690', 'PA14_55770', 'PA14_55800', 'PA14_56300', 'PA14_56780', 'PA14_57010', 'PA14_57020', 'PA14_57030', 'PA14_57170', 'PA14_57190', 'PA14_57220', 'PA14_57250', 'PA14_57260', 'PA14_57275', 'PA14_57290', 'PA14_57300', 'PA14_57320', 'PA14_57330', 'PA14_57340', 'PA14_57360', 'PA14_57370', 'PA14_57380', 'PA14_57390', 'PA14_57410', 'PA14_57425', 'PA14_57440', 'PA14_57450', 'PA14_57460', 'PA14_57500', 'PA14_57540', 'PA14_57560', 'PA14_57570', 'PA14_57580', 'PA14_57590', 'PA14_57670', 'PA14_57770', 'PA14_57780', 'PA14_57800', 'PA14_57810', 'PA14_57890', 'PA14_57910', 'PA14_57920', 'PA14_57930', 'PA14_57940', 'PA14_57960', 'PA14_58120', 'PA14_58130', 'PA14_58150', 'PA14_58170', 'PA14_58180', 'PA14_58190', 'PA14_58700', 'PA14_58720', 'PA14_58730', 'PA14_58760', 'PA14_58780', 'PA14_58920', 'PA14_58950', 'PA14_58970', 'PA14_58990', 'PA14_59120', 'PA14_59190', 'PA14_59220', 'PA14_59230', 'PA14_59440', 'PA14_59550', 'PA14_59560', 'PA14_59590', 'PA14_59610', 'PA14_59620', 'PA14_59630', 'PA14_59840', 'PA14_59845', 'PA14_59850', 'PA14_60090', 'PA14_60100', 'PA14_60230', 'PA14_60320', 'PA14_60330', 'PA14_60360', 'PA14_60370', 'PA14_60380', 'PA14_60390', 'PA14_60400', 'PA14_60420', 'PA14_60445', 'PA14_60450', 'PA14_60460', 'PA14_60470', 'PA14_60860', 'PA14_60890', 'PA14_61360', 'PA14_61400', 'PA14_61580', 'PA14_61660', 'PA14_61670', 'PA14_61700', 'PA14_61710', 'PA14_61720', 'PA14_61740', 'PA14_61750', 'PA14_61770', 'PA14_61790', 'PA14_61840', 'PA14_61890', 'PA14_62120', 'PA14_62130', 'PA14_62150', 'PA14_62160', 'PA14_62530', 'PA14_62540', 'PA14_62570', 'PA14_62580', 'PA14_62590', 'PA14_62620', 'PA14_62710', 'PA14_62720', 'PA14_62760', 'PA14_62770', 'PA14_62780', 'PA14_62810', 'PA14_62830', 'PA14_62840', 'PA14_62850', 'PA14_62860', 'PA14_62870', 'PA14_62880', 'PA14_62910', 'PA14_62930', 'PA14_62940', 'PA14_62960', 'PA14_62970', 'PA14_62990', 'PA14_63020', 'PA14_63030', 'PA14_63050', 'PA14_64090', 'PA14_64100', 'PA14_64110', 'PA14_64190', 'PA14_64200', 'PA14_64220', 'PA14_64230', 'PA14_64950', 'PA14_64980', 'PA14_65110', 'PA14_65130', 'PA14_65170', 'PA14_65180', 'PA14_65230', 'PA14_65250', 'PA14_65270', 'PA14_65280', 'PA14_65310', 'PA14_65370', 'PA14_65380', 'PA14_65410', 'PA14_65500', 'PA14_65560', 'PA14_65570', 'PA14_65605', 'PA14_65660', 'PA14_65690', 'PA14_65740', 'PA14_65960', 'PA14_66000', 'PA14_66010', 'PA14_66060', 'PA14_66080', 'PA14_66090', 'PA14_66110', 'PA14_66120', 'PA14_66160', 'PA14_66170', 'PA14_66190', 'PA14_66210', 'PA14_66220', 'PA14_66230', 'PA14_66240', 'PA14_66250', 'PA14_66290', 'PA14_66310', 'PA14_66550', 'PA14_66600', 'PA14_66610', 'PA14_66720', 'PA14_66750', 'PA14_66760', 'PA14_66800', 'PA14_66900', 'PA14_66910', 'PA14_66920', 'PA14_66940', 'PA14_66950', 'PA14_66970', 'PA14_66980', 'PA14_66990', 'PA14_67180', 'PA14_67190', 'PA14_67200', 'PA14_67210', 'PA14_67490', 'PA14_67600', 'PA14_67700', 'PA14_67770', 'PA14_67880', 'PA14_67890', 'PA14_67920', 'PA14_67930', 'PA14_68170', 'PA14_68190', 'PA14_68200', 'PA14_68210', 'PA14_68360', 'PA14_68670', 'PA14_68740', 'PA14_68955', 'PA14_68980', 'PA14_69150', 'PA14_69190', 'PA14_69200', 'PA14_69240', 'PA14_69440', 'PA14_69450', 'PA14_69500', 'PA14_69660', 'PA14_69670', 'PA14_69690', 'PA14_69810', 'PA14_69910', 'PA14_70190', 'PA14_70240', 'PA14_70260', 'PA14_70270', 'PA14_70280', 'PA14_70370', 'PA14_70440', 'PA14_70470', 'PA14_70480', 'PA14_70730', 'PA14_70800', 'PA14_70810', 'PA14_71600', 'PA14_71620', 'PA14_71720', 'PA14_71740', 'PA14_71750', 'PA14_72460', 'PA14_72480', 'PA14_72490', 'PA14_72510', 'PA14_72970', 'PA14_73170', 'PA14_73220', 'PA14_73230', 'PA14_73240', 'PA14_73250', 'PA14_73260', 'PA14_73280', 'PA14_73290', 'PA14_73310', 'PA14_73320', 'PA14_73370', 'PA14_73400', 'PA14_73410', 'PA14_73420']\n",
            "839\n"
          ]
        }
      ]
    },
    {
      "cell_type": "code",
      "source": [
        "search_url_template = \"https://pseudomonas.com/primarySequenceFeature/list?strain_ids=109&term=Pseudomonas+aeruginosa+UCBPP-PA14+%28Lee+et+al.%2C+2006%29&c1=name&v1={locus_id}&e1=1&assembly=complete\"\n"
      ],
      "metadata": {
        "id": "PqflTdDZhLR6"
      },
      "execution_count": null,
      "outputs": []
    },
    {
      "cell_type": "code",
      "source": [
        "# extracting IDs to use when looking for specific page that includes the sequences\n",
        "\n",
        "def fetch_url(locus_id):\n",
        "    search_url = search_url_template.format(locus_id=locus_id)\n",
        "    response = requests.get(search_url)\n",
        "    if response.status_code == 200:\n",
        "        return response.text\n",
        "    else:\n",
        "        print(f\"Failed to retrieve page for Locus ID: {locus_id}. Status code: {response.status_code}\")\n",
        "        return None\n",
        "\n",
        "def extract_feature_id_from_html(html_content):\n",
        "    soup = BeautifulSoup(html_content, 'html.parser')\n",
        "    feature_ids = set()  # Use a set to avoid duplicates\n",
        "    # Find all <a> tags with href containing 'feature/show'\n",
        "    for a_tag in soup.find_all('a', href=True):\n",
        "        href = a_tag['href']\n",
        "        if 'feature/show' in href:\n",
        "            # Extract the ID from the URL\n",
        "            match = re.search(r'id=(\\d+)', href)\n",
        "            if match:\n",
        "                feature_ids.add(match.group(1))  # Add to set\n",
        "    return feature_ids\n",
        "\n",
        "# List to store locus_id and corresponding feature_id pairs\n",
        "locus_feature_pairs = []\n",
        "\n",
        "# Fetch and process data for each locus_id\n",
        "for locus_id in locus_ids:\n",
        "    print(f\"Processing Locus ID: {locus_id}\")\n",
        "    html_content = fetch_url(locus_id)\n",
        "    if html_content:\n",
        "        feature_ids = extract_feature_id_from_html(html_content)\n",
        "        if feature_ids:\n",
        "            for feature_id in feature_ids:\n",
        "                locus_feature_pairs.append((locus_id, feature_id))\n",
        "                print(f\"Extracted Feature ID for Locus ID {locus_id}: {feature_id}\")\n",
        "        else:\n",
        "            locus_feature_pairs.append((locus_id, None))  # No feature IDs found\n",
        "            print(f\"No feature IDs found for Locus ID: {locus_id}\")\n",
        "    else:\n",
        "        locus_feature_pairs.append((locus_id, None))  # No content retrieved\n",
        "\n",
        "# Save the list of pairs to a .pkl file\n",
        "with open('locus_feature_pairs.pkl', 'wb') as pkl_file:\n",
        "    pickle.dump(locus_feature_pairs, pkl_file)\n",
        "\n",
        "print(\"Data has been saved to locus_feature_pairs.pkl\")\n"
      ],
      "metadata": {
        "collapsed": true,
        "colab": {
          "base_uri": "https://localhost:8080/"
        },
        "id": "TmDbYh7YtIB3",
        "outputId": "355dbda2-f490-4fda-91fe-28dbf636c581"
      },
      "execution_count": null,
      "outputs": [
        {
          "output_type": "stream",
          "name": "stdout",
          "text": [
            "Processing Locus ID: PA14_00010\n",
            "Extracted Feature ID for Locus ID PA14_00010: 1650835\n",
            "Processing Locus ID: PA14_00020\n",
            "Extracted Feature ID for Locus ID PA14_00020: 1650837\n",
            "Processing Locus ID: PA14_00030\n",
            "Extracted Feature ID for Locus ID PA14_00030: 1650839\n",
            "Processing Locus ID: PA14_00050\n",
            "Extracted Feature ID for Locus ID PA14_00050: 1650841\n",
            "Processing Locus ID: PA14_00060\n",
            "Extracted Feature ID for Locus ID PA14_00060: 1650843\n",
            "Processing Locus ID: PA14_00070\n",
            "Extracted Feature ID for Locus ID PA14_00070: 1650845\n",
            "Processing Locus ID: PA14_00090\n",
            "Extracted Feature ID for Locus ID PA14_00090: 1650849\n",
            "Processing Locus ID: PA14_00100\n",
            "Extracted Feature ID for Locus ID PA14_00100: 1650851\n",
            "Processing Locus ID: PA14_00120\n",
            "Extracted Feature ID for Locus ID PA14_00120: 1650855\n",
            "Processing Locus ID: PA14_00190\n",
            "Extracted Feature ID for Locus ID PA14_00190: 1650869\n",
            "Processing Locus ID: PA14_00200\n",
            "Extracted Feature ID for Locus ID PA14_00200: 1650871\n",
            "Processing Locus ID: PA14_00240\n",
            "Extracted Feature ID for Locus ID PA14_00240: 1650877\n",
            "Processing Locus ID: PA14_00280\n",
            "Extracted Feature ID for Locus ID PA14_00280: 1650881\n",
            "Processing Locus ID: PA14_00290\n",
            "Extracted Feature ID for Locus ID PA14_00290: 1650883\n",
            "Processing Locus ID: PA14_00440\n",
            "Extracted Feature ID for Locus ID PA14_00440: 1650905\n",
            "Processing Locus ID: PA14_00450\n",
            "Extracted Feature ID for Locus ID PA14_00450: 1650907\n",
            "Processing Locus ID: PA14_00800\n",
            "Extracted Feature ID for Locus ID PA14_00800: 1650971\n",
            "Processing Locus ID: PA14_01130\n",
            "Extracted Feature ID for Locus ID PA14_01130: 1651023\n",
            "Processing Locus ID: PA14_01510\n",
            "Extracted Feature ID for Locus ID PA14_01510: 1651087\n",
            "Processing Locus ID: PA14_02620\n",
            "Extracted Feature ID for Locus ID PA14_02620: 1651253\n",
            "Processing Locus ID: PA14_02690\n",
            "Extracted Feature ID for Locus ID PA14_02690: 1651265\n",
            "Processing Locus ID: PA14_02900\n",
            "Extracted Feature ID for Locus ID PA14_02900: 1651295\n",
            "Processing Locus ID: PA14_02970\n",
            "Extracted Feature ID for Locus ID PA14_02970: 1651303\n",
            "Processing Locus ID: PA14_03163\n",
            "Extracted Feature ID for Locus ID PA14_03163: 1651339\n",
            "Processing Locus ID: PA14_04110\n",
            "Extracted Feature ID for Locus ID PA14_04110: 1651497\n",
            "Processing Locus ID: PA14_04140\n",
            "Extracted Feature ID for Locus ID PA14_04140: 1651499\n",
            "Processing Locus ID: PA14_04310\n",
            "Extracted Feature ID for Locus ID PA14_04310: 1651525\n",
            "Processing Locus ID: PA14_04380\n",
            "Extracted Feature ID for Locus ID PA14_04380: 1651537\n",
            "Processing Locus ID: PA14_04460\n",
            "Extracted Feature ID for Locus ID PA14_04460: 1651549\n",
            "Processing Locus ID: PA14_04480\n",
            "Extracted Feature ID for Locus ID PA14_04480: 1651551\n",
            "Processing Locus ID: PA14_04580\n",
            "Extracted Feature ID for Locus ID PA14_04580: 1651567\n",
            "Processing Locus ID: PA14_04630\n",
            "Extracted Feature ID for Locus ID PA14_04630: 1651573\n",
            "Processing Locus ID: PA14_04750\n",
            "Extracted Feature ID for Locus ID PA14_04750: 1651593\n",
            "Processing Locus ID: PA14_04760\n",
            "Extracted Feature ID for Locus ID PA14_04760: 1651595\n",
            "Processing Locus ID: PA14_04900\n",
            "Extracted Feature ID for Locus ID PA14_04900: 1651617\n",
            "Processing Locus ID: PA14_04930\n",
            "Extracted Feature ID for Locus ID PA14_04930: 1651623\n",
            "Processing Locus ID: PA14_04980\n",
            "Extracted Feature ID for Locus ID PA14_04980: 1651633\n",
            "Processing Locus ID: PA14_05070\n",
            "Extracted Feature ID for Locus ID PA14_05070: 1651649\n",
            "Processing Locus ID: PA14_05080\n",
            "Extracted Feature ID for Locus ID PA14_05080: 1651651\n",
            "Processing Locus ID: PA14_05150\n",
            "Extracted Feature ID for Locus ID PA14_05150: 1651659\n",
            "Processing Locus ID: PA14_05250\n",
            "Extracted Feature ID for Locus ID PA14_05250: 1651675\n",
            "Processing Locus ID: PA14_05260\n",
            "Extracted Feature ID for Locus ID PA14_05260: 1651677\n",
            "Processing Locus ID: PA14_05280\n",
            "Extracted Feature ID for Locus ID PA14_05280: 1651681\n",
            "Processing Locus ID: PA14_05460\n",
            "Extracted Feature ID for Locus ID PA14_05460: 1651713\n",
            "Processing Locus ID: PA14_05550\n",
            "Extracted Feature ID for Locus ID PA14_05550: 1651727\n",
            "Processing Locus ID: PA14_05590\n",
            "Extracted Feature ID for Locus ID PA14_05590: 1651733\n",
            "Processing Locus ID: PA14_05620\n",
            "Extracted Feature ID for Locus ID PA14_05620: 1651737\n",
            "Processing Locus ID: PA14_05775\n",
            "Extracted Feature ID for Locus ID PA14_05775: 1651757\n",
            "Processing Locus ID: PA14_06500\n",
            "Extracted Feature ID for Locus ID PA14_06500: 1651865\n",
            "Processing Locus ID: PA14_06510\n",
            "Extracted Feature ID for Locus ID PA14_06510: 1651867\n",
            "Processing Locus ID: PA14_06530\n",
            "Extracted Feature ID for Locus ID PA14_06530: 1651869\n",
            "Processing Locus ID: PA14_06540\n",
            "Extracted Feature ID for Locus ID PA14_06540: 1651871\n",
            "Processing Locus ID: PA14_06570\n",
            "Extracted Feature ID for Locus ID PA14_06570: 1651873\n",
            "Processing Locus ID: PA14_06600\n",
            "Extracted Feature ID for Locus ID PA14_06600: 1651877\n",
            "Processing Locus ID: PA14_07090\n",
            "Extracted Feature ID for Locus ID PA14_07090: 1651961\n",
            "Processing Locus ID: PA14_07130\n",
            "Extracted Feature ID for Locus ID PA14_07130: 1651965\n",
            "Processing Locus ID: PA14_07170\n",
            "Extracted Feature ID for Locus ID PA14_07170: 1651971\n",
            "Processing Locus ID: PA14_07190\n",
            "Extracted Feature ID for Locus ID PA14_07190: 1651973\n",
            "Processing Locus ID: PA14_07230\n",
            "Extracted Feature ID for Locus ID PA14_07230: 1651979\n",
            "Processing Locus ID: PA14_07520\n",
            "Extracted Feature ID for Locus ID PA14_07520: 1652027\n",
            "Processing Locus ID: PA14_07530\n",
            "Extracted Feature ID for Locus ID PA14_07530: 1652029\n",
            "Processing Locus ID: PA14_07560\n",
            "Extracted Feature ID for Locus ID PA14_07560: 1652033\n",
            "Processing Locus ID: PA14_07570\n",
            "Extracted Feature ID for Locus ID PA14_07570: 1652035\n",
            "Processing Locus ID: PA14_07590\n",
            "Extracted Feature ID for Locus ID PA14_07590: 1652039\n",
            "Processing Locus ID: PA14_07600\n",
            "Extracted Feature ID for Locus ID PA14_07600: 1652041\n",
            "Processing Locus ID: PA14_07620\n",
            "Extracted Feature ID for Locus ID PA14_07620: 1652043\n",
            "Processing Locus ID: PA14_07700\n",
            "Extracted Feature ID for Locus ID PA14_07700: 1652055\n",
            "Processing Locus ID: PA14_07740\n",
            "Extracted Feature ID for Locus ID PA14_07740: 1652061\n",
            "Processing Locus ID: PA14_07760\n",
            "Extracted Feature ID for Locus ID PA14_07760: 1652063\n",
            "Processing Locus ID: PA14_07770\n",
            "Extracted Feature ID for Locus ID PA14_07770: 1652065\n",
            "Processing Locus ID: PA14_07910\n",
            "Extracted Feature ID for Locus ID PA14_07910: 1652089\n",
            "Processing Locus ID: PA14_07940\n",
            "Extracted Feature ID for Locus ID PA14_07940: 1652093\n",
            "Processing Locus ID: PA14_07960\n",
            "Extracted Feature ID for Locus ID PA14_07960: 1652097\n",
            "Processing Locus ID: PA14_08340\n",
            "Extracted Feature ID for Locus ID PA14_08340: 1652167\n",
            "Processing Locus ID: PA14_08350\n",
            "Extracted Feature ID for Locus ID PA14_08350: 1652169\n",
            "Processing Locus ID: PA14_08360\n",
            "Extracted Feature ID for Locus ID PA14_08360: 1652171\n",
            "Processing Locus ID: PA14_08400\n",
            "Extracted Feature ID for Locus ID PA14_08400: 1652179\n",
            "Processing Locus ID: PA14_08470\n",
            "Extracted Feature ID for Locus ID PA14_08470: 1652191\n",
            "Processing Locus ID: PA14_08480\n",
            "Extracted Feature ID for Locus ID PA14_08480: 1652193\n",
            "Processing Locus ID: PA14_08510\n",
            "Extracted Feature ID for Locus ID PA14_08510: 1652199\n",
            "Processing Locus ID: PA14_08620\n",
            "Extracted Feature ID for Locus ID PA14_08620: 1652217\n",
            "Processing Locus ID: PA14_08630\n",
            "Extracted Feature ID for Locus ID PA14_08630: 1652219\n",
            "Processing Locus ID: PA14_08695\n",
            "Extracted Feature ID for Locus ID PA14_08695: 1652233\n",
            "Processing Locus ID: PA14_08710\n",
            "Extracted Feature ID for Locus ID PA14_08710: 1652235\n",
            "Processing Locus ID: PA14_08720\n",
            "Extracted Feature ID for Locus ID PA14_08720: 1652237\n",
            "Processing Locus ID: PA14_08730\n",
            "Extracted Feature ID for Locus ID PA14_08730: 1652239\n",
            "Processing Locus ID: PA14_08740\n",
            "Extracted Feature ID for Locus ID PA14_08740: 1652241\n",
            "Processing Locus ID: PA14_08750\n",
            "Extracted Feature ID for Locus ID PA14_08750: 1652243\n",
            "Processing Locus ID: PA14_08760\n",
            "Extracted Feature ID for Locus ID PA14_08760: 1652245\n",
            "Processing Locus ID: PA14_08780\n",
            "Extracted Feature ID for Locus ID PA14_08780: 1652247\n",
            "Processing Locus ID: PA14_08790\n",
            "Extracted Feature ID for Locus ID PA14_08790: 1652249\n",
            "Processing Locus ID: PA14_08810\n",
            "Extracted Feature ID for Locus ID PA14_08810: 1652251\n",
            "Processing Locus ID: PA14_08820\n",
            "Extracted Feature ID for Locus ID PA14_08820: 1652253\n",
            "Processing Locus ID: PA14_08840\n",
            "Extracted Feature ID for Locus ID PA14_08840: 1652257\n",
            "Processing Locus ID: PA14_08850\n",
            "Extracted Feature ID for Locus ID PA14_08850: 1652259\n",
            "Processing Locus ID: PA14_08860\n",
            "Extracted Feature ID for Locus ID PA14_08860: 1652261\n",
            "Processing Locus ID: PA14_08870\n",
            "Extracted Feature ID for Locus ID PA14_08870: 1652263\n",
            "Processing Locus ID: PA14_08880\n",
            "Extracted Feature ID for Locus ID PA14_08880: 1652265\n",
            "Processing Locus ID: PA14_08890\n",
            "Extracted Feature ID for Locus ID PA14_08890: 1652267\n",
            "Processing Locus ID: PA14_08900\n",
            "Extracted Feature ID for Locus ID PA14_08900: 1652269\n",
            "Processing Locus ID: PA14_08910\n",
            "Extracted Feature ID for Locus ID PA14_08910: 1652271\n",
            "Processing Locus ID: PA14_08920\n",
            "Extracted Feature ID for Locus ID PA14_08920: 1652273\n",
            "Processing Locus ID: PA14_08930\n",
            "Extracted Feature ID for Locus ID PA14_08930: 1652275\n",
            "Processing Locus ID: PA14_08940\n",
            "Extracted Feature ID for Locus ID PA14_08940: 1652277\n",
            "Processing Locus ID: PA14_08950\n",
            "Extracted Feature ID for Locus ID PA14_08950: 1652279\n",
            "Processing Locus ID: PA14_08960\n",
            "Extracted Feature ID for Locus ID PA14_08960: 1652281\n",
            "Processing Locus ID: PA14_08970\n",
            "Extracted Feature ID for Locus ID PA14_08970: 1652283\n",
            "Processing Locus ID: PA14_08980\n",
            "Extracted Feature ID for Locus ID PA14_08980: 1652285\n",
            "Processing Locus ID: PA14_08990\n",
            "Extracted Feature ID for Locus ID PA14_08990: 1652287\n",
            "Processing Locus ID: PA14_09000\n",
            "Extracted Feature ID for Locus ID PA14_09000: 1652289\n",
            "Processing Locus ID: PA14_09010\n",
            "Extracted Feature ID for Locus ID PA14_09010: 1652291\n",
            "Processing Locus ID: PA14_09020\n",
            "Extracted Feature ID for Locus ID PA14_09020: 1652293\n",
            "Processing Locus ID: PA14_09030\n",
            "Extracted Feature ID for Locus ID PA14_09030: 1652295\n",
            "Processing Locus ID: PA14_09040\n",
            "Extracted Feature ID for Locus ID PA14_09040: 1652297\n",
            "Processing Locus ID: PA14_09050\n",
            "Extracted Feature ID for Locus ID PA14_09050: 1652299\n",
            "Processing Locus ID: PA14_09080\n",
            "Extracted Feature ID for Locus ID PA14_09080: 1652303\n",
            "Processing Locus ID: PA14_09090\n",
            "Extracted Feature ID for Locus ID PA14_09090: 1652305\n",
            "Processing Locus ID: PA14_09100\n",
            "Extracted Feature ID for Locus ID PA14_09100: 1652307\n",
            "Processing Locus ID: PA14_09115\n",
            "Extracted Feature ID for Locus ID PA14_09115: 1652309\n",
            "Processing Locus ID: PA14_09130\n",
            "Extracted Feature ID for Locus ID PA14_09130: 1652311\n",
            "Processing Locus ID: PA14_09200\n",
            "Extracted Feature ID for Locus ID PA14_09200: 1652321\n",
            "Processing Locus ID: PA14_10360\n",
            "Extracted Feature ID for Locus ID PA14_10360: 1652505\n",
            "Processing Locus ID: PA14_10400\n",
            "Extracted Feature ID for Locus ID PA14_10400: 1652511\n",
            "Processing Locus ID: PA14_10410\n",
            "Extracted Feature ID for Locus ID PA14_10410: 1652513\n",
            "Processing Locus ID: PA14_10420\n",
            "Extracted Feature ID for Locus ID PA14_10420: 1652515\n",
            "Processing Locus ID: PA14_10530\n",
            "Extracted Feature ID for Locus ID PA14_10530: 1652527\n",
            "Processing Locus ID: PA14_10570\n",
            "Extracted Feature ID for Locus ID PA14_10570: 1652535\n",
            "Processing Locus ID: PA14_10590\n",
            "Extracted Feature ID for Locus ID PA14_10590: 1652537\n",
            "Processing Locus ID: PA14_10800\n",
            "Extracted Feature ID for Locus ID PA14_10800: 1652573\n",
            "Processing Locus ID: PA14_11090\n",
            "Extracted Feature ID for Locus ID PA14_11090: 1652621\n",
            "Processing Locus ID: PA14_11120\n",
            "Extracted Feature ID for Locus ID PA14_11120: 1652627\n",
            "Processing Locus ID: PA14_11260\n",
            "Extracted Feature ID for Locus ID PA14_11260: 1652651\n",
            "Processing Locus ID: PA14_11380\n",
            "Extracted Feature ID for Locus ID PA14_11380: 1652671\n",
            "Processing Locus ID: PA14_11400\n",
            "Extracted Feature ID for Locus ID PA14_11400: 1652673\n",
            "Processing Locus ID: PA14_11410\n",
            "Extracted Feature ID for Locus ID PA14_11410: 1652675\n",
            "Processing Locus ID: PA14_11430\n",
            "Extracted Feature ID for Locus ID PA14_11430: 1652679\n",
            "Processing Locus ID: PA14_11450\n",
            "Extracted Feature ID for Locus ID PA14_11450: 1652681\n",
            "Processing Locus ID: PA14_11460\n",
            "Extracted Feature ID for Locus ID PA14_11460: 1652683\n",
            "Processing Locus ID: PA14_11510\n",
            "Extracted Feature ID for Locus ID PA14_11510: 1652691\n",
            "Processing Locus ID: PA14_11550\n",
            "Extracted Feature ID for Locus ID PA14_11550: 1652697\n",
            "Processing Locus ID: PA14_11560\n",
            "Extracted Feature ID for Locus ID PA14_11560: 1652699\n",
            "Processing Locus ID: PA14_11570\n",
            "Extracted Feature ID for Locus ID PA14_11570: 1652701\n",
            "Processing Locus ID: PA14_11580\n",
            "Extracted Feature ID for Locus ID PA14_11580: 1652703\n",
            "Processing Locus ID: PA14_11690\n",
            "Extracted Feature ID for Locus ID PA14_11690: 1652723\n",
            "Processing Locus ID: PA14_11845\n",
            "Extracted Feature ID for Locus ID PA14_11845: 1652745\n",
            "Processing Locus ID: PA14_11860\n",
            "Extracted Feature ID for Locus ID PA14_11860: 1652747\n",
            "Processing Locus ID: PA14_12010\n",
            "Extracted Feature ID for Locus ID PA14_12010: 1652771\n",
            "Processing Locus ID: PA14_12060\n",
            "Extracted Feature ID for Locus ID PA14_12060: 1652779\n",
            "Processing Locus ID: PA14_12070\n",
            "Extracted Feature ID for Locus ID PA14_12070: 1652781\n",
            "Processing Locus ID: PA14_12090\n",
            "Extracted Feature ID for Locus ID PA14_12090: 1652785\n",
            "Processing Locus ID: PA14_12120\n",
            "Extracted Feature ID for Locus ID PA14_12120: 1652791\n",
            "Processing Locus ID: PA14_12130\n",
            "Extracted Feature ID for Locus ID PA14_12130: 1652793\n",
            "Processing Locus ID: PA14_12200\n",
            "Extracted Feature ID for Locus ID PA14_12200: 1652805\n",
            "Processing Locus ID: PA14_12210\n",
            "Extracted Feature ID for Locus ID PA14_12210: 1652807\n",
            "Processing Locus ID: PA14_12230\n",
            "Extracted Feature ID for Locus ID PA14_12230: 1652809\n",
            "Processing Locus ID: PA14_12280\n",
            "Extracted Feature ID for Locus ID PA14_12280: 1652815\n",
            "Processing Locus ID: PA14_12310\n",
            "Extracted Feature ID for Locus ID PA14_12310: 1652819\n",
            "Processing Locus ID: PA14_12390\n",
            "Extracted Feature ID for Locus ID PA14_12390: 1652829\n",
            "Processing Locus ID: PA14_12400\n",
            "Extracted Feature ID for Locus ID PA14_12400: 1652831\n",
            "Processing Locus ID: PA14_12410\n",
            "Extracted Feature ID for Locus ID PA14_12410: 1652833\n",
            "Processing Locus ID: PA14_13810\n",
            "Extracted Feature ID for Locus ID PA14_13810: 1653045\n",
            "Processing Locus ID: PA14_13950\n",
            "Extracted Feature ID for Locus ID PA14_13950: 1653067\n",
            "Processing Locus ID: PA14_14440\n",
            "Extracted Feature ID for Locus ID PA14_14440: 1653141\n",
            "Processing Locus ID: PA14_14500\n",
            "Extracted Feature ID for Locus ID PA14_14500: 1653153\n",
            "Processing Locus ID: PA14_14510\n",
            "Extracted Feature ID for Locus ID PA14_14510: 1653155\n",
            "Processing Locus ID: PA14_14630\n",
            "Extracted Feature ID for Locus ID PA14_14630: 1653175\n",
            "Processing Locus ID: PA14_14650\n",
            "Extracted Feature ID for Locus ID PA14_14650: 1653177\n",
            "Processing Locus ID: PA14_14680\n",
            "Extracted Feature ID for Locus ID PA14_14680: 1653181\n",
            "Processing Locus ID: PA14_14700\n",
            "Extracted Feature ID for Locus ID PA14_14700: 1653185\n",
            "Processing Locus ID: PA14_14730\n",
            "Extracted Feature ID for Locus ID PA14_14730: 1653189\n",
            "Processing Locus ID: PA14_14740\n",
            "Extracted Feature ID for Locus ID PA14_14740: 1653191\n",
            "Processing Locus ID: PA14_14750\n",
            "Extracted Feature ID for Locus ID PA14_14750: 1653193\n",
            "Processing Locus ID: PA14_14770\n",
            "Extracted Feature ID for Locus ID PA14_14770: 1653195\n",
            "Processing Locus ID: PA14_14780\n",
            "Extracted Feature ID for Locus ID PA14_14780: 1653197\n",
            "Processing Locus ID: PA14_14800\n",
            "Extracted Feature ID for Locus ID PA14_14800: 1653199\n",
            "Processing Locus ID: PA14_14820\n",
            "Extracted Feature ID for Locus ID PA14_14820: 1653203\n",
            "Processing Locus ID: PA14_14860\n",
            "Extracted Feature ID for Locus ID PA14_14860: 1653209\n",
            "Processing Locus ID: PA14_14880\n",
            "Extracted Feature ID for Locus ID PA14_14880: 1653211\n",
            "Processing Locus ID: PA14_14890\n",
            "Extracted Feature ID for Locus ID PA14_14890: 1653213\n",
            "Processing Locus ID: PA14_14930\n",
            "Extracted Feature ID for Locus ID PA14_14930: 1653219\n",
            "Processing Locus ID: PA14_15030\n",
            "Extracted Feature ID for Locus ID PA14_15030: 1653233\n",
            "Processing Locus ID: PA14_15050\n",
            "Extracted Feature ID for Locus ID PA14_15050: 1653235\n",
            "Processing Locus ID: PA14_15110\n",
            "Extracted Feature ID for Locus ID PA14_15110: 1653245\n",
            "Processing Locus ID: PA14_15310\n",
            "Extracted Feature ID for Locus ID PA14_15310: 1653279\n",
            "Processing Locus ID: PA14_15340\n",
            "Extracted Feature ID for Locus ID PA14_15340: 1653281\n",
            "Processing Locus ID: PA14_15430\n",
            "Extracted Feature ID for Locus ID PA14_15430: 1653295\n",
            "Processing Locus ID: PA14_15460\n",
            "Extracted Feature ID for Locus ID PA14_15460: 1653303\n",
            "Processing Locus ID: PA14_15470\n",
            "Extracted Feature ID for Locus ID PA14_15470: 1653305\n",
            "Processing Locus ID: PA14_15490\n",
            "Extracted Feature ID for Locus ID PA14_15490: 1653311\n",
            "Processing Locus ID: PA14_15580\n",
            "Extracted Feature ID for Locus ID PA14_15580: 1653327\n",
            "Processing Locus ID: PA14_15590\n",
            "Extracted Feature ID for Locus ID PA14_15590: 1653329\n",
            "Processing Locus ID: PA14_15600\n",
            "Extracted Feature ID for Locus ID PA14_15600: 1653331\n",
            "Processing Locus ID: PA14_15680\n",
            "Extracted Feature ID for Locus ID PA14_15680: 1653345\n",
            "Processing Locus ID: PA14_15740\n",
            "Extracted Feature ID for Locus ID PA14_15740: 1653353\n",
            "Processing Locus ID: PA14_15960\n",
            "Extracted Feature ID for Locus ID PA14_15960: 1653389\n",
            "Processing Locus ID: PA14_15970\n",
            "Extracted Feature ID for Locus ID PA14_15970: 1653391\n",
            "Processing Locus ID: PA14_15980\n",
            "Extracted Feature ID for Locus ID PA14_15980: 1653393\n",
            "Processing Locus ID: PA14_15990\n",
            "Extracted Feature ID for Locus ID PA14_15990: 1653395\n",
            "Processing Locus ID: PA14_16000\n",
            "Extracted Feature ID for Locus ID PA14_16000: 1653397\n",
            "Processing Locus ID: PA14_16020\n",
            "Extracted Feature ID for Locus ID PA14_16020: 1653401\n",
            "Processing Locus ID: PA14_16070\n",
            "Extracted Feature ID for Locus ID PA14_16070: 1653409\n",
            "Processing Locus ID: PA14_16090\n",
            "Extracted Feature ID for Locus ID PA14_16090: 1653411\n",
            "Processing Locus ID: PA14_16150\n",
            "Extracted Feature ID for Locus ID PA14_16150: 1653421\n",
            "Processing Locus ID: PA14_16380\n",
            "Extracted Feature ID for Locus ID PA14_16380: 1653461\n",
            "Processing Locus ID: PA14_16480\n",
            "Extracted Feature ID for Locus ID PA14_16480: 1653477\n",
            "Processing Locus ID: PA14_16510\n",
            "Extracted Feature ID for Locus ID PA14_16510: 1653481\n",
            "Processing Locus ID: PA14_16530\n",
            "Extracted Feature ID for Locus ID PA14_16530: 1653483\n",
            "Processing Locus ID: PA14_16600\n",
            "Extracted Feature ID for Locus ID PA14_16600: 1653493\n",
            "Processing Locus ID: PA14_16700\n",
            "Extracted Feature ID for Locus ID PA14_16700: 1653511\n",
            "Processing Locus ID: PA14_16710\n",
            "Extracted Feature ID for Locus ID PA14_16710: 1653513\n",
            "Processing Locus ID: PA14_16950\n",
            "Extracted Feature ID for Locus ID PA14_16950: 1653551\n",
            "Processing Locus ID: PA14_17040\n",
            "Extracted Feature ID for Locus ID PA14_17040: 1653567\n",
            "Processing Locus ID: PA14_17060\n",
            "Extracted Feature ID for Locus ID PA14_17060: 1653571\n",
            "Processing Locus ID: PA14_17070\n",
            "Extracted Feature ID for Locus ID PA14_17070: 1653573\n",
            "Processing Locus ID: PA14_17080\n",
            "Extracted Feature ID for Locus ID PA14_17080: 1653575\n",
            "Processing Locus ID: PA14_17100\n",
            "Extracted Feature ID for Locus ID PA14_17100: 1653577\n",
            "Processing Locus ID: PA14_17110\n",
            "Extracted Feature ID for Locus ID PA14_17110: 1653579\n",
            "Processing Locus ID: PA14_17120\n",
            "Extracted Feature ID for Locus ID PA14_17120: 1653581\n",
            "Processing Locus ID: PA14_17130\n",
            "Extracted Feature ID for Locus ID PA14_17130: 1653583\n",
            "Processing Locus ID: PA14_17150\n",
            "Extracted Feature ID for Locus ID PA14_17150: 1653587\n",
            "Processing Locus ID: PA14_17180\n",
            "Extracted Feature ID for Locus ID PA14_17180: 1653591\n",
            "Processing Locus ID: PA14_17190\n",
            "Extracted Feature ID for Locus ID PA14_17190: 1653593\n",
            "Processing Locus ID: PA14_17210\n",
            "Extracted Feature ID for Locus ID PA14_17210: 1653595\n",
            "Processing Locus ID: PA14_17220\n",
            "Extracted Feature ID for Locus ID PA14_17220: 1653597\n",
            "Processing Locus ID: PA14_17260\n",
            "Extracted Feature ID for Locus ID PA14_17260: 1653603\n",
            "Processing Locus ID: PA14_17270\n",
            "Extracted Feature ID for Locus ID PA14_17270: 1653605\n",
            "Processing Locus ID: PA14_17280\n",
            "Extracted Feature ID for Locus ID PA14_17280: 1653607\n",
            "Processing Locus ID: PA14_17290\n",
            "Extracted Feature ID for Locus ID PA14_17290: 1653609\n",
            "Processing Locus ID: PA14_17310\n",
            "Extracted Feature ID for Locus ID PA14_17310: 1653611\n",
            "Processing Locus ID: PA14_17320\n",
            "Extracted Feature ID for Locus ID PA14_17320: 1653613\n",
            "Processing Locus ID: PA14_17330\n",
            "Extracted Feature ID for Locus ID PA14_17330: 1653615\n",
            "Processing Locus ID: PA14_17340\n",
            "Extracted Feature ID for Locus ID PA14_17340: 1653617\n",
            "Processing Locus ID: PA14_17420\n",
            "Extracted Feature ID for Locus ID PA14_17420: 1653629\n",
            "Processing Locus ID: PA14_17490\n",
            "Extracted Feature ID for Locus ID PA14_17490: 1653641\n",
            "Processing Locus ID: PA14_17530\n",
            "Extracted Feature ID for Locus ID PA14_17530: 1653649\n",
            "Processing Locus ID: PA14_17540\n",
            "Extracted Feature ID for Locus ID PA14_17540: 1653651\n",
            "Processing Locus ID: PA14_17670\n",
            "Extracted Feature ID for Locus ID PA14_17670: 1653675\n",
            "Processing Locus ID: PA14_17900\n",
            "Extracted Feature ID for Locus ID PA14_17900: 1653709\n",
            "Processing Locus ID: PA14_17930\n",
            "Extracted Feature ID for Locus ID PA14_17930: 1653715\n",
            "Processing Locus ID: PA14_18100\n",
            "Extracted Feature ID for Locus ID PA14_18100: 1653741\n",
            "Processing Locus ID: PA14_18320\n",
            "Extracted Feature ID for Locus ID PA14_18320: 1653771\n",
            "Processing Locus ID: PA14_18500\n",
            "Extracted Feature ID for Locus ID PA14_18500: 1653795\n",
            "Processing Locus ID: PA14_18610\n",
            "Extracted Feature ID for Locus ID PA14_18610: 1653811\n",
            "Processing Locus ID: PA14_18700\n",
            "Extracted Feature ID for Locus ID PA14_18700: 1653829\n",
            "Processing Locus ID: PA14_18710\n",
            "Extracted Feature ID for Locus ID PA14_18710: 1653831\n",
            "Processing Locus ID: PA14_18740\n",
            "Extracted Feature ID for Locus ID PA14_18740: 1653835\n",
            "Processing Locus ID: PA14_18750\n",
            "Extracted Feature ID for Locus ID PA14_18750: 1653837\n",
            "Processing Locus ID: PA14_19050\n",
            "Extracted Feature ID for Locus ID PA14_19050: 1653885\n",
            "Processing Locus ID: PA14_19065\n",
            "Extracted Feature ID for Locus ID PA14_19065: 1653887\n",
            "Processing Locus ID: PA14_19090\n",
            "Extracted Feature ID for Locus ID PA14_19090: 1653889\n",
            "Processing Locus ID: PA14_19850\n",
            "Extracted Feature ID for Locus ID PA14_19850: 1654009\n",
            "Processing Locus ID: PA14_20010\n",
            "Extracted Feature ID for Locus ID PA14_20010: 1654035\n",
            "Processing Locus ID: PA14_20140\n",
            "Extracted Feature ID for Locus ID PA14_20140: 1654059\n",
            "Processing Locus ID: PA14_20400\n",
            "Extracted Feature ID for Locus ID PA14_20400: 1654101\n",
            "Processing Locus ID: PA14_20520\n",
            "Extracted Feature ID for Locus ID PA14_20520: 1654123\n",
            "Processing Locus ID: PA14_20530\n",
            "Extracted Feature ID for Locus ID PA14_20530: 1654125\n",
            "Processing Locus ID: PA14_21470\n",
            "Extracted Feature ID for Locus ID PA14_21470: 1654279\n",
            "Processing Locus ID: PA14_21480\n",
            "Extracted Feature ID for Locus ID PA14_21480: 1654281\n",
            "Processing Locus ID: PA14_21490\n",
            "Extracted Feature ID for Locus ID PA14_21490: 1654283\n",
            "Processing Locus ID: PA14_22010\n",
            "Extracted Feature ID for Locus ID PA14_22010: 1654381\n",
            "Processing Locus ID: PA14_22020\n",
            "Extracted Feature ID for Locus ID PA14_22020: 1654383\n",
            "Processing Locus ID: PA14_22040\n",
            "Extracted Feature ID for Locus ID PA14_22040: 1654385\n",
            "Processing Locus ID: PA14_22050\n",
            "Extracted Feature ID for Locus ID PA14_22050: 1654387\n",
            "Processing Locus ID: PA14_22100\n",
            "Extracted Feature ID for Locus ID PA14_22100: 1654397\n",
            "Processing Locus ID: PA14_22110\n",
            "Extracted Feature ID for Locus ID PA14_22110: 1654399\n",
            "Processing Locus ID: PA14_22120\n",
            "Extracted Feature ID for Locus ID PA14_22120: 1654401\n",
            "Processing Locus ID: PA14_22130\n",
            "Extracted Feature ID for Locus ID PA14_22130: 1654403\n",
            "Processing Locus ID: PA14_22140\n",
            "Extracted Feature ID for Locus ID PA14_22140: 1654405\n",
            "Processing Locus ID: PA14_22160\n",
            "Extracted Feature ID for Locus ID PA14_22160: 1654407\n",
            "Processing Locus ID: PA14_22180\n",
            "Extracted Feature ID for Locus ID PA14_22180: 1654409\n",
            "Processing Locus ID: PA14_22220\n",
            "Extracted Feature ID for Locus ID PA14_22220: 1654415\n",
            "Processing Locus ID: PA14_22230\n",
            "Extracted Feature ID for Locus ID PA14_22230: 1654417\n",
            "Processing Locus ID: PA14_22240\n",
            "Extracted Feature ID for Locus ID PA14_22240: 1654419\n",
            "Processing Locus ID: PA14_22250\n",
            "Extracted Feature ID for Locus ID PA14_22250: 1654421\n",
            "Processing Locus ID: PA14_22260\n",
            "Extracted Feature ID for Locus ID PA14_22260: 1654423\n",
            "Processing Locus ID: PA14_22270\n",
            "Extracted Feature ID for Locus ID PA14_22270: 1654425\n",
            "Processing Locus ID: PA14_22910\n",
            "Extracted Feature ID for Locus ID PA14_22910: 1654533\n",
            "Processing Locus ID: PA14_23070\n",
            "Extracted Feature ID for Locus ID PA14_23070: 1654555\n",
            "Processing Locus ID: PA14_23080\n",
            "Extracted Feature ID for Locus ID PA14_23080: 1654557\n",
            "Processing Locus ID: PA14_23090\n",
            "Extracted Feature ID for Locus ID PA14_23090: 1654559\n",
            "Processing Locus ID: PA14_23220\n",
            "Extracted Feature ID for Locus ID PA14_23220: 1654579\n",
            "Processing Locus ID: PA14_23260\n",
            "Extracted Feature ID for Locus ID PA14_23260: 1654585\n",
            "Processing Locus ID: PA14_23270\n",
            "Extracted Feature ID for Locus ID PA14_23270: 1654587\n",
            "Processing Locus ID: PA14_23280\n",
            "Extracted Feature ID for Locus ID PA14_23280: 1654589\n",
            "Processing Locus ID: PA14_23290\n",
            "Extracted Feature ID for Locus ID PA14_23290: 1654591\n",
            "Processing Locus ID: PA14_23310\n",
            "Extracted Feature ID for Locus ID PA14_23310: 1654593\n",
            "Processing Locus ID: PA14_23320\n",
            "Extracted Feature ID for Locus ID PA14_23320: 1654595\n",
            "Processing Locus ID: PA14_23330\n",
            "Extracted Feature ID for Locus ID PA14_23330: 1654597\n",
            "Processing Locus ID: PA14_23360\n",
            "Extracted Feature ID for Locus ID PA14_23360: 1654603\n",
            "Processing Locus ID: PA14_23370\n",
            "Extracted Feature ID for Locus ID PA14_23370: 1654605\n",
            "Processing Locus ID: PA14_23380\n",
            "Extracted Feature ID for Locus ID PA14_23380: 1654607\n",
            "Processing Locus ID: PA14_23390\n",
            "Extracted Feature ID for Locus ID PA14_23390: 1654609\n",
            "Processing Locus ID: PA14_23400\n",
            "Extracted Feature ID for Locus ID PA14_23400: 1654611\n",
            "Processing Locus ID: PA14_23410\n",
            "Extracted Feature ID for Locus ID PA14_23410: 1654613\n",
            "Processing Locus ID: PA14_23420\n",
            "Extracted Feature ID for Locus ID PA14_23420: 1654615\n",
            "Processing Locus ID: PA14_23430\n",
            "Extracted Feature ID for Locus ID PA14_23430: 1654617\n",
            "Processing Locus ID: PA14_23440\n",
            "Extracted Feature ID for Locus ID PA14_23440: 1654619\n",
            "Processing Locus ID: PA14_23450\n",
            "Extracted Feature ID for Locus ID PA14_23450: 1654621\n",
            "Processing Locus ID: PA14_23460\n",
            "Extracted Feature ID for Locus ID PA14_23460: 1654623\n",
            "Processing Locus ID: PA14_23500\n",
            "Extracted Feature ID for Locus ID PA14_23500: 1654631\n",
            "Processing Locus ID: PA14_23560\n",
            "Extracted Feature ID for Locus ID PA14_23560: 1654641\n",
            "Processing Locus ID: PA14_23750\n",
            "Extracted Feature ID for Locus ID PA14_23750: 1654671\n",
            "Processing Locus ID: PA14_23760\n",
            "Extracted Feature ID for Locus ID PA14_23760: 1654673\n",
            "Processing Locus ID: PA14_23790\n",
            "Extracted Feature ID for Locus ID PA14_23790: 1654677\n",
            "Processing Locus ID: PA14_23800\n",
            "Extracted Feature ID for Locus ID PA14_23800: 1654679\n",
            "Processing Locus ID: PA14_23850\n",
            "Extracted Feature ID for Locus ID PA14_23850: 1654687\n",
            "Processing Locus ID: PA14_23860\n",
            "Extracted Feature ID for Locus ID PA14_23860: 1654689\n",
            "Processing Locus ID: PA14_23880\n",
            "Extracted Feature ID for Locus ID PA14_23880: 1654691\n",
            "Processing Locus ID: PA14_23920\n",
            "Extracted Feature ID for Locus ID PA14_23920: 1654697\n",
            "Processing Locus ID: PA14_23930\n",
            "Extracted Feature ID for Locus ID PA14_23930: 1654699\n",
            "Processing Locus ID: PA14_24220\n",
            "Extracted Feature ID for Locus ID PA14_24220: 1654743\n",
            "Processing Locus ID: PA14_24370\n",
            "Extracted Feature ID for Locus ID PA14_24370: 1654769\n",
            "Processing Locus ID: PA14_24640\n",
            "Extracted Feature ID for Locus ID PA14_24640: 1654815\n",
            "Processing Locus ID: PA14_24710\n",
            "Extracted Feature ID for Locus ID PA14_24710: 1654827\n",
            "Processing Locus ID: PA14_25050\n",
            "Extracted Feature ID for Locus ID PA14_25050: 1654887\n",
            "Processing Locus ID: PA14_25080\n",
            "Extracted Feature ID for Locus ID PA14_25080: 1654891\n",
            "Processing Locus ID: PA14_25090\n",
            "Extracted Feature ID for Locus ID PA14_25090: 1654893\n",
            "Processing Locus ID: PA14_25110\n",
            "Extracted Feature ID for Locus ID PA14_25110: 1654897\n",
            "Processing Locus ID: PA14_25250\n",
            "Extracted Feature ID for Locus ID PA14_25250: 1654917\n",
            "Processing Locus ID: PA14_25390\n",
            "Extracted Feature ID for Locus ID PA14_25390: 1654937\n",
            "Processing Locus ID: PA14_25430\n",
            "Extracted Feature ID for Locus ID PA14_25430: 1654945\n",
            "Processing Locus ID: PA14_25440\n",
            "Extracted Feature ID for Locus ID PA14_25440: 1654947\n",
            "Processing Locus ID: PA14_25450\n",
            "Extracted Feature ID for Locus ID PA14_25450: 1654949\n",
            "Processing Locus ID: PA14_25500\n",
            "Extracted Feature ID for Locus ID PA14_25500: 1654957\n",
            "Processing Locus ID: PA14_25510\n",
            "Extracted Feature ID for Locus ID PA14_25510: 1654959\n",
            "Processing Locus ID: PA14_25520\n",
            "Extracted Feature ID for Locus ID PA14_25520: 1654961\n",
            "Processing Locus ID: PA14_25530\n",
            "Extracted Feature ID for Locus ID PA14_25530: 1654963\n",
            "Processing Locus ID: PA14_25550\n",
            "Extracted Feature ID for Locus ID PA14_25550: 1654967\n",
            "Processing Locus ID: PA14_25560\n",
            "Extracted Feature ID for Locus ID PA14_25560: 1654969\n",
            "Processing Locus ID: PA14_25650\n",
            "Extracted Feature ID for Locus ID PA14_25650: 1654985\n",
            "Processing Locus ID: PA14_25660\n",
            "Extracted Feature ID for Locus ID PA14_25660: 1654987\n",
            "Processing Locus ID: PA14_25690\n",
            "Extracted Feature ID for Locus ID PA14_25690: 1654991\n",
            "Processing Locus ID: PA14_25710\n",
            "Extracted Feature ID for Locus ID PA14_25710: 1654993\n",
            "Processing Locus ID: PA14_25740\n",
            "Extracted Feature ID for Locus ID PA14_25740: 1654997\n",
            "Processing Locus ID: PA14_25760\n",
            "Extracted Feature ID for Locus ID PA14_25760: 1654999\n",
            "Processing Locus ID: PA14_25840\n",
            "Extracted Feature ID for Locus ID PA14_25840: 1655015\n",
            "Processing Locus ID: PA14_25860\n",
            "Extracted Feature ID for Locus ID PA14_25860: 1655017\n",
            "Processing Locus ID: PA14_25880\n",
            "Extracted Feature ID for Locus ID PA14_25880: 1655019\n",
            "Processing Locus ID: PA14_25900\n",
            "Extracted Feature ID for Locus ID PA14_25900: 1655021\n",
            "Processing Locus ID: PA14_26000\n",
            "Extracted Feature ID for Locus ID PA14_26000: 1655039\n",
            "Processing Locus ID: PA14_26300\n",
            "Extracted Feature ID for Locus ID PA14_26300: 1655085\n",
            "Processing Locus ID: PA14_26590\n",
            "Extracted Feature ID for Locus ID PA14_26590: 1655129\n",
            "Processing Locus ID: PA14_26890\n",
            "Extracted Feature ID for Locus ID PA14_26890: 1655171\n",
            "Processing Locus ID: PA14_27200\n",
            "Extracted Feature ID for Locus ID PA14_27200: 1655219\n",
            "Processing Locus ID: PA14_27210\n",
            "Extracted Feature ID for Locus ID PA14_27210: 1655221\n",
            "Processing Locus ID: PA14_27220\n",
            "Extracted Feature ID for Locus ID PA14_27220: 1655223\n",
            "Processing Locus ID: PA14_27940\n",
            "Extracted Feature ID for Locus ID PA14_27940: 1655345\n",
            "Processing Locus ID: PA14_27950\n",
            "Extracted Feature ID for Locus ID PA14_27950: 1655347\n",
            "Processing Locus ID: PA14_27990\n",
            "Extracted Feature ID for Locus ID PA14_27990: 1655353\n",
            "Processing Locus ID: PA14_28200\n",
            "Extracted Feature ID for Locus ID PA14_28200: 1655393\n",
            "Processing Locus ID: PA14_28650\n",
            "Extracted Feature ID for Locus ID PA14_28650: 1655475\n",
            "Processing Locus ID: PA14_28660\n",
            "Extracted Feature ID for Locus ID PA14_28660: 1655477\n",
            "Processing Locus ID: PA14_28680\n",
            "Extracted Feature ID for Locus ID PA14_28680: 1655481\n",
            "Processing Locus ID: PA14_28690\n",
            "Extracted Feature ID for Locus ID PA14_28690: 1655483\n",
            "Processing Locus ID: PA14_28710\n",
            "Extracted Feature ID for Locus ID PA14_28710: 1655485\n",
            "Processing Locus ID: PA14_28770\n",
            "Extracted Feature ID for Locus ID PA14_28770: 1655497\n",
            "Processing Locus ID: PA14_28780\n",
            "Extracted Feature ID for Locus ID PA14_28780: 1655499\n",
            "Processing Locus ID: PA14_29260\n",
            "Extracted Feature ID for Locus ID PA14_29260: 1655585\n",
            "Processing Locus ID: PA14_29440\n",
            "Extracted Feature ID for Locus ID PA14_29440: 1655614\n",
            "Processing Locus ID: PA14_29860\n",
            "Extracted Feature ID for Locus ID PA14_29860: 1655680\n",
            "Processing Locus ID: PA14_29880\n",
            "Extracted Feature ID for Locus ID PA14_29880: 1655682\n",
            "Processing Locus ID: PA14_29900\n",
            "Extracted Feature ID for Locus ID PA14_29900: 1655686\n",
            "Processing Locus ID: PA14_30110\n",
            "Extracted Feature ID for Locus ID PA14_30110: 1655718\n",
            "Processing Locus ID: PA14_30150\n",
            "Extracted Feature ID for Locus ID PA14_30150: 1655724\n",
            "Processing Locus ID: PA14_30240\n",
            "Extracted Feature ID for Locus ID PA14_30240: 1655738\n",
            "Processing Locus ID: PA14_30290\n",
            "Extracted Feature ID for Locus ID PA14_30290: 1655746\n",
            "Processing Locus ID: PA14_30310\n",
            "Extracted Feature ID for Locus ID PA14_30310: 1655748\n",
            "Processing Locus ID: PA14_30330\n",
            "Extracted Feature ID for Locus ID PA14_30330: 1655752\n",
            "Processing Locus ID: PA14_30340\n",
            "Extracted Feature ID for Locus ID PA14_30340: 1655754\n",
            "Processing Locus ID: PA14_30370\n",
            "Extracted Feature ID for Locus ID PA14_30370: 1655760\n",
            "Processing Locus ID: PA14_30380\n",
            "Extracted Feature ID for Locus ID PA14_30380: 1655762\n",
            "Processing Locus ID: PA14_30390\n",
            "Extracted Feature ID for Locus ID PA14_30390: 1655764\n",
            "Processing Locus ID: PA14_30400\n",
            "Extracted Feature ID for Locus ID PA14_30400: 1655766\n",
            "Processing Locus ID: PA14_30670\n",
            "Extracted Feature ID for Locus ID PA14_30670: 1655810\n",
            "Processing Locus ID: PA14_30910\n",
            "Extracted Feature ID for Locus ID PA14_30910: 1655856\n",
            "Processing Locus ID: PA14_30940\n",
            "Extracted Feature ID for Locus ID PA14_30940: 1655860\n",
            "Processing Locus ID: PA14_31250\n",
            "Extracted Feature ID for Locus ID PA14_31250: 1655914\n",
            "Processing Locus ID: PA14_31290\n",
            "Extracted Feature ID for Locus ID PA14_31290: 1655922\n",
            "Processing Locus ID: PA14_31390\n",
            "Extracted Feature ID for Locus ID PA14_31390: 1655940\n",
            "Processing Locus ID: PA14_31580\n",
            "Extracted Feature ID for Locus ID PA14_31580: 1655968\n",
            "Processing Locus ID: PA14_32130\n",
            "Extracted Feature ID for Locus ID PA14_32130: 1656040\n",
            "Processing Locus ID: PA14_32220\n",
            "Extracted Feature ID for Locus ID PA14_32220: 1656052\n",
            "Processing Locus ID: PA14_32380\n",
            "Extracted Feature ID for Locus ID PA14_32380: 1656080\n",
            "Processing Locus ID: PA14_32420\n",
            "Extracted Feature ID for Locus ID PA14_32420: 1656088\n",
            "Processing Locus ID: PA14_32790\n",
            "Extracted Feature ID for Locus ID PA14_32790: 1656146\n",
            "Processing Locus ID: PA14_32810\n",
            "Extracted Feature ID for Locus ID PA14_32810: 1656148\n",
            "Processing Locus ID: PA14_32820\n",
            "Extracted Feature ID for Locus ID PA14_32820: 1656150\n",
            "Processing Locus ID: PA14_32830\n",
            "Extracted Feature ID for Locus ID PA14_32830: 1656152\n",
            "Processing Locus ID: PA14_33060\n",
            "Extracted Feature ID for Locus ID PA14_33060: 1656186\n",
            "Processing Locus ID: PA14_33270\n",
            "Extracted Feature ID for Locus ID PA14_33270: 1656218\n",
            "Processing Locus ID: PA14_33500\n",
            "Extracted Feature ID for Locus ID PA14_33500: 1656256\n",
            "Processing Locus ID: PA14_33530\n",
            "Extracted Feature ID for Locus ID PA14_33530: 1656262\n",
            "Processing Locus ID: PA14_33590\n",
            "Extracted Feature ID for Locus ID PA14_33590: 1656274\n",
            "Processing Locus ID: PA14_33600\n",
            "Extracted Feature ID for Locus ID PA14_33600: 1656276\n",
            "Processing Locus ID: PA14_33630\n",
            "Extracted Feature ID for Locus ID PA14_33630: 1656280\n",
            "Processing Locus ID: PA14_33650\n",
            "Extracted Feature ID for Locus ID PA14_33650: 1656282\n",
            "Processing Locus ID: PA14_33680\n",
            "Extracted Feature ID for Locus ID PA14_33680: 1656284\n",
            "Processing Locus ID: PA14_33690\n",
            "Extracted Feature ID for Locus ID PA14_33690: 1656286\n",
            "Processing Locus ID: PA14_33710\n",
            "Extracted Feature ID for Locus ID PA14_33710: 1656290\n",
            "Processing Locus ID: PA14_33730\n",
            "Extracted Feature ID for Locus ID PA14_33730: 1656294\n",
            "Processing Locus ID: PA14_33750\n",
            "Extracted Feature ID for Locus ID PA14_33750: 1656298\n",
            "Processing Locus ID: PA14_33760\n",
            "Extracted Feature ID for Locus ID PA14_33760: 1656300\n",
            "Processing Locus ID: PA14_33920\n",
            "Extracted Feature ID for Locus ID PA14_33920: 1656328\n",
            "Processing Locus ID: PA14_33960\n",
            "Extracted Feature ID for Locus ID PA14_33960: 1656334\n",
            "Processing Locus ID: PA14_34000\n",
            "Extracted Feature ID for Locus ID PA14_34000: 1656342\n",
            "Processing Locus ID: PA14_34020\n",
            "Extracted Feature ID for Locus ID PA14_34020: 1656346\n",
            "Processing Locus ID: PA14_34150\n",
            "Extracted Feature ID for Locus ID PA14_34150: 1656364\n",
            "Processing Locus ID: PA14_34190\n",
            "Extracted Feature ID for Locus ID PA14_34190: 1656370\n",
            "Processing Locus ID: PA14_34200\n",
            "Extracted Feature ID for Locus ID PA14_34200: 1656372\n",
            "Processing Locus ID: PA14_34290\n",
            "Extracted Feature ID for Locus ID PA14_34290: 1656386\n",
            "Processing Locus ID: PA14_34320\n",
            "Extracted Feature ID for Locus ID PA14_34320: 1656390\n",
            "Processing Locus ID: PA14_34350\n",
            "Extracted Feature ID for Locus ID PA14_34350: 1656396\n",
            "Processing Locus ID: PA14_34410\n",
            "Extracted Feature ID for Locus ID PA14_34410: 1656404\n",
            "Processing Locus ID: PA14_34500\n",
            "Extracted Feature ID for Locus ID PA14_34500: 1656416\n",
            "Processing Locus ID: PA14_34550\n",
            "Extracted Feature ID for Locus ID PA14_34550: 1656424\n",
            "Processing Locus ID: PA14_34600\n",
            "Extracted Feature ID for Locus ID PA14_34600: 1656428\n",
            "Processing Locus ID: PA14_35170\n",
            "Extracted Feature ID for Locus ID PA14_35170: 1656522\n",
            "Processing Locus ID: PA14_35700\n",
            "Extracted Feature ID for Locus ID PA14_35700: 1656600\n",
            "Processing Locus ID: PA14_35760\n",
            "Extracted Feature ID for Locus ID PA14_35760: 1656612\n",
            "Processing Locus ID: PA14_35770\n",
            "Extracted Feature ID for Locus ID PA14_35770: 1656614\n",
            "Processing Locus ID: PA14_35780\n",
            "Extracted Feature ID for Locus ID PA14_35780: 1656616\n",
            "Processing Locus ID: PA14_35790\n",
            "Extracted Feature ID for Locus ID PA14_35790: 1656618\n",
            "Processing Locus ID: PA14_35850\n",
            "Extracted Feature ID for Locus ID PA14_35850: 1656630\n",
            "Processing Locus ID: PA14_36050\n",
            "Extracted Feature ID for Locus ID PA14_36050: 1656662\n",
            "Processing Locus ID: PA14_36730\n",
            "Extracted Feature ID for Locus ID PA14_36730: 1656778\n",
            "Processing Locus ID: PA14_36780\n",
            "Extracted Feature ID for Locus ID PA14_36780: 1656786\n",
            "Processing Locus ID: PA14_37010\n",
            "Extracted Feature ID for Locus ID PA14_37010: 1656826\n",
            "Processing Locus ID: PA14_37250\n",
            "Extracted Feature ID for Locus ID PA14_37250: 1656860\n",
            "Processing Locus ID: PA14_37340\n",
            "Extracted Feature ID for Locus ID PA14_37340: 1656872\n",
            "Processing Locus ID: PA14_37470\n",
            "Extracted Feature ID for Locus ID PA14_37470: 1656894\n",
            "Processing Locus ID: PA14_37650\n",
            "Extracted Feature ID for Locus ID PA14_37650: 1656920\n",
            "Processing Locus ID: PA14_37830\n",
            "Extracted Feature ID for Locus ID PA14_37830: 1656948\n",
            "Processing Locus ID: PA14_38180\n",
            "Extracted Feature ID for Locus ID PA14_38180: 1657000\n",
            "Processing Locus ID: PA14_38190\n",
            "Extracted Feature ID for Locus ID PA14_38190: 1657002\n",
            "Processing Locus ID: PA14_38350\n",
            "Extracted Feature ID for Locus ID PA14_38350: 1657028\n",
            "Processing Locus ID: PA14_38395\n",
            "Extracted Feature ID for Locus ID PA14_38395: 1657036\n",
            "Processing Locus ID: PA14_38410\n",
            "Extracted Feature ID for Locus ID PA14_38410: 1657038\n",
            "Processing Locus ID: PA14_38550\n",
            "Extracted Feature ID for Locus ID PA14_38550: 1657060\n",
            "Processing Locus ID: PA14_38910\n",
            "Extracted Feature ID for Locus ID PA14_38910: 1657116\n",
            "Processing Locus ID: PA14_39470\n",
            "Extracted Feature ID for Locus ID PA14_39470: 1657198\n",
            "Processing Locus ID: PA14_39480\n",
            "Extracted Feature ID for Locus ID PA14_39480: 1657200\n",
            "Processing Locus ID: PA14_39640\n",
            "Extracted Feature ID for Locus ID PA14_39640: 1657224\n",
            "Processing Locus ID: PA14_39860\n",
            "Extracted Feature ID for Locus ID PA14_39860: 1657260\n",
            "Processing Locus ID: PA14_39910\n",
            "Extracted Feature ID for Locus ID PA14_39910: 1657268\n",
            "Processing Locus ID: PA14_39980\n",
            "Extracted Feature ID for Locus ID PA14_39980: 1657278\n",
            "Processing Locus ID: PA14_40040\n",
            "Extracted Feature ID for Locus ID PA14_40040: 1657288\n",
            "Processing Locus ID: PA14_40240\n",
            "Extracted Feature ID for Locus ID PA14_40240: 1657322\n",
            "Processing Locus ID: PA14_40260\n",
            "Extracted Feature ID for Locus ID PA14_40260: 1657326\n",
            "Processing Locus ID: PA14_40300\n",
            "Extracted Feature ID for Locus ID PA14_40300: 1657334\n",
            "Processing Locus ID: PA14_40310\n",
            "Extracted Feature ID for Locus ID PA14_40310: 1657336\n",
            "Processing Locus ID: PA14_40630\n",
            "Extracted Feature ID for Locus ID PA14_40630: 1657384\n",
            "Processing Locus ID: PA14_41050\n",
            "Extracted Feature ID for Locus ID PA14_41050: 1657450\n",
            "Processing Locus ID: PA14_41060\n",
            "Extracted Feature ID for Locus ID PA14_41060: 1657452\n",
            "Processing Locus ID: PA14_41230\n",
            "Extracted Feature ID for Locus ID PA14_41230: 1657480\n",
            "Processing Locus ID: PA14_41240\n",
            "Extracted Feature ID for Locus ID PA14_41240: 1657482\n",
            "Processing Locus ID: PA14_41350\n",
            "Extracted Feature ID for Locus ID PA14_41350: 1657502\n",
            "Processing Locus ID: PA14_41360\n",
            "Extracted Feature ID for Locus ID PA14_41360: 1657504\n",
            "Processing Locus ID: PA14_41380\n",
            "Extracted Feature ID for Locus ID PA14_41380: 1657506\n",
            "Processing Locus ID: PA14_41400\n",
            "Extracted Feature ID for Locus ID PA14_41400: 1657510\n",
            "Processing Locus ID: PA14_41470\n",
            "Extracted Feature ID for Locus ID PA14_41470: 1657520\n",
            "Processing Locus ID: PA14_41570\n",
            "Extracted Feature ID for Locus ID PA14_41570: 1657540\n",
            "Processing Locus ID: PA14_41575\n",
            "Extracted Feature ID for Locus ID PA14_41575: 1657542\n",
            "Processing Locus ID: PA14_41730\n",
            "Extracted Feature ID for Locus ID PA14_41730: 1657562\n",
            "Processing Locus ID: PA14_41840\n",
            "Extracted Feature ID for Locus ID PA14_41840: 1657582\n",
            "Processing Locus ID: PA14_41870\n",
            "Extracted Feature ID for Locus ID PA14_41870: 1657586\n",
            "Processing Locus ID: PA14_42260\n",
            "Extracted Feature ID for Locus ID PA14_42260: 1657646\n",
            "Processing Locus ID: PA14_42570\n",
            "Extracted Feature ID for Locus ID PA14_42570: 1657700\n",
            "Processing Locus ID: PA14_42720\n",
            "Extracted Feature ID for Locus ID PA14_42720: 1657726\n",
            "Processing Locus ID: PA14_42760\n",
            "Extracted Feature ID for Locus ID PA14_42760: 1657734\n",
            "Processing Locus ID: PA14_42850\n",
            "Extracted Feature ID for Locus ID PA14_42850: 1657748\n",
            "Processing Locus ID: PA14_43240\n",
            "Extracted Feature ID for Locus ID PA14_43240: 1657816\n",
            "Processing Locus ID: PA14_43440\n",
            "Extracted Feature ID for Locus ID PA14_43440: 1657848\n",
            "Processing Locus ID: PA14_43680\n",
            "Extracted Feature ID for Locus ID PA14_43680: 1657886\n",
            "Processing Locus ID: PA14_43690\n",
            "Extracted Feature ID for Locus ID PA14_43690: 1657888\n",
            "Processing Locus ID: PA14_43940\n",
            "Extracted Feature ID for Locus ID PA14_43940: 1657928\n",
            "Processing Locus ID: PA14_43950\n",
            "Extracted Feature ID for Locus ID PA14_43950: 1657930\n",
            "Processing Locus ID: PA14_43970\n",
            "Extracted Feature ID for Locus ID PA14_43970: 1657932\n",
            "Processing Locus ID: PA14_44000\n",
            "Extracted Feature ID for Locus ID PA14_44000: 1657934\n",
            "Processing Locus ID: PA14_44010\n",
            "Extracted Feature ID for Locus ID PA14_44010: 1657936\n",
            "Processing Locus ID: PA14_44020\n",
            "Extracted Feature ID for Locus ID PA14_44020: 1657938\n",
            "Processing Locus ID: PA14_44030\n",
            "Extracted Feature ID for Locus ID PA14_44030: 1657940\n",
            "Processing Locus ID: PA14_44050\n",
            "Extracted Feature ID for Locus ID PA14_44050: 1657942\n",
            "Processing Locus ID: PA14_44060\n",
            "Extracted Feature ID for Locus ID PA14_44060: 1657944\n",
            "Processing Locus ID: PA14_44070\n",
            "Extracted Feature ID for Locus ID PA14_44070: 1657946\n",
            "Processing Locus ID: PA14_44370\n",
            "Extracted Feature ID for Locus ID PA14_44370: 1658000\n",
            "Processing Locus ID: PA14_44380\n",
            "Extracted Feature ID for Locus ID PA14_44380: 1658002\n",
            "Processing Locus ID: PA14_44400\n",
            "Extracted Feature ID for Locus ID PA14_44400: 1658006\n",
            "Processing Locus ID: PA14_44440\n",
            "Extracted Feature ID for Locus ID PA14_44440: 1658012\n",
            "Processing Locus ID: PA14_44460\n",
            "Extracted Feature ID for Locus ID PA14_44460: 1658016\n",
            "Processing Locus ID: PA14_44630\n",
            "Extracted Feature ID for Locus ID PA14_44630: 1658046\n",
            "Processing Locus ID: PA14_44660\n",
            "Extracted Feature ID for Locus ID PA14_44660: 1658052\n",
            "Processing Locus ID: PA14_44670\n",
            "Extracted Feature ID for Locus ID PA14_44670: 1658054\n",
            "Processing Locus ID: PA14_44780\n",
            "Extracted Feature ID for Locus ID PA14_44780: 1658070\n",
            "Processing Locus ID: PA14_44910\n",
            "Extracted Feature ID for Locus ID PA14_44910: 1658090\n",
            "Processing Locus ID: PA14_44920\n",
            "Extracted Feature ID for Locus ID PA14_44920: 1658092\n",
            "Processing Locus ID: PA14_45280\n",
            "Extracted Feature ID for Locus ID PA14_45280: 1658146\n",
            "Processing Locus ID: PA14_45290\n",
            "Extracted Feature ID for Locus ID PA14_45290: 1658148\n",
            "Processing Locus ID: PA14_45300\n",
            "Extracted Feature ID for Locus ID PA14_45300: 1658150\n",
            "Processing Locus ID: PA14_45310\n",
            "Extracted Feature ID for Locus ID PA14_45310: 1658152\n",
            "Processing Locus ID: PA14_45340\n",
            "Extracted Feature ID for Locus ID PA14_45340: 1658156\n",
            "Processing Locus ID: PA14_45350\n",
            "Extracted Feature ID for Locus ID PA14_45350: 1658158\n",
            "Processing Locus ID: PA14_45370\n",
            "Extracted Feature ID for Locus ID PA14_45370: 1658160\n",
            "Processing Locus ID: PA14_45640\n",
            "Extracted Feature ID for Locus ID PA14_45640: 1658200\n",
            "Processing Locus ID: PA14_46020\n",
            "Extracted Feature ID for Locus ID PA14_46020: 1658258\n",
            "Processing Locus ID: PA14_46460\n",
            "Extracted Feature ID for Locus ID PA14_46460: 1658330\n",
            "Processing Locus ID: PA14_46470\n",
            "Extracted Feature ID for Locus ID PA14_46470: 1658332\n",
            "Processing Locus ID: PA14_46550\n",
            "Extracted Feature ID for Locus ID PA14_46550: 1658346\n",
            "Processing Locus ID: PA14_46840\n",
            "Extracted Feature ID for Locus ID PA14_46840: 1658398\n",
            "Processing Locus ID: PA14_48530\n",
            "Extracted Feature ID for Locus ID PA14_48530: 1658662\n",
            "Processing Locus ID: PA14_48980\n",
            "Extracted Feature ID for Locus ID PA14_48980: 1658742\n",
            "Processing Locus ID: PA14_49020\n",
            "Extracted Feature ID for Locus ID PA14_49020: 1658750\n",
            "Processing Locus ID: PA14_49030\n",
            "Extracted Feature ID for Locus ID PA14_49030: 1658752\n",
            "Processing Locus ID: PA14_49340\n",
            "Extracted Feature ID for Locus ID PA14_49340: 1658806\n",
            "Processing Locus ID: PA14_49380\n",
            "Extracted Feature ID for Locus ID PA14_49380: 1658812\n",
            "Processing Locus ID: PA14_49460\n",
            "Extracted Feature ID for Locus ID PA14_49460: 1658824\n",
            "Processing Locus ID: PA14_49470\n",
            "Extracted Feature ID for Locus ID PA14_49470: 1658826\n",
            "Processing Locus ID: PA14_49480\n",
            "Extracted Feature ID for Locus ID PA14_49480: 1658828\n",
            "Processing Locus ID: PA14_49510\n",
            "Extracted Feature ID for Locus ID PA14_49510: 1658832\n",
            "Processing Locus ID: PA14_49520\n",
            "Extracted Feature ID for Locus ID PA14_49520: 1658834\n",
            "Processing Locus ID: PA14_49730\n",
            "Extracted Feature ID for Locus ID PA14_49730: 1658870\n",
            "Processing Locus ID: PA14_50610\n",
            "Extracted Feature ID for Locus ID PA14_50610: 1659010\n",
            "Processing Locus ID: PA14_50800\n",
            "Extracted Feature ID for Locus ID PA14_50800: 1659046\n",
            "Processing Locus ID: PA14_50870\n",
            "Extracted Feature ID for Locus ID PA14_50870: 1659060\n",
            "Processing Locus ID: PA14_51240\n",
            "Extracted Feature ID for Locus ID PA14_51240: 1659122\n",
            "Processing Locus ID: PA14_51270\n",
            "Extracted Feature ID for Locus ID PA14_51270: 1659128\n",
            "Processing Locus ID: PA14_51310\n",
            "Extracted Feature ID for Locus ID PA14_51310: 1659136\n",
            "Processing Locus ID: PA14_51320\n",
            "Extracted Feature ID for Locus ID PA14_51320: 1659138\n",
            "Processing Locus ID: PA14_51460\n",
            "Extracted Feature ID for Locus ID PA14_51460: 1659162\n",
            "Processing Locus ID: PA14_51480\n",
            "Extracted Feature ID for Locus ID PA14_51480: 1659166\n",
            "Processing Locus ID: PA14_51590\n",
            "Extracted Feature ID for Locus ID PA14_51590: 1659188\n",
            "Processing Locus ID: PA14_51600\n",
            "Extracted Feature ID for Locus ID PA14_51600: 1659190\n",
            "Processing Locus ID: PA14_51610\n",
            "Extracted Feature ID for Locus ID PA14_51610: 1659192\n",
            "Processing Locus ID: PA14_51690\n",
            "Extracted Feature ID for Locus ID PA14_51690: 1659208\n",
            "Processing Locus ID: PA14_51710\n",
            "Extracted Feature ID for Locus ID PA14_51710: 1659210\n",
            "Processing Locus ID: PA14_51720\n",
            "Extracted Feature ID for Locus ID PA14_51720: 1659212\n",
            "Processing Locus ID: PA14_51730\n",
            "Extracted Feature ID for Locus ID PA14_51730: 1659214\n",
            "Processing Locus ID: PA14_51740\n",
            "Extracted Feature ID for Locus ID PA14_51740: 1659216\n",
            "Processing Locus ID: PA14_51750\n",
            "Extracted Feature ID for Locus ID PA14_51750: 1659218\n",
            "Processing Locus ID: PA14_51790\n",
            "Extracted Feature ID for Locus ID PA14_51790: 1659224\n",
            "Processing Locus ID: PA14_51820\n",
            "Extracted Feature ID for Locus ID PA14_51820: 1659230\n",
            "Processing Locus ID: PA14_51900\n",
            "Extracted Feature ID for Locus ID PA14_51900: 1659244\n",
            "Processing Locus ID: PA14_52010\n",
            "Extracted Feature ID for Locus ID PA14_52010: 1659264\n",
            "Processing Locus ID: PA14_52040\n",
            "Extracted Feature ID for Locus ID PA14_52040: 1659268\n",
            "Processing Locus ID: PA14_52050\n",
            "Extracted Feature ID for Locus ID PA14_52050: 1659270\n",
            "Processing Locus ID: PA14_52120\n",
            "Extracted Feature ID for Locus ID PA14_52120: 1659282\n",
            "Processing Locus ID: PA14_52530\n",
            "Extracted Feature ID for Locus ID PA14_52530: 1659350\n",
            "Processing Locus ID: PA14_52580\n",
            "Extracted Feature ID for Locus ID PA14_52580: 1659360\n",
            "Processing Locus ID: PA14_52600\n",
            "Extracted Feature ID for Locus ID PA14_52600: 1659362\n",
            "Processing Locus ID: PA14_52700\n",
            "Extracted Feature ID for Locus ID PA14_52700: 1659376\n",
            "Processing Locus ID: PA14_52850\n",
            "Extracted Feature ID for Locus ID PA14_52850: 1659402\n",
            "Processing Locus ID: PA14_53580\n",
            "Extracted Feature ID for Locus ID PA14_53580: 1659522\n",
            "Processing Locus ID: PA14_53590\n",
            "Extracted Feature ID for Locus ID PA14_53590: 1659524\n",
            "Processing Locus ID: PA14_53600\n",
            "Extracted Feature ID for Locus ID PA14_53600: 1659526\n",
            "Processing Locus ID: PA14_53610\n",
            "Extracted Feature ID for Locus ID PA14_53610: 1659528\n",
            "Processing Locus ID: PA14_53620\n",
            "Extracted Feature ID for Locus ID PA14_53620: 1659530\n",
            "Processing Locus ID: PA14_54290\n",
            "Extracted Feature ID for Locus ID PA14_54290: 1659638\n",
            "Processing Locus ID: PA14_54320\n",
            "Extracted Feature ID for Locus ID PA14_54320: 1659642\n",
            "Processing Locus ID: PA14_54330\n",
            "Extracted Feature ID for Locus ID PA14_54330: 1659644\n",
            "Processing Locus ID: PA14_54350\n",
            "Extracted Feature ID for Locus ID PA14_54350: 1659648\n",
            "Processing Locus ID: PA14_54390\n",
            "Extracted Feature ID for Locus ID PA14_54390: 1659652\n",
            "Processing Locus ID: PA14_54420\n",
            "Extracted Feature ID for Locus ID PA14_54420: 1659658\n",
            "Processing Locus ID: PA14_54480\n",
            "Extracted Feature ID for Locus ID PA14_54480: 1659668\n",
            "Processing Locus ID: PA14_54550\n",
            "Extracted Feature ID for Locus ID PA14_54550: 1659680\n",
            "Processing Locus ID: PA14_55040\n",
            "Extracted Feature ID for Locus ID PA14_55040: 1659768\n",
            "Processing Locus ID: PA14_55230\n",
            "Extracted Feature ID for Locus ID PA14_55230: 1659802\n",
            "Processing Locus ID: PA14_55340\n",
            "Extracted Feature ID for Locus ID PA14_55340: 1659820\n",
            "Processing Locus ID: PA14_55390\n",
            "Extracted Feature ID for Locus ID PA14_55390: 1659826\n",
            "Processing Locus ID: PA14_55410\n",
            "Extracted Feature ID for Locus ID PA14_55410: 1659830\n",
            "Processing Locus ID: PA14_55450\n",
            "Extracted Feature ID for Locus ID PA14_55450: 1659836\n",
            "Processing Locus ID: PA14_55520\n",
            "Extracted Feature ID for Locus ID PA14_55520: 1659850\n",
            "Processing Locus ID: PA14_55530\n",
            "Extracted Feature ID for Locus ID PA14_55530: 1659852\n",
            "Processing Locus ID: PA14_55660\n",
            "Extracted Feature ID for Locus ID PA14_55660: 1659884\n",
            "Processing Locus ID: PA14_55670\n",
            "Extracted Feature ID for Locus ID PA14_55670: 1659886\n",
            "Processing Locus ID: PA14_55690\n",
            "Extracted Feature ID for Locus ID PA14_55690: 1659888\n",
            "Processing Locus ID: PA14_55770\n",
            "Extracted Feature ID for Locus ID PA14_55770: 1659902\n",
            "Processing Locus ID: PA14_55800\n",
            "Extracted Feature ID for Locus ID PA14_55800: 1659908\n",
            "Processing Locus ID: PA14_56300\n",
            "Extracted Feature ID for Locus ID PA14_56300: 1659984\n",
            "Processing Locus ID: PA14_56780\n",
            "Extracted Feature ID for Locus ID PA14_56780: 1660050\n",
            "Processing Locus ID: PA14_57010\n",
            "Extracted Feature ID for Locus ID PA14_57010: 1660090\n",
            "Processing Locus ID: PA14_57020\n",
            "Extracted Feature ID for Locus ID PA14_57020: 1660092\n",
            "Processing Locus ID: PA14_57030\n",
            "Extracted Feature ID for Locus ID PA14_57030: 1660094\n",
            "Processing Locus ID: PA14_57170\n",
            "Extracted Feature ID for Locus ID PA14_57170: 1660116\n",
            "Processing Locus ID: PA14_57190\n",
            "Extracted Feature ID for Locus ID PA14_57190: 1660120\n",
            "Processing Locus ID: PA14_57220\n",
            "Extracted Feature ID for Locus ID PA14_57220: 1660126\n",
            "Processing Locus ID: PA14_57250\n",
            "Extracted Feature ID for Locus ID PA14_57250: 1660130\n",
            "Processing Locus ID: PA14_57260\n",
            "Extracted Feature ID for Locus ID PA14_57260: 1660132\n",
            "Processing Locus ID: PA14_57275\n",
            "Extracted Feature ID for Locus ID PA14_57275: 1660134\n",
            "Processing Locus ID: PA14_57290\n",
            "Extracted Feature ID for Locus ID PA14_57290: 1660136\n",
            "Processing Locus ID: PA14_57300\n",
            "Extracted Feature ID for Locus ID PA14_57300: 1660138\n",
            "Processing Locus ID: PA14_57320\n",
            "Extracted Feature ID for Locus ID PA14_57320: 1660140\n",
            "Processing Locus ID: PA14_57330\n",
            "Extracted Feature ID for Locus ID PA14_57330: 1660142\n",
            "Processing Locus ID: PA14_57340\n",
            "Extracted Feature ID for Locus ID PA14_57340: 1660144\n",
            "Processing Locus ID: PA14_57360\n",
            "Extracted Feature ID for Locus ID PA14_57360: 1660146\n",
            "Processing Locus ID: PA14_57370\n",
            "Extracted Feature ID for Locus ID PA14_57370: 1660148\n",
            "Processing Locus ID: PA14_57380\n",
            "Extracted Feature ID for Locus ID PA14_57380: 1660150\n",
            "Processing Locus ID: PA14_57390\n",
            "Extracted Feature ID for Locus ID PA14_57390: 1660152\n",
            "Processing Locus ID: PA14_57410\n",
            "Extracted Feature ID for Locus ID PA14_57410: 1660154\n",
            "Processing Locus ID: PA14_57425\n",
            "Extracted Feature ID for Locus ID PA14_57425: 1660156\n",
            "Processing Locus ID: PA14_57440\n",
            "Extracted Feature ID for Locus ID PA14_57440: 1660158\n",
            "Processing Locus ID: PA14_57450\n",
            "Extracted Feature ID for Locus ID PA14_57450: 1660160\n",
            "Processing Locus ID: PA14_57460\n",
            "Extracted Feature ID for Locus ID PA14_57460: 1660162\n",
            "Processing Locus ID: PA14_57500\n",
            "Extracted Feature ID for Locus ID PA14_57500: 1660170\n",
            "Processing Locus ID: PA14_57540\n",
            "Extracted Feature ID for Locus ID PA14_57540: 1660178\n",
            "Processing Locus ID: PA14_57560\n",
            "Extracted Feature ID for Locus ID PA14_57560: 1660180\n",
            "Processing Locus ID: PA14_57570\n",
            "Extracted Feature ID for Locus ID PA14_57570: 1660182\n",
            "Processing Locus ID: PA14_57580\n",
            "Extracted Feature ID for Locus ID PA14_57580: 1660184\n",
            "Processing Locus ID: PA14_57590\n",
            "Extracted Feature ID for Locus ID PA14_57590: 1660186\n",
            "Processing Locus ID: PA14_57670\n",
            "Extracted Feature ID for Locus ID PA14_57670: 1660197\n",
            "Processing Locus ID: PA14_57770\n",
            "Extracted Feature ID for Locus ID PA14_57770: 1660213\n",
            "Processing Locus ID: PA14_57780\n",
            "Extracted Feature ID for Locus ID PA14_57780: 1660215\n",
            "Processing Locus ID: PA14_57800\n",
            "Extracted Feature ID for Locus ID PA14_57800: 1660217\n",
            "Processing Locus ID: PA14_57810\n",
            "Extracted Feature ID for Locus ID PA14_57810: 1660219\n",
            "Processing Locus ID: PA14_57890\n",
            "Extracted Feature ID for Locus ID PA14_57890: 1660233\n",
            "Processing Locus ID: PA14_57910\n",
            "Extracted Feature ID for Locus ID PA14_57910: 1660237\n",
            "Processing Locus ID: PA14_57920\n",
            "Extracted Feature ID for Locus ID PA14_57920: 1660239\n",
            "Processing Locus ID: PA14_57930\n",
            "Extracted Feature ID for Locus ID PA14_57930: 1660241\n",
            "Processing Locus ID: PA14_57940\n",
            "Extracted Feature ID for Locus ID PA14_57940: 1660243\n",
            "Processing Locus ID: PA14_57960\n",
            "Extracted Feature ID for Locus ID PA14_57960: 1660247\n",
            "Processing Locus ID: PA14_58120\n",
            "Extracted Feature ID for Locus ID PA14_58120: 1660277\n",
            "Processing Locus ID: PA14_58130\n",
            "Extracted Feature ID for Locus ID PA14_58130: 1660279\n",
            "Processing Locus ID: PA14_58150\n",
            "Extracted Feature ID for Locus ID PA14_58150: 1660281\n",
            "Processing Locus ID: PA14_58170\n",
            "Extracted Feature ID for Locus ID PA14_58170: 1660283\n",
            "Processing Locus ID: PA14_58180\n",
            "Extracted Feature ID for Locus ID PA14_58180: 1660285\n",
            "Processing Locus ID: PA14_58190\n",
            "Extracted Feature ID for Locus ID PA14_58190: 1660287\n",
            "Processing Locus ID: PA14_58700\n",
            "Extracted Feature ID for Locus ID PA14_58700: 1660367\n",
            "Processing Locus ID: PA14_58720\n",
            "Extracted Feature ID for Locus ID PA14_58720: 1660371\n",
            "Processing Locus ID: PA14_58730\n",
            "Extracted Feature ID for Locus ID PA14_58730: 1660373\n",
            "Processing Locus ID: PA14_58760\n",
            "Extracted Feature ID for Locus ID PA14_58760: 1660379\n",
            "Processing Locus ID: PA14_58780\n",
            "Extracted Feature ID for Locus ID PA14_58780: 1660383\n",
            "Processing Locus ID: PA14_58920\n",
            "Extracted Feature ID for Locus ID PA14_58920: 1660411\n",
            "Processing Locus ID: PA14_58950\n",
            "Extracted Feature ID for Locus ID PA14_58950: 1660417\n",
            "Processing Locus ID: PA14_58970\n",
            "Extracted Feature ID for Locus ID PA14_58970: 1660421\n",
            "Processing Locus ID: PA14_58990\n",
            "Extracted Feature ID for Locus ID PA14_58990: 1660425\n",
            "Processing Locus ID: PA14_59120\n",
            "Extracted Feature ID for Locus ID PA14_59120: 1660447\n",
            "Processing Locus ID: PA14_59190\n",
            "Extracted Feature ID for Locus ID PA14_59190: 1660461\n",
            "Processing Locus ID: PA14_59220\n",
            "Extracted Feature ID for Locus ID PA14_59220: 1660467\n",
            "Processing Locus ID: PA14_59230\n",
            "Extracted Feature ID for Locus ID PA14_59230: 1660469\n",
            "Processing Locus ID: PA14_59440\n",
            "Extracted Feature ID for Locus ID PA14_59440: 1660503\n",
            "Processing Locus ID: PA14_59550\n",
            "Extracted Feature ID for Locus ID PA14_59550: 1660521\n",
            "Processing Locus ID: PA14_59560\n",
            "Extracted Feature ID for Locus ID PA14_59560: 1660523\n",
            "Processing Locus ID: PA14_59590\n",
            "Extracted Feature ID for Locus ID PA14_59590: 1660529\n",
            "Processing Locus ID: PA14_59610\n",
            "Extracted Feature ID for Locus ID PA14_59610: 1660533\n",
            "Processing Locus ID: PA14_59620\n",
            "Extracted Feature ID for Locus ID PA14_59620: 1660535\n",
            "Processing Locus ID: PA14_59630\n",
            "Extracted Feature ID for Locus ID PA14_59630: 1660537\n",
            "Processing Locus ID: PA14_59840\n",
            "Extracted Feature ID for Locus ID PA14_59840: 1660574\n",
            "Processing Locus ID: PA14_59845\n",
            "Extracted Feature ID for Locus ID PA14_59845: 1660576\n",
            "Processing Locus ID: PA14_59850\n",
            "Extracted Feature ID for Locus ID PA14_59850: 1660578\n",
            "Processing Locus ID: PA14_60090\n",
            "Extracted Feature ID for Locus ID PA14_60090: 1660626\n",
            "Processing Locus ID: PA14_60100\n",
            "Extracted Feature ID for Locus ID PA14_60100: 1660628\n",
            "Processing Locus ID: PA14_60230\n",
            "Extracted Feature ID for Locus ID PA14_60230: 1660650\n",
            "Processing Locus ID: PA14_60320\n",
            "Extracted Feature ID for Locus ID PA14_60320: 1660668\n",
            "Processing Locus ID: PA14_60330\n",
            "Extracted Feature ID for Locus ID PA14_60330: 1660670\n",
            "Processing Locus ID: PA14_60360\n",
            "Extracted Feature ID for Locus ID PA14_60360: 1660674\n",
            "Processing Locus ID: PA14_60370\n",
            "Extracted Feature ID for Locus ID PA14_60370: 1660676\n",
            "Processing Locus ID: PA14_60380\n",
            "Extracted Feature ID for Locus ID PA14_60380: 1660678\n",
            "Processing Locus ID: PA14_60390\n",
            "Extracted Feature ID for Locus ID PA14_60390: 1660680\n",
            "Processing Locus ID: PA14_60400\n",
            "Extracted Feature ID for Locus ID PA14_60400: 1660682\n",
            "Processing Locus ID: PA14_60420\n",
            "Extracted Feature ID for Locus ID PA14_60420: 1660686\n",
            "Processing Locus ID: PA14_60445\n",
            "Extracted Feature ID for Locus ID PA14_60445: 1660688\n",
            "Processing Locus ID: PA14_60450\n",
            "Extracted Feature ID for Locus ID PA14_60450: 1660690\n",
            "Processing Locus ID: PA14_60460\n",
            "Extracted Feature ID for Locus ID PA14_60460: 1660692\n",
            "Processing Locus ID: PA14_60470\n",
            "Extracted Feature ID for Locus ID PA14_60470: 1660694\n",
            "Processing Locus ID: PA14_60860\n",
            "Extracted Feature ID for Locus ID PA14_60860: 1660758\n",
            "Processing Locus ID: PA14_60890\n",
            "Extracted Feature ID for Locus ID PA14_60890: 1660762\n",
            "Processing Locus ID: PA14_61360\n",
            "Extracted Feature ID for Locus ID PA14_61360: 1660836\n",
            "Processing Locus ID: PA14_61400\n",
            "Extracted Feature ID for Locus ID PA14_61400: 1660844\n",
            "Processing Locus ID: PA14_61580\n",
            "Extracted Feature ID for Locus ID PA14_61580: 1660874\n",
            "Processing Locus ID: PA14_61660\n",
            "Extracted Feature ID for Locus ID PA14_61660: 1660888\n",
            "Processing Locus ID: PA14_61670\n",
            "Extracted Feature ID for Locus ID PA14_61670: 1660890\n",
            "Processing Locus ID: PA14_61700\n",
            "Extracted Feature ID for Locus ID PA14_61700: 1660894\n",
            "Processing Locus ID: PA14_61710\n",
            "Extracted Feature ID for Locus ID PA14_61710: 1660896\n",
            "Processing Locus ID: PA14_61720\n",
            "Extracted Feature ID for Locus ID PA14_61720: 1660898\n",
            "Processing Locus ID: PA14_61740\n",
            "Extracted Feature ID for Locus ID PA14_61740: 1660900\n",
            "Processing Locus ID: PA14_61750\n",
            "Extracted Feature ID for Locus ID PA14_61750: 1660902\n",
            "Processing Locus ID: PA14_61770\n",
            "Extracted Feature ID for Locus ID PA14_61770: 1660906\n",
            "Processing Locus ID: PA14_61790\n",
            "Extracted Feature ID for Locus ID PA14_61790: 1660910\n",
            "Processing Locus ID: PA14_61840\n",
            "Extracted Feature ID for Locus ID PA14_61840: 1660916\n",
            "Processing Locus ID: PA14_61890\n",
            "Extracted Feature ID for Locus ID PA14_61890: 1660926\n",
            "Processing Locus ID: PA14_62120\n",
            "Extracted Feature ID for Locus ID PA14_62120: 1660966\n",
            "Processing Locus ID: PA14_62130\n",
            "Extracted Feature ID for Locus ID PA14_62130: 1660968\n",
            "Processing Locus ID: PA14_62150\n",
            "Extracted Feature ID for Locus ID PA14_62150: 1660970\n",
            "Processing Locus ID: PA14_62160\n",
            "Extracted Feature ID for Locus ID PA14_62160: 1660972\n",
            "Processing Locus ID: PA14_62530\n",
            "Extracted Feature ID for Locus ID PA14_62530: 1661032\n",
            "Processing Locus ID: PA14_62540\n",
            "Extracted Feature ID for Locus ID PA14_62540: 1661034\n",
            "Processing Locus ID: PA14_62570\n",
            "Extracted Feature ID for Locus ID PA14_62570: 1661038\n",
            "Processing Locus ID: PA14_62580\n",
            "Extracted Feature ID for Locus ID PA14_62580: 1661040\n",
            "Processing Locus ID: PA14_62590\n",
            "Extracted Feature ID for Locus ID PA14_62590: 1661042\n",
            "Processing Locus ID: PA14_62620\n",
            "Extracted Feature ID for Locus ID PA14_62620: 1661046\n",
            "Processing Locus ID: PA14_62710\n",
            "Extracted Feature ID for Locus ID PA14_62710: 1661062\n",
            "Processing Locus ID: PA14_62720\n",
            "Extracted Feature ID for Locus ID PA14_62720: 1661064\n",
            "Processing Locus ID: PA14_62760\n",
            "Extracted Feature ID for Locus ID PA14_62760: 1661070\n",
            "Processing Locus ID: PA14_62770\n",
            "Extracted Feature ID for Locus ID PA14_62770: 1661072\n",
            "Processing Locus ID: PA14_62780\n",
            "Extracted Feature ID for Locus ID PA14_62780: 1661074\n",
            "Processing Locus ID: PA14_62810\n",
            "Extracted Feature ID for Locus ID PA14_62810: 1661080\n",
            "Processing Locus ID: PA14_62830\n",
            "Extracted Feature ID for Locus ID PA14_62830: 1661082\n",
            "Processing Locus ID: PA14_62840\n",
            "Extracted Feature ID for Locus ID PA14_62840: 1661084\n",
            "Processing Locus ID: PA14_62850\n",
            "Extracted Feature ID for Locus ID PA14_62850: 1661086\n",
            "Processing Locus ID: PA14_62860\n",
            "Extracted Feature ID for Locus ID PA14_62860: 1661088\n",
            "Processing Locus ID: PA14_62870\n",
            "Extracted Feature ID for Locus ID PA14_62870: 1661090\n",
            "Processing Locus ID: PA14_62880\n",
            "Extracted Feature ID for Locus ID PA14_62880: 1661092\n",
            "Processing Locus ID: PA14_62910\n",
            "Extracted Feature ID for Locus ID PA14_62910: 1661098\n",
            "Processing Locus ID: PA14_62930\n",
            "Extracted Feature ID for Locus ID PA14_62930: 1661102\n",
            "Processing Locus ID: PA14_62940\n",
            "Extracted Feature ID for Locus ID PA14_62940: 1661104\n",
            "Processing Locus ID: PA14_62960\n",
            "Extracted Feature ID for Locus ID PA14_62960: 1661106\n",
            "Processing Locus ID: PA14_62970\n",
            "Extracted Feature ID for Locus ID PA14_62970: 1661108\n",
            "Processing Locus ID: PA14_62990\n",
            "Extracted Feature ID for Locus ID PA14_62990: 1661110\n",
            "Processing Locus ID: PA14_63020\n",
            "Extracted Feature ID for Locus ID PA14_63020: 1661114\n",
            "Processing Locus ID: PA14_63030\n",
            "Extracted Feature ID for Locus ID PA14_63030: 1661116\n",
            "Processing Locus ID: PA14_63050\n",
            "Extracted Feature ID for Locus ID PA14_63050: 1661120\n",
            "Processing Locus ID: PA14_64090\n",
            "Extracted Feature ID for Locus ID PA14_64090: 1661284\n",
            "Processing Locus ID: PA14_64100\n",
            "Extracted Feature ID for Locus ID PA14_64100: 1661286\n",
            "Processing Locus ID: PA14_64110\n",
            "Extracted Feature ID for Locus ID PA14_64110: 1661288\n",
            "Processing Locus ID: PA14_64190\n",
            "Extracted Feature ID for Locus ID PA14_64190: 1661298\n",
            "Processing Locus ID: PA14_64200\n",
            "Extracted Feature ID for Locus ID PA14_64200: 1661300\n",
            "Processing Locus ID: PA14_64220\n",
            "Extracted Feature ID for Locus ID PA14_64220: 1661302\n",
            "Processing Locus ID: PA14_64230\n",
            "Extracted Feature ID for Locus ID PA14_64230: 1661304\n",
            "Processing Locus ID: PA14_64950\n",
            "Extracted Feature ID for Locus ID PA14_64950: 1661432\n",
            "Processing Locus ID: PA14_64980\n",
            "Extracted Feature ID for Locus ID PA14_64980: 1661436\n",
            "Processing Locus ID: PA14_65110\n",
            "Extracted Feature ID for Locus ID PA14_65110: 1661456\n",
            "Processing Locus ID: PA14_65130\n",
            "Extracted Feature ID for Locus ID PA14_65130: 1661458\n",
            "Processing Locus ID: PA14_65170\n",
            "Extracted Feature ID for Locus ID PA14_65170: 1661464\n",
            "Processing Locus ID: PA14_65180\n",
            "Extracted Feature ID for Locus ID PA14_65180: 1661466\n",
            "Processing Locus ID: PA14_65230\n",
            "Extracted Feature ID for Locus ID PA14_65230: 1661476\n",
            "Processing Locus ID: PA14_65250\n",
            "Extracted Feature ID for Locus ID PA14_65250: 1661478\n",
            "Processing Locus ID: PA14_65270\n",
            "Extracted Feature ID for Locus ID PA14_65270: 1661482\n",
            "Processing Locus ID: PA14_65280\n",
            "Extracted Feature ID for Locus ID PA14_65280: 1661484\n",
            "Processing Locus ID: PA14_65310\n",
            "Extracted Feature ID for Locus ID PA14_65310: 1661488\n",
            "Processing Locus ID: PA14_65370\n",
            "Extracted Feature ID for Locus ID PA14_65370: 1661494\n",
            "Processing Locus ID: PA14_65380\n",
            "Extracted Feature ID for Locus ID PA14_65380: 1661496\n",
            "Processing Locus ID: PA14_65410\n",
            "Extracted Feature ID for Locus ID PA14_65410: 1661502\n",
            "Processing Locus ID: PA14_65500\n",
            "Extracted Feature ID for Locus ID PA14_65500: 1661514\n",
            "Processing Locus ID: PA14_65560\n",
            "Extracted Feature ID for Locus ID PA14_65560: 1661520\n",
            "Processing Locus ID: PA14_65570\n",
            "Extracted Feature ID for Locus ID PA14_65570: 1661522\n",
            "Processing Locus ID: PA14_65605\n",
            "Extracted Feature ID for Locus ID PA14_65605: 1661528\n",
            "Processing Locus ID: PA14_65660\n",
            "Extracted Feature ID for Locus ID PA14_65660: 1661534\n",
            "Processing Locus ID: PA14_65690\n",
            "Extracted Feature ID for Locus ID PA14_65690: 1661538\n",
            "Processing Locus ID: PA14_65740\n",
            "Extracted Feature ID for Locus ID PA14_65740: 1661546\n",
            "Processing Locus ID: PA14_65960\n",
            "Extracted Feature ID for Locus ID PA14_65960: 1661578\n",
            "Processing Locus ID: PA14_66000\n",
            "Extracted Feature ID for Locus ID PA14_66000: 1661584\n",
            "Processing Locus ID: PA14_66010\n",
            "Extracted Feature ID for Locus ID PA14_66010: 1661586\n",
            "Processing Locus ID: PA14_66060\n",
            "Extracted Feature ID for Locus ID PA14_66060: 1661594\n",
            "Processing Locus ID: PA14_66080\n",
            "Extracted Feature ID for Locus ID PA14_66080: 1661596\n",
            "Processing Locus ID: PA14_66090\n",
            "Extracted Feature ID for Locus ID PA14_66090: 1661598\n",
            "Processing Locus ID: PA14_66110\n",
            "Extracted Feature ID for Locus ID PA14_66110: 1661602\n",
            "Processing Locus ID: PA14_66120\n",
            "Extracted Feature ID for Locus ID PA14_66120: 1661604\n",
            "Processing Locus ID: PA14_66160\n",
            "Extracted Feature ID for Locus ID PA14_66160: 1661610\n",
            "Processing Locus ID: PA14_66170\n",
            "Extracted Feature ID for Locus ID PA14_66170: 1661612\n",
            "Processing Locus ID: PA14_66190\n",
            "Extracted Feature ID for Locus ID PA14_66190: 1661614\n",
            "Processing Locus ID: PA14_66210\n",
            "Extracted Feature ID for Locus ID PA14_66210: 1661618\n",
            "Processing Locus ID: PA14_66220\n",
            "Extracted Feature ID for Locus ID PA14_66220: 1661620\n",
            "Processing Locus ID: PA14_66230\n",
            "Extracted Feature ID for Locus ID PA14_66230: 1661622\n",
            "Processing Locus ID: PA14_66240\n",
            "Extracted Feature ID for Locus ID PA14_66240: 1661624\n",
            "Processing Locus ID: PA14_66250\n",
            "Extracted Feature ID for Locus ID PA14_66250: 1661626\n",
            "Processing Locus ID: PA14_66290\n",
            "Extracted Feature ID for Locus ID PA14_66290: 1661632\n",
            "Processing Locus ID: PA14_66310\n",
            "Extracted Feature ID for Locus ID PA14_66310: 1661634\n",
            "Processing Locus ID: PA14_66550\n",
            "Extracted Feature ID for Locus ID PA14_66550: 1661670\n",
            "Processing Locus ID: PA14_66600\n",
            "Extracted Feature ID for Locus ID PA14_66600: 1661678\n",
            "Processing Locus ID: PA14_66610\n",
            "Extracted Feature ID for Locus ID PA14_66610: 1661680\n",
            "Processing Locus ID: PA14_66720\n",
            "Extracted Feature ID for Locus ID PA14_66720: 1661702\n",
            "Processing Locus ID: PA14_66750\n",
            "Extracted Feature ID for Locus ID PA14_66750: 1661704\n",
            "Processing Locus ID: PA14_66760\n",
            "Extracted Feature ID for Locus ID PA14_66760: 1661706\n",
            "Processing Locus ID: PA14_66800\n",
            "Extracted Feature ID for Locus ID PA14_66800: 1661712\n",
            "Processing Locus ID: PA14_66900\n",
            "Extracted Feature ID for Locus ID PA14_66900: 1661728\n",
            "Processing Locus ID: PA14_66910\n",
            "Extracted Feature ID for Locus ID PA14_66910: 1661730\n",
            "Processing Locus ID: PA14_66920\n",
            "Extracted Feature ID for Locus ID PA14_66920: 1661732\n",
            "Processing Locus ID: PA14_66940\n",
            "Extracted Feature ID for Locus ID PA14_66940: 1661734\n",
            "Processing Locus ID: PA14_66950\n",
            "Extracted Feature ID for Locus ID PA14_66950: 1661736\n",
            "Processing Locus ID: PA14_66970\n",
            "Extracted Feature ID for Locus ID PA14_66970: 1661740\n",
            "Processing Locus ID: PA14_66980\n",
            "Extracted Feature ID for Locus ID PA14_66980: 1661742\n",
            "Processing Locus ID: PA14_66990\n",
            "Extracted Feature ID for Locus ID PA14_66990: 1661744\n",
            "Processing Locus ID: PA14_67180\n",
            "Extracted Feature ID for Locus ID PA14_67180: 1661774\n",
            "Processing Locus ID: PA14_67190\n",
            "Extracted Feature ID for Locus ID PA14_67190: 1661776\n",
            "Processing Locus ID: PA14_67200\n",
            "Extracted Feature ID for Locus ID PA14_67200: 1661778\n",
            "Processing Locus ID: PA14_67210\n",
            "Extracted Feature ID for Locus ID PA14_67210: 1661780\n",
            "Processing Locus ID: PA14_67490\n",
            "Extracted Feature ID for Locus ID PA14_67490: 1661824\n",
            "Processing Locus ID: PA14_67600\n",
            "Extracted Feature ID for Locus ID PA14_67600: 1661842\n",
            "Processing Locus ID: PA14_67700\n",
            "Extracted Feature ID for Locus ID PA14_67700: 1661856\n",
            "Processing Locus ID: PA14_67770\n",
            "Extracted Feature ID for Locus ID PA14_67770: 1661866\n",
            "Processing Locus ID: PA14_67880\n",
            "Extracted Feature ID for Locus ID PA14_67880: 1661884\n",
            "Processing Locus ID: PA14_67890\n",
            "Extracted Feature ID for Locus ID PA14_67890: 1661886\n",
            "Processing Locus ID: PA14_67920\n",
            "Extracted Feature ID for Locus ID PA14_67920: 1661890\n",
            "Processing Locus ID: PA14_67930\n",
            "Extracted Feature ID for Locus ID PA14_67930: 1661892\n",
            "Processing Locus ID: PA14_68170\n",
            "Extracted Feature ID for Locus ID PA14_68170: 1661934\n",
            "Processing Locus ID: PA14_68190\n",
            "Extracted Feature ID for Locus ID PA14_68190: 1661936\n",
            "Processing Locus ID: PA14_68200\n",
            "Extracted Feature ID for Locus ID PA14_68200: 1661938\n",
            "Processing Locus ID: PA14_68210\n",
            "Extracted Feature ID for Locus ID PA14_68210: 1661940\n",
            "Processing Locus ID: PA14_68360\n",
            "Extracted Feature ID for Locus ID PA14_68360: 1661960\n",
            "Processing Locus ID: PA14_68670\n",
            "Extracted Feature ID for Locus ID PA14_68670: 1662010\n",
            "Processing Locus ID: PA14_68740\n",
            "Extracted Feature ID for Locus ID PA14_68740: 1662022\n",
            "Processing Locus ID: PA14_68955\n",
            "Extracted Feature ID for Locus ID PA14_68955: 1662056\n",
            "Processing Locus ID: PA14_68980\n",
            "Extracted Feature ID for Locus ID PA14_68980: 1662060\n",
            "Processing Locus ID: PA14_69150\n",
            "Extracted Feature ID for Locus ID PA14_69150: 1662088\n",
            "Processing Locus ID: PA14_69190\n",
            "Extracted Feature ID for Locus ID PA14_69190: 1662092\n",
            "Processing Locus ID: PA14_69200\n",
            "Extracted Feature ID for Locus ID PA14_69200: 1662094\n",
            "Processing Locus ID: PA14_69240\n",
            "Extracted Feature ID for Locus ID PA14_69240: 1662100\n",
            "Processing Locus ID: PA14_69440\n",
            "Extracted Feature ID for Locus ID PA14_69440: 1662134\n",
            "Processing Locus ID: PA14_69450\n",
            "Extracted Feature ID for Locus ID PA14_69450: 1662136\n",
            "Processing Locus ID: PA14_69500\n",
            "Extracted Feature ID for Locus ID PA14_69500: 1662142\n",
            "Processing Locus ID: PA14_69660\n",
            "Extracted Feature ID for Locus ID PA14_69660: 1662170\n",
            "Processing Locus ID: PA14_69670\n",
            "Extracted Feature ID for Locus ID PA14_69670: 1662172\n",
            "Processing Locus ID: PA14_69690\n",
            "Extracted Feature ID for Locus ID PA14_69690: 1662174\n",
            "Processing Locus ID: PA14_69810\n",
            "Extracted Feature ID for Locus ID PA14_69810: 1662194\n",
            "Processing Locus ID: PA14_69910\n",
            "Extracted Feature ID for Locus ID PA14_69910: 1662210\n",
            "Processing Locus ID: PA14_70190\n",
            "Extracted Feature ID for Locus ID PA14_70190: 1662250\n",
            "Processing Locus ID: PA14_70240\n",
            "Extracted Feature ID for Locus ID PA14_70240: 1662258\n",
            "Processing Locus ID: PA14_70260\n",
            "Extracted Feature ID for Locus ID PA14_70260: 1662260\n",
            "Processing Locus ID: PA14_70270\n",
            "Extracted Feature ID for Locus ID PA14_70270: 1662262\n",
            "Processing Locus ID: PA14_70280\n",
            "Extracted Feature ID for Locus ID PA14_70280: 1662264\n",
            "Processing Locus ID: PA14_70370\n",
            "Extracted Feature ID for Locus ID PA14_70370: 1662280\n",
            "Processing Locus ID: PA14_70440\n",
            "Extracted Feature ID for Locus ID PA14_70440: 1662290\n",
            "Processing Locus ID: PA14_70470\n",
            "Extracted Feature ID for Locus ID PA14_70470: 1662294\n",
            "Processing Locus ID: PA14_70480\n",
            "Extracted Feature ID for Locus ID PA14_70480: 1662296\n",
            "Processing Locus ID: PA14_70730\n",
            "Extracted Feature ID for Locus ID PA14_70730: 1662334\n",
            "Processing Locus ID: PA14_70800\n",
            "Extracted Feature ID for Locus ID PA14_70800: 1662348\n",
            "Processing Locus ID: PA14_70810\n",
            "Extracted Feature ID for Locus ID PA14_70810: 1662350\n",
            "Processing Locus ID: PA14_71600\n",
            "Extracted Feature ID for Locus ID PA14_71600: 1662480\n",
            "Processing Locus ID: PA14_71620\n",
            "Extracted Feature ID for Locus ID PA14_71620: 1662482\n",
            "Processing Locus ID: PA14_71720\n",
            "Extracted Feature ID for Locus ID PA14_71720: 1662500\n",
            "Processing Locus ID: PA14_71740\n",
            "Extracted Feature ID for Locus ID PA14_71740: 1662502\n",
            "Processing Locus ID: PA14_71750\n",
            "Extracted Feature ID for Locus ID PA14_71750: 1662504\n",
            "Processing Locus ID: PA14_72460\n",
            "Extracted Feature ID for Locus ID PA14_72460: 1662614\n",
            "Processing Locus ID: PA14_72480\n",
            "Extracted Feature ID for Locus ID PA14_72480: 1662618\n",
            "Processing Locus ID: PA14_72490\n",
            "Extracted Feature ID for Locus ID PA14_72490: 1662620\n",
            "Processing Locus ID: PA14_72510\n",
            "Extracted Feature ID for Locus ID PA14_72510: 1662624\n",
            "Processing Locus ID: PA14_72970\n",
            "Extracted Feature ID for Locus ID PA14_72970: 1662698\n",
            "Processing Locus ID: PA14_73170\n",
            "Extracted Feature ID for Locus ID PA14_73170: 1662734\n",
            "Processing Locus ID: PA14_73220\n",
            "Extracted Feature ID for Locus ID PA14_73220: 1662740\n",
            "Processing Locus ID: PA14_73230\n",
            "Extracted Feature ID for Locus ID PA14_73230: 1662742\n",
            "Processing Locus ID: PA14_73240\n",
            "Extracted Feature ID for Locus ID PA14_73240: 1662744\n",
            "Processing Locus ID: PA14_73250\n",
            "Extracted Feature ID for Locus ID PA14_73250: 1662746\n",
            "Processing Locus ID: PA14_73260\n",
            "Extracted Feature ID for Locus ID PA14_73260: 1662748\n",
            "Processing Locus ID: PA14_73280\n",
            "Extracted Feature ID for Locus ID PA14_73280: 1662750\n",
            "Processing Locus ID: PA14_73290\n",
            "Extracted Feature ID for Locus ID PA14_73290: 1662752\n",
            "Processing Locus ID: PA14_73310\n",
            "Extracted Feature ID for Locus ID PA14_73310: 1662756\n",
            "Processing Locus ID: PA14_73320\n",
            "Extracted Feature ID for Locus ID PA14_73320: 1662758\n",
            "Processing Locus ID: PA14_73370\n",
            "Extracted Feature ID for Locus ID PA14_73370: 1662766\n",
            "Processing Locus ID: PA14_73400\n",
            "Extracted Feature ID for Locus ID PA14_73400: 1662770\n",
            "Processing Locus ID: PA14_73410\n",
            "Extracted Feature ID for Locus ID PA14_73410: 1662772\n",
            "Processing Locus ID: PA14_73420\n",
            "Extracted Feature ID for Locus ID PA14_73420: 1662774\n",
            "Data has been saved to locus_feature_pairs.pkl\n"
          ]
        }
      ]
    },
    {
      "cell_type": "code",
      "source": [
        "with open('locus_feature_pairs.pkl', 'rb') as pkl_file:\n",
        "    locus_feature_pairs = pickle.load(pkl_file)"
      ],
      "metadata": {
        "id": "Bwc3Ce7DJ5KY"
      },
      "execution_count": null,
      "outputs": []
    },
    {
      "cell_type": "code",
      "source": [
        "#just checking to make sure the code is doing what it needs to do\n",
        "print(len(locus_feature_pairs))\n",
        "print(locus_feature_pairs)"
      ],
      "metadata": {
        "colab": {
          "base_uri": "https://localhost:8080/"
        },
        "id": "VZfBiOEyweiU",
        "outputId": "9d4a37f9-392a-4ef1-dcbd-497bd12fd28f"
      },
      "execution_count": null,
      "outputs": [
        {
          "output_type": "stream",
          "name": "stdout",
          "text": [
            "839\n",
            "[('PA14_00010', '1650835'), ('PA14_00020', '1650837'), ('PA14_00030', '1650839'), ('PA14_00050', '1650841'), ('PA14_00060', '1650843'), ('PA14_00070', '1650845'), ('PA14_00090', '1650849'), ('PA14_00100', '1650851'), ('PA14_00120', '1650855'), ('PA14_00190', '1650869'), ('PA14_00200', '1650871'), ('PA14_00240', '1650877'), ('PA14_00280', '1650881'), ('PA14_00290', '1650883'), ('PA14_00440', '1650905'), ('PA14_00450', '1650907'), ('PA14_00800', '1650971'), ('PA14_01130', '1651023'), ('PA14_01510', '1651087'), ('PA14_02620', '1651253'), ('PA14_02690', '1651265'), ('PA14_02900', '1651295'), ('PA14_02970', '1651303'), ('PA14_03163', '1651339'), ('PA14_04110', '1651497'), ('PA14_04140', '1651499'), ('PA14_04310', '1651525'), ('PA14_04380', '1651537'), ('PA14_04460', '1651549'), ('PA14_04480', '1651551'), ('PA14_04580', '1651567'), ('PA14_04630', '1651573'), ('PA14_04750', '1651593'), ('PA14_04760', '1651595'), ('PA14_04900', '1651617'), ('PA14_04930', '1651623'), ('PA14_04980', '1651633'), ('PA14_05070', '1651649'), ('PA14_05080', '1651651'), ('PA14_05150', '1651659'), ('PA14_05250', '1651675'), ('PA14_05260', '1651677'), ('PA14_05280', '1651681'), ('PA14_05460', '1651713'), ('PA14_05550', '1651727'), ('PA14_05590', '1651733'), ('PA14_05620', '1651737'), ('PA14_05775', '1651757'), ('PA14_06500', '1651865'), ('PA14_06510', '1651867'), ('PA14_06530', '1651869'), ('PA14_06540', '1651871'), ('PA14_06570', '1651873'), ('PA14_06600', '1651877'), ('PA14_07090', '1651961'), ('PA14_07130', '1651965'), ('PA14_07170', '1651971'), ('PA14_07190', '1651973'), ('PA14_07230', '1651979'), ('PA14_07520', '1652027'), ('PA14_07530', '1652029'), ('PA14_07560', '1652033'), ('PA14_07570', '1652035'), ('PA14_07590', '1652039'), ('PA14_07600', '1652041'), ('PA14_07620', '1652043'), ('PA14_07700', '1652055'), ('PA14_07740', '1652061'), ('PA14_07760', '1652063'), ('PA14_07770', '1652065'), ('PA14_07910', '1652089'), ('PA14_07940', '1652093'), ('PA14_07960', '1652097'), ('PA14_08340', '1652167'), ('PA14_08350', '1652169'), ('PA14_08360', '1652171'), ('PA14_08400', '1652179'), ('PA14_08470', '1652191'), ('PA14_08480', '1652193'), ('PA14_08510', '1652199'), ('PA14_08620', '1652217'), ('PA14_08630', '1652219'), ('PA14_08695', '1652233'), ('PA14_08710', '1652235'), ('PA14_08720', '1652237'), ('PA14_08730', '1652239'), ('PA14_08740', '1652241'), ('PA14_08750', '1652243'), ('PA14_08760', '1652245'), ('PA14_08780', '1652247'), ('PA14_08790', '1652249'), ('PA14_08810', '1652251'), ('PA14_08820', '1652253'), ('PA14_08840', '1652257'), ('PA14_08850', '1652259'), ('PA14_08860', '1652261'), ('PA14_08870', '1652263'), ('PA14_08880', '1652265'), ('PA14_08890', '1652267'), ('PA14_08900', '1652269'), ('PA14_08910', '1652271'), ('PA14_08920', '1652273'), ('PA14_08930', '1652275'), ('PA14_08940', '1652277'), ('PA14_08950', '1652279'), ('PA14_08960', '1652281'), ('PA14_08970', '1652283'), ('PA14_08980', '1652285'), ('PA14_08990', '1652287'), ('PA14_09000', '1652289'), ('PA14_09010', '1652291'), ('PA14_09020', '1652293'), ('PA14_09030', '1652295'), ('PA14_09040', '1652297'), ('PA14_09050', '1652299'), ('PA14_09080', '1652303'), ('PA14_09090', '1652305'), ('PA14_09100', '1652307'), ('PA14_09115', '1652309'), ('PA14_09130', '1652311'), ('PA14_09200', '1652321'), ('PA14_10360', '1652505'), ('PA14_10400', '1652511'), ('PA14_10410', '1652513'), ('PA14_10420', '1652515'), ('PA14_10530', '1652527'), ('PA14_10570', '1652535'), ('PA14_10590', '1652537'), ('PA14_10800', '1652573'), ('PA14_11090', '1652621'), ('PA14_11120', '1652627'), ('PA14_11260', '1652651'), ('PA14_11380', '1652671'), ('PA14_11400', '1652673'), ('PA14_11410', '1652675'), ('PA14_11430', '1652679'), ('PA14_11450', '1652681'), ('PA14_11460', '1652683'), ('PA14_11510', '1652691'), ('PA14_11550', '1652697'), ('PA14_11560', '1652699'), ('PA14_11570', '1652701'), ('PA14_11580', '1652703'), ('PA14_11690', '1652723'), ('PA14_11845', '1652745'), ('PA14_11860', '1652747'), ('PA14_12010', '1652771'), ('PA14_12060', '1652779'), ('PA14_12070', '1652781'), ('PA14_12090', '1652785'), ('PA14_12120', '1652791'), ('PA14_12130', '1652793'), ('PA14_12200', '1652805'), ('PA14_12210', '1652807'), ('PA14_12230', '1652809'), ('PA14_12280', '1652815'), ('PA14_12310', '1652819'), ('PA14_12390', '1652829'), ('PA14_12400', '1652831'), ('PA14_12410', '1652833'), ('PA14_13810', '1653045'), ('PA14_13950', '1653067'), ('PA14_14440', '1653141'), ('PA14_14500', '1653153'), ('PA14_14510', '1653155'), ('PA14_14630', '1653175'), ('PA14_14650', '1653177'), ('PA14_14680', '1653181'), ('PA14_14700', '1653185'), ('PA14_14730', '1653189'), ('PA14_14740', '1653191'), ('PA14_14750', '1653193'), ('PA14_14770', '1653195'), ('PA14_14780', '1653197'), ('PA14_14800', '1653199'), ('PA14_14820', '1653203'), ('PA14_14860', '1653209'), ('PA14_14880', '1653211'), ('PA14_14890', '1653213'), ('PA14_14930', '1653219'), ('PA14_15030', '1653233'), ('PA14_15050', '1653235'), ('PA14_15110', '1653245'), ('PA14_15310', '1653279'), ('PA14_15340', '1653281'), ('PA14_15430', '1653295'), ('PA14_15460', '1653303'), ('PA14_15470', '1653305'), ('PA14_15490', '1653311'), ('PA14_15580', '1653327'), ('PA14_15590', '1653329'), ('PA14_15600', '1653331'), ('PA14_15680', '1653345'), ('PA14_15740', '1653353'), ('PA14_15960', '1653389'), ('PA14_15970', '1653391'), ('PA14_15980', '1653393'), ('PA14_15990', '1653395'), ('PA14_16000', '1653397'), ('PA14_16020', '1653401'), ('PA14_16070', '1653409'), ('PA14_16090', '1653411'), ('PA14_16150', '1653421'), ('PA14_16380', '1653461'), ('PA14_16480', '1653477'), ('PA14_16510', '1653481'), ('PA14_16530', '1653483'), ('PA14_16600', '1653493'), ('PA14_16700', '1653511'), ('PA14_16710', '1653513'), ('PA14_16950', '1653551'), ('PA14_17040', '1653567'), ('PA14_17060', '1653571'), ('PA14_17070', '1653573'), ('PA14_17080', '1653575'), ('PA14_17100', '1653577'), ('PA14_17110', '1653579'), ('PA14_17120', '1653581'), ('PA14_17130', '1653583'), ('PA14_17150', '1653587'), ('PA14_17180', '1653591'), ('PA14_17190', '1653593'), ('PA14_17210', '1653595'), ('PA14_17220', '1653597'), ('PA14_17260', '1653603'), ('PA14_17270', '1653605'), ('PA14_17280', '1653607'), ('PA14_17290', '1653609'), ('PA14_17310', '1653611'), ('PA14_17320', '1653613'), ('PA14_17330', '1653615'), ('PA14_17340', '1653617'), ('PA14_17420', '1653629'), ('PA14_17490', '1653641'), ('PA14_17530', '1653649'), ('PA14_17540', '1653651'), ('PA14_17670', '1653675'), ('PA14_17900', '1653709'), ('PA14_17930', '1653715'), ('PA14_18100', '1653741'), ('PA14_18320', '1653771'), ('PA14_18500', '1653795'), ('PA14_18610', '1653811'), ('PA14_18700', '1653829'), ('PA14_18710', '1653831'), ('PA14_18740', '1653835'), ('PA14_18750', '1653837'), ('PA14_19050', '1653885'), ('PA14_19065', '1653887'), ('PA14_19090', '1653889'), ('PA14_19850', '1654009'), ('PA14_20010', '1654035'), ('PA14_20140', '1654059'), ('PA14_20400', '1654101'), ('PA14_20520', '1654123'), ('PA14_20530', '1654125'), ('PA14_21470', '1654279'), ('PA14_21480', '1654281'), ('PA14_21490', '1654283'), ('PA14_22010', '1654381'), ('PA14_22020', '1654383'), ('PA14_22040', '1654385'), ('PA14_22050', '1654387'), ('PA14_22100', '1654397'), ('PA14_22110', '1654399'), ('PA14_22120', '1654401'), ('PA14_22130', '1654403'), ('PA14_22140', '1654405'), ('PA14_22160', '1654407'), ('PA14_22180', '1654409'), ('PA14_22220', '1654415'), ('PA14_22230', '1654417'), ('PA14_22240', '1654419'), ('PA14_22250', '1654421'), ('PA14_22260', '1654423'), ('PA14_22270', '1654425'), ('PA14_22910', '1654533'), ('PA14_23070', '1654555'), ('PA14_23080', '1654557'), ('PA14_23090', '1654559'), ('PA14_23220', '1654579'), ('PA14_23260', '1654585'), ('PA14_23270', '1654587'), ('PA14_23280', '1654589'), ('PA14_23290', '1654591'), ('PA14_23310', '1654593'), ('PA14_23320', '1654595'), ('PA14_23330', '1654597'), ('PA14_23360', '1654603'), ('PA14_23370', '1654605'), ('PA14_23380', '1654607'), ('PA14_23390', '1654609'), ('PA14_23400', '1654611'), ('PA14_23410', '1654613'), ('PA14_23420', '1654615'), ('PA14_23430', '1654617'), ('PA14_23440', '1654619'), ('PA14_23450', '1654621'), ('PA14_23460', '1654623'), ('PA14_23500', '1654631'), ('PA14_23560', '1654641'), ('PA14_23750', '1654671'), ('PA14_23760', '1654673'), ('PA14_23790', '1654677'), ('PA14_23800', '1654679'), ('PA14_23850', '1654687'), ('PA14_23860', '1654689'), ('PA14_23880', '1654691'), ('PA14_23920', '1654697'), ('PA14_23930', '1654699'), ('PA14_24220', '1654743'), ('PA14_24370', '1654769'), ('PA14_24640', '1654815'), ('PA14_24710', '1654827'), ('PA14_25050', '1654887'), ('PA14_25080', '1654891'), ('PA14_25090', '1654893'), ('PA14_25110', '1654897'), ('PA14_25250', '1654917'), ('PA14_25390', '1654937'), ('PA14_25430', '1654945'), ('PA14_25440', '1654947'), ('PA14_25450', '1654949'), ('PA14_25500', '1654957'), ('PA14_25510', '1654959'), ('PA14_25520', '1654961'), ('PA14_25530', '1654963'), ('PA14_25550', '1654967'), ('PA14_25560', '1654969'), ('PA14_25650', '1654985'), ('PA14_25660', '1654987'), ('PA14_25690', '1654991'), ('PA14_25710', '1654993'), ('PA14_25740', '1654997'), ('PA14_25760', '1654999'), ('PA14_25840', '1655015'), ('PA14_25860', '1655017'), ('PA14_25880', '1655019'), ('PA14_25900', '1655021'), ('PA14_26000', '1655039'), ('PA14_26300', '1655085'), ('PA14_26590', '1655129'), ('PA14_26890', '1655171'), ('PA14_27200', '1655219'), ('PA14_27210', '1655221'), ('PA14_27220', '1655223'), ('PA14_27940', '1655345'), ('PA14_27950', '1655347'), ('PA14_27990', '1655353'), ('PA14_28200', '1655393'), ('PA14_28650', '1655475'), ('PA14_28660', '1655477'), ('PA14_28680', '1655481'), ('PA14_28690', '1655483'), ('PA14_28710', '1655485'), ('PA14_28770', '1655497'), ('PA14_28780', '1655499'), ('PA14_29260', '1655585'), ('PA14_29440', '1655614'), ('PA14_29860', '1655680'), ('PA14_29880', '1655682'), ('PA14_29900', '1655686'), ('PA14_30110', '1655718'), ('PA14_30150', '1655724'), ('PA14_30240', '1655738'), ('PA14_30290', '1655746'), ('PA14_30310', '1655748'), ('PA14_30330', '1655752'), ('PA14_30340', '1655754'), ('PA14_30370', '1655760'), ('PA14_30380', '1655762'), ('PA14_30390', '1655764'), ('PA14_30400', '1655766'), ('PA14_30670', '1655810'), ('PA14_30910', '1655856'), ('PA14_30940', '1655860'), ('PA14_31250', '1655914'), ('PA14_31290', '1655922'), ('PA14_31390', '1655940'), ('PA14_31580', '1655968'), ('PA14_32130', '1656040'), ('PA14_32220', '1656052'), ('PA14_32380', '1656080'), ('PA14_32420', '1656088'), ('PA14_32790', '1656146'), ('PA14_32810', '1656148'), ('PA14_32820', '1656150'), ('PA14_32830', '1656152'), ('PA14_33060', '1656186'), ('PA14_33270', '1656218'), ('PA14_33500', '1656256'), ('PA14_33530', '1656262'), ('PA14_33590', '1656274'), ('PA14_33600', '1656276'), ('PA14_33630', '1656280'), ('PA14_33650', '1656282'), ('PA14_33680', '1656284'), ('PA14_33690', '1656286'), ('PA14_33710', '1656290'), ('PA14_33730', '1656294'), ('PA14_33750', '1656298'), ('PA14_33760', '1656300'), ('PA14_33920', '1656328'), ('PA14_33960', '1656334'), ('PA14_34000', '1656342'), ('PA14_34020', '1656346'), ('PA14_34150', '1656364'), ('PA14_34190', '1656370'), ('PA14_34200', '1656372'), ('PA14_34290', '1656386'), ('PA14_34320', '1656390'), ('PA14_34350', '1656396'), ('PA14_34410', '1656404'), ('PA14_34500', '1656416'), ('PA14_34550', '1656424'), ('PA14_34600', '1656428'), ('PA14_35170', '1656522'), ('PA14_35700', '1656600'), ('PA14_35760', '1656612'), ('PA14_35770', '1656614'), ('PA14_35780', '1656616'), ('PA14_35790', '1656618'), ('PA14_35850', '1656630'), ('PA14_36050', '1656662'), ('PA14_36730', '1656778'), ('PA14_36780', '1656786'), ('PA14_37010', '1656826'), ('PA14_37250', '1656860'), ('PA14_37340', '1656872'), ('PA14_37470', '1656894'), ('PA14_37650', '1656920'), ('PA14_37830', '1656948'), ('PA14_38180', '1657000'), ('PA14_38190', '1657002'), ('PA14_38350', '1657028'), ('PA14_38395', '1657036'), ('PA14_38410', '1657038'), ('PA14_38550', '1657060'), ('PA14_38910', '1657116'), ('PA14_39470', '1657198'), ('PA14_39480', '1657200'), ('PA14_39640', '1657224'), ('PA14_39860', '1657260'), ('PA14_39910', '1657268'), ('PA14_39980', '1657278'), ('PA14_40040', '1657288'), ('PA14_40240', '1657322'), ('PA14_40260', '1657326'), ('PA14_40300', '1657334'), ('PA14_40310', '1657336'), ('PA14_40630', '1657384'), ('PA14_41050', '1657450'), ('PA14_41060', '1657452'), ('PA14_41230', '1657480'), ('PA14_41240', '1657482'), ('PA14_41350', '1657502'), ('PA14_41360', '1657504'), ('PA14_41380', '1657506'), ('PA14_41400', '1657510'), ('PA14_41470', '1657520'), ('PA14_41570', '1657540'), ('PA14_41575', '1657542'), ('PA14_41730', '1657562'), ('PA14_41840', '1657582'), ('PA14_41870', '1657586'), ('PA14_42260', '1657646'), ('PA14_42570', '1657700'), ('PA14_42720', '1657726'), ('PA14_42760', '1657734'), ('PA14_42850', '1657748'), ('PA14_43240', '1657816'), ('PA14_43440', '1657848'), ('PA14_43680', '1657886'), ('PA14_43690', '1657888'), ('PA14_43940', '1657928'), ('PA14_43950', '1657930'), ('PA14_43970', '1657932'), ('PA14_44000', '1657934'), ('PA14_44010', '1657936'), ('PA14_44020', '1657938'), ('PA14_44030', '1657940'), ('PA14_44050', '1657942'), ('PA14_44060', '1657944'), ('PA14_44070', '1657946'), ('PA14_44370', '1658000'), ('PA14_44380', '1658002'), ('PA14_44400', '1658006'), ('PA14_44440', '1658012'), ('PA14_44460', '1658016'), ('PA14_44630', '1658046'), ('PA14_44660', '1658052'), ('PA14_44670', '1658054'), ('PA14_44780', '1658070'), ('PA14_44910', '1658090'), ('PA14_44920', '1658092'), ('PA14_45280', '1658146'), ('PA14_45290', '1658148'), ('PA14_45300', '1658150'), ('PA14_45310', '1658152'), ('PA14_45340', '1658156'), ('PA14_45350', '1658158'), ('PA14_45370', '1658160'), ('PA14_45640', '1658200'), ('PA14_46020', '1658258'), ('PA14_46460', '1658330'), ('PA14_46470', '1658332'), ('PA14_46550', '1658346'), ('PA14_46840', '1658398'), ('PA14_48530', '1658662'), ('PA14_48980', '1658742'), ('PA14_49020', '1658750'), ('PA14_49030', '1658752'), ('PA14_49340', '1658806'), ('PA14_49380', '1658812'), ('PA14_49460', '1658824'), ('PA14_49470', '1658826'), ('PA14_49480', '1658828'), ('PA14_49510', '1658832'), ('PA14_49520', '1658834'), ('PA14_49730', '1658870'), ('PA14_50610', '1659010'), ('PA14_50800', '1659046'), ('PA14_50870', '1659060'), ('PA14_51240', '1659122'), ('PA14_51270', '1659128'), ('PA14_51310', '1659136'), ('PA14_51320', '1659138'), ('PA14_51460', '1659162'), ('PA14_51480', '1659166'), ('PA14_51590', '1659188'), ('PA14_51600', '1659190'), ('PA14_51610', '1659192'), ('PA14_51690', '1659208'), ('PA14_51710', '1659210'), ('PA14_51720', '1659212'), ('PA14_51730', '1659214'), ('PA14_51740', '1659216'), ('PA14_51750', '1659218'), ('PA14_51790', '1659224'), ('PA14_51820', '1659230'), ('PA14_51900', '1659244'), ('PA14_52010', '1659264'), ('PA14_52040', '1659268'), ('PA14_52050', '1659270'), ('PA14_52120', '1659282'), ('PA14_52530', '1659350'), ('PA14_52580', '1659360'), ('PA14_52600', '1659362'), ('PA14_52700', '1659376'), ('PA14_52850', '1659402'), ('PA14_53580', '1659522'), ('PA14_53590', '1659524'), ('PA14_53600', '1659526'), ('PA14_53610', '1659528'), ('PA14_53620', '1659530'), ('PA14_54290', '1659638'), ('PA14_54320', '1659642'), ('PA14_54330', '1659644'), ('PA14_54350', '1659648'), ('PA14_54390', '1659652'), ('PA14_54420', '1659658'), ('PA14_54480', '1659668'), ('PA14_54550', '1659680'), ('PA14_55040', '1659768'), ('PA14_55230', '1659802'), ('PA14_55340', '1659820'), ('PA14_55390', '1659826'), ('PA14_55410', '1659830'), ('PA14_55450', '1659836'), ('PA14_55520', '1659850'), ('PA14_55530', '1659852'), ('PA14_55660', '1659884'), ('PA14_55670', '1659886'), ('PA14_55690', '1659888'), ('PA14_55770', '1659902'), ('PA14_55800', '1659908'), ('PA14_56300', '1659984'), ('PA14_56780', '1660050'), ('PA14_57010', '1660090'), ('PA14_57020', '1660092'), ('PA14_57030', '1660094'), ('PA14_57170', '1660116'), ('PA14_57190', '1660120'), ('PA14_57220', '1660126'), ('PA14_57250', '1660130'), ('PA14_57260', '1660132'), ('PA14_57275', '1660134'), ('PA14_57290', '1660136'), ('PA14_57300', '1660138'), ('PA14_57320', '1660140'), ('PA14_57330', '1660142'), ('PA14_57340', '1660144'), ('PA14_57360', '1660146'), ('PA14_57370', '1660148'), ('PA14_57380', '1660150'), ('PA14_57390', '1660152'), ('PA14_57410', '1660154'), ('PA14_57425', '1660156'), ('PA14_57440', '1660158'), ('PA14_57450', '1660160'), ('PA14_57460', '1660162'), ('PA14_57500', '1660170'), ('PA14_57540', '1660178'), ('PA14_57560', '1660180'), ('PA14_57570', '1660182'), ('PA14_57580', '1660184'), ('PA14_57590', '1660186'), ('PA14_57670', '1660197'), ('PA14_57770', '1660213'), ('PA14_57780', '1660215'), ('PA14_57800', '1660217'), ('PA14_57810', '1660219'), ('PA14_57890', '1660233'), ('PA14_57910', '1660237'), ('PA14_57920', '1660239'), ('PA14_57930', '1660241'), ('PA14_57940', '1660243'), ('PA14_57960', '1660247'), ('PA14_58120', '1660277'), ('PA14_58130', '1660279'), ('PA14_58150', '1660281'), ('PA14_58170', '1660283'), ('PA14_58180', '1660285'), ('PA14_58190', '1660287'), ('PA14_58700', '1660367'), ('PA14_58720', '1660371'), ('PA14_58730', '1660373'), ('PA14_58760', '1660379'), ('PA14_58780', '1660383'), ('PA14_58920', '1660411'), ('PA14_58950', '1660417'), ('PA14_58970', '1660421'), ('PA14_58990', '1660425'), ('PA14_59120', '1660447'), ('PA14_59190', '1660461'), ('PA14_59220', '1660467'), ('PA14_59230', '1660469'), ('PA14_59440', '1660503'), ('PA14_59550', '1660521'), ('PA14_59560', '1660523'), ('PA14_59590', '1660529'), ('PA14_59610', '1660533'), ('PA14_59620', '1660535'), ('PA14_59630', '1660537'), ('PA14_59840', '1660574'), ('PA14_59845', '1660576'), ('PA14_59850', '1660578'), ('PA14_60090', '1660626'), ('PA14_60100', '1660628'), ('PA14_60230', '1660650'), ('PA14_60320', '1660668'), ('PA14_60330', '1660670'), ('PA14_60360', '1660674'), ('PA14_60370', '1660676'), ('PA14_60380', '1660678'), ('PA14_60390', '1660680'), ('PA14_60400', '1660682'), ('PA14_60420', '1660686'), ('PA14_60445', '1660688'), ('PA14_60450', '1660690'), ('PA14_60460', '1660692'), ('PA14_60470', '1660694'), ('PA14_60860', '1660758'), ('PA14_60890', '1660762'), ('PA14_61360', '1660836'), ('PA14_61400', '1660844'), ('PA14_61580', '1660874'), ('PA14_61660', '1660888'), ('PA14_61670', '1660890'), ('PA14_61700', '1660894'), ('PA14_61710', '1660896'), ('PA14_61720', '1660898'), ('PA14_61740', '1660900'), ('PA14_61750', '1660902'), ('PA14_61770', '1660906'), ('PA14_61790', '1660910'), ('PA14_61840', '1660916'), ('PA14_61890', '1660926'), ('PA14_62120', '1660966'), ('PA14_62130', '1660968'), ('PA14_62150', '1660970'), ('PA14_62160', '1660972'), ('PA14_62530', '1661032'), ('PA14_62540', '1661034'), ('PA14_62570', '1661038'), ('PA14_62580', '1661040'), ('PA14_62590', '1661042'), ('PA14_62620', '1661046'), ('PA14_62710', '1661062'), ('PA14_62720', '1661064'), ('PA14_62760', '1661070'), ('PA14_62770', '1661072'), ('PA14_62780', '1661074'), ('PA14_62810', '1661080'), ('PA14_62830', '1661082'), ('PA14_62840', '1661084'), ('PA14_62850', '1661086'), ('PA14_62860', '1661088'), ('PA14_62870', '1661090'), ('PA14_62880', '1661092'), ('PA14_62910', '1661098'), ('PA14_62930', '1661102'), ('PA14_62940', '1661104'), ('PA14_62960', '1661106'), ('PA14_62970', '1661108'), ('PA14_62990', '1661110'), ('PA14_63020', '1661114'), ('PA14_63030', '1661116'), ('PA14_63050', '1661120'), ('PA14_64090', '1661284'), ('PA14_64100', '1661286'), ('PA14_64110', '1661288'), ('PA14_64190', '1661298'), ('PA14_64200', '1661300'), ('PA14_64220', '1661302'), ('PA14_64230', '1661304'), ('PA14_64950', '1661432'), ('PA14_64980', '1661436'), ('PA14_65110', '1661456'), ('PA14_65130', '1661458'), ('PA14_65170', '1661464'), ('PA14_65180', '1661466'), ('PA14_65230', '1661476'), ('PA14_65250', '1661478'), ('PA14_65270', '1661482'), ('PA14_65280', '1661484'), ('PA14_65310', '1661488'), ('PA14_65370', '1661494'), ('PA14_65380', '1661496'), ('PA14_65410', '1661502'), ('PA14_65500', '1661514'), ('PA14_65560', '1661520'), ('PA14_65570', '1661522'), ('PA14_65605', '1661528'), ('PA14_65660', '1661534'), ('PA14_65690', '1661538'), ('PA14_65740', '1661546'), ('PA14_65960', '1661578'), ('PA14_66000', '1661584'), ('PA14_66010', '1661586'), ('PA14_66060', '1661594'), ('PA14_66080', '1661596'), ('PA14_66090', '1661598'), ('PA14_66110', '1661602'), ('PA14_66120', '1661604'), ('PA14_66160', '1661610'), ('PA14_66170', '1661612'), ('PA14_66190', '1661614'), ('PA14_66210', '1661618'), ('PA14_66220', '1661620'), ('PA14_66230', '1661622'), ('PA14_66240', '1661624'), ('PA14_66250', '1661626'), ('PA14_66290', '1661632'), ('PA14_66310', '1661634'), ('PA14_66550', '1661670'), ('PA14_66600', '1661678'), ('PA14_66610', '1661680'), ('PA14_66720', '1661702'), ('PA14_66750', '1661704'), ('PA14_66760', '1661706'), ('PA14_66800', '1661712'), ('PA14_66900', '1661728'), ('PA14_66910', '1661730'), ('PA14_66920', '1661732'), ('PA14_66940', '1661734'), ('PA14_66950', '1661736'), ('PA14_66970', '1661740'), ('PA14_66980', '1661742'), ('PA14_66990', '1661744'), ('PA14_67180', '1661774'), ('PA14_67190', '1661776'), ('PA14_67200', '1661778'), ('PA14_67210', '1661780'), ('PA14_67490', '1661824'), ('PA14_67600', '1661842'), ('PA14_67700', '1661856'), ('PA14_67770', '1661866'), ('PA14_67880', '1661884'), ('PA14_67890', '1661886'), ('PA14_67920', '1661890'), ('PA14_67930', '1661892'), ('PA14_68170', '1661934'), ('PA14_68190', '1661936'), ('PA14_68200', '1661938'), ('PA14_68210', '1661940'), ('PA14_68360', '1661960'), ('PA14_68670', '1662010'), ('PA14_68740', '1662022'), ('PA14_68955', '1662056'), ('PA14_68980', '1662060'), ('PA14_69150', '1662088'), ('PA14_69190', '1662092'), ('PA14_69200', '1662094'), ('PA14_69240', '1662100'), ('PA14_69440', '1662134'), ('PA14_69450', '1662136'), ('PA14_69500', '1662142'), ('PA14_69660', '1662170'), ('PA14_69670', '1662172'), ('PA14_69690', '1662174'), ('PA14_69810', '1662194'), ('PA14_69910', '1662210'), ('PA14_70190', '1662250'), ('PA14_70240', '1662258'), ('PA14_70260', '1662260'), ('PA14_70270', '1662262'), ('PA14_70280', '1662264'), ('PA14_70370', '1662280'), ('PA14_70440', '1662290'), ('PA14_70470', '1662294'), ('PA14_70480', '1662296'), ('PA14_70730', '1662334'), ('PA14_70800', '1662348'), ('PA14_70810', '1662350'), ('PA14_71600', '1662480'), ('PA14_71620', '1662482'), ('PA14_71720', '1662500'), ('PA14_71740', '1662502'), ('PA14_71750', '1662504'), ('PA14_72460', '1662614'), ('PA14_72480', '1662618'), ('PA14_72490', '1662620'), ('PA14_72510', '1662624'), ('PA14_72970', '1662698'), ('PA14_73170', '1662734'), ('PA14_73220', '1662740'), ('PA14_73230', '1662742'), ('PA14_73240', '1662744'), ('PA14_73250', '1662746'), ('PA14_73260', '1662748'), ('PA14_73280', '1662750'), ('PA14_73290', '1662752'), ('PA14_73310', '1662756'), ('PA14_73320', '1662758'), ('PA14_73370', '1662766'), ('PA14_73400', '1662770'), ('PA14_73410', '1662772'), ('PA14_73420', '1662774')]\n"
          ]
        }
      ]
    },
    {
      "cell_type": "code",
      "source": [
        "new_locus_feature_pairs= (locus_feature_pairs[:5])"
      ],
      "metadata": {
        "id": "MPknyNjQuq8F"
      },
      "execution_count": null,
      "outputs": []
    },
    {
      "cell_type": "code",
      "source": [
        "# Define the base URL\n",
        "base_url = \"https://pseudomonas.com/feature/show/?id=\"\n",
        "\n",
        "# Define the function for fetching the HTML content using urllib\n",
        "def fetch_html(feature_id):\n",
        "    url = f\"{base_url}{feature_id}&view=sequence\"\n",
        "    fp = urllib.request.urlopen(url)\n",
        "    mybytes = fp.read()\n",
        "    html_content = mybytes.decode(\"utf8\")\n",
        "    fp.close()\n",
        "    return html_content\n",
        "\n",
        "# Extract the promoter, CDS sequences, and gene name using urllib and split logic\n",
        "def extract_promoter_cds_gene_sequences(html_content):\n",
        "    \"\"\"Extract the promoter, CDS sequences, and gene name using split logic.\"\"\"\n",
        "\n",
        "    # Extract DNA sequence upstream of the gene (Promoter)\n",
        "    try:\n",
        "        promoter_sequence = html_content.split('DNA Sequence Upstream of \\n\\t\\t\\t\\t\\t Gene\\n\\t\\t\\t\\t\\t \\n\\n\\t\\t\\t\\t\\t</td>\\n\\t\\t\\t\\t\\t<td style=\"padding: 10px;\">\\n\\t\\t\\t\\t\\t\\t<div style=\"font-family: Courier;\">\\n\\t\\t\\t\\t\\t\\t\\t')[1].split(' \\n\\t')[0].split('\\n\\t')[0]\n",
        "    except IndexError:\n",
        "        promoter_sequence = None  # Handle if the split doesn't find the upstream sequence\n",
        "\n",
        "    # Extract DNA sequence for the gene (CDS)\n",
        "    try:\n",
        "        cds_sequence = html_content.split('DNA Sequence for \\n\\t\\t\\t\\t\\t Gene\\n\\t\\t\\t\\t\\t \\n\\n\\t\\t\\t\\t\\t</td>\\n\\t\\t\\t\\t\\t<td style=\"padding: 10px;\">\\n\\t\\t\\t\\t\\t\\t<div style=\"font-family: Courier;\">\\n\\t\\t\\t\\t\\t\\t\\t>')[1].split('<BR>\\n\\t\\t\\t\\t\\t\\t\\t')[1].split(' \\n\\t')[0].split('\\n\\t')[0]\n",
        "    except IndexError:\n",
        "        cds_sequence = None  # Handle if the split doesn't find the gene sequence\n",
        "\n",
        "    # Extract the Gene Name from the text in the h3 tag (similar to how \"dnaA\" was found in the image)\n",
        "    try:\n",
        "        gene_name = html_content.split('<h3>')[1].split('(')[1].split(')')[0]\n",
        "    except IndexError:\n",
        "        gene_name = None  # Handle if the gene name can't be found\n",
        "\n",
        "    return promoter_sequence, cds_sequence, gene_name\n",
        "\n",
        "# Combine promoter, CDS sequences, and extract gene name\n",
        "def combine_promoter_cds(html_content):\n",
        "    \"\"\"\n",
        "    Extract promoter, CDS sequences, and gene name, then combine promoter and CDS sequences.\n",
        "    Returns:\n",
        "        - gene_name: The extracted gene name\n",
        "        - promoter_sequence: The extracted promoter sequence\n",
        "        - cds_sequence: The extracted CDS sequence\n",
        "        - length_cds: The length of the CDS sequence\n",
        "        - promoter_cds_sequence: The combined promoter + CDS sequence\n",
        "        - length_promoter_cds: The length of the combined sequence\n",
        "    \"\"\"\n",
        "    # Extract promoter, CDS sequences, and gene name\n",
        "    promoter_sequence, cds_sequence, gene_name = extract_promoter_cds_gene_sequences(html_content)\n",
        "\n",
        "    # Combine promoter and CDS sequences\n",
        "    promoter_cds_sequence = (promoter_sequence if promoter_sequence else '') + (cds_sequence if cds_sequence else '')\n",
        "\n",
        "    # Calculate the length of the CDS sequence\n",
        "    length_cds = len(cds_sequence) if cds_sequence else 0\n",
        "\n",
        "    # Calculate the length of the combined sequence (promoter + CDS)\n",
        "    length_promoter_cds = len(promoter_cds_sequence)\n",
        "\n",
        "    return gene_name, promoter_sequence, cds_sequence, length_cds, promoter_cds_sequence, length_promoter_cds\n",
        "\n",
        "# Create a DataFrame to store the results\n",
        "data = []\n",
        "for index, (locus_id, feature_id) in tqdm(enumerate(locus_feature_pairs)):\n",
        "    print(f\"Processing Locus ID: {locus_id}, Feature ID: {feature_id}\")\n",
        "    html_content = fetch_html(feature_id)\n",
        "    if html_content:\n",
        "        gene_name, promoter_sequence, cds_sequence, length_cds, promoter_cds_sequence, length_promoter_cds = combine_promoter_cds(html_content)\n",
        "        data.append({\n",
        "            'Index': index,\n",
        "            'Locus ID': locus_id,\n",
        "            'Gene Name': gene_name,\n",
        "            'CDS': cds_sequence,\n",
        "            'Length': length_cds,  # CDS length specifically\n",
        "            'Promoter': promoter_sequence,\n",
        "            'Promoter_CDS': promoter_cds_sequence,\n",
        "            'Length_Promoter_CDS': length_promoter_cds\n",
        "        })\n",
        "    else:\n",
        "        data.append({\n",
        "            'Index': index,\n",
        "            'Locus ID': locus_id,\n",
        "            'Gene Name': None,\n",
        "            'CDS': None,\n",
        "            'Length': None,\n",
        "            'Promoter': None,\n",
        "            'Promoter_CDS': None,\n",
        "            'Length_Promoter_CDS': None\n",
        "        })\n",
        "\n",
        "# Convert to DataFrame\n",
        "df = pd.DataFrame(data)\n",
        "\n",
        "# Save DataFrame to a .pkl file\n",
        "with open('gene_information.pkl', 'wb') as pkl_file:\n",
        "    pickle.dump(df, pkl_file)\n",
        "\n",
        "print(\"Data has been saved to gene_information.pkl\")"
      ],
      "metadata": {
        "colab": {
          "base_uri": "https://localhost:8080/"
        },
        "collapsed": true,
        "id": "sa32ykHn0qt5",
        "outputId": "d1d8988c-4c9b-40bb-f4b0-519aab4ff52b"
      },
      "execution_count": null,
      "outputs": [
        {
          "metadata": {
            "tags": null
          },
          "name": "stderr",
          "output_type": "stream",
          "text": [
            "\r0it [00:00, ?it/s]"
          ]
        },
        {
          "metadata": {
            "tags": null
          },
          "name": "stdout",
          "output_type": "stream",
          "text": [
            "Processing Locus ID: PA14_00010, Feature ID: 1650835\n"
          ]
        },
        {
          "metadata": {
            "tags": null
          },
          "name": "stderr",
          "output_type": "stream",
          "text": [
            "\r1it [00:01,  1.48s/it]"
          ]
        },
        {
          "metadata": {
            "tags": null
          },
          "name": "stdout",
          "output_type": "stream",
          "text": [
            "Processing Locus ID: PA14_00020, Feature ID: 1650837\n"
          ]
        },
        {
          "metadata": {
            "tags": null
          },
          "name": "stderr",
          "output_type": "stream",
          "text": [
            "\r2it [00:02,  1.48s/it]"
          ]
        },
        {
          "metadata": {
            "tags": null
          },
          "name": "stdout",
          "output_type": "stream",
          "text": [
            "Processing Locus ID: PA14_00030, Feature ID: 1650839\n"
          ]
        },
        {
          "metadata": {
            "tags": null
          },
          "name": "stderr",
          "output_type": "stream",
          "text": [
            "\r3it [00:04,  1.58s/it]"
          ]
        },
        {
          "metadata": {
            "tags": null
          },
          "name": "stdout",
          "output_type": "stream",
          "text": [
            "Processing Locus ID: PA14_00050, Feature ID: 1650841\n"
          ]
        },
        {
          "metadata": {
            "tags": null
          },
          "name": "stderr",
          "output_type": "stream",
          "text": [
            "\r4it [00:06,  1.54s/it]"
          ]
        },
        {
          "metadata": {
            "tags": null
          },
          "name": "stdout",
          "output_type": "stream",
          "text": [
            "Processing Locus ID: PA14_00060, Feature ID: 1650843\n"
          ]
        },
        {
          "metadata": {
            "tags": null
          },
          "name": "stderr",
          "output_type": "stream",
          "text": [
            "\r5it [00:07,  1.51s/it]"
          ]
        },
        {
          "metadata": {
            "tags": null
          },
          "name": "stdout",
          "output_type": "stream",
          "text": [
            "Processing Locus ID: PA14_00070, Feature ID: 1650845\n"
          ]
        },
        {
          "metadata": {
            "tags": null
          },
          "name": "stderr",
          "output_type": "stream",
          "text": [
            "\r6it [00:09,  1.65s/it]"
          ]
        },
        {
          "metadata": {
            "tags": null
          },
          "name": "stdout",
          "output_type": "stream",
          "text": [
            "Processing Locus ID: PA14_00090, Feature ID: 1650849\n"
          ]
        },
        {
          "metadata": {
            "tags": null
          },
          "name": "stderr",
          "output_type": "stream",
          "text": [
            "\r7it [00:11,  1.60s/it]"
          ]
        },
        {
          "metadata": {
            "tags": null
          },
          "name": "stdout",
          "output_type": "stream",
          "text": [
            "Processing Locus ID: PA14_00100, Feature ID: 1650851\n"
          ]
        },
        {
          "metadata": {
            "tags": null
          },
          "name": "stderr",
          "output_type": "stream",
          "text": [
            "\r8it [00:12,  1.61s/it]"
          ]
        },
        {
          "metadata": {
            "tags": null
          },
          "name": "stdout",
          "output_type": "stream",
          "text": [
            "Processing Locus ID: PA14_00120, Feature ID: 1650855\n"
          ]
        },
        {
          "metadata": {
            "tags": null
          },
          "name": "stderr",
          "output_type": "stream",
          "text": [
            "\r9it [00:14,  1.57s/it]"
          ]
        },
        {
          "metadata": {
            "tags": null
          },
          "name": "stdout",
          "output_type": "stream",
          "text": [
            "Processing Locus ID: PA14_00190, Feature ID: 1650869\n"
          ]
        },
        {
          "metadata": {
            "tags": null
          },
          "name": "stderr",
          "output_type": "stream",
          "text": [
            "\r10it [00:15,  1.54s/it]"
          ]
        },
        {
          "metadata": {
            "tags": null
          },
          "name": "stdout",
          "output_type": "stream",
          "text": [
            "Processing Locus ID: PA14_00200, Feature ID: 1650871\n"
          ]
        },
        {
          "metadata": {
            "tags": null
          },
          "name": "stderr",
          "output_type": "stream",
          "text": [
            "\r11it [00:17,  1.52s/it]"
          ]
        },
        {
          "metadata": {
            "tags": null
          },
          "name": "stdout",
          "output_type": "stream",
          "text": [
            "Processing Locus ID: PA14_00240, Feature ID: 1650877\n"
          ]
        },
        {
          "metadata": {
            "tags": null
          },
          "name": "stderr",
          "output_type": "stream",
          "text": [
            "\r12it [00:18,  1.56s/it]"
          ]
        },
        {
          "metadata": {
            "tags": null
          },
          "name": "stdout",
          "output_type": "stream",
          "text": [
            "Processing Locus ID: PA14_00280, Feature ID: 1650881\n"
          ]
        },
        {
          "metadata": {
            "tags": null
          },
          "name": "stderr",
          "output_type": "stream",
          "text": [
            "\r13it [00:20,  1.54s/it]"
          ]
        },
        {
          "metadata": {
            "tags": null
          },
          "name": "stdout",
          "output_type": "stream",
          "text": [
            "Processing Locus ID: PA14_00290, Feature ID: 1650883\n"
          ]
        },
        {
          "metadata": {
            "tags": null
          },
          "name": "stderr",
          "output_type": "stream",
          "text": [
            "\r14it [00:22,  1.63s/it]"
          ]
        },
        {
          "metadata": {
            "tags": null
          },
          "name": "stdout",
          "output_type": "stream",
          "text": [
            "Processing Locus ID: PA14_00440, Feature ID: 1650905\n"
          ]
        },
        {
          "metadata": {
            "tags": null
          },
          "name": "stderr",
          "output_type": "stream",
          "text": [
            "\r15it [00:23,  1.61s/it]"
          ]
        },
        {
          "metadata": {
            "tags": null
          },
          "name": "stdout",
          "output_type": "stream",
          "text": [
            "Processing Locus ID: PA14_00450, Feature ID: 1650907\n"
          ]
        },
        {
          "metadata": {
            "tags": null
          },
          "name": "stderr",
          "output_type": "stream",
          "text": [
            "\r16it [00:25,  1.58s/it]"
          ]
        },
        {
          "metadata": {
            "tags": null
          },
          "name": "stdout",
          "output_type": "stream",
          "text": [
            "Processing Locus ID: PA14_00800, Feature ID: 1650971\n"
          ]
        },
        {
          "metadata": {
            "tags": null
          },
          "name": "stderr",
          "output_type": "stream",
          "text": [
            "\r17it [00:26,  1.61s/it]"
          ]
        },
        {
          "metadata": {
            "tags": null
          },
          "name": "stdout",
          "output_type": "stream",
          "text": [
            "Processing Locus ID: PA14_01130, Feature ID: 1651023\n"
          ]
        },
        {
          "metadata": {
            "tags": null
          },
          "name": "stderr",
          "output_type": "stream",
          "text": [
            "\r18it [00:28,  1.57s/it]"
          ]
        },
        {
          "metadata": {
            "tags": null
          },
          "name": "stdout",
          "output_type": "stream",
          "text": [
            "Processing Locus ID: PA14_01510, Feature ID: 1651087\n"
          ]
        },
        {
          "metadata": {
            "tags": null
          },
          "name": "stderr",
          "output_type": "stream",
          "text": [
            "\r19it [00:29,  1.54s/it]"
          ]
        },
        {
          "metadata": {
            "tags": null
          },
          "name": "stdout",
          "output_type": "stream",
          "text": [
            "Processing Locus ID: PA14_02620, Feature ID: 1651253\n"
          ]
        },
        {
          "metadata": {
            "tags": null
          },
          "name": "stderr",
          "output_type": "stream",
          "text": [
            "\r20it [00:31,  1.54s/it]"
          ]
        },
        {
          "metadata": {
            "tags": null
          },
          "name": "stdout",
          "output_type": "stream",
          "text": [
            "Processing Locus ID: PA14_02690, Feature ID: 1651265\n"
          ]
        },
        {
          "metadata": {
            "tags": null
          },
          "name": "stderr",
          "output_type": "stream",
          "text": [
            "\r21it [00:32,  1.57s/it]"
          ]
        },
        {
          "metadata": {
            "tags": null
          },
          "name": "stdout",
          "output_type": "stream",
          "text": [
            "Processing Locus ID: PA14_02900, Feature ID: 1651295\n"
          ]
        },
        {
          "metadata": {
            "tags": null
          },
          "name": "stderr",
          "output_type": "stream",
          "text": [
            "\r22it [00:34,  1.54s/it]"
          ]
        },
        {
          "metadata": {
            "tags": null
          },
          "name": "stdout",
          "output_type": "stream",
          "text": [
            "Processing Locus ID: PA14_02970, Feature ID: 1651303\n"
          ]
        },
        {
          "metadata": {
            "tags": null
          },
          "name": "stderr",
          "output_type": "stream",
          "text": [
            "\r23it [00:36,  1.57s/it]"
          ]
        },
        {
          "metadata": {
            "tags": null
          },
          "name": "stdout",
          "output_type": "stream",
          "text": [
            "Processing Locus ID: PA14_03163, Feature ID: 1651339\n"
          ]
        },
        {
          "metadata": {
            "tags": null
          },
          "name": "stderr",
          "output_type": "stream",
          "text": [
            "\r24it [00:37,  1.55s/it]"
          ]
        },
        {
          "metadata": {
            "tags": null
          },
          "name": "stdout",
          "output_type": "stream",
          "text": [
            "Processing Locus ID: PA14_04110, Feature ID: 1651497\n"
          ]
        },
        {
          "metadata": {
            "tags": null
          },
          "name": "stderr",
          "output_type": "stream",
          "text": [
            "\r25it [00:39,  1.53s/it]"
          ]
        },
        {
          "metadata": {
            "tags": null
          },
          "name": "stdout",
          "output_type": "stream",
          "text": [
            "Processing Locus ID: PA14_04140, Feature ID: 1651499\n"
          ]
        },
        {
          "metadata": {
            "tags": null
          },
          "name": "stderr",
          "output_type": "stream",
          "text": [
            "\r26it [00:40,  1.59s/it]"
          ]
        },
        {
          "metadata": {
            "tags": null
          },
          "name": "stdout",
          "output_type": "stream",
          "text": [
            "Processing Locus ID: PA14_04310, Feature ID: 1651525\n"
          ]
        },
        {
          "metadata": {
            "tags": null
          },
          "name": "stderr",
          "output_type": "stream",
          "text": [
            "\r27it [00:42,  1.56s/it]"
          ]
        },
        {
          "metadata": {
            "tags": null
          },
          "name": "stdout",
          "output_type": "stream",
          "text": [
            "Processing Locus ID: PA14_04380, Feature ID: 1651537\n"
          ]
        },
        {
          "metadata": {
            "tags": null
          },
          "name": "stderr",
          "output_type": "stream",
          "text": [
            "\r28it [00:43,  1.54s/it]"
          ]
        },
        {
          "metadata": {
            "tags": null
          },
          "name": "stdout",
          "output_type": "stream",
          "text": [
            "Processing Locus ID: PA14_04460, Feature ID: 1651549\n"
          ]
        },
        {
          "metadata": {
            "tags": null
          },
          "name": "stderr",
          "output_type": "stream",
          "text": [
            "\r29it [00:45,  1.58s/it]"
          ]
        },
        {
          "metadata": {
            "tags": null
          },
          "name": "stdout",
          "output_type": "stream",
          "text": [
            "Processing Locus ID: PA14_04480, Feature ID: 1651551\n"
          ]
        },
        {
          "metadata": {
            "tags": null
          },
          "name": "stderr",
          "output_type": "stream",
          "text": [
            "\r30it [00:46,  1.56s/it]"
          ]
        },
        {
          "metadata": {
            "tags": null
          },
          "name": "stdout",
          "output_type": "stream",
          "text": [
            "Processing Locus ID: PA14_04580, Feature ID: 1651567\n"
          ]
        },
        {
          "metadata": {
            "tags": null
          },
          "name": "stderr",
          "output_type": "stream",
          "text": [
            "\r31it [00:48,  1.54s/it]"
          ]
        },
        {
          "metadata": {
            "tags": null
          },
          "name": "stdout",
          "output_type": "stream",
          "text": [
            "Processing Locus ID: PA14_04630, Feature ID: 1651573\n"
          ]
        },
        {
          "metadata": {
            "tags": null
          },
          "name": "stderr",
          "output_type": "stream",
          "text": [
            "\r32it [00:50,  1.57s/it]"
          ]
        },
        {
          "metadata": {
            "tags": null
          },
          "name": "stdout",
          "output_type": "stream",
          "text": [
            "Processing Locus ID: PA14_04750, Feature ID: 1651593\n"
          ]
        },
        {
          "metadata": {
            "tags": null
          },
          "name": "stderr",
          "output_type": "stream",
          "text": [
            "\r33it [00:51,  1.54s/it]"
          ]
        },
        {
          "metadata": {
            "tags": null
          },
          "name": "stdout",
          "output_type": "stream",
          "text": [
            "Processing Locus ID: PA14_04760, Feature ID: 1651595\n"
          ]
        },
        {
          "metadata": {
            "tags": null
          },
          "name": "stderr",
          "output_type": "stream",
          "text": [
            "\r34it [00:53,  1.53s/it]"
          ]
        },
        {
          "metadata": {
            "tags": null
          },
          "name": "stdout",
          "output_type": "stream",
          "text": [
            "Processing Locus ID: PA14_04900, Feature ID: 1651617\n"
          ]
        },
        {
          "metadata": {
            "tags": null
          },
          "name": "stderr",
          "output_type": "stream",
          "text": [
            "\r35it [00:54,  1.58s/it]"
          ]
        },
        {
          "metadata": {
            "tags": null
          },
          "name": "stdout",
          "output_type": "stream",
          "text": [
            "Processing Locus ID: PA14_04930, Feature ID: 1651623\n"
          ]
        },
        {
          "metadata": {
            "tags": null
          },
          "name": "stderr",
          "output_type": "stream",
          "text": [
            "\r36it [00:56,  1.56s/it]"
          ]
        },
        {
          "metadata": {
            "tags": null
          },
          "name": "stdout",
          "output_type": "stream",
          "text": [
            "Processing Locus ID: PA14_04980, Feature ID: 1651633\n"
          ]
        },
        {
          "metadata": {
            "tags": null
          },
          "name": "stderr",
          "output_type": "stream",
          "text": [
            "\r37it [00:57,  1.53s/it]"
          ]
        },
        {
          "metadata": {
            "tags": null
          },
          "name": "stdout",
          "output_type": "stream",
          "text": [
            "Processing Locus ID: PA14_05070, Feature ID: 1651649\n"
          ]
        },
        {
          "metadata": {
            "tags": null
          },
          "name": "stderr",
          "output_type": "stream",
          "text": [
            "\r38it [00:59,  1.58s/it]"
          ]
        },
        {
          "metadata": {
            "tags": null
          },
          "name": "stdout",
          "output_type": "stream",
          "text": [
            "Processing Locus ID: PA14_05080, Feature ID: 1651651\n"
          ]
        },
        {
          "metadata": {
            "tags": null
          },
          "name": "stderr",
          "output_type": "stream",
          "text": [
            "\r39it [01:00,  1.56s/it]"
          ]
        },
        {
          "metadata": {
            "tags": null
          },
          "name": "stdout",
          "output_type": "stream",
          "text": [
            "Processing Locus ID: PA14_05150, Feature ID: 1651659\n"
          ]
        },
        {
          "metadata": {
            "tags": null
          },
          "name": "stderr",
          "output_type": "stream",
          "text": [
            "\r40it [01:02,  1.55s/it]"
          ]
        },
        {
          "metadata": {
            "tags": null
          },
          "name": "stdout",
          "output_type": "stream",
          "text": [
            "Processing Locus ID: PA14_05250, Feature ID: 1651675\n"
          ]
        },
        {
          "metadata": {
            "tags": null
          },
          "name": "stderr",
          "output_type": "stream",
          "text": [
            "\r41it [01:04,  1.59s/it]"
          ]
        },
        {
          "metadata": {
            "tags": null
          },
          "name": "stdout",
          "output_type": "stream",
          "text": [
            "Processing Locus ID: PA14_05260, Feature ID: 1651677\n"
          ]
        },
        {
          "metadata": {
            "tags": null
          },
          "name": "stderr",
          "output_type": "stream",
          "text": [
            "\r42it [01:05,  1.57s/it]"
          ]
        },
        {
          "metadata": {
            "tags": null
          },
          "name": "stdout",
          "output_type": "stream",
          "text": [
            "Processing Locus ID: PA14_05280, Feature ID: 1651681\n"
          ]
        },
        {
          "metadata": {
            "tags": null
          },
          "name": "stderr",
          "output_type": "stream",
          "text": [
            "\r43it [01:07,  1.56s/it]"
          ]
        },
        {
          "metadata": {
            "tags": null
          },
          "name": "stdout",
          "output_type": "stream",
          "text": [
            "Processing Locus ID: PA14_05460, Feature ID: 1651713\n"
          ]
        },
        {
          "metadata": {
            "tags": null
          },
          "name": "stderr",
          "output_type": "stream",
          "text": [
            "\r44it [01:08,  1.60s/it]"
          ]
        },
        {
          "metadata": {
            "tags": null
          },
          "name": "stdout",
          "output_type": "stream",
          "text": [
            "Processing Locus ID: PA14_05550, Feature ID: 1651727\n"
          ]
        },
        {
          "metadata": {
            "tags": null
          },
          "name": "stderr",
          "output_type": "stream",
          "text": [
            "\r45it [01:10,  1.60s/it]"
          ]
        },
        {
          "metadata": {
            "tags": null
          },
          "name": "stdout",
          "output_type": "stream",
          "text": [
            "Processing Locus ID: PA14_05590, Feature ID: 1651733\n"
          ]
        },
        {
          "metadata": {
            "tags": null
          },
          "name": "stderr",
          "output_type": "stream",
          "text": [
            "\r46it [01:11,  1.56s/it]"
          ]
        },
        {
          "metadata": {
            "tags": null
          },
          "name": "stdout",
          "output_type": "stream",
          "text": [
            "Processing Locus ID: PA14_05620, Feature ID: 1651737\n"
          ]
        },
        {
          "metadata": {
            "tags": null
          },
          "name": "stderr",
          "output_type": "stream",
          "text": [
            "\r47it [01:13,  1.59s/it]"
          ]
        },
        {
          "metadata": {
            "tags": null
          },
          "name": "stdout",
          "output_type": "stream",
          "text": [
            "Processing Locus ID: PA14_05775, Feature ID: 1651757\n"
          ]
        },
        {
          "metadata": {
            "tags": null
          },
          "name": "stderr",
          "output_type": "stream",
          "text": [
            "\r48it [01:15,  1.56s/it]"
          ]
        },
        {
          "metadata": {
            "tags": null
          },
          "name": "stdout",
          "output_type": "stream",
          "text": [
            "Processing Locus ID: PA14_06500, Feature ID: 1651865\n"
          ]
        },
        {
          "metadata": {
            "tags": null
          },
          "name": "stderr",
          "output_type": "stream",
          "text": [
            "\r49it [01:16,  1.54s/it]"
          ]
        },
        {
          "metadata": {
            "tags": null
          },
          "name": "stdout",
          "output_type": "stream",
          "text": [
            "Processing Locus ID: PA14_06510, Feature ID: 1651867\n"
          ]
        },
        {
          "metadata": {
            "tags": null
          },
          "name": "stderr",
          "output_type": "stream",
          "text": [
            "\r50it [01:18,  1.58s/it]"
          ]
        },
        {
          "metadata": {
            "tags": null
          },
          "name": "stdout",
          "output_type": "stream",
          "text": [
            "Processing Locus ID: PA14_06530, Feature ID: 1651869\n"
          ]
        },
        {
          "metadata": {
            "tags": null
          },
          "name": "stderr",
          "output_type": "stream",
          "text": [
            "\r51it [01:19,  1.56s/it]"
          ]
        },
        {
          "metadata": {
            "tags": null
          },
          "name": "stdout",
          "output_type": "stream",
          "text": [
            "Processing Locus ID: PA14_06540, Feature ID: 1651871\n"
          ]
        },
        {
          "metadata": {
            "tags": null
          },
          "name": "stderr",
          "output_type": "stream",
          "text": [
            "\r52it [01:21,  1.57s/it]"
          ]
        },
        {
          "metadata": {
            "tags": null
          },
          "name": "stdout",
          "output_type": "stream",
          "text": [
            "Processing Locus ID: PA14_06570, Feature ID: 1651873\n"
          ]
        },
        {
          "metadata": {
            "tags": null
          },
          "name": "stderr",
          "output_type": "stream",
          "text": [
            "\r53it [01:23,  1.64s/it]"
          ]
        },
        {
          "metadata": {
            "tags": null
          },
          "name": "stdout",
          "output_type": "stream",
          "text": [
            "Processing Locus ID: PA14_06600, Feature ID: 1651877\n"
          ]
        },
        {
          "metadata": {
            "tags": null
          },
          "name": "stderr",
          "output_type": "stream",
          "text": [
            "\r54it [01:24,  1.59s/it]"
          ]
        },
        {
          "metadata": {
            "tags": null
          },
          "name": "stdout",
          "output_type": "stream",
          "text": [
            "Processing Locus ID: PA14_07090, Feature ID: 1651961\n"
          ]
        },
        {
          "metadata": {
            "tags": null
          },
          "name": "stderr",
          "output_type": "stream",
          "text": [
            "\r55it [01:26,  1.56s/it]"
          ]
        },
        {
          "metadata": {
            "tags": null
          },
          "name": "stdout",
          "output_type": "stream",
          "text": [
            "Processing Locus ID: PA14_07130, Feature ID: 1651965\n"
          ]
        },
        {
          "metadata": {
            "tags": null
          },
          "name": "stderr",
          "output_type": "stream",
          "text": [
            "\r56it [01:27,  1.61s/it]"
          ]
        },
        {
          "metadata": {
            "tags": null
          },
          "name": "stdout",
          "output_type": "stream",
          "text": [
            "Processing Locus ID: PA14_07170, Feature ID: 1651971\n"
          ]
        },
        {
          "metadata": {
            "tags": null
          },
          "name": "stderr",
          "output_type": "stream",
          "text": [
            "\r57it [01:29,  1.58s/it]"
          ]
        },
        {
          "metadata": {
            "tags": null
          },
          "name": "stdout",
          "output_type": "stream",
          "text": [
            "Processing Locus ID: PA14_07190, Feature ID: 1651973\n"
          ]
        },
        {
          "metadata": {
            "tags": null
          },
          "name": "stderr",
          "output_type": "stream",
          "text": [
            "\r58it [01:31,  1.62s/it]"
          ]
        },
        {
          "metadata": {
            "tags": null
          },
          "name": "stdout",
          "output_type": "stream",
          "text": [
            "Processing Locus ID: PA14_07230, Feature ID: 1651979\n"
          ]
        },
        {
          "metadata": {
            "tags": null
          },
          "name": "stderr",
          "output_type": "stream",
          "text": [
            "\r59it [01:32,  1.60s/it]"
          ]
        },
        {
          "metadata": {
            "tags": null
          },
          "name": "stdout",
          "output_type": "stream",
          "text": [
            "Processing Locus ID: PA14_07520, Feature ID: 1652027\n"
          ]
        },
        {
          "metadata": {
            "tags": null
          },
          "name": "stderr",
          "output_type": "stream",
          "text": [
            "\r60it [01:34,  1.56s/it]"
          ]
        },
        {
          "metadata": {
            "tags": null
          },
          "name": "stdout",
          "output_type": "stream",
          "text": [
            "Processing Locus ID: PA14_07530, Feature ID: 1652029\n"
          ]
        },
        {
          "metadata": {
            "tags": null
          },
          "name": "stderr",
          "output_type": "stream",
          "text": [
            "\r61it [01:35,  1.61s/it]"
          ]
        },
        {
          "metadata": {
            "tags": null
          },
          "name": "stdout",
          "output_type": "stream",
          "text": [
            "Processing Locus ID: PA14_07560, Feature ID: 1652033\n"
          ]
        },
        {
          "metadata": {
            "tags": null
          },
          "name": "stderr",
          "output_type": "stream",
          "text": [
            "\r62it [01:37,  1.57s/it]"
          ]
        },
        {
          "metadata": {
            "tags": null
          },
          "name": "stdout",
          "output_type": "stream",
          "text": [
            "Processing Locus ID: PA14_07570, Feature ID: 1652035\n"
          ]
        },
        {
          "metadata": {
            "tags": null
          },
          "name": "stderr",
          "output_type": "stream",
          "text": [
            "\r63it [01:38,  1.56s/it]"
          ]
        },
        {
          "metadata": {
            "tags": null
          },
          "name": "stdout",
          "output_type": "stream",
          "text": [
            "Processing Locus ID: PA14_07590, Feature ID: 1652039\n"
          ]
        },
        {
          "metadata": {
            "tags": null
          },
          "name": "stderr",
          "output_type": "stream",
          "text": [
            "\r64it [01:40,  1.59s/it]"
          ]
        },
        {
          "metadata": {
            "tags": null
          },
          "name": "stdout",
          "output_type": "stream",
          "text": [
            "Processing Locus ID: PA14_07600, Feature ID: 1652041\n"
          ]
        },
        {
          "metadata": {
            "tags": null
          },
          "name": "stderr",
          "output_type": "stream",
          "text": [
            "\r65it [01:42,  1.57s/it]"
          ]
        },
        {
          "metadata": {
            "tags": null
          },
          "name": "stdout",
          "output_type": "stream",
          "text": [
            "Processing Locus ID: PA14_07620, Feature ID: 1652043\n"
          ]
        },
        {
          "metadata": {
            "tags": null
          },
          "name": "stderr",
          "output_type": "stream",
          "text": [
            "\r66it [01:43,  1.53s/it]"
          ]
        },
        {
          "metadata": {
            "tags": null
          },
          "name": "stdout",
          "output_type": "stream",
          "text": [
            "Processing Locus ID: PA14_07700, Feature ID: 1652055\n"
          ]
        },
        {
          "metadata": {
            "tags": null
          },
          "name": "stderr",
          "output_type": "stream",
          "text": [
            "\r67it [01:45,  1.60s/it]"
          ]
        },
        {
          "metadata": {
            "tags": null
          },
          "name": "stdout",
          "output_type": "stream",
          "text": [
            "Processing Locus ID: PA14_07740, Feature ID: 1652061\n"
          ]
        },
        {
          "metadata": {
            "tags": null
          },
          "name": "stderr",
          "output_type": "stream",
          "text": [
            "\r68it [01:46,  1.59s/it]"
          ]
        },
        {
          "metadata": {
            "tags": null
          },
          "name": "stdout",
          "output_type": "stream",
          "text": [
            "Processing Locus ID: PA14_07760, Feature ID: 1652063\n"
          ]
        },
        {
          "metadata": {
            "tags": null
          },
          "name": "stderr",
          "output_type": "stream",
          "text": [
            "\r69it [01:48,  1.64s/it]"
          ]
        },
        {
          "metadata": {
            "tags": null
          },
          "name": "stdout",
          "output_type": "stream",
          "text": [
            "Processing Locus ID: PA14_07770, Feature ID: 1652065\n"
          ]
        },
        {
          "metadata": {
            "tags": null
          },
          "name": "stderr",
          "output_type": "stream",
          "text": [
            "\r70it [01:50,  1.59s/it]"
          ]
        },
        {
          "metadata": {
            "tags": null
          },
          "name": "stdout",
          "output_type": "stream",
          "text": [
            "Processing Locus ID: PA14_07910, Feature ID: 1652089\n"
          ]
        },
        {
          "metadata": {
            "tags": null
          },
          "name": "stderr",
          "output_type": "stream",
          "text": [
            "\r71it [01:51,  1.57s/it]"
          ]
        },
        {
          "metadata": {
            "tags": null
          },
          "name": "stdout",
          "output_type": "stream",
          "text": [
            "Processing Locus ID: PA14_07940, Feature ID: 1652093\n"
          ]
        },
        {
          "metadata": {
            "tags": null
          },
          "name": "stderr",
          "output_type": "stream",
          "text": [
            "\r72it [01:53,  1.55s/it]"
          ]
        },
        {
          "metadata": {
            "tags": null
          },
          "name": "stdout",
          "output_type": "stream",
          "text": [
            "Processing Locus ID: PA14_07960, Feature ID: 1652097\n"
          ]
        },
        {
          "metadata": {
            "tags": null
          },
          "name": "stderr",
          "output_type": "stream",
          "text": [
            "\r73it [01:54,  1.60s/it]"
          ]
        },
        {
          "metadata": {
            "tags": null
          },
          "name": "stdout",
          "output_type": "stream",
          "text": [
            "Processing Locus ID: PA14_08340, Feature ID: 1652167\n"
          ]
        },
        {
          "metadata": {
            "tags": null
          },
          "name": "stderr",
          "output_type": "stream",
          "text": [
            "\r74it [01:56,  1.57s/it]"
          ]
        },
        {
          "metadata": {
            "tags": null
          },
          "name": "stdout",
          "output_type": "stream",
          "text": [
            "Processing Locus ID: PA14_08350, Feature ID: 1652169\n"
          ]
        },
        {
          "metadata": {
            "tags": null
          },
          "name": "stderr",
          "output_type": "stream",
          "text": [
            "\r75it [01:57,  1.55s/it]"
          ]
        },
        {
          "metadata": {
            "tags": null
          },
          "name": "stdout",
          "output_type": "stream",
          "text": [
            "Processing Locus ID: PA14_08360, Feature ID: 1652171\n"
          ]
        },
        {
          "metadata": {
            "tags": null
          },
          "name": "stderr",
          "output_type": "stream",
          "text": [
            "\r76it [01:59,  1.63s/it]"
          ]
        },
        {
          "metadata": {
            "tags": null
          },
          "name": "stdout",
          "output_type": "stream",
          "text": [
            "Processing Locus ID: PA14_08400, Feature ID: 1652179\n"
          ]
        },
        {
          "metadata": {
            "tags": null
          },
          "name": "stderr",
          "output_type": "stream",
          "text": [
            "\r77it [02:01,  1.62s/it]"
          ]
        },
        {
          "metadata": {
            "tags": null
          },
          "name": "stdout",
          "output_type": "stream",
          "text": [
            "Processing Locus ID: PA14_08470, Feature ID: 1652191\n"
          ]
        },
        {
          "metadata": {
            "tags": null
          },
          "name": "stderr",
          "output_type": "stream",
          "text": [
            "\r78it [02:02,  1.65s/it]"
          ]
        },
        {
          "metadata": {
            "tags": null
          },
          "name": "stdout",
          "output_type": "stream",
          "text": [
            "Processing Locus ID: PA14_08480, Feature ID: 1652193\n"
          ]
        },
        {
          "metadata": {
            "tags": null
          },
          "name": "stderr",
          "output_type": "stream",
          "text": [
            "\r79it [02:04,  1.60s/it]"
          ]
        },
        {
          "metadata": {
            "tags": null
          },
          "name": "stdout",
          "output_type": "stream",
          "text": [
            "Processing Locus ID: PA14_08510, Feature ID: 1652199\n"
          ]
        },
        {
          "metadata": {
            "tags": null
          },
          "name": "stderr",
          "output_type": "stream",
          "text": [
            "\r80it [02:05,  1.58s/it]"
          ]
        },
        {
          "metadata": {
            "tags": null
          },
          "name": "stdout",
          "output_type": "stream",
          "text": [
            "Processing Locus ID: PA14_08620, Feature ID: 1652217\n"
          ]
        },
        {
          "metadata": {
            "tags": null
          },
          "name": "stderr",
          "output_type": "stream",
          "text": [
            "\r81it [02:07,  1.61s/it]"
          ]
        },
        {
          "metadata": {
            "tags": null
          },
          "name": "stdout",
          "output_type": "stream",
          "text": [
            "Processing Locus ID: PA14_08630, Feature ID: 1652219\n"
          ]
        },
        {
          "metadata": {
            "tags": null
          },
          "name": "stderr",
          "output_type": "stream",
          "text": [
            "\r82it [02:09,  1.60s/it]"
          ]
        },
        {
          "metadata": {
            "tags": null
          },
          "name": "stdout",
          "output_type": "stream",
          "text": [
            "Processing Locus ID: PA14_08695, Feature ID: 1652233\n"
          ]
        },
        {
          "metadata": {
            "tags": null
          },
          "name": "stderr",
          "output_type": "stream",
          "text": [
            "\r83it [02:10,  1.61s/it]"
          ]
        },
        {
          "metadata": {
            "tags": null
          },
          "name": "stdout",
          "output_type": "stream",
          "text": [
            "Processing Locus ID: PA14_08710, Feature ID: 1652235\n"
          ]
        },
        {
          "metadata": {
            "tags": null
          },
          "name": "stderr",
          "output_type": "stream",
          "text": [
            "\r84it [02:12,  1.64s/it]"
          ]
        },
        {
          "metadata": {
            "tags": null
          },
          "name": "stdout",
          "output_type": "stream",
          "text": [
            "Processing Locus ID: PA14_08720, Feature ID: 1652237\n"
          ]
        },
        {
          "metadata": {
            "tags": null
          },
          "name": "stderr",
          "output_type": "stream",
          "text": [
            "\r85it [02:14,  1.60s/it]"
          ]
        },
        {
          "metadata": {
            "tags": null
          },
          "name": "stdout",
          "output_type": "stream",
          "text": [
            "Processing Locus ID: PA14_08730, Feature ID: 1652239\n"
          ]
        },
        {
          "metadata": {
            "tags": null
          },
          "name": "stderr",
          "output_type": "stream",
          "text": [
            "\r86it [02:15,  1.58s/it]"
          ]
        },
        {
          "metadata": {
            "tags": null
          },
          "name": "stdout",
          "output_type": "stream",
          "text": [
            "Processing Locus ID: PA14_08740, Feature ID: 1652241\n"
          ]
        },
        {
          "metadata": {
            "tags": null
          },
          "name": "stderr",
          "output_type": "stream",
          "text": [
            "\r87it [02:17,  1.62s/it]"
          ]
        },
        {
          "metadata": {
            "tags": null
          },
          "name": "stdout",
          "output_type": "stream",
          "text": [
            "Processing Locus ID: PA14_08750, Feature ID: 1652243\n"
          ]
        },
        {
          "metadata": {
            "tags": null
          },
          "name": "stderr",
          "output_type": "stream",
          "text": [
            "\r88it [02:18,  1.58s/it]"
          ]
        },
        {
          "metadata": {
            "tags": null
          },
          "name": "stdout",
          "output_type": "stream",
          "text": [
            "Processing Locus ID: PA14_08760, Feature ID: 1652245\n"
          ]
        },
        {
          "metadata": {
            "tags": null
          },
          "name": "stderr",
          "output_type": "stream",
          "text": [
            "\r89it [02:20,  1.56s/it]"
          ]
        },
        {
          "metadata": {
            "tags": null
          },
          "name": "stdout",
          "output_type": "stream",
          "text": [
            "Processing Locus ID: PA14_08780, Feature ID: 1652247\n"
          ]
        },
        {
          "metadata": {
            "tags": null
          },
          "name": "stderr",
          "output_type": "stream",
          "text": [
            "\r90it [02:22,  1.62s/it]"
          ]
        },
        {
          "metadata": {
            "tags": null
          },
          "name": "stdout",
          "output_type": "stream",
          "text": [
            "Processing Locus ID: PA14_08790, Feature ID: 1652249\n"
          ]
        },
        {
          "metadata": {
            "tags": null
          },
          "name": "stderr",
          "output_type": "stream",
          "text": [
            "\r91it [02:23,  1.59s/it]"
          ]
        },
        {
          "metadata": {
            "tags": null
          },
          "name": "stdout",
          "output_type": "stream",
          "text": [
            "Processing Locus ID: PA14_08810, Feature ID: 1652251\n"
          ]
        },
        {
          "metadata": {
            "tags": null
          },
          "name": "stderr",
          "output_type": "stream",
          "text": [
            "\r92it [02:25,  1.59s/it]"
          ]
        },
        {
          "metadata": {
            "tags": null
          },
          "name": "stdout",
          "output_type": "stream",
          "text": [
            "Processing Locus ID: PA14_08820, Feature ID: 1652253\n"
          ]
        },
        {
          "metadata": {
            "tags": null
          },
          "name": "stderr",
          "output_type": "stream",
          "text": [
            "\r93it [02:26,  1.62s/it]"
          ]
        },
        {
          "metadata": {
            "tags": null
          },
          "name": "stdout",
          "output_type": "stream",
          "text": [
            "Processing Locus ID: PA14_08840, Feature ID: 1652257\n"
          ]
        },
        {
          "metadata": {
            "tags": null
          },
          "name": "stderr",
          "output_type": "stream",
          "text": [
            "\r94it [02:28,  1.58s/it]"
          ]
        },
        {
          "metadata": {
            "tags": null
          },
          "name": "stdout",
          "output_type": "stream",
          "text": [
            "Processing Locus ID: PA14_08850, Feature ID: 1652259\n"
          ]
        },
        {
          "metadata": {
            "tags": null
          },
          "name": "stderr",
          "output_type": "stream",
          "text": [
            "\r95it [02:29,  1.55s/it]"
          ]
        },
        {
          "metadata": {
            "tags": null
          },
          "name": "stdout",
          "output_type": "stream",
          "text": [
            "Processing Locus ID: PA14_08860, Feature ID: 1652261\n"
          ]
        },
        {
          "metadata": {
            "tags": null
          },
          "name": "stderr",
          "output_type": "stream",
          "text": [
            "\r96it [02:31,  1.61s/it]"
          ]
        },
        {
          "metadata": {
            "tags": null
          },
          "name": "stdout",
          "output_type": "stream",
          "text": [
            "Processing Locus ID: PA14_08870, Feature ID: 1652263\n"
          ]
        },
        {
          "metadata": {
            "tags": null
          },
          "name": "stderr",
          "output_type": "stream",
          "text": [
            "\r97it [02:33,  1.57s/it]"
          ]
        },
        {
          "metadata": {
            "tags": null
          },
          "name": "stdout",
          "output_type": "stream",
          "text": [
            "Processing Locus ID: PA14_08880, Feature ID: 1652265\n"
          ]
        },
        {
          "metadata": {
            "tags": null
          },
          "name": "stderr",
          "output_type": "stream",
          "text": [
            "\r98it [02:34,  1.55s/it]"
          ]
        },
        {
          "metadata": {
            "tags": null
          },
          "name": "stdout",
          "output_type": "stream",
          "text": [
            "Processing Locus ID: PA14_08890, Feature ID: 1652267\n"
          ]
        },
        {
          "metadata": {
            "tags": null
          },
          "name": "stderr",
          "output_type": "stream",
          "text": [
            "\r99it [02:36,  1.61s/it]"
          ]
        },
        {
          "metadata": {
            "tags": null
          },
          "name": "stdout",
          "output_type": "stream",
          "text": [
            "Processing Locus ID: PA14_08900, Feature ID: 1652269\n"
          ]
        },
        {
          "metadata": {
            "tags": null
          },
          "name": "stderr",
          "output_type": "stream",
          "text": [
            "\r100it [02:37,  1.57s/it]"
          ]
        },
        {
          "metadata": {
            "tags": null
          },
          "name": "stdout",
          "output_type": "stream",
          "text": [
            "Processing Locus ID: PA14_08910, Feature ID: 1652271\n"
          ]
        },
        {
          "metadata": {
            "tags": null
          },
          "name": "stderr",
          "output_type": "stream",
          "text": [
            "\r101it [02:39,  1.58s/it]"
          ]
        },
        {
          "metadata": {
            "tags": null
          },
          "name": "stdout",
          "output_type": "stream",
          "text": [
            "Processing Locus ID: PA14_08920, Feature ID: 1652273\n"
          ]
        },
        {
          "metadata": {
            "tags": null
          },
          "name": "stderr",
          "output_type": "stream",
          "text": [
            "\r102it [02:41,  1.61s/it]"
          ]
        },
        {
          "metadata": {
            "tags": null
          },
          "name": "stdout",
          "output_type": "stream",
          "text": [
            "Processing Locus ID: PA14_08930, Feature ID: 1652275\n"
          ]
        },
        {
          "metadata": {
            "tags": null
          },
          "name": "stderr",
          "output_type": "stream",
          "text": [
            "\r103it [02:42,  1.58s/it]"
          ]
        },
        {
          "metadata": {
            "tags": null
          },
          "name": "stdout",
          "output_type": "stream",
          "text": [
            "Processing Locus ID: PA14_08940, Feature ID: 1652277\n"
          ]
        },
        {
          "metadata": {
            "tags": null
          },
          "name": "stderr",
          "output_type": "stream",
          "text": [
            "\r104it [02:44,  1.55s/it]"
          ]
        },
        {
          "metadata": {
            "tags": null
          },
          "name": "stdout",
          "output_type": "stream",
          "text": [
            "Processing Locus ID: PA14_08950, Feature ID: 1652279\n"
          ]
        },
        {
          "metadata": {
            "tags": null
          },
          "name": "stderr",
          "output_type": "stream",
          "text": [
            "\r105it [02:45,  1.58s/it]"
          ]
        },
        {
          "metadata": {
            "tags": null
          },
          "name": "stdout",
          "output_type": "stream",
          "text": [
            "Processing Locus ID: PA14_08960, Feature ID: 1652281\n"
          ]
        },
        {
          "metadata": {
            "tags": null
          },
          "name": "stderr",
          "output_type": "stream",
          "text": [
            "\r106it [02:47,  1.57s/it]"
          ]
        },
        {
          "metadata": {
            "tags": null
          },
          "name": "stdout",
          "output_type": "stream",
          "text": [
            "Processing Locus ID: PA14_08970, Feature ID: 1652283\n"
          ]
        },
        {
          "metadata": {
            "tags": null
          },
          "name": "stderr",
          "output_type": "stream",
          "text": [
            "\r107it [02:48,  1.54s/it]"
          ]
        },
        {
          "metadata": {
            "tags": null
          },
          "name": "stdout",
          "output_type": "stream",
          "text": [
            "Processing Locus ID: PA14_08980, Feature ID: 1652285\n"
          ]
        },
        {
          "metadata": {
            "tags": null
          },
          "name": "stderr",
          "output_type": "stream",
          "text": [
            "\r108it [02:50,  1.59s/it]"
          ]
        },
        {
          "metadata": {
            "tags": null
          },
          "name": "stdout",
          "output_type": "stream",
          "text": [
            "Processing Locus ID: PA14_08990, Feature ID: 1652287\n"
          ]
        },
        {
          "metadata": {
            "tags": null
          },
          "name": "stderr",
          "output_type": "stream",
          "text": [
            "\r109it [02:51,  1.56s/it]"
          ]
        },
        {
          "metadata": {
            "tags": null
          },
          "name": "stdout",
          "output_type": "stream",
          "text": [
            "Processing Locus ID: PA14_09000, Feature ID: 1652289\n"
          ]
        },
        {
          "metadata": {
            "tags": null
          },
          "name": "stderr",
          "output_type": "stream",
          "text": [
            "\r110it [02:53,  1.53s/it]"
          ]
        },
        {
          "metadata": {
            "tags": null
          },
          "name": "stdout",
          "output_type": "stream",
          "text": [
            "Processing Locus ID: PA14_09010, Feature ID: 1652291\n"
          ]
        },
        {
          "metadata": {
            "tags": null
          },
          "name": "stderr",
          "output_type": "stream",
          "text": [
            "\r111it [02:55,  1.57s/it]"
          ]
        },
        {
          "metadata": {
            "tags": null
          },
          "name": "stdout",
          "output_type": "stream",
          "text": [
            "Processing Locus ID: PA14_09020, Feature ID: 1652293\n"
          ]
        },
        {
          "metadata": {
            "tags": null
          },
          "name": "stderr",
          "output_type": "stream",
          "text": [
            "\r112it [02:56,  1.54s/it]"
          ]
        },
        {
          "metadata": {
            "tags": null
          },
          "name": "stdout",
          "output_type": "stream",
          "text": [
            "Processing Locus ID: PA14_09030, Feature ID: 1652295\n"
          ]
        },
        {
          "metadata": {
            "tags": null
          },
          "name": "stderr",
          "output_type": "stream",
          "text": [
            "\r113it [02:58,  1.53s/it]"
          ]
        },
        {
          "metadata": {
            "tags": null
          },
          "name": "stdout",
          "output_type": "stream",
          "text": [
            "Processing Locus ID: PA14_09040, Feature ID: 1652297\n"
          ]
        },
        {
          "metadata": {
            "tags": null
          },
          "name": "stderr",
          "output_type": "stream",
          "text": [
            "\r114it [02:59,  1.62s/it]"
          ]
        },
        {
          "metadata": {
            "tags": null
          },
          "name": "stdout",
          "output_type": "stream",
          "text": [
            "Processing Locus ID: PA14_09050, Feature ID: 1652299\n"
          ]
        },
        {
          "metadata": {
            "tags": null
          },
          "name": "stderr",
          "output_type": "stream",
          "text": [
            "\r115it [03:01,  1.59s/it]"
          ]
        },
        {
          "metadata": {
            "tags": null
          },
          "name": "stdout",
          "output_type": "stream",
          "text": [
            "Processing Locus ID: PA14_09080, Feature ID: 1652303\n"
          ]
        },
        {
          "metadata": {
            "tags": null
          },
          "name": "stderr",
          "output_type": "stream",
          "text": [
            "\r116it [03:02,  1.60s/it]"
          ]
        },
        {
          "metadata": {
            "tags": null
          },
          "name": "stdout",
          "output_type": "stream",
          "text": [
            "Processing Locus ID: PA14_09090, Feature ID: 1652305\n"
          ]
        },
        {
          "metadata": {
            "tags": null
          },
          "name": "stderr",
          "output_type": "stream",
          "text": [
            "\r117it [03:04,  1.62s/it]"
          ]
        },
        {
          "metadata": {
            "tags": null
          },
          "name": "stdout",
          "output_type": "stream",
          "text": [
            "Processing Locus ID: PA14_09100, Feature ID: 1652307\n"
          ]
        },
        {
          "metadata": {
            "tags": null
          },
          "name": "stderr",
          "output_type": "stream",
          "text": [
            "\r118it [03:06,  1.59s/it]"
          ]
        },
        {
          "metadata": {
            "tags": null
          },
          "name": "stdout",
          "output_type": "stream",
          "text": [
            "Processing Locus ID: PA14_09115, Feature ID: 1652309\n"
          ]
        },
        {
          "metadata": {
            "tags": null
          },
          "name": "stderr",
          "output_type": "stream",
          "text": [
            "\r119it [03:07,  1.56s/it]"
          ]
        },
        {
          "metadata": {
            "tags": null
          },
          "name": "stdout",
          "output_type": "stream",
          "text": [
            "Processing Locus ID: PA14_09130, Feature ID: 1652311\n"
          ]
        },
        {
          "metadata": {
            "tags": null
          },
          "name": "stderr",
          "output_type": "stream",
          "text": [
            "\r120it [03:09,  1.59s/it]"
          ]
        },
        {
          "metadata": {
            "tags": null
          },
          "name": "stdout",
          "output_type": "stream",
          "text": [
            "Processing Locus ID: PA14_09200, Feature ID: 1652321\n"
          ]
        },
        {
          "metadata": {
            "tags": null
          },
          "name": "stderr",
          "output_type": "stream",
          "text": [
            "\r121it [03:10,  1.56s/it]"
          ]
        },
        {
          "metadata": {
            "tags": null
          },
          "name": "stdout",
          "output_type": "stream",
          "text": [
            "Processing Locus ID: PA14_10360, Feature ID: 1652505\n"
          ]
        },
        {
          "metadata": {
            "tags": null
          },
          "name": "stderr",
          "output_type": "stream",
          "text": [
            "\r122it [03:12,  1.55s/it]"
          ]
        },
        {
          "metadata": {
            "tags": null
          },
          "name": "stdout",
          "output_type": "stream",
          "text": [
            "Processing Locus ID: PA14_10400, Feature ID: 1652511\n"
          ]
        },
        {
          "metadata": {
            "tags": null
          },
          "name": "stderr",
          "output_type": "stream",
          "text": [
            "\r123it [03:14,  1.61s/it]"
          ]
        },
        {
          "metadata": {
            "tags": null
          },
          "name": "stdout",
          "output_type": "stream",
          "text": [
            "Processing Locus ID: PA14_10410, Feature ID: 1652513\n"
          ]
        },
        {
          "metadata": {
            "tags": null
          },
          "name": "stderr",
          "output_type": "stream",
          "text": [
            "\r124it [03:15,  1.58s/it]"
          ]
        },
        {
          "metadata": {
            "tags": null
          },
          "name": "stdout",
          "output_type": "stream",
          "text": [
            "Processing Locus ID: PA14_10420, Feature ID: 1652515\n"
          ]
        },
        {
          "metadata": {
            "tags": null
          },
          "name": "stderr",
          "output_type": "stream",
          "text": [
            "\r125it [03:17,  1.55s/it]"
          ]
        },
        {
          "metadata": {
            "tags": null
          },
          "name": "stdout",
          "output_type": "stream",
          "text": [
            "Processing Locus ID: PA14_10530, Feature ID: 1652527\n"
          ]
        },
        {
          "metadata": {
            "tags": null
          },
          "name": "stderr",
          "output_type": "stream",
          "text": [
            "\r126it [03:18,  1.60s/it]"
          ]
        },
        {
          "metadata": {
            "tags": null
          },
          "name": "stdout",
          "output_type": "stream",
          "text": [
            "Processing Locus ID: PA14_10570, Feature ID: 1652535\n"
          ]
        },
        {
          "metadata": {
            "tags": null
          },
          "name": "stderr",
          "output_type": "stream",
          "text": [
            "\r127it [03:20,  1.58s/it]"
          ]
        },
        {
          "metadata": {
            "tags": null
          },
          "name": "stdout",
          "output_type": "stream",
          "text": [
            "Processing Locus ID: PA14_10590, Feature ID: 1652537\n"
          ]
        },
        {
          "metadata": {
            "tags": null
          },
          "name": "stderr",
          "output_type": "stream",
          "text": [
            "\r128it [03:21,  1.55s/it]"
          ]
        },
        {
          "metadata": {
            "tags": null
          },
          "name": "stdout",
          "output_type": "stream",
          "text": [
            "Processing Locus ID: PA14_10800, Feature ID: 1652573\n"
          ]
        },
        {
          "metadata": {
            "tags": null
          },
          "name": "stderr",
          "output_type": "stream",
          "text": [
            "\r129it [03:23,  1.60s/it]"
          ]
        },
        {
          "metadata": {
            "tags": null
          },
          "name": "stdout",
          "output_type": "stream",
          "text": [
            "Processing Locus ID: PA14_11090, Feature ID: 1652621\n"
          ]
        },
        {
          "metadata": {
            "tags": null
          },
          "name": "stderr",
          "output_type": "stream",
          "text": [
            "\r130it [03:25,  1.57s/it]"
          ]
        },
        {
          "metadata": {
            "tags": null
          },
          "name": "stdout",
          "output_type": "stream",
          "text": [
            "Processing Locus ID: PA14_11120, Feature ID: 1652627\n"
          ]
        },
        {
          "metadata": {
            "tags": null
          },
          "name": "stderr",
          "output_type": "stream",
          "text": [
            "\r131it [03:26,  1.64s/it]"
          ]
        },
        {
          "metadata": {
            "tags": null
          },
          "name": "stdout",
          "output_type": "stream",
          "text": [
            "Processing Locus ID: PA14_11260, Feature ID: 1652651\n"
          ]
        },
        {
          "metadata": {
            "tags": null
          },
          "name": "stderr",
          "output_type": "stream",
          "text": [
            "\r132it [03:28,  1.61s/it]"
          ]
        },
        {
          "metadata": {
            "tags": null
          },
          "name": "stdout",
          "output_type": "stream",
          "text": [
            "Processing Locus ID: PA14_11380, Feature ID: 1652671\n"
          ]
        },
        {
          "metadata": {
            "tags": null
          },
          "name": "stderr",
          "output_type": "stream",
          "text": [
            "\r133it [03:29,  1.60s/it]"
          ]
        },
        {
          "metadata": {
            "tags": null
          },
          "name": "stdout",
          "output_type": "stream",
          "text": [
            "Processing Locus ID: PA14_11400, Feature ID: 1652673\n"
          ]
        },
        {
          "metadata": {
            "tags": null
          },
          "name": "stderr",
          "output_type": "stream",
          "text": [
            "\r134it [03:31,  1.62s/it]"
          ]
        },
        {
          "metadata": {
            "tags": null
          },
          "name": "stdout",
          "output_type": "stream",
          "text": [
            "Processing Locus ID: PA14_11410, Feature ID: 1652675\n"
          ]
        },
        {
          "metadata": {
            "tags": null
          },
          "name": "stderr",
          "output_type": "stream",
          "text": [
            "\r135it [03:33,  1.58s/it]"
          ]
        },
        {
          "metadata": {
            "tags": null
          },
          "name": "stdout",
          "output_type": "stream",
          "text": [
            "Processing Locus ID: PA14_11430, Feature ID: 1652679\n"
          ]
        },
        {
          "metadata": {
            "tags": null
          },
          "name": "stderr",
          "output_type": "stream",
          "text": [
            "\r136it [03:34,  1.55s/it]"
          ]
        },
        {
          "metadata": {
            "tags": null
          },
          "name": "stdout",
          "output_type": "stream",
          "text": [
            "Processing Locus ID: PA14_11450, Feature ID: 1652681\n"
          ]
        },
        {
          "metadata": {
            "tags": null
          },
          "name": "stderr",
          "output_type": "stream",
          "text": [
            "\r137it [03:36,  1.52s/it]"
          ]
        },
        {
          "metadata": {
            "tags": null
          },
          "name": "stdout",
          "output_type": "stream",
          "text": [
            "Processing Locus ID: PA14_11460, Feature ID: 1652683\n"
          ]
        },
        {
          "metadata": {
            "tags": null
          },
          "name": "stderr",
          "output_type": "stream",
          "text": [
            "\r138it [03:37,  1.58s/it]"
          ]
        },
        {
          "metadata": {
            "tags": null
          },
          "name": "stdout",
          "output_type": "stream",
          "text": [
            "Processing Locus ID: PA14_11510, Feature ID: 1652691\n"
          ]
        },
        {
          "metadata": {
            "tags": null
          },
          "name": "stderr",
          "output_type": "stream",
          "text": [
            "\r139it [03:39,  1.55s/it]"
          ]
        },
        {
          "metadata": {
            "tags": null
          },
          "name": "stdout",
          "output_type": "stream",
          "text": [
            "Processing Locus ID: PA14_11550, Feature ID: 1652697\n"
          ]
        },
        {
          "metadata": {
            "tags": null
          },
          "name": "stderr",
          "output_type": "stream",
          "text": [
            "\r140it [03:40,  1.59s/it]"
          ]
        },
        {
          "metadata": {
            "tags": null
          },
          "name": "stdout",
          "output_type": "stream",
          "text": [
            "Processing Locus ID: PA14_11560, Feature ID: 1652699\n"
          ]
        },
        {
          "metadata": {
            "tags": null
          },
          "name": "stderr",
          "output_type": "stream",
          "text": [
            "\r141it [03:42,  1.57s/it]"
          ]
        },
        {
          "metadata": {
            "tags": null
          },
          "name": "stdout",
          "output_type": "stream",
          "text": [
            "Processing Locus ID: PA14_11570, Feature ID: 1652701\n"
          ]
        },
        {
          "metadata": {
            "tags": null
          },
          "name": "stderr",
          "output_type": "stream",
          "text": [
            "\r142it [03:43,  1.56s/it]"
          ]
        },
        {
          "metadata": {
            "tags": null
          },
          "name": "stdout",
          "output_type": "stream",
          "text": [
            "Processing Locus ID: PA14_11580, Feature ID: 1652703\n"
          ]
        },
        {
          "metadata": {
            "tags": null
          },
          "name": "stderr",
          "output_type": "stream",
          "text": [
            "\r143it [03:45,  1.60s/it]"
          ]
        },
        {
          "metadata": {
            "tags": null
          },
          "name": "stdout",
          "output_type": "stream",
          "text": [
            "Processing Locus ID: PA14_11690, Feature ID: 1652723\n"
          ]
        },
        {
          "metadata": {
            "tags": null
          },
          "name": "stderr",
          "output_type": "stream",
          "text": [
            "\r144it [03:47,  1.57s/it]"
          ]
        },
        {
          "metadata": {
            "tags": null
          },
          "name": "stdout",
          "output_type": "stream",
          "text": [
            "Processing Locus ID: PA14_11845, Feature ID: 1652745\n"
          ]
        },
        {
          "metadata": {
            "tags": null
          },
          "name": "stderr",
          "output_type": "stream",
          "text": [
            "\r145it [03:48,  1.57s/it]"
          ]
        },
        {
          "metadata": {
            "tags": null
          },
          "name": "stdout",
          "output_type": "stream",
          "text": [
            "Processing Locus ID: PA14_11860, Feature ID: 1652747\n"
          ]
        },
        {
          "metadata": {
            "tags": null
          },
          "name": "stderr",
          "output_type": "stream",
          "text": [
            "\r146it [03:50,  1.60s/it]"
          ]
        },
        {
          "metadata": {
            "tags": null
          },
          "name": "stdout",
          "output_type": "stream",
          "text": [
            "Processing Locus ID: PA14_12010, Feature ID: 1652771\n"
          ]
        },
        {
          "metadata": {
            "tags": null
          },
          "name": "stderr",
          "output_type": "stream",
          "text": [
            "\r147it [03:51,  1.58s/it]"
          ]
        },
        {
          "metadata": {
            "tags": null
          },
          "name": "stdout",
          "output_type": "stream",
          "text": [
            "Processing Locus ID: PA14_12060, Feature ID: 1652779\n"
          ]
        },
        {
          "metadata": {
            "tags": null
          },
          "name": "stderr",
          "output_type": "stream",
          "text": [
            "\r148it [03:53,  1.55s/it]"
          ]
        },
        {
          "metadata": {
            "tags": null
          },
          "name": "stdout",
          "output_type": "stream",
          "text": [
            "Processing Locus ID: PA14_12070, Feature ID: 1652781\n"
          ]
        },
        {
          "metadata": {
            "tags": null
          },
          "name": "stderr",
          "output_type": "stream",
          "text": [
            "\r149it [03:55,  1.59s/it]"
          ]
        },
        {
          "metadata": {
            "tags": null
          },
          "name": "stdout",
          "output_type": "stream",
          "text": [
            "Processing Locus ID: PA14_12090, Feature ID: 1652785\n"
          ]
        },
        {
          "metadata": {
            "tags": null
          },
          "name": "stderr",
          "output_type": "stream",
          "text": [
            "\r150it [03:56,  1.57s/it]"
          ]
        },
        {
          "metadata": {
            "tags": null
          },
          "name": "stdout",
          "output_type": "stream",
          "text": [
            "Processing Locus ID: PA14_12120, Feature ID: 1652791\n"
          ]
        },
        {
          "metadata": {
            "tags": null
          },
          "name": "stderr",
          "output_type": "stream",
          "text": [
            "\r151it [03:58,  1.54s/it]"
          ]
        },
        {
          "metadata": {
            "tags": null
          },
          "name": "stdout",
          "output_type": "stream",
          "text": [
            "Processing Locus ID: PA14_12130, Feature ID: 1652793\n"
          ]
        },
        {
          "metadata": {
            "tags": null
          },
          "name": "stderr",
          "output_type": "stream",
          "text": [
            "\r152it [03:59,  1.57s/it]"
          ]
        },
        {
          "metadata": {
            "tags": null
          },
          "name": "stdout",
          "output_type": "stream",
          "text": [
            "Processing Locus ID: PA14_12200, Feature ID: 1652805\n"
          ]
        },
        {
          "metadata": {
            "tags": null
          },
          "name": "stderr",
          "output_type": "stream",
          "text": [
            "\r153it [04:01,  1.55s/it]"
          ]
        },
        {
          "metadata": {
            "tags": null
          },
          "name": "stdout",
          "output_type": "stream",
          "text": [
            "Processing Locus ID: PA14_12210, Feature ID: 1652807\n"
          ]
        },
        {
          "metadata": {
            "tags": null
          },
          "name": "stderr",
          "output_type": "stream",
          "text": [
            "\r154it [04:02,  1.53s/it]"
          ]
        },
        {
          "metadata": {
            "tags": null
          },
          "name": "stdout",
          "output_type": "stream",
          "text": [
            "Processing Locus ID: PA14_12230, Feature ID: 1652809\n"
          ]
        },
        {
          "metadata": {
            "tags": null
          },
          "name": "stderr",
          "output_type": "stream",
          "text": [
            "\r155it [04:04,  1.57s/it]"
          ]
        },
        {
          "metadata": {
            "tags": null
          },
          "name": "stdout",
          "output_type": "stream",
          "text": [
            "Processing Locus ID: PA14_12280, Feature ID: 1652815\n"
          ]
        },
        {
          "metadata": {
            "tags": null
          },
          "name": "stderr",
          "output_type": "stream",
          "text": [
            "\r156it [04:05,  1.56s/it]"
          ]
        },
        {
          "metadata": {
            "tags": null
          },
          "name": "stdout",
          "output_type": "stream",
          "text": [
            "Processing Locus ID: PA14_12310, Feature ID: 1652819\n"
          ]
        },
        {
          "metadata": {
            "tags": null
          },
          "name": "stderr",
          "output_type": "stream",
          "text": [
            "\r157it [04:07,  1.54s/it]"
          ]
        },
        {
          "metadata": {
            "tags": null
          },
          "name": "stdout",
          "output_type": "stream",
          "text": [
            "Processing Locus ID: PA14_12390, Feature ID: 1652829\n"
          ]
        },
        {
          "metadata": {
            "tags": null
          },
          "name": "stderr",
          "output_type": "stream",
          "text": [
            "\r158it [04:09,  1.58s/it]"
          ]
        },
        {
          "metadata": {
            "tags": null
          },
          "name": "stdout",
          "output_type": "stream",
          "text": [
            "Processing Locus ID: PA14_12400, Feature ID: 1652831\n"
          ]
        },
        {
          "metadata": {
            "tags": null
          },
          "name": "stderr",
          "output_type": "stream",
          "text": [
            "\r159it [04:10,  1.56s/it]"
          ]
        },
        {
          "metadata": {
            "tags": null
          },
          "name": "stdout",
          "output_type": "stream",
          "text": [
            "Processing Locus ID: PA14_12410, Feature ID: 1652833\n"
          ]
        },
        {
          "metadata": {
            "tags": null
          },
          "name": "stderr",
          "output_type": "stream",
          "text": [
            "\r160it [04:12,  1.55s/it]"
          ]
        },
        {
          "metadata": {
            "tags": null
          },
          "name": "stdout",
          "output_type": "stream",
          "text": [
            "Processing Locus ID: PA14_13810, Feature ID: 1653045\n"
          ]
        },
        {
          "metadata": {
            "tags": null
          },
          "name": "stderr",
          "output_type": "stream",
          "text": [
            "\r161it [04:13,  1.58s/it]"
          ]
        },
        {
          "metadata": {
            "tags": null
          },
          "name": "stdout",
          "output_type": "stream",
          "text": [
            "Processing Locus ID: PA14_13950, Feature ID: 1653067\n"
          ]
        },
        {
          "metadata": {
            "tags": null
          },
          "name": "stderr",
          "output_type": "stream",
          "text": [
            "\r162it [04:15,  1.55s/it]"
          ]
        },
        {
          "metadata": {
            "tags": null
          },
          "name": "stdout",
          "output_type": "stream",
          "text": [
            "Processing Locus ID: PA14_14440, Feature ID: 1653141\n"
          ]
        },
        {
          "metadata": {
            "tags": null
          },
          "name": "stderr",
          "output_type": "stream",
          "text": [
            "\r163it [04:16,  1.54s/it]"
          ]
        },
        {
          "metadata": {
            "tags": null
          },
          "name": "stdout",
          "output_type": "stream",
          "text": [
            "Processing Locus ID: PA14_14500, Feature ID: 1653153\n"
          ]
        },
        {
          "metadata": {
            "tags": null
          },
          "name": "stderr",
          "output_type": "stream",
          "text": [
            "\r164it [04:18,  1.59s/it]"
          ]
        },
        {
          "metadata": {
            "tags": null
          },
          "name": "stdout",
          "output_type": "stream",
          "text": [
            "Processing Locus ID: PA14_14510, Feature ID: 1653155\n"
          ]
        },
        {
          "metadata": {
            "tags": null
          },
          "name": "stderr",
          "output_type": "stream",
          "text": [
            "\r165it [04:19,  1.56s/it]"
          ]
        },
        {
          "metadata": {
            "tags": null
          },
          "name": "stdout",
          "output_type": "stream",
          "text": [
            "Processing Locus ID: PA14_14630, Feature ID: 1653175\n"
          ]
        },
        {
          "metadata": {
            "tags": null
          },
          "name": "stderr",
          "output_type": "stream",
          "text": [
            "\r166it [04:21,  1.55s/it]"
          ]
        },
        {
          "metadata": {
            "tags": null
          },
          "name": "stdout",
          "output_type": "stream",
          "text": [
            "Processing Locus ID: PA14_14650, Feature ID: 1653177\n"
          ]
        },
        {
          "metadata": {
            "tags": null
          },
          "name": "stderr",
          "output_type": "stream",
          "text": [
            "\r167it [04:23,  1.59s/it]"
          ]
        },
        {
          "metadata": {
            "tags": null
          },
          "name": "stdout",
          "output_type": "stream",
          "text": [
            "Processing Locus ID: PA14_14680, Feature ID: 1653181\n"
          ]
        },
        {
          "metadata": {
            "tags": null
          },
          "name": "stderr",
          "output_type": "stream",
          "text": [
            "\r168it [04:24,  1.64s/it]"
          ]
        },
        {
          "metadata": {
            "tags": null
          },
          "name": "stdout",
          "output_type": "stream",
          "text": [
            "Processing Locus ID: PA14_14700, Feature ID: 1653185\n"
          ]
        },
        {
          "metadata": {
            "tags": null
          },
          "name": "stderr",
          "output_type": "stream",
          "text": [
            "\r169it [04:26,  1.61s/it]"
          ]
        },
        {
          "metadata": {
            "tags": null
          },
          "name": "stdout",
          "output_type": "stream",
          "text": [
            "Processing Locus ID: PA14_14730, Feature ID: 1653189\n"
          ]
        },
        {
          "metadata": {
            "tags": null
          },
          "name": "stderr",
          "output_type": "stream",
          "text": [
            "\r170it [04:28,  1.67s/it]"
          ]
        },
        {
          "metadata": {
            "tags": null
          },
          "name": "stdout",
          "output_type": "stream",
          "text": [
            "Processing Locus ID: PA14_14740, Feature ID: 1653191\n"
          ]
        },
        {
          "metadata": {
            "tags": null
          },
          "name": "stderr",
          "output_type": "stream",
          "text": [
            "\r171it [04:29,  1.62s/it]"
          ]
        },
        {
          "metadata": {
            "tags": null
          },
          "name": "stdout",
          "output_type": "stream",
          "text": [
            "Processing Locus ID: PA14_14750, Feature ID: 1653193\n"
          ]
        },
        {
          "metadata": {
            "tags": null
          },
          "name": "stderr",
          "output_type": "stream",
          "text": [
            "\r172it [04:31,  1.63s/it]"
          ]
        },
        {
          "metadata": {
            "tags": null
          },
          "name": "stdout",
          "output_type": "stream",
          "text": [
            "Processing Locus ID: PA14_14770, Feature ID: 1653195\n"
          ]
        },
        {
          "metadata": {
            "tags": null
          },
          "name": "stderr",
          "output_type": "stream",
          "text": [
            "\r173it [04:33,  1.65s/it]"
          ]
        },
        {
          "metadata": {
            "tags": null
          },
          "name": "stdout",
          "output_type": "stream",
          "text": [
            "Processing Locus ID: PA14_14780, Feature ID: 1653197\n"
          ]
        },
        {
          "metadata": {
            "tags": null
          },
          "name": "stderr",
          "output_type": "stream",
          "text": [
            "\r174it [04:34,  1.60s/it]"
          ]
        },
        {
          "metadata": {
            "tags": null
          },
          "name": "stdout",
          "output_type": "stream",
          "text": [
            "Processing Locus ID: PA14_14800, Feature ID: 1653199\n"
          ]
        },
        {
          "metadata": {
            "tags": null
          },
          "name": "stderr",
          "output_type": "stream",
          "text": [
            "\r175it [04:36,  1.57s/it]"
          ]
        },
        {
          "metadata": {
            "tags": null
          },
          "name": "stdout",
          "output_type": "stream",
          "text": [
            "Processing Locus ID: PA14_14820, Feature ID: 1653203\n"
          ]
        },
        {
          "metadata": {
            "tags": null
          },
          "name": "stderr",
          "output_type": "stream",
          "text": [
            "\r176it [04:37,  1.62s/it]"
          ]
        },
        {
          "metadata": {
            "tags": null
          },
          "name": "stdout",
          "output_type": "stream",
          "text": [
            "Processing Locus ID: PA14_14860, Feature ID: 1653209\n"
          ]
        },
        {
          "metadata": {
            "tags": null
          },
          "name": "stderr",
          "output_type": "stream",
          "text": [
            "\r177it [04:39,  1.62s/it]"
          ]
        },
        {
          "metadata": {
            "tags": null
          },
          "name": "stdout",
          "output_type": "stream",
          "text": [
            "Processing Locus ID: PA14_14880, Feature ID: 1653211\n"
          ]
        },
        {
          "metadata": {
            "tags": null
          },
          "name": "stderr",
          "output_type": "stream",
          "text": [
            "\r178it [04:41,  1.59s/it]"
          ]
        },
        {
          "metadata": {
            "tags": null
          },
          "name": "stdout",
          "output_type": "stream",
          "text": [
            "Processing Locus ID: PA14_14890, Feature ID: 1653213\n"
          ]
        },
        {
          "metadata": {
            "tags": null
          },
          "name": "stderr",
          "output_type": "stream",
          "text": [
            "\r179it [04:42,  1.65s/it]"
          ]
        },
        {
          "metadata": {
            "tags": null
          },
          "name": "stdout",
          "output_type": "stream",
          "text": [
            "Processing Locus ID: PA14_14930, Feature ID: 1653219\n"
          ]
        },
        {
          "metadata": {
            "tags": null
          },
          "name": "stderr",
          "output_type": "stream",
          "text": [
            "\r180it [04:44,  1.61s/it]"
          ]
        },
        {
          "metadata": {
            "tags": null
          },
          "name": "stdout",
          "output_type": "stream",
          "text": [
            "Processing Locus ID: PA14_15030, Feature ID: 1653233\n"
          ]
        },
        {
          "metadata": {
            "tags": null
          },
          "name": "stderr",
          "output_type": "stream",
          "text": [
            "\r181it [04:45,  1.59s/it]"
          ]
        },
        {
          "metadata": {
            "tags": null
          },
          "name": "stdout",
          "output_type": "stream",
          "text": [
            "Processing Locus ID: PA14_15050, Feature ID: 1653235\n"
          ]
        },
        {
          "metadata": {
            "tags": null
          },
          "name": "stderr",
          "output_type": "stream",
          "text": [
            "\r182it [04:47,  1.62s/it]"
          ]
        },
        {
          "metadata": {
            "tags": null
          },
          "name": "stdout",
          "output_type": "stream",
          "text": [
            "Processing Locus ID: PA14_15110, Feature ID: 1653245\n"
          ]
        },
        {
          "metadata": {
            "tags": null
          },
          "name": "stderr",
          "output_type": "stream",
          "text": [
            "\r183it [04:49,  1.58s/it]"
          ]
        },
        {
          "metadata": {
            "tags": null
          },
          "name": "stdout",
          "output_type": "stream",
          "text": [
            "Processing Locus ID: PA14_15310, Feature ID: 1653279\n"
          ]
        },
        {
          "metadata": {
            "tags": null
          },
          "name": "stderr",
          "output_type": "stream",
          "text": [
            "\r184it [04:50,  1.55s/it]"
          ]
        },
        {
          "metadata": {
            "tags": null
          },
          "name": "stdout",
          "output_type": "stream",
          "text": [
            "Processing Locus ID: PA14_15340, Feature ID: 1653281\n"
          ]
        },
        {
          "metadata": {
            "tags": null
          },
          "name": "stderr",
          "output_type": "stream",
          "text": [
            "\r185it [04:52,  1.60s/it]"
          ]
        },
        {
          "metadata": {
            "tags": null
          },
          "name": "stdout",
          "output_type": "stream",
          "text": [
            "Processing Locus ID: PA14_15430, Feature ID: 1653295\n"
          ]
        },
        {
          "metadata": {
            "tags": null
          },
          "name": "stderr",
          "output_type": "stream",
          "text": [
            "\r186it [04:53,  1.58s/it]"
          ]
        },
        {
          "metadata": {
            "tags": null
          },
          "name": "stdout",
          "output_type": "stream",
          "text": [
            "Processing Locus ID: PA14_15460, Feature ID: 1653303\n"
          ]
        },
        {
          "metadata": {
            "tags": null
          },
          "name": "stderr",
          "output_type": "stream",
          "text": [
            "\r187it [04:55,  1.62s/it]"
          ]
        },
        {
          "metadata": {
            "tags": null
          },
          "name": "stdout",
          "output_type": "stream",
          "text": [
            "Processing Locus ID: PA14_15470, Feature ID: 1653305\n"
          ]
        },
        {
          "metadata": {
            "tags": null
          },
          "name": "stderr",
          "output_type": "stream",
          "text": [
            "\r188it [04:57,  1.61s/it]"
          ]
        },
        {
          "metadata": {
            "tags": null
          },
          "name": "stdout",
          "output_type": "stream",
          "text": [
            "Processing Locus ID: PA14_15490, Feature ID: 1653311\n"
          ]
        },
        {
          "metadata": {
            "tags": null
          },
          "name": "stderr",
          "output_type": "stream",
          "text": [
            "\r189it [04:58,  1.57s/it]"
          ]
        },
        {
          "metadata": {
            "tags": null
          },
          "name": "stdout",
          "output_type": "stream",
          "text": [
            "Processing Locus ID: PA14_15580, Feature ID: 1653327\n"
          ]
        },
        {
          "metadata": {
            "tags": null
          },
          "name": "stderr",
          "output_type": "stream",
          "text": [
            "\r190it [05:00,  1.55s/it]"
          ]
        },
        {
          "metadata": {
            "tags": null
          },
          "name": "stdout",
          "output_type": "stream",
          "text": [
            "Processing Locus ID: PA14_15590, Feature ID: 1653329\n"
          ]
        },
        {
          "metadata": {
            "tags": null
          },
          "name": "stderr",
          "output_type": "stream",
          "text": [
            "\r191it [05:01,  1.61s/it]"
          ]
        },
        {
          "metadata": {
            "tags": null
          },
          "name": "stdout",
          "output_type": "stream",
          "text": [
            "Processing Locus ID: PA14_15600, Feature ID: 1653331\n"
          ]
        },
        {
          "metadata": {
            "tags": null
          },
          "name": "stderr",
          "output_type": "stream",
          "text": [
            "\r192it [05:03,  1.59s/it]"
          ]
        },
        {
          "metadata": {
            "tags": null
          },
          "name": "stdout",
          "output_type": "stream",
          "text": [
            "Processing Locus ID: PA14_15680, Feature ID: 1653345\n"
          ]
        },
        {
          "metadata": {
            "tags": null
          },
          "name": "stderr",
          "output_type": "stream",
          "text": [
            "\r193it [05:05,  1.64s/it]"
          ]
        },
        {
          "metadata": {
            "tags": null
          },
          "name": "stdout",
          "output_type": "stream",
          "text": [
            "Processing Locus ID: PA14_15740, Feature ID: 1653353\n"
          ]
        },
        {
          "metadata": {
            "tags": null
          },
          "name": "stderr",
          "output_type": "stream",
          "text": [
            "\r194it [05:06,  1.63s/it]"
          ]
        },
        {
          "metadata": {
            "tags": null
          },
          "name": "stdout",
          "output_type": "stream",
          "text": [
            "Processing Locus ID: PA14_15960, Feature ID: 1653389\n"
          ]
        },
        {
          "metadata": {
            "tags": null
          },
          "name": "stderr",
          "output_type": "stream",
          "text": [
            "\r195it [05:08,  1.62s/it]"
          ]
        },
        {
          "metadata": {
            "tags": null
          },
          "name": "stdout",
          "output_type": "stream",
          "text": [
            "Processing Locus ID: PA14_15970, Feature ID: 1653391\n"
          ]
        },
        {
          "metadata": {
            "tags": null
          },
          "name": "stderr",
          "output_type": "stream",
          "text": [
            "\r196it [05:10,  1.68s/it]"
          ]
        },
        {
          "metadata": {
            "tags": null
          },
          "name": "stdout",
          "output_type": "stream",
          "text": [
            "Processing Locus ID: PA14_15980, Feature ID: 1653393\n"
          ]
        },
        {
          "metadata": {
            "tags": null
          },
          "name": "stderr",
          "output_type": "stream",
          "text": [
            "\r197it [05:11,  1.63s/it]"
          ]
        },
        {
          "metadata": {
            "tags": null
          },
          "name": "stdout",
          "output_type": "stream",
          "text": [
            "Processing Locus ID: PA14_15990, Feature ID: 1653395\n"
          ]
        },
        {
          "metadata": {
            "tags": null
          },
          "name": "stderr",
          "output_type": "stream",
          "text": [
            "\r198it [05:13,  1.61s/it]"
          ]
        },
        {
          "metadata": {
            "tags": null
          },
          "name": "stdout",
          "output_type": "stream",
          "text": [
            "Processing Locus ID: PA14_16000, Feature ID: 1653397\n"
          ]
        },
        {
          "metadata": {
            "tags": null
          },
          "name": "stderr",
          "output_type": "stream",
          "text": [
            "\r199it [05:14,  1.57s/it]"
          ]
        },
        {
          "metadata": {
            "tags": null
          },
          "name": "stdout",
          "output_type": "stream",
          "text": [
            "Processing Locus ID: PA14_16020, Feature ID: 1653401\n"
          ]
        },
        {
          "metadata": {
            "tags": null
          },
          "name": "stderr",
          "output_type": "stream",
          "text": [
            "\r200it [05:16,  1.63s/it]"
          ]
        },
        {
          "metadata": {
            "tags": null
          },
          "name": "stdout",
          "output_type": "stream",
          "text": [
            "Processing Locus ID: PA14_16070, Feature ID: 1653409\n"
          ]
        },
        {
          "metadata": {
            "tags": null
          },
          "name": "stderr",
          "output_type": "stream",
          "text": [
            "\r201it [05:18,  1.65s/it]"
          ]
        },
        {
          "metadata": {
            "tags": null
          },
          "name": "stdout",
          "output_type": "stream",
          "text": [
            "Processing Locus ID: PA14_16090, Feature ID: 1653411\n"
          ]
        },
        {
          "metadata": {
            "tags": null
          },
          "name": "stderr",
          "output_type": "stream",
          "text": [
            "\r202it [05:19,  1.66s/it]"
          ]
        },
        {
          "metadata": {
            "tags": null
          },
          "name": "stdout",
          "output_type": "stream",
          "text": [
            "Processing Locus ID: PA14_16150, Feature ID: 1653421\n"
          ]
        },
        {
          "metadata": {
            "tags": null
          },
          "name": "stderr",
          "output_type": "stream",
          "text": [
            "\r203it [05:21,  1.60s/it]"
          ]
        },
        {
          "metadata": {
            "tags": null
          },
          "name": "stdout",
          "output_type": "stream",
          "text": [
            "Processing Locus ID: PA14_16380, Feature ID: 1653461\n"
          ]
        },
        {
          "metadata": {
            "tags": null
          },
          "name": "stderr",
          "output_type": "stream",
          "text": [
            "\r204it [05:22,  1.58s/it]"
          ]
        },
        {
          "metadata": {
            "tags": null
          },
          "name": "stdout",
          "output_type": "stream",
          "text": [
            "Processing Locus ID: PA14_16480, Feature ID: 1653477\n"
          ]
        },
        {
          "metadata": {
            "tags": null
          },
          "name": "stderr",
          "output_type": "stream",
          "text": [
            "\r205it [05:24,  1.62s/it]"
          ]
        },
        {
          "metadata": {
            "tags": null
          },
          "name": "stdout",
          "output_type": "stream",
          "text": [
            "Processing Locus ID: PA14_16510, Feature ID: 1653481\n"
          ]
        },
        {
          "metadata": {
            "tags": null
          },
          "name": "stderr",
          "output_type": "stream",
          "text": [
            "\r206it [05:26,  1.57s/it]"
          ]
        },
        {
          "metadata": {
            "tags": null
          },
          "name": "stdout",
          "output_type": "stream",
          "text": [
            "Processing Locus ID: PA14_16530, Feature ID: 1653483\n"
          ]
        },
        {
          "metadata": {
            "tags": null
          },
          "name": "stderr",
          "output_type": "stream",
          "text": [
            "\r207it [05:27,  1.56s/it]"
          ]
        },
        {
          "metadata": {
            "tags": null
          },
          "name": "stdout",
          "output_type": "stream",
          "text": [
            "Processing Locus ID: PA14_16600, Feature ID: 1653493\n"
          ]
        },
        {
          "metadata": {
            "tags": null
          },
          "name": "stderr",
          "output_type": "stream",
          "text": [
            "\r208it [05:29,  1.61s/it]"
          ]
        },
        {
          "metadata": {
            "tags": null
          },
          "name": "stdout",
          "output_type": "stream",
          "text": [
            "Processing Locus ID: PA14_16700, Feature ID: 1653511\n"
          ]
        },
        {
          "metadata": {
            "tags": null
          },
          "name": "stderr",
          "output_type": "stream",
          "text": [
            "\r209it [05:30,  1.59s/it]"
          ]
        },
        {
          "metadata": {
            "tags": null
          },
          "name": "stdout",
          "output_type": "stream",
          "text": [
            "Processing Locus ID: PA14_16710, Feature ID: 1653513\n"
          ]
        },
        {
          "metadata": {
            "tags": null
          },
          "name": "stderr",
          "output_type": "stream",
          "text": [
            "\r210it [05:32,  1.55s/it]"
          ]
        },
        {
          "metadata": {
            "tags": null
          },
          "name": "stdout",
          "output_type": "stream",
          "text": [
            "Processing Locus ID: PA14_16950, Feature ID: 1653551\n"
          ]
        },
        {
          "metadata": {
            "tags": null
          },
          "name": "stderr",
          "output_type": "stream",
          "text": [
            "\r211it [05:33,  1.60s/it]"
          ]
        },
        {
          "metadata": {
            "tags": null
          },
          "name": "stdout",
          "output_type": "stream",
          "text": [
            "Processing Locus ID: PA14_17040, Feature ID: 1653567\n"
          ]
        },
        {
          "metadata": {
            "tags": null
          },
          "name": "stderr",
          "output_type": "stream",
          "text": [
            "\r212it [05:35,  1.59s/it]"
          ]
        },
        {
          "metadata": {
            "tags": null
          },
          "name": "stdout",
          "output_type": "stream",
          "text": [
            "Processing Locus ID: PA14_17060, Feature ID: 1653571\n"
          ]
        },
        {
          "metadata": {
            "tags": null
          },
          "name": "stderr",
          "output_type": "stream",
          "text": [
            "\r213it [05:37,  1.55s/it]"
          ]
        },
        {
          "metadata": {
            "tags": null
          },
          "name": "stdout",
          "output_type": "stream",
          "text": [
            "Processing Locus ID: PA14_17070, Feature ID: 1653573\n"
          ]
        },
        {
          "metadata": {
            "tags": null
          },
          "name": "stderr",
          "output_type": "stream",
          "text": [
            "\r214it [05:38,  1.61s/it]"
          ]
        },
        {
          "metadata": {
            "tags": null
          },
          "name": "stdout",
          "output_type": "stream",
          "text": [
            "Processing Locus ID: PA14_17080, Feature ID: 1653575\n"
          ]
        },
        {
          "metadata": {
            "tags": null
          },
          "name": "stderr",
          "output_type": "stream",
          "text": [
            "\r215it [05:40,  1.58s/it]"
          ]
        },
        {
          "metadata": {
            "tags": null
          },
          "name": "stdout",
          "output_type": "stream",
          "text": [
            "Processing Locus ID: PA14_17100, Feature ID: 1653577\n"
          ]
        },
        {
          "metadata": {
            "tags": null
          },
          "name": "stderr",
          "output_type": "stream",
          "text": [
            "\r216it [05:41,  1.55s/it]"
          ]
        },
        {
          "metadata": {
            "tags": null
          },
          "name": "stdout",
          "output_type": "stream",
          "text": [
            "Processing Locus ID: PA14_17110, Feature ID: 1653579\n"
          ]
        },
        {
          "metadata": {
            "tags": null
          },
          "name": "stderr",
          "output_type": "stream",
          "text": [
            "\r217it [05:43,  1.59s/it]"
          ]
        },
        {
          "metadata": {
            "tags": null
          },
          "name": "stdout",
          "output_type": "stream",
          "text": [
            "Processing Locus ID: PA14_17120, Feature ID: 1653581\n"
          ]
        },
        {
          "metadata": {
            "tags": null
          },
          "name": "stderr",
          "output_type": "stream",
          "text": [
            "\r218it [05:44,  1.56s/it]"
          ]
        },
        {
          "metadata": {
            "tags": null
          },
          "name": "stdout",
          "output_type": "stream",
          "text": [
            "Processing Locus ID: PA14_17130, Feature ID: 1653583\n"
          ]
        },
        {
          "metadata": {
            "tags": null
          },
          "name": "stderr",
          "output_type": "stream",
          "text": [
            "\r219it [05:46,  1.53s/it]"
          ]
        },
        {
          "metadata": {
            "tags": null
          },
          "name": "stdout",
          "output_type": "stream",
          "text": [
            "Processing Locus ID: PA14_17150, Feature ID: 1653587\n"
          ]
        },
        {
          "metadata": {
            "tags": null
          },
          "name": "stderr",
          "output_type": "stream",
          "text": [
            "\r220it [05:48,  1.60s/it]"
          ]
        },
        {
          "metadata": {
            "tags": null
          },
          "name": "stdout",
          "output_type": "stream",
          "text": [
            "Processing Locus ID: PA14_17180, Feature ID: 1653591\n"
          ]
        },
        {
          "metadata": {
            "tags": null
          },
          "name": "stderr",
          "output_type": "stream",
          "text": [
            "\r221it [05:49,  1.56s/it]"
          ]
        },
        {
          "metadata": {
            "tags": null
          },
          "name": "stdout",
          "output_type": "stream",
          "text": [
            "Processing Locus ID: PA14_17190, Feature ID: 1653593\n"
          ]
        },
        {
          "metadata": {
            "tags": null
          },
          "name": "stderr",
          "output_type": "stream",
          "text": [
            "\r222it [05:51,  1.54s/it]"
          ]
        },
        {
          "metadata": {
            "tags": null
          },
          "name": "stdout",
          "output_type": "stream",
          "text": [
            "Processing Locus ID: PA14_17210, Feature ID: 1653595\n"
          ]
        },
        {
          "metadata": {
            "tags": null
          },
          "name": "stderr",
          "output_type": "stream",
          "text": [
            "\r223it [05:52,  1.59s/it]"
          ]
        },
        {
          "metadata": {
            "tags": null
          },
          "name": "stdout",
          "output_type": "stream",
          "text": [
            "Processing Locus ID: PA14_17220, Feature ID: 1653597\n"
          ]
        },
        {
          "metadata": {
            "tags": null
          },
          "name": "stderr",
          "output_type": "stream",
          "text": [
            "\r224it [05:54,  1.57s/it]"
          ]
        },
        {
          "metadata": {
            "tags": null
          },
          "name": "stdout",
          "output_type": "stream",
          "text": [
            "Processing Locus ID: PA14_17260, Feature ID: 1653603\n"
          ]
        },
        {
          "metadata": {
            "tags": null
          },
          "name": "stderr",
          "output_type": "stream",
          "text": [
            "\r225it [05:55,  1.54s/it]"
          ]
        },
        {
          "metadata": {
            "tags": null
          },
          "name": "stdout",
          "output_type": "stream",
          "text": [
            "Processing Locus ID: PA14_17270, Feature ID: 1653605\n"
          ]
        },
        {
          "metadata": {
            "tags": null
          },
          "name": "stderr",
          "output_type": "stream",
          "text": [
            "\r226it [05:57,  1.61s/it]"
          ]
        },
        {
          "metadata": {
            "tags": null
          },
          "name": "stdout",
          "output_type": "stream",
          "text": [
            "Processing Locus ID: PA14_17280, Feature ID: 1653607\n"
          ]
        },
        {
          "metadata": {
            "tags": null
          },
          "name": "stderr",
          "output_type": "stream",
          "text": [
            "\r227it [05:59,  1.57s/it]"
          ]
        },
        {
          "metadata": {
            "tags": null
          },
          "name": "stdout",
          "output_type": "stream",
          "text": [
            "Processing Locus ID: PA14_17290, Feature ID: 1653609\n"
          ]
        },
        {
          "metadata": {
            "tags": null
          },
          "name": "stderr",
          "output_type": "stream",
          "text": [
            "\r228it [06:00,  1.55s/it]"
          ]
        },
        {
          "metadata": {
            "tags": null
          },
          "name": "stdout",
          "output_type": "stream",
          "text": [
            "Processing Locus ID: PA14_17310, Feature ID: 1653611\n"
          ]
        },
        {
          "metadata": {
            "tags": null
          },
          "name": "stderr",
          "output_type": "stream",
          "text": [
            "\r229it [06:02,  1.60s/it]"
          ]
        },
        {
          "metadata": {
            "tags": null
          },
          "name": "stdout",
          "output_type": "stream",
          "text": [
            "Processing Locus ID: PA14_17320, Feature ID: 1653613\n"
          ]
        },
        {
          "metadata": {
            "tags": null
          },
          "name": "stderr",
          "output_type": "stream",
          "text": [
            "\r230it [06:03,  1.57s/it]"
          ]
        },
        {
          "metadata": {
            "tags": null
          },
          "name": "stdout",
          "output_type": "stream",
          "text": [
            "Processing Locus ID: PA14_17330, Feature ID: 1653615\n"
          ]
        },
        {
          "metadata": {
            "tags": null
          },
          "name": "stderr",
          "output_type": "stream",
          "text": [
            "\r231it [06:05,  1.55s/it]"
          ]
        },
        {
          "metadata": {
            "tags": null
          },
          "name": "stdout",
          "output_type": "stream",
          "text": [
            "Processing Locus ID: PA14_17340, Feature ID: 1653617\n"
          ]
        },
        {
          "metadata": {
            "tags": null
          },
          "name": "stderr",
          "output_type": "stream",
          "text": [
            "\r232it [06:07,  1.60s/it]"
          ]
        },
        {
          "metadata": {
            "tags": null
          },
          "name": "stdout",
          "output_type": "stream",
          "text": [
            "Processing Locus ID: PA14_17420, Feature ID: 1653629\n"
          ]
        },
        {
          "metadata": {
            "tags": null
          },
          "name": "stderr",
          "output_type": "stream",
          "text": [
            "\r233it [06:08,  1.57s/it]"
          ]
        },
        {
          "metadata": {
            "tags": null
          },
          "name": "stdout",
          "output_type": "stream",
          "text": [
            "Processing Locus ID: PA14_17490, Feature ID: 1653641\n"
          ]
        },
        {
          "metadata": {
            "tags": null
          },
          "name": "stderr",
          "output_type": "stream",
          "text": [
            "\r234it [06:10,  1.60s/it]"
          ]
        },
        {
          "metadata": {
            "tags": null
          },
          "name": "stdout",
          "output_type": "stream",
          "text": [
            "Processing Locus ID: PA14_17530, Feature ID: 1653649\n"
          ]
        },
        {
          "metadata": {
            "tags": null
          },
          "name": "stderr",
          "output_type": "stream",
          "text": [
            "\r235it [06:11,  1.57s/it]"
          ]
        },
        {
          "metadata": {
            "tags": null
          },
          "name": "stdout",
          "output_type": "stream",
          "text": [
            "Processing Locus ID: PA14_17540, Feature ID: 1653651\n"
          ]
        },
        {
          "metadata": {
            "tags": null
          },
          "name": "stderr",
          "output_type": "stream",
          "text": [
            "\r236it [06:13,  1.56s/it]"
          ]
        },
        {
          "metadata": {
            "tags": null
          },
          "name": "stdout",
          "output_type": "stream",
          "text": [
            "Processing Locus ID: PA14_17670, Feature ID: 1653675\n"
          ]
        },
        {
          "metadata": {
            "tags": null
          },
          "name": "stderr",
          "output_type": "stream",
          "text": [
            "\r237it [06:14,  1.54s/it]"
          ]
        },
        {
          "metadata": {
            "tags": null
          },
          "name": "stdout",
          "output_type": "stream",
          "text": [
            "Processing Locus ID: PA14_17900, Feature ID: 1653709\n"
          ]
        },
        {
          "metadata": {
            "tags": null
          },
          "name": "stderr",
          "output_type": "stream",
          "text": [
            "\r238it [06:16,  1.59s/it]"
          ]
        },
        {
          "metadata": {
            "tags": null
          },
          "name": "stdout",
          "output_type": "stream",
          "text": [
            "Processing Locus ID: PA14_17930, Feature ID: 1653715\n"
          ]
        },
        {
          "metadata": {
            "tags": null
          },
          "name": "stderr",
          "output_type": "stream",
          "text": [
            "\r239it [06:17,  1.57s/it]"
          ]
        },
        {
          "metadata": {
            "tags": null
          },
          "name": "stdout",
          "output_type": "stream",
          "text": [
            "Processing Locus ID: PA14_18100, Feature ID: 1653741\n"
          ]
        },
        {
          "metadata": {
            "tags": null
          },
          "name": "stderr",
          "output_type": "stream",
          "text": [
            "\r240it [06:19,  1.63s/it]"
          ]
        },
        {
          "metadata": {
            "tags": null
          },
          "name": "stdout",
          "output_type": "stream",
          "text": [
            "Processing Locus ID: PA14_18320, Feature ID: 1653771\n"
          ]
        },
        {
          "metadata": {
            "tags": null
          },
          "name": "stderr",
          "output_type": "stream",
          "text": [
            "\r241it [06:21,  1.59s/it]"
          ]
        },
        {
          "metadata": {
            "tags": null
          },
          "name": "stdout",
          "output_type": "stream",
          "text": [
            "Processing Locus ID: PA14_18500, Feature ID: 1653795\n"
          ]
        },
        {
          "metadata": {
            "tags": null
          },
          "name": "stderr",
          "output_type": "stream",
          "text": [
            "\r242it [06:22,  1.56s/it]"
          ]
        },
        {
          "metadata": {
            "tags": null
          },
          "name": "stdout",
          "output_type": "stream",
          "text": [
            "Processing Locus ID: PA14_18610, Feature ID: 1653811\n"
          ]
        },
        {
          "metadata": {
            "tags": null
          },
          "name": "stderr",
          "output_type": "stream",
          "text": [
            "\r243it [06:24,  1.60s/it]"
          ]
        },
        {
          "metadata": {
            "tags": null
          },
          "name": "stdout",
          "output_type": "stream",
          "text": [
            "Processing Locus ID: PA14_18700, Feature ID: 1653829\n"
          ]
        },
        {
          "metadata": {
            "tags": null
          },
          "name": "stderr",
          "output_type": "stream",
          "text": [
            "\r244it [06:26,  1.62s/it]"
          ]
        },
        {
          "metadata": {
            "tags": null
          },
          "name": "stdout",
          "output_type": "stream",
          "text": [
            "Processing Locus ID: PA14_18710, Feature ID: 1653831\n"
          ]
        },
        {
          "metadata": {
            "tags": null
          },
          "name": "stderr",
          "output_type": "stream",
          "text": [
            "\r245it [06:27,  1.61s/it]"
          ]
        },
        {
          "metadata": {
            "tags": null
          },
          "name": "stdout",
          "output_type": "stream",
          "text": [
            "Processing Locus ID: PA14_18740, Feature ID: 1653835\n"
          ]
        },
        {
          "metadata": {
            "tags": null
          },
          "name": "stderr",
          "output_type": "stream",
          "text": [
            "\r246it [06:29,  1.65s/it]"
          ]
        },
        {
          "metadata": {
            "tags": null
          },
          "name": "stdout",
          "output_type": "stream",
          "text": [
            "Processing Locus ID: PA14_18750, Feature ID: 1653837\n"
          ]
        },
        {
          "metadata": {
            "tags": null
          },
          "name": "stderr",
          "output_type": "stream",
          "text": [
            "\r247it [06:30,  1.62s/it]"
          ]
        },
        {
          "metadata": {
            "tags": null
          },
          "name": "stdout",
          "output_type": "stream",
          "text": [
            "Processing Locus ID: PA14_19050, Feature ID: 1653885\n"
          ]
        },
        {
          "metadata": {
            "tags": null
          },
          "name": "stderr",
          "output_type": "stream",
          "text": [
            "\r248it [06:32,  1.58s/it]"
          ]
        },
        {
          "metadata": {
            "tags": null
          },
          "name": "stdout",
          "output_type": "stream",
          "text": [
            "Processing Locus ID: PA14_19065, Feature ID: 1653887\n"
          ]
        },
        {
          "metadata": {
            "tags": null
          },
          "name": "stderr",
          "output_type": "stream",
          "text": [
            "\r249it [06:34,  1.61s/it]"
          ]
        },
        {
          "metadata": {
            "tags": null
          },
          "name": "stdout",
          "output_type": "stream",
          "text": [
            "Processing Locus ID: PA14_19090, Feature ID: 1653889\n"
          ]
        },
        {
          "metadata": {
            "tags": null
          },
          "name": "stderr",
          "output_type": "stream",
          "text": [
            "\r250it [06:35,  1.58s/it]"
          ]
        },
        {
          "metadata": {
            "tags": null
          },
          "name": "stdout",
          "output_type": "stream",
          "text": [
            "Processing Locus ID: PA14_19850, Feature ID: 1654009\n"
          ]
        },
        {
          "metadata": {
            "tags": null
          },
          "name": "stderr",
          "output_type": "stream",
          "text": [
            "\r251it [06:37,  1.56s/it]"
          ]
        },
        {
          "metadata": {
            "tags": null
          },
          "name": "stdout",
          "output_type": "stream",
          "text": [
            "Processing Locus ID: PA14_20010, Feature ID: 1654035\n"
          ]
        },
        {
          "metadata": {
            "tags": null
          },
          "name": "stderr",
          "output_type": "stream",
          "text": [
            "\r252it [06:38,  1.62s/it]"
          ]
        },
        {
          "metadata": {
            "tags": null
          },
          "name": "stdout",
          "output_type": "stream",
          "text": [
            "Processing Locus ID: PA14_20140, Feature ID: 1654059\n"
          ]
        },
        {
          "metadata": {
            "tags": null
          },
          "name": "stderr",
          "output_type": "stream",
          "text": [
            "\r253it [06:40,  1.59s/it]"
          ]
        },
        {
          "metadata": {
            "tags": null
          },
          "name": "stdout",
          "output_type": "stream",
          "text": [
            "Processing Locus ID: PA14_20400, Feature ID: 1654101\n"
          ]
        },
        {
          "metadata": {
            "tags": null
          },
          "name": "stderr",
          "output_type": "stream",
          "text": [
            "\r254it [06:41,  1.58s/it]"
          ]
        },
        {
          "metadata": {
            "tags": null
          },
          "name": "stdout",
          "output_type": "stream",
          "text": [
            "Processing Locus ID: PA14_20520, Feature ID: 1654123\n"
          ]
        },
        {
          "metadata": {
            "tags": null
          },
          "name": "stderr",
          "output_type": "stream",
          "text": [
            "\r255it [06:43,  1.63s/it]"
          ]
        },
        {
          "metadata": {
            "tags": null
          },
          "name": "stdout",
          "output_type": "stream",
          "text": [
            "Processing Locus ID: PA14_20530, Feature ID: 1654125\n"
          ]
        },
        {
          "metadata": {
            "tags": null
          },
          "name": "stderr",
          "output_type": "stream",
          "text": [
            "\r256it [06:45,  1.59s/it]"
          ]
        },
        {
          "metadata": {
            "tags": null
          },
          "name": "stdout",
          "output_type": "stream",
          "text": [
            "Processing Locus ID: PA14_21470, Feature ID: 1654279\n"
          ]
        },
        {
          "metadata": {
            "tags": null
          },
          "name": "stderr",
          "output_type": "stream",
          "text": [
            "\r257it [06:46,  1.56s/it]"
          ]
        },
        {
          "metadata": {
            "tags": null
          },
          "name": "stdout",
          "output_type": "stream",
          "text": [
            "Processing Locus ID: PA14_21480, Feature ID: 1654281\n"
          ]
        },
        {
          "metadata": {
            "tags": null
          },
          "name": "stderr",
          "output_type": "stream",
          "text": [
            "\r258it [06:48,  1.61s/it]"
          ]
        },
        {
          "metadata": {
            "tags": null
          },
          "name": "stdout",
          "output_type": "stream",
          "text": [
            "Processing Locus ID: PA14_21490, Feature ID: 1654283\n"
          ]
        },
        {
          "metadata": {
            "tags": null
          },
          "name": "stderr",
          "output_type": "stream",
          "text": [
            "\r259it [06:49,  1.57s/it]"
          ]
        },
        {
          "metadata": {
            "tags": null
          },
          "name": "stdout",
          "output_type": "stream",
          "text": [
            "Processing Locus ID: PA14_22010, Feature ID: 1654381\n"
          ]
        },
        {
          "metadata": {
            "tags": null
          },
          "name": "stderr",
          "output_type": "stream",
          "text": [
            "\r260it [06:51,  1.55s/it]"
          ]
        },
        {
          "metadata": {
            "tags": null
          },
          "name": "stdout",
          "output_type": "stream",
          "text": [
            "Processing Locus ID: PA14_22020, Feature ID: 1654383\n"
          ]
        },
        {
          "metadata": {
            "tags": null
          },
          "name": "stderr",
          "output_type": "stream",
          "text": [
            "\r261it [06:53,  1.59s/it]"
          ]
        },
        {
          "metadata": {
            "tags": null
          },
          "name": "stdout",
          "output_type": "stream",
          "text": [
            "Processing Locus ID: PA14_22040, Feature ID: 1654385\n"
          ]
        },
        {
          "metadata": {
            "tags": null
          },
          "name": "stderr",
          "output_type": "stream",
          "text": [
            "\r262it [06:54,  1.58s/it]"
          ]
        },
        {
          "metadata": {
            "tags": null
          },
          "name": "stdout",
          "output_type": "stream",
          "text": [
            "Processing Locus ID: PA14_22050, Feature ID: 1654387\n"
          ]
        },
        {
          "metadata": {
            "tags": null
          },
          "name": "stderr",
          "output_type": "stream",
          "text": [
            "\r263it [06:56,  1.63s/it]"
          ]
        },
        {
          "metadata": {
            "tags": null
          },
          "name": "stdout",
          "output_type": "stream",
          "text": [
            "Processing Locus ID: PA14_22100, Feature ID: 1654397\n"
          ]
        },
        {
          "metadata": {
            "tags": null
          },
          "name": "stderr",
          "output_type": "stream",
          "text": [
            "\r264it [06:57,  1.61s/it]"
          ]
        },
        {
          "metadata": {
            "tags": null
          },
          "name": "stdout",
          "output_type": "stream",
          "text": [
            "Processing Locus ID: PA14_22110, Feature ID: 1654399\n"
          ]
        },
        {
          "metadata": {
            "tags": null
          },
          "name": "stderr",
          "output_type": "stream",
          "text": [
            "\r265it [06:59,  1.58s/it]"
          ]
        },
        {
          "metadata": {
            "tags": null
          },
          "name": "stdout",
          "output_type": "stream",
          "text": [
            "Processing Locus ID: PA14_22120, Feature ID: 1654401\n"
          ]
        },
        {
          "metadata": {
            "tags": null
          },
          "name": "stderr",
          "output_type": "stream",
          "text": [
            "\r266it [07:00,  1.56s/it]"
          ]
        },
        {
          "metadata": {
            "tags": null
          },
          "name": "stdout",
          "output_type": "stream",
          "text": [
            "Processing Locus ID: PA14_22130, Feature ID: 1654403\n"
          ]
        },
        {
          "metadata": {
            "tags": null
          },
          "name": "stderr",
          "output_type": "stream",
          "text": [
            "\r267it [07:02,  1.60s/it]"
          ]
        },
        {
          "metadata": {
            "tags": null
          },
          "name": "stdout",
          "output_type": "stream",
          "text": [
            "Processing Locus ID: PA14_22140, Feature ID: 1654405\n"
          ]
        },
        {
          "metadata": {
            "tags": null
          },
          "name": "stderr",
          "output_type": "stream",
          "text": [
            "\r268it [07:04,  1.57s/it]"
          ]
        },
        {
          "metadata": {
            "tags": null
          },
          "name": "stdout",
          "output_type": "stream",
          "text": [
            "Processing Locus ID: PA14_22160, Feature ID: 1654407\n"
          ]
        },
        {
          "metadata": {
            "tags": null
          },
          "name": "stderr",
          "output_type": "stream",
          "text": [
            "\r269it [07:05,  1.55s/it]"
          ]
        },
        {
          "metadata": {
            "tags": null
          },
          "name": "stdout",
          "output_type": "stream",
          "text": [
            "Processing Locus ID: PA14_22180, Feature ID: 1654409\n"
          ]
        },
        {
          "metadata": {
            "tags": null
          },
          "name": "stderr",
          "output_type": "stream",
          "text": [
            "\r270it [07:07,  1.59s/it]"
          ]
        },
        {
          "metadata": {
            "tags": null
          },
          "name": "stdout",
          "output_type": "stream",
          "text": [
            "Processing Locus ID: PA14_22220, Feature ID: 1654415\n"
          ]
        },
        {
          "metadata": {
            "tags": null
          },
          "name": "stderr",
          "output_type": "stream",
          "text": [
            "\r271it [07:08,  1.56s/it]"
          ]
        },
        {
          "metadata": {
            "tags": null
          },
          "name": "stdout",
          "output_type": "stream",
          "text": [
            "Processing Locus ID: PA14_22230, Feature ID: 1654417\n"
          ]
        },
        {
          "metadata": {
            "tags": null
          },
          "name": "stderr",
          "output_type": "stream",
          "text": [
            "\r272it [07:10,  1.59s/it]"
          ]
        },
        {
          "metadata": {
            "tags": null
          },
          "name": "stdout",
          "output_type": "stream",
          "text": [
            "Processing Locus ID: PA14_22240, Feature ID: 1654419\n"
          ]
        },
        {
          "metadata": {
            "tags": null
          },
          "name": "stderr",
          "output_type": "stream",
          "text": [
            "\r273it [07:11,  1.56s/it]"
          ]
        },
        {
          "metadata": {
            "tags": null
          },
          "name": "stdout",
          "output_type": "stream",
          "text": [
            "Processing Locus ID: PA14_22250, Feature ID: 1654421\n"
          ]
        },
        {
          "metadata": {
            "tags": null
          },
          "name": "stderr",
          "output_type": "stream",
          "text": [
            "\r274it [07:13,  1.53s/it]"
          ]
        },
        {
          "metadata": {
            "tags": null
          },
          "name": "stdout",
          "output_type": "stream",
          "text": [
            "Processing Locus ID: PA14_22260, Feature ID: 1654423\n"
          ]
        },
        {
          "metadata": {
            "tags": null
          },
          "name": "stderr",
          "output_type": "stream",
          "text": [
            "\r275it [07:15,  1.59s/it]"
          ]
        },
        {
          "metadata": {
            "tags": null
          },
          "name": "stdout",
          "output_type": "stream",
          "text": [
            "Processing Locus ID: PA14_22270, Feature ID: 1654425\n"
          ]
        },
        {
          "metadata": {
            "tags": null
          },
          "name": "stderr",
          "output_type": "stream",
          "text": [
            "\r276it [07:16,  1.56s/it]"
          ]
        },
        {
          "metadata": {
            "tags": null
          },
          "name": "stdout",
          "output_type": "stream",
          "text": [
            "Processing Locus ID: PA14_22910, Feature ID: 1654533\n"
          ]
        },
        {
          "metadata": {
            "tags": null
          },
          "name": "stderr",
          "output_type": "stream",
          "text": [
            "\r277it [07:18,  1.55s/it]"
          ]
        },
        {
          "metadata": {
            "tags": null
          },
          "name": "stdout",
          "output_type": "stream",
          "text": [
            "Processing Locus ID: PA14_23070, Feature ID: 1654555\n"
          ]
        },
        {
          "metadata": {
            "tags": null
          },
          "name": "stderr",
          "output_type": "stream",
          "text": [
            "\r278it [07:19,  1.60s/it]"
          ]
        },
        {
          "metadata": {
            "tags": null
          },
          "name": "stdout",
          "output_type": "stream",
          "text": [
            "Processing Locus ID: PA14_23080, Feature ID: 1654557\n"
          ]
        },
        {
          "metadata": {
            "tags": null
          },
          "name": "stderr",
          "output_type": "stream",
          "text": [
            "\r279it [07:21,  1.56s/it]"
          ]
        },
        {
          "metadata": {
            "tags": null
          },
          "name": "stdout",
          "output_type": "stream",
          "text": [
            "Processing Locus ID: PA14_23090, Feature ID: 1654559\n"
          ]
        },
        {
          "metadata": {
            "tags": null
          },
          "name": "stderr",
          "output_type": "stream",
          "text": [
            "\r280it [07:22,  1.54s/it]"
          ]
        },
        {
          "metadata": {
            "tags": null
          },
          "name": "stdout",
          "output_type": "stream",
          "text": [
            "Processing Locus ID: PA14_23220, Feature ID: 1654579\n"
          ]
        },
        {
          "metadata": {
            "tags": null
          },
          "name": "stderr",
          "output_type": "stream",
          "text": [
            "\r281it [07:24,  1.58s/it]"
          ]
        },
        {
          "metadata": {
            "tags": null
          },
          "name": "stdout",
          "output_type": "stream",
          "text": [
            "Processing Locus ID: PA14_23260, Feature ID: 1654585\n"
          ]
        },
        {
          "metadata": {
            "tags": null
          },
          "name": "stderr",
          "output_type": "stream",
          "text": [
            "\r282it [07:26,  1.56s/it]"
          ]
        },
        {
          "metadata": {
            "tags": null
          },
          "name": "stdout",
          "output_type": "stream",
          "text": [
            "Processing Locus ID: PA14_23270, Feature ID: 1654587\n"
          ]
        },
        {
          "metadata": {
            "tags": null
          },
          "name": "stderr",
          "output_type": "stream",
          "text": [
            "\r283it [07:27,  1.55s/it]"
          ]
        },
        {
          "metadata": {
            "tags": null
          },
          "name": "stdout",
          "output_type": "stream",
          "text": [
            "Processing Locus ID: PA14_23280, Feature ID: 1654589\n"
          ]
        },
        {
          "metadata": {
            "tags": null
          },
          "name": "stderr",
          "output_type": "stream",
          "text": [
            "\r284it [07:29,  1.60s/it]"
          ]
        },
        {
          "metadata": {
            "tags": null
          },
          "name": "stdout",
          "output_type": "stream",
          "text": [
            "Processing Locus ID: PA14_23290, Feature ID: 1654591\n"
          ]
        },
        {
          "metadata": {
            "tags": null
          },
          "name": "stderr",
          "output_type": "stream",
          "text": [
            "\r285it [07:30,  1.56s/it]"
          ]
        },
        {
          "metadata": {
            "tags": null
          },
          "name": "stdout",
          "output_type": "stream",
          "text": [
            "Processing Locus ID: PA14_23310, Feature ID: 1654593\n"
          ]
        },
        {
          "metadata": {
            "tags": null
          },
          "name": "stderr",
          "output_type": "stream",
          "text": [
            "\r286it [07:32,  1.53s/it]"
          ]
        },
        {
          "metadata": {
            "tags": null
          },
          "name": "stdout",
          "output_type": "stream",
          "text": [
            "Processing Locus ID: PA14_23320, Feature ID: 1654595\n"
          ]
        },
        {
          "metadata": {
            "tags": null
          },
          "name": "stderr",
          "output_type": "stream",
          "text": [
            "\r287it [07:33,  1.60s/it]"
          ]
        },
        {
          "metadata": {
            "tags": null
          },
          "name": "stdout",
          "output_type": "stream",
          "text": [
            "Processing Locus ID: PA14_23330, Feature ID: 1654597\n"
          ]
        },
        {
          "metadata": {
            "tags": null
          },
          "name": "stderr",
          "output_type": "stream",
          "text": [
            "\r288it [07:35,  1.56s/it]"
          ]
        },
        {
          "metadata": {
            "tags": null
          },
          "name": "stdout",
          "output_type": "stream",
          "text": [
            "Processing Locus ID: PA14_23360, Feature ID: 1654603\n"
          ]
        },
        {
          "metadata": {
            "tags": null
          },
          "name": "stderr",
          "output_type": "stream",
          "text": [
            "\r289it [07:36,  1.55s/it]"
          ]
        },
        {
          "metadata": {
            "tags": null
          },
          "name": "stdout",
          "output_type": "stream",
          "text": [
            "Processing Locus ID: PA14_23370, Feature ID: 1654605\n"
          ]
        },
        {
          "metadata": {
            "tags": null
          },
          "name": "stderr",
          "output_type": "stream",
          "text": [
            "\r290it [07:38,  1.59s/it]"
          ]
        },
        {
          "metadata": {
            "tags": null
          },
          "name": "stdout",
          "output_type": "stream",
          "text": [
            "Processing Locus ID: PA14_23380, Feature ID: 1654607\n"
          ]
        },
        {
          "metadata": {
            "tags": null
          },
          "name": "stderr",
          "output_type": "stream",
          "text": [
            "\r291it [07:40,  1.57s/it]"
          ]
        },
        {
          "metadata": {
            "tags": null
          },
          "name": "stdout",
          "output_type": "stream",
          "text": [
            "Processing Locus ID: PA14_23390, Feature ID: 1654609\n"
          ]
        },
        {
          "metadata": {
            "tags": null
          },
          "name": "stderr",
          "output_type": "stream",
          "text": [
            "\r292it [07:41,  1.54s/it]"
          ]
        },
        {
          "metadata": {
            "tags": null
          },
          "name": "stdout",
          "output_type": "stream",
          "text": [
            "Processing Locus ID: PA14_23400, Feature ID: 1654611\n"
          ]
        },
        {
          "metadata": {
            "tags": null
          },
          "name": "stderr",
          "output_type": "stream",
          "text": [
            "\r293it [07:43,  1.59s/it]"
          ]
        },
        {
          "metadata": {
            "tags": null
          },
          "name": "stdout",
          "output_type": "stream",
          "text": [
            "Processing Locus ID: PA14_23410, Feature ID: 1654613\n"
          ]
        },
        {
          "metadata": {
            "tags": null
          },
          "name": "stderr",
          "output_type": "stream",
          "text": [
            "\r294it [07:44,  1.56s/it]"
          ]
        },
        {
          "metadata": {
            "tags": null
          },
          "name": "stdout",
          "output_type": "stream",
          "text": [
            "Processing Locus ID: PA14_23420, Feature ID: 1654615\n"
          ]
        },
        {
          "metadata": {
            "tags": null
          },
          "name": "stderr",
          "output_type": "stream",
          "text": [
            "\r295it [07:46,  1.54s/it]"
          ]
        },
        {
          "metadata": {
            "tags": null
          },
          "name": "stdout",
          "output_type": "stream",
          "text": [
            "Processing Locus ID: PA14_23430, Feature ID: 1654617\n"
          ]
        },
        {
          "metadata": {
            "tags": null
          },
          "name": "stderr",
          "output_type": "stream",
          "text": [
            "\r296it [07:48,  1.59s/it]"
          ]
        },
        {
          "metadata": {
            "tags": null
          },
          "name": "stdout",
          "output_type": "stream",
          "text": [
            "Processing Locus ID: PA14_23440, Feature ID: 1654619\n"
          ]
        },
        {
          "metadata": {
            "tags": null
          },
          "name": "stderr",
          "output_type": "stream",
          "text": [
            "\r297it [07:49,  1.56s/it]"
          ]
        },
        {
          "metadata": {
            "tags": null
          },
          "name": "stdout",
          "output_type": "stream",
          "text": [
            "Processing Locus ID: PA14_23450, Feature ID: 1654621\n"
          ]
        },
        {
          "metadata": {
            "tags": null
          },
          "name": "stderr",
          "output_type": "stream",
          "text": [
            "\r298it [07:51,  1.54s/it]"
          ]
        },
        {
          "metadata": {
            "tags": null
          },
          "name": "stdout",
          "output_type": "stream",
          "text": [
            "Processing Locus ID: PA14_23460, Feature ID: 1654623\n"
          ]
        },
        {
          "metadata": {
            "tags": null
          },
          "name": "stderr",
          "output_type": "stream",
          "text": [
            "\r299it [07:52,  1.58s/it]"
          ]
        },
        {
          "metadata": {
            "tags": null
          },
          "name": "stdout",
          "output_type": "stream",
          "text": [
            "Processing Locus ID: PA14_23500, Feature ID: 1654631\n"
          ]
        },
        {
          "metadata": {
            "tags": null
          },
          "name": "stderr",
          "output_type": "stream",
          "text": [
            "\r300it [07:54,  1.55s/it]"
          ]
        },
        {
          "metadata": {
            "tags": null
          },
          "name": "stdout",
          "output_type": "stream",
          "text": [
            "Processing Locus ID: PA14_23560, Feature ID: 1654641\n"
          ]
        },
        {
          "metadata": {
            "tags": null
          },
          "name": "stderr",
          "output_type": "stream",
          "text": [
            "\r301it [07:55,  1.53s/it]"
          ]
        },
        {
          "metadata": {
            "tags": null
          },
          "name": "stdout",
          "output_type": "stream",
          "text": [
            "Processing Locus ID: PA14_23750, Feature ID: 1654671\n"
          ]
        },
        {
          "metadata": {
            "tags": null
          },
          "name": "stderr",
          "output_type": "stream",
          "text": [
            "\r302it [07:57,  1.62s/it]"
          ]
        },
        {
          "metadata": {
            "tags": null
          },
          "name": "stdout",
          "output_type": "stream",
          "text": [
            "Processing Locus ID: PA14_23760, Feature ID: 1654673\n"
          ]
        },
        {
          "metadata": {
            "tags": null
          },
          "name": "stderr",
          "output_type": "stream",
          "text": [
            "\r303it [07:58,  1.58s/it]"
          ]
        },
        {
          "metadata": {
            "tags": null
          },
          "name": "stdout",
          "output_type": "stream",
          "text": [
            "Processing Locus ID: PA14_23790, Feature ID: 1654677\n"
          ]
        },
        {
          "metadata": {
            "tags": null
          },
          "name": "stderr",
          "output_type": "stream",
          "text": [
            "\r304it [08:00,  1.55s/it]"
          ]
        },
        {
          "metadata": {
            "tags": null
          },
          "name": "stdout",
          "output_type": "stream",
          "text": [
            "Processing Locus ID: PA14_23800, Feature ID: 1654679\n"
          ]
        },
        {
          "metadata": {
            "tags": null
          },
          "name": "stderr",
          "output_type": "stream",
          "text": [
            "\r305it [08:02,  1.58s/it]"
          ]
        },
        {
          "metadata": {
            "tags": null
          },
          "name": "stdout",
          "output_type": "stream",
          "text": [
            "Processing Locus ID: PA14_23850, Feature ID: 1654687\n"
          ]
        },
        {
          "metadata": {
            "tags": null
          },
          "name": "stderr",
          "output_type": "stream",
          "text": [
            "\r306it [08:03,  1.56s/it]"
          ]
        },
        {
          "metadata": {
            "tags": null
          },
          "name": "stdout",
          "output_type": "stream",
          "text": [
            "Processing Locus ID: PA14_23860, Feature ID: 1654689\n"
          ]
        },
        {
          "metadata": {
            "tags": null
          },
          "name": "stderr",
          "output_type": "stream",
          "text": [
            "\r307it [08:05,  1.54s/it]"
          ]
        },
        {
          "metadata": {
            "tags": null
          },
          "name": "stdout",
          "output_type": "stream",
          "text": [
            "Processing Locus ID: PA14_23880, Feature ID: 1654691\n"
          ]
        },
        {
          "metadata": {
            "tags": null
          },
          "name": "stderr",
          "output_type": "stream",
          "text": [
            "\r308it [08:06,  1.58s/it]"
          ]
        },
        {
          "metadata": {
            "tags": null
          },
          "name": "stdout",
          "output_type": "stream",
          "text": [
            "Processing Locus ID: PA14_23920, Feature ID: 1654697\n"
          ]
        },
        {
          "metadata": {
            "tags": null
          },
          "name": "stderr",
          "output_type": "stream",
          "text": [
            "\r309it [08:08,  1.56s/it]"
          ]
        },
        {
          "metadata": {
            "tags": null
          },
          "name": "stdout",
          "output_type": "stream",
          "text": [
            "Processing Locus ID: PA14_23930, Feature ID: 1654699\n"
          ]
        },
        {
          "metadata": {
            "tags": null
          },
          "name": "stderr",
          "output_type": "stream",
          "text": [
            "\r310it [08:09,  1.53s/it]"
          ]
        },
        {
          "metadata": {
            "tags": null
          },
          "name": "stdout",
          "output_type": "stream",
          "text": [
            "Processing Locus ID: PA14_24220, Feature ID: 1654743\n"
          ]
        },
        {
          "metadata": {
            "tags": null
          },
          "name": "stderr",
          "output_type": "stream",
          "text": [
            "\r311it [08:11,  1.58s/it]"
          ]
        },
        {
          "metadata": {
            "tags": null
          },
          "name": "stdout",
          "output_type": "stream",
          "text": [
            "Processing Locus ID: PA14_24370, Feature ID: 1654769\n"
          ]
        },
        {
          "metadata": {
            "tags": null
          },
          "name": "stderr",
          "output_type": "stream",
          "text": [
            "\r312it [08:12,  1.55s/it]"
          ]
        },
        {
          "metadata": {
            "tags": null
          },
          "name": "stdout",
          "output_type": "stream",
          "text": [
            "Processing Locus ID: PA14_24640, Feature ID: 1654815\n"
          ]
        },
        {
          "metadata": {
            "tags": null
          },
          "name": "stderr",
          "output_type": "stream",
          "text": [
            "\r313it [08:14,  1.53s/it]"
          ]
        },
        {
          "metadata": {
            "tags": null
          },
          "name": "stdout",
          "output_type": "stream",
          "text": [
            "Processing Locus ID: PA14_24710, Feature ID: 1654827\n"
          ]
        },
        {
          "metadata": {
            "tags": null
          },
          "name": "stderr",
          "output_type": "stream",
          "text": [
            "\r314it [08:16,  1.58s/it]"
          ]
        },
        {
          "metadata": {
            "tags": null
          },
          "name": "stdout",
          "output_type": "stream",
          "text": [
            "Processing Locus ID: PA14_25050, Feature ID: 1654887\n"
          ]
        },
        {
          "metadata": {
            "tags": null
          },
          "name": "stderr",
          "output_type": "stream",
          "text": [
            "\r315it [08:17,  1.55s/it]"
          ]
        },
        {
          "metadata": {
            "tags": null
          },
          "name": "stdout",
          "output_type": "stream",
          "text": [
            "Processing Locus ID: PA14_25080, Feature ID: 1654891\n"
          ]
        },
        {
          "metadata": {
            "tags": null
          },
          "name": "stderr",
          "output_type": "stream",
          "text": [
            "\r316it [08:19,  1.53s/it]"
          ]
        },
        {
          "metadata": {
            "tags": null
          },
          "name": "stdout",
          "output_type": "stream",
          "text": [
            "Processing Locus ID: PA14_25090, Feature ID: 1654893\n"
          ]
        },
        {
          "metadata": {
            "tags": null
          },
          "name": "stderr",
          "output_type": "stream",
          "text": [
            "\r317it [08:20,  1.59s/it]"
          ]
        },
        {
          "metadata": {
            "tags": null
          },
          "name": "stdout",
          "output_type": "stream",
          "text": [
            "Processing Locus ID: PA14_25110, Feature ID: 1654897\n"
          ]
        },
        {
          "metadata": {
            "tags": null
          },
          "name": "stderr",
          "output_type": "stream",
          "text": [
            "\r318it [08:22,  1.57s/it]"
          ]
        },
        {
          "metadata": {
            "tags": null
          },
          "name": "stdout",
          "output_type": "stream",
          "text": [
            "Processing Locus ID: PA14_25250, Feature ID: 1654917\n"
          ]
        },
        {
          "metadata": {
            "tags": null
          },
          "name": "stderr",
          "output_type": "stream",
          "text": [
            "\r319it [08:24,  1.62s/it]"
          ]
        },
        {
          "metadata": {
            "tags": null
          },
          "name": "stdout",
          "output_type": "stream",
          "text": [
            "Processing Locus ID: PA14_25390, Feature ID: 1654937\n"
          ]
        },
        {
          "metadata": {
            "tags": null
          },
          "name": "stderr",
          "output_type": "stream",
          "text": [
            "\r320it [08:25,  1.60s/it]"
          ]
        },
        {
          "metadata": {
            "tags": null
          },
          "name": "stdout",
          "output_type": "stream",
          "text": [
            "Processing Locus ID: PA14_25430, Feature ID: 1654945\n"
          ]
        },
        {
          "metadata": {
            "tags": null
          },
          "name": "stderr",
          "output_type": "stream",
          "text": [
            "\r321it [08:27,  1.58s/it]"
          ]
        },
        {
          "metadata": {
            "tags": null
          },
          "name": "stdout",
          "output_type": "stream",
          "text": [
            "Processing Locus ID: PA14_25440, Feature ID: 1654947\n"
          ]
        },
        {
          "metadata": {
            "tags": null
          },
          "name": "stderr",
          "output_type": "stream",
          "text": [
            "\r322it [08:28,  1.56s/it]"
          ]
        },
        {
          "metadata": {
            "tags": null
          },
          "name": "stdout",
          "output_type": "stream",
          "text": [
            "Processing Locus ID: PA14_25450, Feature ID: 1654949\n"
          ]
        },
        {
          "metadata": {
            "tags": null
          },
          "name": "stderr",
          "output_type": "stream",
          "text": [
            "\r323it [08:30,  1.61s/it]"
          ]
        },
        {
          "metadata": {
            "tags": null
          },
          "name": "stdout",
          "output_type": "stream",
          "text": [
            "Processing Locus ID: PA14_25500, Feature ID: 1654957\n"
          ]
        },
        {
          "metadata": {
            "tags": null
          },
          "name": "stderr",
          "output_type": "stream",
          "text": [
            "\r324it [08:31,  1.57s/it]"
          ]
        },
        {
          "metadata": {
            "tags": null
          },
          "name": "stdout",
          "output_type": "stream",
          "text": [
            "Processing Locus ID: PA14_25510, Feature ID: 1654959\n"
          ]
        },
        {
          "metadata": {
            "tags": null
          },
          "name": "stderr",
          "output_type": "stream",
          "text": [
            "\r325it [08:33,  1.56s/it]"
          ]
        },
        {
          "metadata": {
            "tags": null
          },
          "name": "stdout",
          "output_type": "stream",
          "text": [
            "Processing Locus ID: PA14_25520, Feature ID: 1654961\n"
          ]
        },
        {
          "metadata": {
            "tags": null
          },
          "name": "stderr",
          "output_type": "stream",
          "text": [
            "\r326it [08:35,  1.61s/it]"
          ]
        },
        {
          "metadata": {
            "tags": null
          },
          "name": "stdout",
          "output_type": "stream",
          "text": [
            "Processing Locus ID: PA14_25530, Feature ID: 1654963\n"
          ]
        },
        {
          "metadata": {
            "tags": null
          },
          "name": "stderr",
          "output_type": "stream",
          "text": [
            "\r327it [08:36,  1.56s/it]"
          ]
        },
        {
          "metadata": {
            "tags": null
          },
          "name": "stdout",
          "output_type": "stream",
          "text": [
            "Processing Locus ID: PA14_25550, Feature ID: 1654967\n"
          ]
        },
        {
          "metadata": {
            "tags": null
          },
          "name": "stderr",
          "output_type": "stream",
          "text": [
            "\r328it [08:38,  1.60s/it]"
          ]
        },
        {
          "metadata": {
            "tags": null
          },
          "name": "stdout",
          "output_type": "stream",
          "text": [
            "Processing Locus ID: PA14_25560, Feature ID: 1654969\n"
          ]
        },
        {
          "metadata": {
            "tags": null
          },
          "name": "stderr",
          "output_type": "stream",
          "text": [
            "\r329it [08:39,  1.56s/it]"
          ]
        },
        {
          "metadata": {
            "tags": null
          },
          "name": "stdout",
          "output_type": "stream",
          "text": [
            "Processing Locus ID: PA14_25650, Feature ID: 1654985\n"
          ]
        },
        {
          "metadata": {
            "tags": null
          },
          "name": "stderr",
          "output_type": "stream",
          "text": [
            "\r330it [08:41,  1.54s/it]"
          ]
        },
        {
          "metadata": {
            "tags": null
          },
          "name": "stdout",
          "output_type": "stream",
          "text": [
            "Processing Locus ID: PA14_25660, Feature ID: 1654987\n"
          ]
        },
        {
          "metadata": {
            "tags": null
          },
          "name": "stderr",
          "output_type": "stream",
          "text": [
            "\r331it [08:42,  1.58s/it]"
          ]
        },
        {
          "metadata": {
            "tags": null
          },
          "name": "stdout",
          "output_type": "stream",
          "text": [
            "Processing Locus ID: PA14_25690, Feature ID: 1654991\n"
          ]
        },
        {
          "metadata": {
            "tags": null
          },
          "name": "stderr",
          "output_type": "stream",
          "text": [
            "\r332it [08:44,  1.55s/it]"
          ]
        },
        {
          "metadata": {
            "tags": null
          },
          "name": "stdout",
          "output_type": "stream",
          "text": [
            "Processing Locus ID: PA14_25710, Feature ID: 1654993\n"
          ]
        },
        {
          "metadata": {
            "tags": null
          },
          "name": "stderr",
          "output_type": "stream",
          "text": [
            "\r333it [08:45,  1.52s/it]"
          ]
        },
        {
          "metadata": {
            "tags": null
          },
          "name": "stdout",
          "output_type": "stream",
          "text": [
            "Processing Locus ID: PA14_25740, Feature ID: 1654997\n"
          ]
        },
        {
          "metadata": {
            "tags": null
          },
          "name": "stderr",
          "output_type": "stream",
          "text": [
            "\r334it [08:47,  1.58s/it]"
          ]
        },
        {
          "metadata": {
            "tags": null
          },
          "name": "stdout",
          "output_type": "stream",
          "text": [
            "Processing Locus ID: PA14_25760, Feature ID: 1654999\n"
          ]
        },
        {
          "metadata": {
            "tags": null
          },
          "name": "stderr",
          "output_type": "stream",
          "text": [
            "\r335it [08:49,  1.56s/it]"
          ]
        },
        {
          "metadata": {
            "tags": null
          },
          "name": "stdout",
          "output_type": "stream",
          "text": [
            "Processing Locus ID: PA14_25840, Feature ID: 1655015\n"
          ]
        },
        {
          "metadata": {
            "tags": null
          },
          "name": "stderr",
          "output_type": "stream",
          "text": [
            "\r336it [08:50,  1.55s/it]"
          ]
        },
        {
          "metadata": {
            "tags": null
          },
          "name": "stdout",
          "output_type": "stream",
          "text": [
            "Processing Locus ID: PA14_25860, Feature ID: 1655017\n"
          ]
        },
        {
          "metadata": {
            "tags": null
          },
          "name": "stderr",
          "output_type": "stream",
          "text": [
            "\r337it [08:52,  1.58s/it]"
          ]
        },
        {
          "metadata": {
            "tags": null
          },
          "name": "stdout",
          "output_type": "stream",
          "text": [
            "Processing Locus ID: PA14_25880, Feature ID: 1655019\n"
          ]
        },
        {
          "metadata": {
            "tags": null
          },
          "name": "stderr",
          "output_type": "stream",
          "text": [
            "\r338it [08:53,  1.54s/it]"
          ]
        },
        {
          "metadata": {
            "tags": null
          },
          "name": "stdout",
          "output_type": "stream",
          "text": [
            "Processing Locus ID: PA14_25900, Feature ID: 1655021\n"
          ]
        },
        {
          "metadata": {
            "tags": null
          },
          "name": "stderr",
          "output_type": "stream",
          "text": [
            "\r339it [08:55,  1.52s/it]"
          ]
        },
        {
          "metadata": {
            "tags": null
          },
          "name": "stdout",
          "output_type": "stream",
          "text": [
            "Processing Locus ID: PA14_26000, Feature ID: 1655039\n"
          ]
        },
        {
          "metadata": {
            "tags": null
          },
          "name": "stderr",
          "output_type": "stream",
          "text": [
            "\r340it [08:56,  1.55s/it]"
          ]
        },
        {
          "metadata": {
            "tags": null
          },
          "name": "stdout",
          "output_type": "stream",
          "text": [
            "Processing Locus ID: PA14_26300, Feature ID: 1655085\n"
          ]
        },
        {
          "metadata": {
            "tags": null
          },
          "name": "stderr",
          "output_type": "stream",
          "text": [
            "\r341it [08:58,  1.54s/it]"
          ]
        },
        {
          "metadata": {
            "tags": null
          },
          "name": "stdout",
          "output_type": "stream",
          "text": [
            "Processing Locus ID: PA14_26590, Feature ID: 1655129\n"
          ]
        },
        {
          "metadata": {
            "tags": null
          },
          "name": "stderr",
          "output_type": "stream",
          "text": [
            "\r342it [08:59,  1.55s/it]"
          ]
        },
        {
          "metadata": {
            "tags": null
          },
          "name": "stdout",
          "output_type": "stream",
          "text": [
            "Processing Locus ID: PA14_26890, Feature ID: 1655171\n"
          ]
        },
        {
          "metadata": {
            "tags": null
          },
          "name": "stderr",
          "output_type": "stream",
          "text": [
            "\r343it [09:01,  1.59s/it]"
          ]
        },
        {
          "metadata": {
            "tags": null
          },
          "name": "stdout",
          "output_type": "stream",
          "text": [
            "Processing Locus ID: PA14_27200, Feature ID: 1655219\n"
          ]
        },
        {
          "metadata": {
            "tags": null
          },
          "name": "stderr",
          "output_type": "stream",
          "text": [
            "\r344it [09:03,  1.57s/it]"
          ]
        },
        {
          "metadata": {
            "tags": null
          },
          "name": "stdout",
          "output_type": "stream",
          "text": [
            "Processing Locus ID: PA14_27210, Feature ID: 1655221\n"
          ]
        },
        {
          "metadata": {
            "tags": null
          },
          "name": "stderr",
          "output_type": "stream",
          "text": [
            "\r345it [09:04,  1.53s/it]"
          ]
        },
        {
          "metadata": {
            "tags": null
          },
          "name": "stdout",
          "output_type": "stream",
          "text": [
            "Processing Locus ID: PA14_27220, Feature ID: 1655223\n"
          ]
        },
        {
          "metadata": {
            "tags": null
          },
          "name": "stderr",
          "output_type": "stream",
          "text": [
            "\r346it [09:06,  1.57s/it]"
          ]
        },
        {
          "metadata": {
            "tags": null
          },
          "name": "stdout",
          "output_type": "stream",
          "text": [
            "Processing Locus ID: PA14_27940, Feature ID: 1655345\n"
          ]
        },
        {
          "metadata": {
            "tags": null
          },
          "name": "stderr",
          "output_type": "stream",
          "text": [
            "\r347it [09:07,  1.55s/it]"
          ]
        },
        {
          "metadata": {
            "tags": null
          },
          "name": "stdout",
          "output_type": "stream",
          "text": [
            "Processing Locus ID: PA14_27950, Feature ID: 1655347\n"
          ]
        },
        {
          "metadata": {
            "tags": null
          },
          "name": "stderr",
          "output_type": "stream",
          "text": [
            "\r348it [09:09,  1.55s/it]"
          ]
        },
        {
          "metadata": {
            "tags": null
          },
          "name": "stdout",
          "output_type": "stream",
          "text": [
            "Processing Locus ID: PA14_27990, Feature ID: 1655353\n"
          ]
        },
        {
          "metadata": {
            "tags": null
          },
          "name": "stderr",
          "output_type": "stream",
          "text": [
            "\r349it [09:10,  1.58s/it]"
          ]
        },
        {
          "metadata": {
            "tags": null
          },
          "name": "stdout",
          "output_type": "stream",
          "text": [
            "Processing Locus ID: PA14_28200, Feature ID: 1655393\n"
          ]
        },
        {
          "metadata": {
            "tags": null
          },
          "name": "stderr",
          "output_type": "stream",
          "text": [
            "\r350it [09:12,  1.56s/it]"
          ]
        },
        {
          "metadata": {
            "tags": null
          },
          "name": "stdout",
          "output_type": "stream",
          "text": [
            "Processing Locus ID: PA14_28650, Feature ID: 1655475\n"
          ]
        },
        {
          "metadata": {
            "tags": null
          },
          "name": "stderr",
          "output_type": "stream",
          "text": [
            "\r351it [09:13,  1.53s/it]"
          ]
        },
        {
          "metadata": {
            "tags": null
          },
          "name": "stdout",
          "output_type": "stream",
          "text": [
            "Processing Locus ID: PA14_28660, Feature ID: 1655477\n"
          ]
        },
        {
          "metadata": {
            "tags": null
          },
          "name": "stderr",
          "output_type": "stream",
          "text": [
            "\r352it [09:15,  1.56s/it]"
          ]
        },
        {
          "metadata": {
            "tags": null
          },
          "name": "stdout",
          "output_type": "stream",
          "text": [
            "Processing Locus ID: PA14_28680, Feature ID: 1655481\n"
          ]
        },
        {
          "metadata": {
            "tags": null
          },
          "name": "stderr",
          "output_type": "stream",
          "text": [
            "\r353it [09:16,  1.53s/it]"
          ]
        },
        {
          "metadata": {
            "tags": null
          },
          "name": "stdout",
          "output_type": "stream",
          "text": [
            "Processing Locus ID: PA14_28690, Feature ID: 1655483\n"
          ]
        },
        {
          "metadata": {
            "tags": null
          },
          "name": "stderr",
          "output_type": "stream",
          "text": [
            "\r354it [09:18,  1.51s/it]"
          ]
        },
        {
          "metadata": {
            "tags": null
          },
          "name": "stdout",
          "output_type": "stream",
          "text": [
            "Processing Locus ID: PA14_28710, Feature ID: 1655485\n"
          ]
        },
        {
          "metadata": {
            "tags": null
          },
          "name": "stderr",
          "output_type": "stream",
          "text": [
            "\r355it [09:20,  1.56s/it]"
          ]
        },
        {
          "metadata": {
            "tags": null
          },
          "name": "stdout",
          "output_type": "stream",
          "text": [
            "Processing Locus ID: PA14_28770, Feature ID: 1655497\n"
          ]
        },
        {
          "metadata": {
            "tags": null
          },
          "name": "stderr",
          "output_type": "stream",
          "text": [
            "\r356it [09:21,  1.54s/it]"
          ]
        },
        {
          "metadata": {
            "tags": null
          },
          "name": "stdout",
          "output_type": "stream",
          "text": [
            "Processing Locus ID: PA14_28780, Feature ID: 1655499\n"
          ]
        },
        {
          "metadata": {
            "tags": null
          },
          "name": "stderr",
          "output_type": "stream",
          "text": [
            "\r357it [09:23,  1.54s/it]"
          ]
        },
        {
          "metadata": {
            "tags": null
          },
          "name": "stdout",
          "output_type": "stream",
          "text": [
            "Processing Locus ID: PA14_29260, Feature ID: 1655585\n"
          ]
        },
        {
          "metadata": {
            "tags": null
          },
          "name": "stderr",
          "output_type": "stream",
          "text": [
            "\r358it [09:24,  1.58s/it]"
          ]
        },
        {
          "metadata": {
            "tags": null
          },
          "name": "stdout",
          "output_type": "stream",
          "text": [
            "Processing Locus ID: PA14_29440, Feature ID: 1655614\n"
          ]
        },
        {
          "metadata": {
            "tags": null
          },
          "name": "stderr",
          "output_type": "stream",
          "text": [
            "\r359it [09:26,  1.56s/it]"
          ]
        },
        {
          "metadata": {
            "tags": null
          },
          "name": "stdout",
          "output_type": "stream",
          "text": [
            "Processing Locus ID: PA14_29860, Feature ID: 1655680\n"
          ]
        },
        {
          "metadata": {
            "tags": null
          },
          "name": "stderr",
          "output_type": "stream",
          "text": [
            "\r360it [09:27,  1.58s/it]"
          ]
        },
        {
          "metadata": {
            "tags": null
          },
          "name": "stdout",
          "output_type": "stream",
          "text": [
            "Processing Locus ID: PA14_29880, Feature ID: 1655682\n"
          ]
        },
        {
          "metadata": {
            "tags": null
          },
          "name": "stderr",
          "output_type": "stream",
          "text": [
            "\r361it [09:29,  1.62s/it]"
          ]
        },
        {
          "metadata": {
            "tags": null
          },
          "name": "stdout",
          "output_type": "stream",
          "text": [
            "Processing Locus ID: PA14_29900, Feature ID: 1655686\n"
          ]
        },
        {
          "metadata": {
            "tags": null
          },
          "name": "stderr",
          "output_type": "stream",
          "text": [
            "\r362it [09:31,  1.57s/it]"
          ]
        },
        {
          "metadata": {
            "tags": null
          },
          "name": "stdout",
          "output_type": "stream",
          "text": [
            "Processing Locus ID: PA14_30110, Feature ID: 1655718\n"
          ]
        },
        {
          "metadata": {
            "tags": null
          },
          "name": "stderr",
          "output_type": "stream",
          "text": [
            "\r363it [09:32,  1.55s/it]"
          ]
        },
        {
          "metadata": {
            "tags": null
          },
          "name": "stdout",
          "output_type": "stream",
          "text": [
            "Processing Locus ID: PA14_30150, Feature ID: 1655724\n"
          ]
        },
        {
          "metadata": {
            "tags": null
          },
          "name": "stderr",
          "output_type": "stream",
          "text": [
            "\r364it [09:34,  1.58s/it]"
          ]
        },
        {
          "metadata": {
            "tags": null
          },
          "name": "stdout",
          "output_type": "stream",
          "text": [
            "Processing Locus ID: PA14_30240, Feature ID: 1655738\n"
          ]
        },
        {
          "metadata": {
            "tags": null
          },
          "name": "stderr",
          "output_type": "stream",
          "text": [
            "\r365it [09:35,  1.58s/it]"
          ]
        },
        {
          "metadata": {
            "tags": null
          },
          "name": "stdout",
          "output_type": "stream",
          "text": [
            "Processing Locus ID: PA14_30290, Feature ID: 1655746\n"
          ]
        },
        {
          "metadata": {
            "tags": null
          },
          "name": "stderr",
          "output_type": "stream",
          "text": [
            "\r366it [09:37,  1.61s/it]"
          ]
        },
        {
          "metadata": {
            "tags": null
          },
          "name": "stdout",
          "output_type": "stream",
          "text": [
            "Processing Locus ID: PA14_30310, Feature ID: 1655748\n"
          ]
        },
        {
          "metadata": {
            "tags": null
          },
          "name": "stderr",
          "output_type": "stream",
          "text": [
            "\r367it [09:38,  1.57s/it]"
          ]
        },
        {
          "metadata": {
            "tags": null
          },
          "name": "stdout",
          "output_type": "stream",
          "text": [
            "Processing Locus ID: PA14_30330, Feature ID: 1655752\n"
          ]
        },
        {
          "metadata": {
            "tags": null
          },
          "name": "stderr",
          "output_type": "stream",
          "text": [
            "\r368it [09:40,  1.55s/it]"
          ]
        },
        {
          "metadata": {
            "tags": null
          },
          "name": "stdout",
          "output_type": "stream",
          "text": [
            "Processing Locus ID: PA14_30340, Feature ID: 1655754\n"
          ]
        },
        {
          "metadata": {
            "tags": null
          },
          "name": "stderr",
          "output_type": "stream",
          "text": [
            "\r369it [09:42,  1.61s/it]"
          ]
        },
        {
          "metadata": {
            "tags": null
          },
          "name": "stdout",
          "output_type": "stream",
          "text": [
            "Processing Locus ID: PA14_30370, Feature ID: 1655760\n"
          ]
        },
        {
          "metadata": {
            "tags": null
          },
          "name": "stderr",
          "output_type": "stream",
          "text": [
            "\r370it [09:43,  1.58s/it]"
          ]
        },
        {
          "metadata": {
            "tags": null
          },
          "name": "stdout",
          "output_type": "stream",
          "text": [
            "Processing Locus ID: PA14_30380, Feature ID: 1655762\n"
          ]
        },
        {
          "metadata": {
            "tags": null
          },
          "name": "stderr",
          "output_type": "stream",
          "text": [
            "\r371it [09:45,  1.54s/it]"
          ]
        },
        {
          "metadata": {
            "tags": null
          },
          "name": "stdout",
          "output_type": "stream",
          "text": [
            "Processing Locus ID: PA14_30390, Feature ID: 1655764\n"
          ]
        },
        {
          "metadata": {
            "tags": null
          },
          "name": "stderr",
          "output_type": "stream",
          "text": [
            "\r372it [09:46,  1.53s/it]"
          ]
        },
        {
          "metadata": {
            "tags": null
          },
          "name": "stdout",
          "output_type": "stream",
          "text": [
            "Processing Locus ID: PA14_30400, Feature ID: 1655766\n"
          ]
        },
        {
          "metadata": {
            "tags": null
          },
          "name": "stderr",
          "output_type": "stream",
          "text": [
            "\r373it [09:48,  1.58s/it]"
          ]
        },
        {
          "metadata": {
            "tags": null
          },
          "name": "stdout",
          "output_type": "stream",
          "text": [
            "Processing Locus ID: PA14_30670, Feature ID: 1655810\n"
          ]
        },
        {
          "metadata": {
            "tags": null
          },
          "name": "stderr",
          "output_type": "stream",
          "text": [
            "\r374it [09:49,  1.59s/it]"
          ]
        },
        {
          "metadata": {
            "tags": null
          },
          "name": "stdout",
          "output_type": "stream",
          "text": [
            "Processing Locus ID: PA14_30910, Feature ID: 1655856\n"
          ]
        },
        {
          "metadata": {
            "tags": null
          },
          "name": "stderr",
          "output_type": "stream",
          "text": [
            "\r375it [09:51,  1.65s/it]"
          ]
        },
        {
          "metadata": {
            "tags": null
          },
          "name": "stdout",
          "output_type": "stream",
          "text": [
            "Processing Locus ID: PA14_30940, Feature ID: 1655860\n"
          ]
        },
        {
          "metadata": {
            "tags": null
          },
          "name": "stderr",
          "output_type": "stream",
          "text": [
            "\r376it [09:53,  1.63s/it]"
          ]
        },
        {
          "metadata": {
            "tags": null
          },
          "name": "stdout",
          "output_type": "stream",
          "text": [
            "Processing Locus ID: PA14_31250, Feature ID: 1655914\n"
          ]
        },
        {
          "metadata": {
            "tags": null
          },
          "name": "stderr",
          "output_type": "stream",
          "text": [
            "\r377it [09:54,  1.58s/it]"
          ]
        },
        {
          "metadata": {
            "tags": null
          },
          "name": "stdout",
          "output_type": "stream",
          "text": [
            "Processing Locus ID: PA14_31290, Feature ID: 1655922\n"
          ]
        },
        {
          "metadata": {
            "tags": null
          },
          "name": "stderr",
          "output_type": "stream",
          "text": [
            "\r378it [09:56,  1.60s/it]"
          ]
        },
        {
          "metadata": {
            "tags": null
          },
          "name": "stdout",
          "output_type": "stream",
          "text": [
            "Processing Locus ID: PA14_31390, Feature ID: 1655940\n"
          ]
        },
        {
          "metadata": {
            "tags": null
          },
          "name": "stderr",
          "output_type": "stream",
          "text": [
            "\r379it [09:58,  1.58s/it]"
          ]
        },
        {
          "metadata": {
            "tags": null
          },
          "name": "stdout",
          "output_type": "stream",
          "text": [
            "Processing Locus ID: PA14_31580, Feature ID: 1655968\n"
          ]
        },
        {
          "metadata": {
            "tags": null
          },
          "name": "stderr",
          "output_type": "stream",
          "text": [
            "\r380it [09:59,  1.55s/it]"
          ]
        },
        {
          "metadata": {
            "tags": null
          },
          "name": "stdout",
          "output_type": "stream",
          "text": [
            "Processing Locus ID: PA14_32130, Feature ID: 1656040\n"
          ]
        },
        {
          "metadata": {
            "tags": null
          },
          "name": "stderr",
          "output_type": "stream",
          "text": [
            "\r381it [10:01,  1.60s/it]"
          ]
        },
        {
          "metadata": {
            "tags": null
          },
          "name": "stdout",
          "output_type": "stream",
          "text": [
            "Processing Locus ID: PA14_32220, Feature ID: 1656052\n"
          ]
        },
        {
          "metadata": {
            "tags": null
          },
          "name": "stderr",
          "output_type": "stream",
          "text": [
            "\r382it [10:02,  1.57s/it]"
          ]
        },
        {
          "metadata": {
            "tags": null
          },
          "name": "stdout",
          "output_type": "stream",
          "text": [
            "Processing Locus ID: PA14_32380, Feature ID: 1656080\n"
          ]
        },
        {
          "metadata": {
            "tags": null
          },
          "name": "stderr",
          "output_type": "stream",
          "text": [
            "\r383it [10:04,  1.56s/it]"
          ]
        },
        {
          "metadata": {
            "tags": null
          },
          "name": "stdout",
          "output_type": "stream",
          "text": [
            "Processing Locus ID: PA14_32420, Feature ID: 1656088\n"
          ]
        },
        {
          "metadata": {
            "tags": null
          },
          "name": "stderr",
          "output_type": "stream",
          "text": [
            "\r384it [10:05,  1.60s/it]"
          ]
        },
        {
          "metadata": {
            "tags": null
          },
          "name": "stdout",
          "output_type": "stream",
          "text": [
            "Processing Locus ID: PA14_32790, Feature ID: 1656146\n"
          ]
        },
        {
          "metadata": {
            "tags": null
          },
          "name": "stderr",
          "output_type": "stream",
          "text": [
            "\r385it [10:07,  1.58s/it]"
          ]
        },
        {
          "metadata": {
            "tags": null
          },
          "name": "stdout",
          "output_type": "stream",
          "text": [
            "Processing Locus ID: PA14_32810, Feature ID: 1656148\n"
          ]
        },
        {
          "metadata": {
            "tags": null
          },
          "name": "stderr",
          "output_type": "stream",
          "text": [
            "\r386it [10:08,  1.55s/it]"
          ]
        },
        {
          "metadata": {
            "tags": null
          },
          "name": "stdout",
          "output_type": "stream",
          "text": [
            "Processing Locus ID: PA14_32820, Feature ID: 1656150\n"
          ]
        },
        {
          "metadata": {
            "tags": null
          },
          "name": "stderr",
          "output_type": "stream",
          "text": [
            "\r387it [10:10,  1.58s/it]"
          ]
        },
        {
          "metadata": {
            "tags": null
          },
          "name": "stdout",
          "output_type": "stream",
          "text": [
            "Processing Locus ID: PA14_32830, Feature ID: 1656152\n"
          ]
        },
        {
          "metadata": {
            "tags": null
          },
          "name": "stderr",
          "output_type": "stream",
          "text": [
            "\r388it [10:12,  1.55s/it]"
          ]
        },
        {
          "metadata": {
            "tags": null
          },
          "name": "stdout",
          "output_type": "stream",
          "text": [
            "Processing Locus ID: PA14_33060, Feature ID: 1656186\n"
          ]
        },
        {
          "metadata": {
            "tags": null
          },
          "name": "stderr",
          "output_type": "stream",
          "text": [
            "\r389it [10:13,  1.54s/it]"
          ]
        },
        {
          "metadata": {
            "tags": null
          },
          "name": "stdout",
          "output_type": "stream",
          "text": [
            "Processing Locus ID: PA14_33270, Feature ID: 1656218\n"
          ]
        },
        {
          "metadata": {
            "tags": null
          },
          "name": "stderr",
          "output_type": "stream",
          "text": [
            "\r390it [10:15,  1.58s/it]"
          ]
        },
        {
          "metadata": {
            "tags": null
          },
          "name": "stdout",
          "output_type": "stream",
          "text": [
            "Processing Locus ID: PA14_33500, Feature ID: 1656256\n"
          ]
        },
        {
          "metadata": {
            "tags": null
          },
          "name": "stderr",
          "output_type": "stream",
          "text": [
            "\r391it [10:16,  1.55s/it]"
          ]
        },
        {
          "metadata": {
            "tags": null
          },
          "name": "stdout",
          "output_type": "stream",
          "text": [
            "Processing Locus ID: PA14_33530, Feature ID: 1656262\n"
          ]
        },
        {
          "metadata": {
            "tags": null
          },
          "name": "stderr",
          "output_type": "stream",
          "text": [
            "\r392it [10:18,  1.54s/it]"
          ]
        },
        {
          "metadata": {
            "tags": null
          },
          "name": "stdout",
          "output_type": "stream",
          "text": [
            "Processing Locus ID: PA14_33590, Feature ID: 1656274\n"
          ]
        },
        {
          "metadata": {
            "tags": null
          },
          "name": "stderr",
          "output_type": "stream",
          "text": [
            "\r393it [10:19,  1.58s/it]"
          ]
        },
        {
          "metadata": {
            "tags": null
          },
          "name": "stdout",
          "output_type": "stream",
          "text": [
            "Processing Locus ID: PA14_33600, Feature ID: 1656276\n"
          ]
        },
        {
          "metadata": {
            "tags": null
          },
          "name": "stderr",
          "output_type": "stream",
          "text": [
            "\r394it [10:21,  1.55s/it]"
          ]
        },
        {
          "metadata": {
            "tags": null
          },
          "name": "stdout",
          "output_type": "stream",
          "text": [
            "Processing Locus ID: PA14_33630, Feature ID: 1656280\n"
          ]
        },
        {
          "metadata": {
            "tags": null
          },
          "name": "stderr",
          "output_type": "stream",
          "text": [
            "\r395it [10:23,  1.56s/it]"
          ]
        },
        {
          "metadata": {
            "tags": null
          },
          "name": "stdout",
          "output_type": "stream",
          "text": [
            "Processing Locus ID: PA14_33650, Feature ID: 1656282\n"
          ]
        },
        {
          "metadata": {
            "tags": null
          },
          "name": "stderr",
          "output_type": "stream",
          "text": [
            "\r396it [10:24,  1.61s/it]"
          ]
        },
        {
          "metadata": {
            "tags": null
          },
          "name": "stdout",
          "output_type": "stream",
          "text": [
            "Processing Locus ID: PA14_33680, Feature ID: 1656284\n"
          ]
        },
        {
          "metadata": {
            "tags": null
          },
          "name": "stderr",
          "output_type": "stream",
          "text": [
            "\r397it [10:26,  1.58s/it]"
          ]
        },
        {
          "metadata": {
            "tags": null
          },
          "name": "stdout",
          "output_type": "stream",
          "text": [
            "Processing Locus ID: PA14_33690, Feature ID: 1656286\n"
          ]
        },
        {
          "metadata": {
            "tags": null
          },
          "name": "stderr",
          "output_type": "stream",
          "text": [
            "\r398it [10:27,  1.56s/it]"
          ]
        },
        {
          "metadata": {
            "tags": null
          },
          "name": "stdout",
          "output_type": "stream",
          "text": [
            "Processing Locus ID: PA14_33710, Feature ID: 1656290\n"
          ]
        },
        {
          "metadata": {
            "tags": null
          },
          "name": "stderr",
          "output_type": "stream",
          "text": [
            "\r399it [10:29,  1.59s/it]"
          ]
        },
        {
          "metadata": {
            "tags": null
          },
          "name": "stdout",
          "output_type": "stream",
          "text": [
            "Processing Locus ID: PA14_33730, Feature ID: 1656294\n"
          ]
        },
        {
          "metadata": {
            "tags": null
          },
          "name": "stderr",
          "output_type": "stream",
          "text": [
            "\r400it [10:30,  1.54s/it]"
          ]
        },
        {
          "metadata": {
            "tags": null
          },
          "name": "stdout",
          "output_type": "stream",
          "text": [
            "Processing Locus ID: PA14_33750, Feature ID: 1656298\n"
          ]
        },
        {
          "metadata": {
            "tags": null
          },
          "name": "stderr",
          "output_type": "stream",
          "text": [
            "\r401it [10:32,  1.53s/it]"
          ]
        },
        {
          "metadata": {
            "tags": null
          },
          "name": "stdout",
          "output_type": "stream",
          "text": [
            "Processing Locus ID: PA14_33760, Feature ID: 1656300\n"
          ]
        },
        {
          "metadata": {
            "tags": null
          },
          "name": "stderr",
          "output_type": "stream",
          "text": [
            "\r402it [10:34,  1.56s/it]"
          ]
        },
        {
          "metadata": {
            "tags": null
          },
          "name": "stdout",
          "output_type": "stream",
          "text": [
            "Processing Locus ID: PA14_33920, Feature ID: 1656328\n"
          ]
        },
        {
          "metadata": {
            "tags": null
          },
          "name": "stderr",
          "output_type": "stream",
          "text": [
            "\r403it [10:35,  1.54s/it]"
          ]
        },
        {
          "metadata": {
            "tags": null
          },
          "name": "stdout",
          "output_type": "stream",
          "text": [
            "Processing Locus ID: PA14_33960, Feature ID: 1656334\n"
          ]
        },
        {
          "metadata": {
            "tags": null
          },
          "name": "stderr",
          "output_type": "stream",
          "text": [
            "\r404it [10:36,  1.53s/it]"
          ]
        },
        {
          "metadata": {
            "tags": null
          },
          "name": "stdout",
          "output_type": "stream",
          "text": [
            "Processing Locus ID: PA14_34000, Feature ID: 1656342\n"
          ]
        },
        {
          "metadata": {
            "tags": null
          },
          "name": "stderr",
          "output_type": "stream",
          "text": [
            "\r405it [10:38,  1.60s/it]"
          ]
        },
        {
          "metadata": {
            "tags": null
          },
          "name": "stdout",
          "output_type": "stream",
          "text": [
            "Processing Locus ID: PA14_34020, Feature ID: 1656346\n"
          ]
        },
        {
          "metadata": {
            "tags": null
          },
          "name": "stderr",
          "output_type": "stream",
          "text": [
            "\r406it [10:40,  1.56s/it]"
          ]
        },
        {
          "metadata": {
            "tags": null
          },
          "name": "stdout",
          "output_type": "stream",
          "text": [
            "Processing Locus ID: PA14_34150, Feature ID: 1656364\n"
          ]
        },
        {
          "metadata": {
            "tags": null
          },
          "name": "stderr",
          "output_type": "stream",
          "text": [
            "\r407it [10:41,  1.54s/it]"
          ]
        },
        {
          "metadata": {
            "tags": null
          },
          "name": "stdout",
          "output_type": "stream",
          "text": [
            "Processing Locus ID: PA14_34190, Feature ID: 1656370\n"
          ]
        },
        {
          "metadata": {
            "tags": null
          },
          "name": "stderr",
          "output_type": "stream",
          "text": [
            "\r408it [10:43,  1.59s/it]"
          ]
        },
        {
          "metadata": {
            "tags": null
          },
          "name": "stdout",
          "output_type": "stream",
          "text": [
            "Processing Locus ID: PA14_34200, Feature ID: 1656372\n"
          ]
        },
        {
          "metadata": {
            "tags": null
          },
          "name": "stderr",
          "output_type": "stream",
          "text": [
            "\r409it [10:44,  1.55s/it]"
          ]
        },
        {
          "metadata": {
            "tags": null
          },
          "name": "stdout",
          "output_type": "stream",
          "text": [
            "Processing Locus ID: PA14_34290, Feature ID: 1656386\n"
          ]
        },
        {
          "metadata": {
            "tags": null
          },
          "name": "stderr",
          "output_type": "stream",
          "text": [
            "\r410it [10:46,  1.53s/it]"
          ]
        },
        {
          "metadata": {
            "tags": null
          },
          "name": "stdout",
          "output_type": "stream",
          "text": [
            "Processing Locus ID: PA14_34320, Feature ID: 1656390\n"
          ]
        },
        {
          "metadata": {
            "tags": null
          },
          "name": "stderr",
          "output_type": "stream",
          "text": [
            "\r411it [10:48,  1.57s/it]"
          ]
        },
        {
          "metadata": {
            "tags": null
          },
          "name": "stdout",
          "output_type": "stream",
          "text": [
            "Processing Locus ID: PA14_34350, Feature ID: 1656396\n"
          ]
        },
        {
          "metadata": {
            "tags": null
          },
          "name": "stderr",
          "output_type": "stream",
          "text": [
            "\r412it [10:49,  1.54s/it]"
          ]
        },
        {
          "metadata": {
            "tags": null
          },
          "name": "stdout",
          "output_type": "stream",
          "text": [
            "Processing Locus ID: PA14_34410, Feature ID: 1656404\n"
          ]
        },
        {
          "metadata": {
            "tags": null
          },
          "name": "stderr",
          "output_type": "stream",
          "text": [
            "\r413it [10:51,  1.53s/it]"
          ]
        },
        {
          "metadata": {
            "tags": null
          },
          "name": "stdout",
          "output_type": "stream",
          "text": [
            "Processing Locus ID: PA14_34500, Feature ID: 1656416\n"
          ]
        },
        {
          "metadata": {
            "tags": null
          },
          "name": "stderr",
          "output_type": "stream",
          "text": [
            "\r414it [10:52,  1.61s/it]"
          ]
        },
        {
          "metadata": {
            "tags": null
          },
          "name": "stdout",
          "output_type": "stream",
          "text": [
            "Processing Locus ID: PA14_34550, Feature ID: 1656424\n"
          ]
        },
        {
          "metadata": {
            "tags": null
          },
          "name": "stderr",
          "output_type": "stream",
          "text": [
            "\r415it [10:54,  1.57s/it]"
          ]
        },
        {
          "metadata": {
            "tags": null
          },
          "name": "stdout",
          "output_type": "stream",
          "text": [
            "Processing Locus ID: PA14_34600, Feature ID: 1656428\n"
          ]
        },
        {
          "metadata": {
            "tags": null
          },
          "name": "stderr",
          "output_type": "stream",
          "text": [
            "\r416it [10:55,  1.56s/it]"
          ]
        },
        {
          "metadata": {
            "tags": null
          },
          "name": "stdout",
          "output_type": "stream",
          "text": [
            "Processing Locus ID: PA14_35170, Feature ID: 1656522\n"
          ]
        },
        {
          "metadata": {
            "tags": null
          },
          "name": "stderr",
          "output_type": "stream",
          "text": [
            "\r417it [10:57,  1.60s/it]"
          ]
        },
        {
          "metadata": {
            "tags": null
          },
          "name": "stdout",
          "output_type": "stream",
          "text": [
            "Processing Locus ID: PA14_35700, Feature ID: 1656600\n"
          ]
        },
        {
          "metadata": {
            "tags": null
          },
          "name": "stderr",
          "output_type": "stream",
          "text": [
            "\r418it [10:59,  1.57s/it]"
          ]
        },
        {
          "metadata": {
            "tags": null
          },
          "name": "stdout",
          "output_type": "stream",
          "text": [
            "Processing Locus ID: PA14_35760, Feature ID: 1656612\n"
          ]
        },
        {
          "metadata": {
            "tags": null
          },
          "name": "stderr",
          "output_type": "stream",
          "text": [
            "\r419it [11:00,  1.56s/it]"
          ]
        },
        {
          "metadata": {
            "tags": null
          },
          "name": "stdout",
          "output_type": "stream",
          "text": [
            "Processing Locus ID: PA14_35770, Feature ID: 1656614\n"
          ]
        },
        {
          "metadata": {
            "tags": null
          },
          "name": "stderr",
          "output_type": "stream",
          "text": [
            "\r420it [11:02,  1.61s/it]"
          ]
        },
        {
          "metadata": {
            "tags": null
          },
          "name": "stdout",
          "output_type": "stream",
          "text": [
            "Processing Locus ID: PA14_35780, Feature ID: 1656616\n"
          ]
        },
        {
          "metadata": {
            "tags": null
          },
          "name": "stderr",
          "output_type": "stream",
          "text": [
            "\r421it [11:03,  1.60s/it]"
          ]
        },
        {
          "metadata": {
            "tags": null
          },
          "name": "stdout",
          "output_type": "stream",
          "text": [
            "Processing Locus ID: PA14_35790, Feature ID: 1656618\n"
          ]
        },
        {
          "metadata": {
            "tags": null
          },
          "name": "stderr",
          "output_type": "stream",
          "text": [
            "\r422it [11:05,  1.63s/it]"
          ]
        },
        {
          "metadata": {
            "tags": null
          },
          "name": "stdout",
          "output_type": "stream",
          "text": [
            "Processing Locus ID: PA14_35850, Feature ID: 1656630\n"
          ]
        },
        {
          "metadata": {
            "tags": null
          },
          "name": "stderr",
          "output_type": "stream",
          "text": [
            "\r423it [11:07,  1.59s/it]"
          ]
        },
        {
          "metadata": {
            "tags": null
          },
          "name": "stdout",
          "output_type": "stream",
          "text": [
            "Processing Locus ID: PA14_36050, Feature ID: 1656662\n"
          ]
        },
        {
          "metadata": {
            "tags": null
          },
          "name": "stderr",
          "output_type": "stream",
          "text": [
            "\r424it [11:08,  1.56s/it]"
          ]
        },
        {
          "metadata": {
            "tags": null
          },
          "name": "stdout",
          "output_type": "stream",
          "text": [
            "Processing Locus ID: PA14_36730, Feature ID: 1656778\n"
          ]
        },
        {
          "metadata": {
            "tags": null
          },
          "name": "stderr",
          "output_type": "stream",
          "text": [
            "\r425it [11:10,  1.54s/it]"
          ]
        },
        {
          "metadata": {
            "tags": null
          },
          "name": "stdout",
          "output_type": "stream",
          "text": [
            "Processing Locus ID: PA14_36780, Feature ID: 1656786\n"
          ]
        },
        {
          "metadata": {
            "tags": null
          },
          "name": "stderr",
          "output_type": "stream",
          "text": [
            "\r426it [11:11,  1.58s/it]"
          ]
        },
        {
          "metadata": {
            "tags": null
          },
          "name": "stdout",
          "output_type": "stream",
          "text": [
            "Processing Locus ID: PA14_37010, Feature ID: 1656826\n"
          ]
        },
        {
          "metadata": {
            "tags": null
          },
          "name": "stderr",
          "output_type": "stream",
          "text": [
            "\r427it [11:13,  1.55s/it]"
          ]
        },
        {
          "metadata": {
            "tags": null
          },
          "name": "stdout",
          "output_type": "stream",
          "text": [
            "Processing Locus ID: PA14_37250, Feature ID: 1656860\n"
          ]
        },
        {
          "metadata": {
            "tags": null
          },
          "name": "stderr",
          "output_type": "stream",
          "text": [
            "\r428it [11:14,  1.61s/it]"
          ]
        },
        {
          "metadata": {
            "tags": null
          },
          "name": "stdout",
          "output_type": "stream",
          "text": [
            "Processing Locus ID: PA14_37340, Feature ID: 1656872\n"
          ]
        },
        {
          "metadata": {
            "tags": null
          },
          "name": "stderr",
          "output_type": "stream",
          "text": [
            "\r429it [11:16,  1.58s/it]"
          ]
        },
        {
          "metadata": {
            "tags": null
          },
          "name": "stdout",
          "output_type": "stream",
          "text": [
            "Processing Locus ID: PA14_37470, Feature ID: 1656894\n"
          ]
        },
        {
          "metadata": {
            "tags": null
          },
          "name": "stderr",
          "output_type": "stream",
          "text": [
            "\r430it [11:17,  1.55s/it]"
          ]
        },
        {
          "metadata": {
            "tags": null
          },
          "name": "stdout",
          "output_type": "stream",
          "text": [
            "Processing Locus ID: PA14_37650, Feature ID: 1656920\n"
          ]
        },
        {
          "metadata": {
            "tags": null
          },
          "name": "stderr",
          "output_type": "stream",
          "text": [
            "\r431it [11:19,  1.60s/it]"
          ]
        },
        {
          "metadata": {
            "tags": null
          },
          "name": "stdout",
          "output_type": "stream",
          "text": [
            "Processing Locus ID: PA14_37830, Feature ID: 1656948\n"
          ]
        },
        {
          "metadata": {
            "tags": null
          },
          "name": "stderr",
          "output_type": "stream",
          "text": [
            "\r432it [11:21,  1.57s/it]"
          ]
        },
        {
          "metadata": {
            "tags": null
          },
          "name": "stdout",
          "output_type": "stream",
          "text": [
            "Processing Locus ID: PA14_38180, Feature ID: 1657000\n"
          ]
        },
        {
          "metadata": {
            "tags": null
          },
          "name": "stderr",
          "output_type": "stream",
          "text": [
            "\r433it [11:22,  1.56s/it]"
          ]
        },
        {
          "metadata": {
            "tags": null
          },
          "name": "stdout",
          "output_type": "stream",
          "text": [
            "Processing Locus ID: PA14_38190, Feature ID: 1657002\n"
          ]
        },
        {
          "metadata": {
            "tags": null
          },
          "name": "stderr",
          "output_type": "stream",
          "text": [
            "\r434it [11:24,  1.53s/it]"
          ]
        },
        {
          "metadata": {
            "tags": null
          },
          "name": "stdout",
          "output_type": "stream",
          "text": [
            "Processing Locus ID: PA14_38350, Feature ID: 1657028\n"
          ]
        },
        {
          "metadata": {
            "tags": null
          },
          "name": "stderr",
          "output_type": "stream",
          "text": [
            "\r435it [11:25,  1.59s/it]"
          ]
        },
        {
          "metadata": {
            "tags": null
          },
          "name": "stdout",
          "output_type": "stream",
          "text": [
            "Processing Locus ID: PA14_38395, Feature ID: 1657036\n"
          ]
        },
        {
          "metadata": {
            "tags": null
          },
          "name": "stderr",
          "output_type": "stream",
          "text": [
            "\r436it [11:27,  1.57s/it]"
          ]
        },
        {
          "metadata": {
            "tags": null
          },
          "name": "stdout",
          "output_type": "stream",
          "text": [
            "Processing Locus ID: PA14_38410, Feature ID: 1657038\n"
          ]
        },
        {
          "metadata": {
            "tags": null
          },
          "name": "stderr",
          "output_type": "stream",
          "text": [
            "\r437it [11:29,  1.64s/it]"
          ]
        },
        {
          "metadata": {
            "tags": null
          },
          "name": "stdout",
          "output_type": "stream",
          "text": [
            "Processing Locus ID: PA14_38550, Feature ID: 1657060\n"
          ]
        },
        {
          "metadata": {
            "tags": null
          },
          "name": "stderr",
          "output_type": "stream",
          "text": [
            "\r438it [11:30,  1.60s/it]"
          ]
        },
        {
          "metadata": {
            "tags": null
          },
          "name": "stdout",
          "output_type": "stream",
          "text": [
            "Processing Locus ID: PA14_38910, Feature ID: 1657116\n"
          ]
        },
        {
          "metadata": {
            "tags": null
          },
          "name": "stderr",
          "output_type": "stream",
          "text": [
            "\r439it [11:32,  1.58s/it]"
          ]
        },
        {
          "metadata": {
            "tags": null
          },
          "name": "stdout",
          "output_type": "stream",
          "text": [
            "Processing Locus ID: PA14_39470, Feature ID: 1657198\n"
          ]
        },
        {
          "metadata": {
            "tags": null
          },
          "name": "stderr",
          "output_type": "stream",
          "text": [
            "\r440it [11:33,  1.63s/it]"
          ]
        },
        {
          "metadata": {
            "tags": null
          },
          "name": "stdout",
          "output_type": "stream",
          "text": [
            "Processing Locus ID: PA14_39480, Feature ID: 1657200\n"
          ]
        },
        {
          "metadata": {
            "tags": null
          },
          "name": "stderr",
          "output_type": "stream",
          "text": [
            "\r441it [11:35,  1.59s/it]"
          ]
        },
        {
          "metadata": {
            "tags": null
          },
          "name": "stdout",
          "output_type": "stream",
          "text": [
            "Processing Locus ID: PA14_39640, Feature ID: 1657224\n"
          ]
        },
        {
          "metadata": {
            "tags": null
          },
          "name": "stderr",
          "output_type": "stream",
          "text": [
            "\r442it [11:37,  1.58s/it]"
          ]
        },
        {
          "metadata": {
            "tags": null
          },
          "name": "stdout",
          "output_type": "stream",
          "text": [
            "Processing Locus ID: PA14_39860, Feature ID: 1657260\n"
          ]
        },
        {
          "metadata": {
            "tags": null
          },
          "name": "stderr",
          "output_type": "stream",
          "text": [
            "\r443it [11:38,  1.61s/it]"
          ]
        },
        {
          "metadata": {
            "tags": null
          },
          "name": "stdout",
          "output_type": "stream",
          "text": [
            "Processing Locus ID: PA14_39910, Feature ID: 1657268\n"
          ]
        },
        {
          "metadata": {
            "tags": null
          },
          "name": "stderr",
          "output_type": "stream",
          "text": [
            "\r444it [11:40,  1.58s/it]"
          ]
        },
        {
          "metadata": {
            "tags": null
          },
          "name": "stdout",
          "output_type": "stream",
          "text": [
            "Processing Locus ID: PA14_39980, Feature ID: 1657278\n"
          ]
        },
        {
          "metadata": {
            "tags": null
          },
          "name": "stderr",
          "output_type": "stream",
          "text": [
            "\r445it [11:41,  1.57s/it]"
          ]
        },
        {
          "metadata": {
            "tags": null
          },
          "name": "stdout",
          "output_type": "stream",
          "text": [
            "Processing Locus ID: PA14_40040, Feature ID: 1657288\n"
          ]
        },
        {
          "metadata": {
            "tags": null
          },
          "name": "stderr",
          "output_type": "stream",
          "text": [
            "\r446it [11:43,  1.61s/it]"
          ]
        },
        {
          "metadata": {
            "tags": null
          },
          "name": "stdout",
          "output_type": "stream",
          "text": [
            "Processing Locus ID: PA14_40240, Feature ID: 1657322\n"
          ]
        },
        {
          "metadata": {
            "tags": null
          },
          "name": "stderr",
          "output_type": "stream",
          "text": [
            "\r447it [11:44,  1.57s/it]"
          ]
        },
        {
          "metadata": {
            "tags": null
          },
          "name": "stdout",
          "output_type": "stream",
          "text": [
            "Processing Locus ID: PA14_40260, Feature ID: 1657326\n"
          ]
        },
        {
          "metadata": {
            "tags": null
          },
          "name": "stderr",
          "output_type": "stream",
          "text": [
            "\r448it [11:46,  1.56s/it]"
          ]
        },
        {
          "metadata": {
            "tags": null
          },
          "name": "stdout",
          "output_type": "stream",
          "text": [
            "Processing Locus ID: PA14_40300, Feature ID: 1657334\n"
          ]
        },
        {
          "metadata": {
            "tags": null
          },
          "name": "stderr",
          "output_type": "stream",
          "text": [
            "\r449it [11:48,  1.60s/it]"
          ]
        },
        {
          "metadata": {
            "tags": null
          },
          "name": "stdout",
          "output_type": "stream",
          "text": [
            "Processing Locus ID: PA14_40310, Feature ID: 1657336\n"
          ]
        },
        {
          "metadata": {
            "tags": null
          },
          "name": "stderr",
          "output_type": "stream",
          "text": [
            "\r450it [11:49,  1.57s/it]"
          ]
        },
        {
          "metadata": {
            "tags": null
          },
          "name": "stdout",
          "output_type": "stream",
          "text": [
            "Processing Locus ID: PA14_40630, Feature ID: 1657384\n"
          ]
        },
        {
          "metadata": {
            "tags": null
          },
          "name": "stderr",
          "output_type": "stream",
          "text": [
            "\r451it [11:51,  1.55s/it]"
          ]
        },
        {
          "metadata": {
            "tags": null
          },
          "name": "stdout",
          "output_type": "stream",
          "text": [
            "Processing Locus ID: PA14_41050, Feature ID: 1657450\n"
          ]
        },
        {
          "metadata": {
            "tags": null
          },
          "name": "stderr",
          "output_type": "stream",
          "text": [
            "\r452it [11:52,  1.60s/it]"
          ]
        },
        {
          "metadata": {
            "tags": null
          },
          "name": "stdout",
          "output_type": "stream",
          "text": [
            "Processing Locus ID: PA14_41060, Feature ID: 1657452\n"
          ]
        },
        {
          "metadata": {
            "tags": null
          },
          "name": "stderr",
          "output_type": "stream",
          "text": [
            "\r453it [11:54,  1.57s/it]"
          ]
        },
        {
          "metadata": {
            "tags": null
          },
          "name": "stdout",
          "output_type": "stream",
          "text": [
            "Processing Locus ID: PA14_41230, Feature ID: 1657480\n"
          ]
        },
        {
          "metadata": {
            "tags": null
          },
          "name": "stderr",
          "output_type": "stream",
          "text": [
            "\r454it [11:55,  1.55s/it]"
          ]
        },
        {
          "metadata": {
            "tags": null
          },
          "name": "stdout",
          "output_type": "stream",
          "text": [
            "Processing Locus ID: PA14_41240, Feature ID: 1657482\n"
          ]
        },
        {
          "metadata": {
            "tags": null
          },
          "name": "stderr",
          "output_type": "stream",
          "text": [
            "\r455it [11:57,  1.59s/it]"
          ]
        },
        {
          "metadata": {
            "tags": null
          },
          "name": "stdout",
          "output_type": "stream",
          "text": [
            "Processing Locus ID: PA14_41350, Feature ID: 1657502\n"
          ]
        },
        {
          "metadata": {
            "tags": null
          },
          "name": "stderr",
          "output_type": "stream",
          "text": [
            "\r456it [11:59,  1.57s/it]"
          ]
        },
        {
          "metadata": {
            "tags": null
          },
          "name": "stdout",
          "output_type": "stream",
          "text": [
            "Processing Locus ID: PA14_41360, Feature ID: 1657504\n"
          ]
        },
        {
          "metadata": {
            "tags": null
          },
          "name": "stderr",
          "output_type": "stream",
          "text": [
            "\r457it [12:00,  1.54s/it]"
          ]
        },
        {
          "metadata": {
            "tags": null
          },
          "name": "stdout",
          "output_type": "stream",
          "text": [
            "Processing Locus ID: PA14_41380, Feature ID: 1657506\n"
          ]
        },
        {
          "metadata": {
            "tags": null
          },
          "name": "stderr",
          "output_type": "stream",
          "text": [
            "\r458it [12:02,  1.58s/it]"
          ]
        },
        {
          "metadata": {
            "tags": null
          },
          "name": "stdout",
          "output_type": "stream",
          "text": [
            "Processing Locus ID: PA14_41400, Feature ID: 1657510\n"
          ]
        },
        {
          "metadata": {
            "tags": null
          },
          "name": "stderr",
          "output_type": "stream",
          "text": [
            "\r459it [12:03,  1.55s/it]"
          ]
        },
        {
          "metadata": {
            "tags": null
          },
          "name": "stdout",
          "output_type": "stream",
          "text": [
            "Processing Locus ID: PA14_41470, Feature ID: 1657520\n"
          ]
        },
        {
          "metadata": {
            "tags": null
          },
          "name": "stderr",
          "output_type": "stream",
          "text": [
            "\r460it [12:05,  1.53s/it]"
          ]
        },
        {
          "metadata": {
            "tags": null
          },
          "name": "stdout",
          "output_type": "stream",
          "text": [
            "Processing Locus ID: PA14_41570, Feature ID: 1657540\n"
          ]
        },
        {
          "metadata": {
            "tags": null
          },
          "name": "stderr",
          "output_type": "stream",
          "text": [
            "\r461it [12:06,  1.57s/it]"
          ]
        },
        {
          "metadata": {
            "tags": null
          },
          "name": "stdout",
          "output_type": "stream",
          "text": [
            "Processing Locus ID: PA14_41575, Feature ID: 1657542\n"
          ]
        },
        {
          "metadata": {
            "tags": null
          },
          "name": "stderr",
          "output_type": "stream",
          "text": [
            "\r462it [12:08,  1.55s/it]"
          ]
        },
        {
          "metadata": {
            "tags": null
          },
          "name": "stdout",
          "output_type": "stream",
          "text": [
            "Processing Locus ID: PA14_41730, Feature ID: 1657562\n"
          ]
        },
        {
          "metadata": {
            "tags": null
          },
          "name": "stderr",
          "output_type": "stream",
          "text": [
            "\r463it [12:09,  1.52s/it]"
          ]
        },
        {
          "metadata": {
            "tags": null
          },
          "name": "stdout",
          "output_type": "stream",
          "text": [
            "Processing Locus ID: PA14_41840, Feature ID: 1657582\n"
          ]
        },
        {
          "metadata": {
            "tags": null
          },
          "name": "stderr",
          "output_type": "stream",
          "text": [
            "\r464it [12:11,  1.57s/it]"
          ]
        },
        {
          "metadata": {
            "tags": null
          },
          "name": "stdout",
          "output_type": "stream",
          "text": [
            "Processing Locus ID: PA14_41870, Feature ID: 1657586\n"
          ]
        },
        {
          "metadata": {
            "tags": null
          },
          "name": "stderr",
          "output_type": "stream",
          "text": [
            "\r465it [12:13,  1.55s/it]"
          ]
        },
        {
          "metadata": {
            "tags": null
          },
          "name": "stdout",
          "output_type": "stream",
          "text": [
            "Processing Locus ID: PA14_42260, Feature ID: 1657646\n"
          ]
        },
        {
          "metadata": {
            "tags": null
          },
          "name": "stderr",
          "output_type": "stream",
          "text": [
            "\r466it [12:14,  1.61s/it]"
          ]
        },
        {
          "metadata": {
            "tags": null
          },
          "name": "stdout",
          "output_type": "stream",
          "text": [
            "Processing Locus ID: PA14_42570, Feature ID: 1657700\n"
          ]
        },
        {
          "metadata": {
            "tags": null
          },
          "name": "stderr",
          "output_type": "stream",
          "text": [
            "\r467it [12:16,  1.66s/it]"
          ]
        },
        {
          "metadata": {
            "tags": null
          },
          "name": "stdout",
          "output_type": "stream",
          "text": [
            "Processing Locus ID: PA14_42720, Feature ID: 1657726\n"
          ]
        },
        {
          "metadata": {
            "tags": null
          },
          "name": "stderr",
          "output_type": "stream",
          "text": [
            "\r468it [12:18,  1.61s/it]"
          ]
        },
        {
          "metadata": {
            "tags": null
          },
          "name": "stdout",
          "output_type": "stream",
          "text": [
            "Processing Locus ID: PA14_42760, Feature ID: 1657734\n"
          ]
        },
        {
          "metadata": {
            "tags": null
          },
          "name": "stderr",
          "output_type": "stream",
          "text": [
            "\r469it [12:19,  1.59s/it]"
          ]
        },
        {
          "metadata": {
            "tags": null
          },
          "name": "stdout",
          "output_type": "stream",
          "text": [
            "Processing Locus ID: PA14_42850, Feature ID: 1657748\n"
          ]
        },
        {
          "metadata": {
            "tags": null
          },
          "name": "stderr",
          "output_type": "stream",
          "text": [
            "\r470it [12:21,  1.62s/it]"
          ]
        },
        {
          "metadata": {
            "tags": null
          },
          "name": "stdout",
          "output_type": "stream",
          "text": [
            "Processing Locus ID: PA14_43240, Feature ID: 1657816\n"
          ]
        },
        {
          "metadata": {
            "tags": null
          },
          "name": "stderr",
          "output_type": "stream",
          "text": [
            "\r471it [12:22,  1.57s/it]"
          ]
        },
        {
          "metadata": {
            "tags": null
          },
          "name": "stdout",
          "output_type": "stream",
          "text": [
            "Processing Locus ID: PA14_43440, Feature ID: 1657848\n"
          ]
        },
        {
          "metadata": {
            "tags": null
          },
          "name": "stderr",
          "output_type": "stream",
          "text": [
            "\r472it [12:24,  1.54s/it]"
          ]
        },
        {
          "metadata": {
            "tags": null
          },
          "name": "stdout",
          "output_type": "stream",
          "text": [
            "Processing Locus ID: PA14_43680, Feature ID: 1657886\n"
          ]
        },
        {
          "metadata": {
            "tags": null
          },
          "name": "stderr",
          "output_type": "stream",
          "text": [
            "\r473it [12:25,  1.59s/it]"
          ]
        },
        {
          "metadata": {
            "tags": null
          },
          "name": "stdout",
          "output_type": "stream",
          "text": [
            "Processing Locus ID: PA14_43690, Feature ID: 1657888\n"
          ]
        },
        {
          "metadata": {
            "tags": null
          },
          "name": "stderr",
          "output_type": "stream",
          "text": [
            "\r474it [12:27,  1.58s/it]"
          ]
        },
        {
          "metadata": {
            "tags": null
          },
          "name": "stdout",
          "output_type": "stream",
          "text": [
            "Processing Locus ID: PA14_43940, Feature ID: 1657928\n"
          ]
        },
        {
          "metadata": {
            "tags": null
          },
          "name": "stderr",
          "output_type": "stream",
          "text": [
            "\r475it [12:28,  1.56s/it]"
          ]
        },
        {
          "metadata": {
            "tags": null
          },
          "name": "stdout",
          "output_type": "stream",
          "text": [
            "Processing Locus ID: PA14_43950, Feature ID: 1657930\n"
          ]
        },
        {
          "metadata": {
            "tags": null
          },
          "name": "stderr",
          "output_type": "stream",
          "text": [
            "\r476it [12:30,  1.59s/it]"
          ]
        },
        {
          "metadata": {
            "tags": null
          },
          "name": "stdout",
          "output_type": "stream",
          "text": [
            "Processing Locus ID: PA14_43970, Feature ID: 1657932\n"
          ]
        },
        {
          "metadata": {
            "tags": null
          },
          "name": "stderr",
          "output_type": "stream",
          "text": [
            "\r477it [12:32,  1.56s/it]"
          ]
        },
        {
          "metadata": {
            "tags": null
          },
          "name": "stdout",
          "output_type": "stream",
          "text": [
            "Processing Locus ID: PA14_44000, Feature ID: 1657934\n"
          ]
        },
        {
          "metadata": {
            "tags": null
          },
          "name": "stderr",
          "output_type": "stream",
          "text": [
            "\r478it [12:33,  1.53s/it]"
          ]
        },
        {
          "metadata": {
            "tags": null
          },
          "name": "stdout",
          "output_type": "stream",
          "text": [
            "Processing Locus ID: PA14_44010, Feature ID: 1657936\n"
          ]
        },
        {
          "metadata": {
            "tags": null
          },
          "name": "stderr",
          "output_type": "stream",
          "text": [
            "\r479it [12:35,  1.58s/it]"
          ]
        },
        {
          "metadata": {
            "tags": null
          },
          "name": "stdout",
          "output_type": "stream",
          "text": [
            "Processing Locus ID: PA14_44020, Feature ID: 1657938\n"
          ]
        },
        {
          "metadata": {
            "tags": null
          },
          "name": "stderr",
          "output_type": "stream",
          "text": [
            "\r480it [12:36,  1.55s/it]"
          ]
        },
        {
          "metadata": {
            "tags": null
          },
          "name": "stdout",
          "output_type": "stream",
          "text": [
            "Processing Locus ID: PA14_44030, Feature ID: 1657940\n"
          ]
        },
        {
          "metadata": {
            "tags": null
          },
          "name": "stderr",
          "output_type": "stream",
          "text": [
            "\r481it [12:38,  1.53s/it]"
          ]
        },
        {
          "metadata": {
            "tags": null
          },
          "name": "stdout",
          "output_type": "stream",
          "text": [
            "Processing Locus ID: PA14_44050, Feature ID: 1657942\n"
          ]
        },
        {
          "output_type": "stream",
          "name": "stderr",
          "text": [
            "\r482it [12:39,  1.57s/it]"
          ]
        },
        {
          "output_type": "stream",
          "name": "stdout",
          "text": [
            "Processing Locus ID: PA14_44060, Feature ID: 1657944\n"
          ]
        },
        {
          "output_type": "stream",
          "name": "stderr",
          "text": [
            "\r483it [12:41,  1.54s/it]"
          ]
        },
        {
          "output_type": "stream",
          "name": "stdout",
          "text": [
            "Processing Locus ID: PA14_44070, Feature ID: 1657946\n"
          ]
        },
        {
          "output_type": "stream",
          "name": "stderr",
          "text": [
            "\r484it [12:43,  1.58s/it]"
          ]
        },
        {
          "output_type": "stream",
          "name": "stdout",
          "text": [
            "Processing Locus ID: PA14_44370, Feature ID: 1658000\n"
          ]
        },
        {
          "output_type": "stream",
          "name": "stderr",
          "text": [
            "\r485it [12:44,  1.56s/it]"
          ]
        },
        {
          "output_type": "stream",
          "name": "stdout",
          "text": [
            "Processing Locus ID: PA14_44380, Feature ID: 1658002\n"
          ]
        },
        {
          "output_type": "stream",
          "name": "stderr",
          "text": [
            "\r486it [12:46,  1.54s/it]"
          ]
        },
        {
          "output_type": "stream",
          "name": "stdout",
          "text": [
            "Processing Locus ID: PA14_44400, Feature ID: 1658006\n"
          ]
        },
        {
          "output_type": "stream",
          "name": "stderr",
          "text": [
            "\r487it [12:47,  1.54s/it]"
          ]
        },
        {
          "output_type": "stream",
          "name": "stdout",
          "text": [
            "Processing Locus ID: PA14_44440, Feature ID: 1658012\n"
          ]
        },
        {
          "output_type": "stream",
          "name": "stderr",
          "text": [
            "\r488it [12:49,  1.58s/it]"
          ]
        },
        {
          "output_type": "stream",
          "name": "stdout",
          "text": [
            "Processing Locus ID: PA14_44460, Feature ID: 1658016\n"
          ]
        },
        {
          "output_type": "stream",
          "name": "stderr",
          "text": [
            "\r489it [12:50,  1.57s/it]"
          ]
        },
        {
          "output_type": "stream",
          "name": "stdout",
          "text": [
            "Processing Locus ID: PA14_44630, Feature ID: 1658046\n"
          ]
        },
        {
          "output_type": "stream",
          "name": "stderr",
          "text": [
            "\r490it [12:52,  1.62s/it]"
          ]
        },
        {
          "output_type": "stream",
          "name": "stdout",
          "text": [
            "Processing Locus ID: PA14_44660, Feature ID: 1658052\n"
          ]
        },
        {
          "output_type": "stream",
          "name": "stderr",
          "text": [
            "\r491it [12:54,  1.59s/it]"
          ]
        },
        {
          "output_type": "stream",
          "name": "stdout",
          "text": [
            "Processing Locus ID: PA14_44670, Feature ID: 1658054\n"
          ]
        },
        {
          "output_type": "stream",
          "name": "stderr",
          "text": [
            "\r492it [12:55,  1.56s/it]"
          ]
        },
        {
          "output_type": "stream",
          "name": "stdout",
          "text": [
            "Processing Locus ID: PA14_44780, Feature ID: 1658070\n"
          ]
        },
        {
          "output_type": "stream",
          "name": "stderr",
          "text": [
            "\r493it [12:57,  1.61s/it]"
          ]
        },
        {
          "output_type": "stream",
          "name": "stdout",
          "text": [
            "Processing Locus ID: PA14_44910, Feature ID: 1658090\n"
          ]
        },
        {
          "output_type": "stream",
          "name": "stderr",
          "text": [
            "\r494it [12:58,  1.60s/it]"
          ]
        },
        {
          "output_type": "stream",
          "name": "stdout",
          "text": [
            "Processing Locus ID: PA14_44920, Feature ID: 1658092\n"
          ]
        },
        {
          "output_type": "stream",
          "name": "stderr",
          "text": [
            "\r495it [13:00,  1.56s/it]"
          ]
        },
        {
          "output_type": "stream",
          "name": "stdout",
          "text": [
            "Processing Locus ID: PA14_45280, Feature ID: 1658146\n"
          ]
        },
        {
          "output_type": "stream",
          "name": "stderr",
          "text": [
            "\r496it [13:01,  1.54s/it]"
          ]
        },
        {
          "output_type": "stream",
          "name": "stdout",
          "text": [
            "Processing Locus ID: PA14_45290, Feature ID: 1658148\n"
          ]
        },
        {
          "output_type": "stream",
          "name": "stderr",
          "text": [
            "\r497it [13:03,  1.58s/it]"
          ]
        },
        {
          "output_type": "stream",
          "name": "stdout",
          "text": [
            "Processing Locus ID: PA14_45300, Feature ID: 1658150\n"
          ]
        },
        {
          "output_type": "stream",
          "name": "stderr",
          "text": [
            "\r498it [13:05,  1.56s/it]"
          ]
        },
        {
          "output_type": "stream",
          "name": "stdout",
          "text": [
            "Processing Locus ID: PA14_45310, Feature ID: 1658152\n"
          ]
        },
        {
          "output_type": "stream",
          "name": "stderr",
          "text": [
            "\r499it [13:06,  1.61s/it]"
          ]
        },
        {
          "output_type": "stream",
          "name": "stdout",
          "text": [
            "Processing Locus ID: PA14_45340, Feature ID: 1658156\n"
          ]
        },
        {
          "output_type": "stream",
          "name": "stderr",
          "text": [
            "\r500it [13:08,  1.57s/it]"
          ]
        },
        {
          "output_type": "stream",
          "name": "stdout",
          "text": [
            "Processing Locus ID: PA14_45350, Feature ID: 1658158\n"
          ]
        },
        {
          "output_type": "stream",
          "name": "stderr",
          "text": [
            "\r501it [13:09,  1.56s/it]"
          ]
        },
        {
          "output_type": "stream",
          "name": "stdout",
          "text": [
            "Processing Locus ID: PA14_45370, Feature ID: 1658160\n"
          ]
        },
        {
          "output_type": "stream",
          "name": "stderr",
          "text": [
            "\r502it [13:11,  1.60s/it]"
          ]
        },
        {
          "output_type": "stream",
          "name": "stdout",
          "text": [
            "Processing Locus ID: PA14_45640, Feature ID: 1658200\n"
          ]
        },
        {
          "output_type": "stream",
          "name": "stderr",
          "text": [
            "\r503it [13:12,  1.57s/it]"
          ]
        },
        {
          "output_type": "stream",
          "name": "stdout",
          "text": [
            "Processing Locus ID: PA14_46020, Feature ID: 1658258\n"
          ]
        },
        {
          "output_type": "stream",
          "name": "stderr",
          "text": [
            "\r504it [13:14,  1.55s/it]"
          ]
        },
        {
          "output_type": "stream",
          "name": "stdout",
          "text": [
            "Processing Locus ID: PA14_46460, Feature ID: 1658330\n"
          ]
        },
        {
          "output_type": "stream",
          "name": "stderr",
          "text": [
            "\r505it [13:16,  1.59s/it]"
          ]
        },
        {
          "output_type": "stream",
          "name": "stdout",
          "text": [
            "Processing Locus ID: PA14_46470, Feature ID: 1658332\n"
          ]
        },
        {
          "output_type": "stream",
          "name": "stderr",
          "text": [
            "\r506it [13:17,  1.58s/it]"
          ]
        },
        {
          "output_type": "stream",
          "name": "stdout",
          "text": [
            "Processing Locus ID: PA14_46550, Feature ID: 1658346\n"
          ]
        },
        {
          "output_type": "stream",
          "name": "stderr",
          "text": [
            "\r507it [13:19,  1.55s/it]"
          ]
        },
        {
          "output_type": "stream",
          "name": "stdout",
          "text": [
            "Processing Locus ID: PA14_46840, Feature ID: 1658398\n"
          ]
        },
        {
          "output_type": "stream",
          "name": "stderr",
          "text": [
            "\r508it [13:20,  1.62s/it]"
          ]
        },
        {
          "output_type": "stream",
          "name": "stdout",
          "text": [
            "Processing Locus ID: PA14_48530, Feature ID: 1658662\n"
          ]
        },
        {
          "output_type": "stream",
          "name": "stderr",
          "text": [
            "\r509it [13:22,  1.59s/it]"
          ]
        },
        {
          "output_type": "stream",
          "name": "stdout",
          "text": [
            "Processing Locus ID: PA14_48980, Feature ID: 1658742\n"
          ]
        },
        {
          "output_type": "stream",
          "name": "stderr",
          "text": [
            "\r510it [13:23,  1.55s/it]"
          ]
        },
        {
          "output_type": "stream",
          "name": "stdout",
          "text": [
            "Processing Locus ID: PA14_49020, Feature ID: 1658750\n"
          ]
        },
        {
          "output_type": "stream",
          "name": "stderr",
          "text": [
            "\r511it [13:25,  1.59s/it]"
          ]
        },
        {
          "output_type": "stream",
          "name": "stdout",
          "text": [
            "Processing Locus ID: PA14_49030, Feature ID: 1658752\n"
          ]
        },
        {
          "output_type": "stream",
          "name": "stderr",
          "text": [
            "\r512it [13:27,  1.56s/it]"
          ]
        },
        {
          "output_type": "stream",
          "name": "stdout",
          "text": [
            "Processing Locus ID: PA14_49340, Feature ID: 1658806\n"
          ]
        },
        {
          "output_type": "stream",
          "name": "stderr",
          "text": [
            "\r513it [13:28,  1.57s/it]"
          ]
        },
        {
          "output_type": "stream",
          "name": "stdout",
          "text": [
            "Processing Locus ID: PA14_49380, Feature ID: 1658812\n"
          ]
        },
        {
          "output_type": "stream",
          "name": "stderr",
          "text": [
            "\r514it [13:30,  1.62s/it]"
          ]
        },
        {
          "output_type": "stream",
          "name": "stdout",
          "text": [
            "Processing Locus ID: PA14_49460, Feature ID: 1658824\n"
          ]
        },
        {
          "output_type": "stream",
          "name": "stderr",
          "text": [
            "\r515it [13:32,  1.62s/it]"
          ]
        },
        {
          "output_type": "stream",
          "name": "stdout",
          "text": [
            "Processing Locus ID: PA14_49470, Feature ID: 1658826\n"
          ]
        },
        {
          "output_type": "stream",
          "name": "stderr",
          "text": [
            "\r516it [13:33,  1.59s/it]"
          ]
        },
        {
          "output_type": "stream",
          "name": "stdout",
          "text": [
            "Processing Locus ID: PA14_49480, Feature ID: 1658828\n"
          ]
        },
        {
          "output_type": "stream",
          "name": "stderr",
          "text": [
            "\r517it [13:35,  1.62s/it]"
          ]
        },
        {
          "output_type": "stream",
          "name": "stdout",
          "text": [
            "Processing Locus ID: PA14_49510, Feature ID: 1658832\n"
          ]
        },
        {
          "output_type": "stream",
          "name": "stderr",
          "text": [
            "\r518it [13:36,  1.57s/it]"
          ]
        },
        {
          "output_type": "stream",
          "name": "stdout",
          "text": [
            "Processing Locus ID: PA14_49520, Feature ID: 1658834\n"
          ]
        },
        {
          "output_type": "stream",
          "name": "stderr",
          "text": [
            "\r519it [13:38,  1.55s/it]"
          ]
        },
        {
          "output_type": "stream",
          "name": "stdout",
          "text": [
            "Processing Locus ID: PA14_49730, Feature ID: 1658870\n"
          ]
        },
        {
          "output_type": "stream",
          "name": "stderr",
          "text": [
            "\r520it [13:39,  1.58s/it]"
          ]
        },
        {
          "output_type": "stream",
          "name": "stdout",
          "text": [
            "Processing Locus ID: PA14_50610, Feature ID: 1659010\n"
          ]
        },
        {
          "output_type": "stream",
          "name": "stderr",
          "text": [
            "\r521it [13:41,  1.58s/it]"
          ]
        },
        {
          "output_type": "stream",
          "name": "stdout",
          "text": [
            "Processing Locus ID: PA14_50800, Feature ID: 1659046\n"
          ]
        },
        {
          "output_type": "stream",
          "name": "stderr",
          "text": [
            "\r522it [13:42,  1.56s/it]"
          ]
        },
        {
          "output_type": "stream",
          "name": "stdout",
          "text": [
            "Processing Locus ID: PA14_50870, Feature ID: 1659060\n"
          ]
        },
        {
          "output_type": "stream",
          "name": "stderr",
          "text": [
            "\r523it [13:44,  1.60s/it]"
          ]
        },
        {
          "output_type": "stream",
          "name": "stdout",
          "text": [
            "Processing Locus ID: PA14_51240, Feature ID: 1659122\n"
          ]
        },
        {
          "output_type": "stream",
          "name": "stderr",
          "text": [
            "\r524it [13:46,  1.56s/it]"
          ]
        },
        {
          "output_type": "stream",
          "name": "stdout",
          "text": [
            "Processing Locus ID: PA14_51270, Feature ID: 1659128\n"
          ]
        },
        {
          "output_type": "stream",
          "name": "stderr",
          "text": [
            "\r525it [13:47,  1.54s/it]"
          ]
        },
        {
          "output_type": "stream",
          "name": "stdout",
          "text": [
            "Processing Locus ID: PA14_51310, Feature ID: 1659136\n"
          ]
        },
        {
          "output_type": "stream",
          "name": "stderr",
          "text": [
            "\r526it [13:49,  1.58s/it]"
          ]
        },
        {
          "output_type": "stream",
          "name": "stdout",
          "text": [
            "Processing Locus ID: PA14_51320, Feature ID: 1659138\n"
          ]
        },
        {
          "output_type": "stream",
          "name": "stderr",
          "text": [
            "\r527it [13:50,  1.55s/it]"
          ]
        },
        {
          "output_type": "stream",
          "name": "stdout",
          "text": [
            "Processing Locus ID: PA14_51460, Feature ID: 1659162\n"
          ]
        },
        {
          "output_type": "stream",
          "name": "stderr",
          "text": [
            "\r528it [13:52,  1.53s/it]"
          ]
        },
        {
          "output_type": "stream",
          "name": "stdout",
          "text": [
            "Processing Locus ID: PA14_51480, Feature ID: 1659166\n"
          ]
        },
        {
          "output_type": "stream",
          "name": "stderr",
          "text": [
            "\r529it [13:54,  1.58s/it]"
          ]
        },
        {
          "output_type": "stream",
          "name": "stdout",
          "text": [
            "Processing Locus ID: PA14_51590, Feature ID: 1659188\n"
          ]
        },
        {
          "output_type": "stream",
          "name": "stderr",
          "text": [
            "\r530it [13:55,  1.56s/it]"
          ]
        },
        {
          "output_type": "stream",
          "name": "stdout",
          "text": [
            "Processing Locus ID: PA14_51600, Feature ID: 1659190\n"
          ]
        },
        {
          "output_type": "stream",
          "name": "stderr",
          "text": [
            "\r531it [13:56,  1.53s/it]"
          ]
        },
        {
          "output_type": "stream",
          "name": "stdout",
          "text": [
            "Processing Locus ID: PA14_51610, Feature ID: 1659192\n"
          ]
        },
        {
          "output_type": "stream",
          "name": "stderr",
          "text": [
            "\r532it [13:58,  1.58s/it]"
          ]
        },
        {
          "output_type": "stream",
          "name": "stdout",
          "text": [
            "Processing Locus ID: PA14_51690, Feature ID: 1659208\n"
          ]
        },
        {
          "output_type": "stream",
          "name": "stderr",
          "text": [
            "\r533it [14:00,  1.56s/it]"
          ]
        },
        {
          "output_type": "stream",
          "name": "stdout",
          "text": [
            "Processing Locus ID: PA14_51710, Feature ID: 1659210\n"
          ]
        },
        {
          "output_type": "stream",
          "name": "stderr",
          "text": [
            "\r534it [14:01,  1.53s/it]"
          ]
        },
        {
          "output_type": "stream",
          "name": "stdout",
          "text": [
            "Processing Locus ID: PA14_51720, Feature ID: 1659212\n"
          ]
        },
        {
          "output_type": "stream",
          "name": "stderr",
          "text": [
            "\r535it [14:03,  1.57s/it]"
          ]
        },
        {
          "output_type": "stream",
          "name": "stdout",
          "text": [
            "Processing Locus ID: PA14_51730, Feature ID: 1659214\n"
          ]
        },
        {
          "output_type": "stream",
          "name": "stderr",
          "text": [
            "\r536it [14:04,  1.55s/it]"
          ]
        },
        {
          "output_type": "stream",
          "name": "stdout",
          "text": [
            "Processing Locus ID: PA14_51740, Feature ID: 1659216\n"
          ]
        },
        {
          "output_type": "stream",
          "name": "stderr",
          "text": [
            "\r537it [14:06,  1.60s/it]"
          ]
        },
        {
          "output_type": "stream",
          "name": "stdout",
          "text": [
            "Processing Locus ID: PA14_51750, Feature ID: 1659218\n"
          ]
        },
        {
          "output_type": "stream",
          "name": "stderr",
          "text": [
            "\r538it [14:08,  1.57s/it]"
          ]
        },
        {
          "output_type": "stream",
          "name": "stdout",
          "text": [
            "Processing Locus ID: PA14_51790, Feature ID: 1659224\n"
          ]
        },
        {
          "output_type": "stream",
          "name": "stderr",
          "text": [
            "\r539it [14:09,  1.56s/it]"
          ]
        },
        {
          "output_type": "stream",
          "name": "stdout",
          "text": [
            "Processing Locus ID: PA14_51820, Feature ID: 1659230\n"
          ]
        },
        {
          "output_type": "stream",
          "name": "stderr",
          "text": [
            "\r540it [14:11,  1.54s/it]"
          ]
        },
        {
          "output_type": "stream",
          "name": "stdout",
          "text": [
            "Processing Locus ID: PA14_51900, Feature ID: 1659244\n"
          ]
        },
        {
          "output_type": "stream",
          "name": "stderr",
          "text": [
            "\r541it [14:12,  1.58s/it]"
          ]
        },
        {
          "output_type": "stream",
          "name": "stdout",
          "text": [
            "Processing Locus ID: PA14_52010, Feature ID: 1659264\n"
          ]
        },
        {
          "output_type": "stream",
          "name": "stderr",
          "text": [
            "\r542it [14:14,  1.57s/it]"
          ]
        },
        {
          "output_type": "stream",
          "name": "stdout",
          "text": [
            "Processing Locus ID: PA14_52040, Feature ID: 1659268\n"
          ]
        },
        {
          "output_type": "stream",
          "name": "stderr",
          "text": [
            "\r543it [14:15,  1.55s/it]"
          ]
        },
        {
          "output_type": "stream",
          "name": "stdout",
          "text": [
            "Processing Locus ID: PA14_52050, Feature ID: 1659270\n"
          ]
        },
        {
          "output_type": "stream",
          "name": "stderr",
          "text": [
            "\r544it [14:17,  1.60s/it]"
          ]
        },
        {
          "output_type": "stream",
          "name": "stdout",
          "text": [
            "Processing Locus ID: PA14_52120, Feature ID: 1659282\n"
          ]
        },
        {
          "output_type": "stream",
          "name": "stderr",
          "text": [
            "\r545it [14:19,  1.59s/it]"
          ]
        },
        {
          "output_type": "stream",
          "name": "stdout",
          "text": [
            "Processing Locus ID: PA14_52530, Feature ID: 1659350\n"
          ]
        },
        {
          "output_type": "stream",
          "name": "stderr",
          "text": [
            "\r546it [14:20,  1.63s/it]"
          ]
        },
        {
          "output_type": "stream",
          "name": "stdout",
          "text": [
            "Processing Locus ID: PA14_52580, Feature ID: 1659360\n"
          ]
        },
        {
          "output_type": "stream",
          "name": "stderr",
          "text": [
            "\r547it [14:22,  1.59s/it]"
          ]
        },
        {
          "output_type": "stream",
          "name": "stdout",
          "text": [
            "Processing Locus ID: PA14_52600, Feature ID: 1659362\n"
          ]
        },
        {
          "output_type": "stream",
          "name": "stderr",
          "text": [
            "\r548it [14:23,  1.56s/it]"
          ]
        },
        {
          "output_type": "stream",
          "name": "stdout",
          "text": [
            "Processing Locus ID: PA14_52700, Feature ID: 1659376\n"
          ]
        },
        {
          "output_type": "stream",
          "name": "stderr",
          "text": [
            "\r549it [14:25,  1.54s/it]"
          ]
        },
        {
          "output_type": "stream",
          "name": "stdout",
          "text": [
            "Processing Locus ID: PA14_52850, Feature ID: 1659402\n"
          ]
        },
        {
          "output_type": "stream",
          "name": "stderr",
          "text": [
            "\r550it [14:26,  1.60s/it]"
          ]
        },
        {
          "output_type": "stream",
          "name": "stdout",
          "text": [
            "Processing Locus ID: PA14_53580, Feature ID: 1659522\n"
          ]
        },
        {
          "output_type": "stream",
          "name": "stderr",
          "text": [
            "\r551it [14:28,  1.57s/it]"
          ]
        },
        {
          "output_type": "stream",
          "name": "stdout",
          "text": [
            "Processing Locus ID: PA14_53590, Feature ID: 1659524\n"
          ]
        },
        {
          "output_type": "stream",
          "name": "stderr",
          "text": [
            "\r552it [14:30,  1.66s/it]"
          ]
        },
        {
          "output_type": "stream",
          "name": "stdout",
          "text": [
            "Processing Locus ID: PA14_53600, Feature ID: 1659526\n"
          ]
        },
        {
          "output_type": "stream",
          "name": "stderr",
          "text": [
            "\r553it [14:31,  1.63s/it]"
          ]
        },
        {
          "output_type": "stream",
          "name": "stdout",
          "text": [
            "Processing Locus ID: PA14_53610, Feature ID: 1659528\n"
          ]
        },
        {
          "output_type": "stream",
          "name": "stderr",
          "text": [
            "\r554it [14:33,  1.58s/it]"
          ]
        },
        {
          "output_type": "stream",
          "name": "stdout",
          "text": [
            "Processing Locus ID: PA14_53620, Feature ID: 1659530\n"
          ]
        },
        {
          "output_type": "stream",
          "name": "stderr",
          "text": [
            "\r555it [14:35,  1.60s/it]"
          ]
        },
        {
          "output_type": "stream",
          "name": "stdout",
          "text": [
            "Processing Locus ID: PA14_54290, Feature ID: 1659638\n"
          ]
        },
        {
          "output_type": "stream",
          "name": "stderr",
          "text": [
            "\r556it [14:36,  1.58s/it]"
          ]
        },
        {
          "output_type": "stream",
          "name": "stdout",
          "text": [
            "Processing Locus ID: PA14_54320, Feature ID: 1659642\n"
          ]
        },
        {
          "output_type": "stream",
          "name": "stderr",
          "text": [
            "\r557it [14:38,  1.55s/it]"
          ]
        },
        {
          "output_type": "stream",
          "name": "stdout",
          "text": [
            "Processing Locus ID: PA14_54330, Feature ID: 1659644\n"
          ]
        },
        {
          "output_type": "stream",
          "name": "stderr",
          "text": [
            "\r558it [14:39,  1.54s/it]"
          ]
        },
        {
          "output_type": "stream",
          "name": "stdout",
          "text": [
            "Processing Locus ID: PA14_54350, Feature ID: 1659648\n"
          ]
        },
        {
          "output_type": "stream",
          "name": "stderr",
          "text": [
            "\r559it [14:41,  1.59s/it]"
          ]
        },
        {
          "output_type": "stream",
          "name": "stdout",
          "text": [
            "Processing Locus ID: PA14_54390, Feature ID: 1659652\n"
          ]
        },
        {
          "output_type": "stream",
          "name": "stderr",
          "text": [
            "\r560it [14:42,  1.58s/it]"
          ]
        },
        {
          "output_type": "stream",
          "name": "stdout",
          "text": [
            "Processing Locus ID: PA14_54420, Feature ID: 1659658\n"
          ]
        },
        {
          "output_type": "stream",
          "name": "stderr",
          "text": [
            "\r561it [14:44,  1.61s/it]"
          ]
        },
        {
          "output_type": "stream",
          "name": "stdout",
          "text": [
            "Processing Locus ID: PA14_54480, Feature ID: 1659668\n"
          ]
        },
        {
          "output_type": "stream",
          "name": "stderr",
          "text": [
            "\r562it [14:45,  1.57s/it]"
          ]
        },
        {
          "output_type": "stream",
          "name": "stdout",
          "text": [
            "Processing Locus ID: PA14_54550, Feature ID: 1659680\n"
          ]
        },
        {
          "output_type": "stream",
          "name": "stderr",
          "text": [
            "\r563it [14:47,  1.54s/it]"
          ]
        },
        {
          "output_type": "stream",
          "name": "stdout",
          "text": [
            "Processing Locus ID: PA14_55040, Feature ID: 1659768\n"
          ]
        },
        {
          "output_type": "stream",
          "name": "stderr",
          "text": [
            "\r564it [14:49,  1.57s/it]"
          ]
        },
        {
          "output_type": "stream",
          "name": "stdout",
          "text": [
            "Processing Locus ID: PA14_55230, Feature ID: 1659802\n"
          ]
        },
        {
          "output_type": "stream",
          "name": "stderr",
          "text": [
            "\r565it [14:50,  1.55s/it]"
          ]
        },
        {
          "output_type": "stream",
          "name": "stdout",
          "text": [
            "Processing Locus ID: PA14_55340, Feature ID: 1659820\n"
          ]
        },
        {
          "output_type": "stream",
          "name": "stderr",
          "text": [
            "\r566it [14:52,  1.52s/it]"
          ]
        },
        {
          "output_type": "stream",
          "name": "stdout",
          "text": [
            "Processing Locus ID: PA14_55390, Feature ID: 1659826\n"
          ]
        },
        {
          "output_type": "stream",
          "name": "stderr",
          "text": [
            "\r567it [14:53,  1.60s/it]"
          ]
        },
        {
          "output_type": "stream",
          "name": "stdout",
          "text": [
            "Processing Locus ID: PA14_55410, Feature ID: 1659830\n"
          ]
        },
        {
          "output_type": "stream",
          "name": "stderr",
          "text": [
            "\r568it [14:55,  1.61s/it]"
          ]
        },
        {
          "output_type": "stream",
          "name": "stdout",
          "text": [
            "Processing Locus ID: PA14_55450, Feature ID: 1659836\n"
          ]
        },
        {
          "output_type": "stream",
          "name": "stderr",
          "text": [
            "\r569it [14:57,  1.59s/it]"
          ]
        },
        {
          "output_type": "stream",
          "name": "stdout",
          "text": [
            "Processing Locus ID: PA14_55520, Feature ID: 1659850\n"
          ]
        },
        {
          "output_type": "stream",
          "name": "stderr",
          "text": [
            "\r570it [14:58,  1.63s/it]"
          ]
        },
        {
          "output_type": "stream",
          "name": "stdout",
          "text": [
            "Processing Locus ID: PA14_55530, Feature ID: 1659852\n"
          ]
        },
        {
          "output_type": "stream",
          "name": "stderr",
          "text": [
            "\r571it [15:00,  1.58s/it]"
          ]
        },
        {
          "output_type": "stream",
          "name": "stdout",
          "text": [
            "Processing Locus ID: PA14_55660, Feature ID: 1659884\n"
          ]
        },
        {
          "output_type": "stream",
          "name": "stderr",
          "text": [
            "\r572it [15:01,  1.55s/it]"
          ]
        },
        {
          "output_type": "stream",
          "name": "stdout",
          "text": [
            "Processing Locus ID: PA14_55670, Feature ID: 1659886\n"
          ]
        },
        {
          "output_type": "stream",
          "name": "stderr",
          "text": [
            "\r573it [15:03,  1.59s/it]"
          ]
        },
        {
          "output_type": "stream",
          "name": "stdout",
          "text": [
            "Processing Locus ID: PA14_55690, Feature ID: 1659888\n"
          ]
        },
        {
          "output_type": "stream",
          "name": "stderr",
          "text": [
            "\r574it [15:04,  1.59s/it]"
          ]
        },
        {
          "output_type": "stream",
          "name": "stdout",
          "text": [
            "Processing Locus ID: PA14_55770, Feature ID: 1659902\n"
          ]
        },
        {
          "output_type": "stream",
          "name": "stderr",
          "text": [
            "\r575it [15:06,  1.59s/it]"
          ]
        },
        {
          "output_type": "stream",
          "name": "stdout",
          "text": [
            "Processing Locus ID: PA14_55800, Feature ID: 1659908\n"
          ]
        },
        {
          "output_type": "stream",
          "name": "stderr",
          "text": [
            "\r576it [15:08,  1.62s/it]"
          ]
        },
        {
          "output_type": "stream",
          "name": "stdout",
          "text": [
            "Processing Locus ID: PA14_56300, Feature ID: 1659984\n"
          ]
        },
        {
          "output_type": "stream",
          "name": "stderr",
          "text": [
            "\r577it [15:09,  1.57s/it]"
          ]
        },
        {
          "output_type": "stream",
          "name": "stdout",
          "text": [
            "Processing Locus ID: PA14_56780, Feature ID: 1660050\n"
          ]
        },
        {
          "output_type": "stream",
          "name": "stderr",
          "text": [
            "\r578it [15:11,  1.53s/it]"
          ]
        },
        {
          "output_type": "stream",
          "name": "stdout",
          "text": [
            "Processing Locus ID: PA14_57010, Feature ID: 1660090\n"
          ]
        },
        {
          "output_type": "stream",
          "name": "stderr",
          "text": [
            "\r579it [15:12,  1.58s/it]"
          ]
        },
        {
          "output_type": "stream",
          "name": "stdout",
          "text": [
            "Processing Locus ID: PA14_57020, Feature ID: 1660092\n"
          ]
        },
        {
          "output_type": "stream",
          "name": "stderr",
          "text": [
            "\r580it [15:14,  1.55s/it]"
          ]
        },
        {
          "output_type": "stream",
          "name": "stdout",
          "text": [
            "Processing Locus ID: PA14_57030, Feature ID: 1660094\n"
          ]
        },
        {
          "output_type": "stream",
          "name": "stderr",
          "text": [
            "\r581it [15:15,  1.53s/it]"
          ]
        },
        {
          "output_type": "stream",
          "name": "stdout",
          "text": [
            "Processing Locus ID: PA14_57170, Feature ID: 1660116\n"
          ]
        },
        {
          "output_type": "stream",
          "name": "stderr",
          "text": [
            "\r582it [15:17,  1.60s/it]"
          ]
        },
        {
          "output_type": "stream",
          "name": "stdout",
          "text": [
            "Processing Locus ID: PA14_57190, Feature ID: 1660120\n"
          ]
        },
        {
          "output_type": "stream",
          "name": "stderr",
          "text": [
            "\r583it [15:19,  1.57s/it]"
          ]
        },
        {
          "output_type": "stream",
          "name": "stdout",
          "text": [
            "Processing Locus ID: PA14_57220, Feature ID: 1660126\n"
          ]
        },
        {
          "output_type": "stream",
          "name": "stderr",
          "text": [
            "\r584it [15:20,  1.55s/it]"
          ]
        },
        {
          "output_type": "stream",
          "name": "stdout",
          "text": [
            "Processing Locus ID: PA14_57250, Feature ID: 1660130\n"
          ]
        },
        {
          "output_type": "stream",
          "name": "stderr",
          "text": [
            "\r585it [15:22,  1.58s/it]"
          ]
        },
        {
          "output_type": "stream",
          "name": "stdout",
          "text": [
            "Processing Locus ID: PA14_57260, Feature ID: 1660132\n"
          ]
        },
        {
          "output_type": "stream",
          "name": "stderr",
          "text": [
            "\r586it [15:23,  1.57s/it]"
          ]
        },
        {
          "output_type": "stream",
          "name": "stdout",
          "text": [
            "Processing Locus ID: PA14_57275, Feature ID: 1660134\n"
          ]
        },
        {
          "output_type": "stream",
          "name": "stderr",
          "text": [
            "\r587it [15:25,  1.54s/it]"
          ]
        },
        {
          "output_type": "stream",
          "name": "stdout",
          "text": [
            "Processing Locus ID: PA14_57290, Feature ID: 1660136\n"
          ]
        },
        {
          "output_type": "stream",
          "name": "stderr",
          "text": [
            "\r588it [15:26,  1.58s/it]"
          ]
        },
        {
          "output_type": "stream",
          "name": "stdout",
          "text": [
            "Processing Locus ID: PA14_57300, Feature ID: 1660138\n"
          ]
        },
        {
          "output_type": "stream",
          "name": "stderr",
          "text": [
            "\r589it [15:28,  1.55s/it]"
          ]
        },
        {
          "output_type": "stream",
          "name": "stdout",
          "text": [
            "Processing Locus ID: PA14_57320, Feature ID: 1660140\n"
          ]
        },
        {
          "output_type": "stream",
          "name": "stderr",
          "text": [
            "\r590it [15:29,  1.54s/it]"
          ]
        },
        {
          "output_type": "stream",
          "name": "stdout",
          "text": [
            "Processing Locus ID: PA14_57330, Feature ID: 1660142\n"
          ]
        },
        {
          "output_type": "stream",
          "name": "stderr",
          "text": [
            "\r591it [15:31,  1.60s/it]"
          ]
        },
        {
          "output_type": "stream",
          "name": "stdout",
          "text": [
            "Processing Locus ID: PA14_57340, Feature ID: 1660144\n"
          ]
        },
        {
          "output_type": "stream",
          "name": "stderr",
          "text": [
            "\r592it [15:33,  1.58s/it]"
          ]
        },
        {
          "output_type": "stream",
          "name": "stdout",
          "text": [
            "Processing Locus ID: PA14_57360, Feature ID: 1660146\n"
          ]
        },
        {
          "output_type": "stream",
          "name": "stderr",
          "text": [
            "\r593it [15:34,  1.55s/it]"
          ]
        },
        {
          "output_type": "stream",
          "name": "stdout",
          "text": [
            "Processing Locus ID: PA14_57370, Feature ID: 1660148\n"
          ]
        },
        {
          "output_type": "stream",
          "name": "stderr",
          "text": [
            "\r594it [15:36,  1.59s/it]"
          ]
        },
        {
          "output_type": "stream",
          "name": "stdout",
          "text": [
            "Processing Locus ID: PA14_57380, Feature ID: 1660150\n"
          ]
        },
        {
          "output_type": "stream",
          "name": "stderr",
          "text": [
            "\r595it [15:37,  1.57s/it]"
          ]
        },
        {
          "output_type": "stream",
          "name": "stdout",
          "text": [
            "Processing Locus ID: PA14_57390, Feature ID: 1660152\n"
          ]
        },
        {
          "output_type": "stream",
          "name": "stderr",
          "text": [
            "\r596it [15:39,  1.56s/it]"
          ]
        },
        {
          "output_type": "stream",
          "name": "stdout",
          "text": [
            "Processing Locus ID: PA14_57410, Feature ID: 1660154\n"
          ]
        },
        {
          "output_type": "stream",
          "name": "stderr",
          "text": [
            "\r597it [15:41,  1.62s/it]"
          ]
        },
        {
          "output_type": "stream",
          "name": "stdout",
          "text": [
            "Processing Locus ID: PA14_57425, Feature ID: 1660156\n"
          ]
        },
        {
          "output_type": "stream",
          "name": "stderr",
          "text": [
            "\r598it [15:42,  1.58s/it]"
          ]
        },
        {
          "output_type": "stream",
          "name": "stdout",
          "text": [
            "Processing Locus ID: PA14_57440, Feature ID: 1660158\n"
          ]
        },
        {
          "output_type": "stream",
          "name": "stderr",
          "text": [
            "\r599it [15:44,  1.55s/it]"
          ]
        },
        {
          "output_type": "stream",
          "name": "stdout",
          "text": [
            "Processing Locus ID: PA14_57450, Feature ID: 1660160\n"
          ]
        },
        {
          "output_type": "stream",
          "name": "stderr",
          "text": [
            "\r600it [15:45,  1.59s/it]"
          ]
        },
        {
          "output_type": "stream",
          "name": "stdout",
          "text": [
            "Processing Locus ID: PA14_57460, Feature ID: 1660162\n"
          ]
        },
        {
          "output_type": "stream",
          "name": "stderr",
          "text": [
            "\r601it [15:47,  1.55s/it]"
          ]
        },
        {
          "output_type": "stream",
          "name": "stdout",
          "text": [
            "Processing Locus ID: PA14_57500, Feature ID: 1660170\n"
          ]
        },
        {
          "output_type": "stream",
          "name": "stderr",
          "text": [
            "\r602it [15:48,  1.53s/it]"
          ]
        },
        {
          "output_type": "stream",
          "name": "stdout",
          "text": [
            "Processing Locus ID: PA14_57540, Feature ID: 1660178\n"
          ]
        },
        {
          "output_type": "stream",
          "name": "stderr",
          "text": [
            "\r603it [15:50,  1.57s/it]"
          ]
        },
        {
          "output_type": "stream",
          "name": "stdout",
          "text": [
            "Processing Locus ID: PA14_57560, Feature ID: 1660180\n"
          ]
        },
        {
          "output_type": "stream",
          "name": "stderr",
          "text": [
            "\r604it [15:51,  1.54s/it]"
          ]
        },
        {
          "output_type": "stream",
          "name": "stdout",
          "text": [
            "Processing Locus ID: PA14_57570, Feature ID: 1660182\n"
          ]
        },
        {
          "output_type": "stream",
          "name": "stderr",
          "text": [
            "\r605it [15:53,  1.53s/it]"
          ]
        },
        {
          "output_type": "stream",
          "name": "stdout",
          "text": [
            "Processing Locus ID: PA14_57580, Feature ID: 1660184\n"
          ]
        },
        {
          "output_type": "stream",
          "name": "stderr",
          "text": [
            "\r606it [15:55,  1.60s/it]"
          ]
        },
        {
          "output_type": "stream",
          "name": "stdout",
          "text": [
            "Processing Locus ID: PA14_57590, Feature ID: 1660186\n"
          ]
        },
        {
          "output_type": "stream",
          "name": "stderr",
          "text": [
            "\r607it [15:56,  1.58s/it]"
          ]
        },
        {
          "output_type": "stream",
          "name": "stdout",
          "text": [
            "Processing Locus ID: PA14_57670, Feature ID: 1660197\n"
          ]
        },
        {
          "output_type": "stream",
          "name": "stderr",
          "text": [
            "\r608it [15:58,  1.64s/it]"
          ]
        },
        {
          "output_type": "stream",
          "name": "stdout",
          "text": [
            "Processing Locus ID: PA14_57770, Feature ID: 1660213\n"
          ]
        },
        {
          "output_type": "stream",
          "name": "stderr",
          "text": [
            "\r609it [16:00,  1.62s/it]"
          ]
        },
        {
          "output_type": "stream",
          "name": "stdout",
          "text": [
            "Processing Locus ID: PA14_57780, Feature ID: 1660215\n"
          ]
        },
        {
          "output_type": "stream",
          "name": "stderr",
          "text": [
            "\r610it [16:01,  1.59s/it]"
          ]
        },
        {
          "output_type": "stream",
          "name": "stdout",
          "text": [
            "Processing Locus ID: PA14_57800, Feature ID: 1660217\n"
          ]
        },
        {
          "output_type": "stream",
          "name": "stderr",
          "text": [
            "\r611it [16:02,  1.55s/it]"
          ]
        },
        {
          "output_type": "stream",
          "name": "stdout",
          "text": [
            "Processing Locus ID: PA14_57810, Feature ID: 1660219\n"
          ]
        },
        {
          "output_type": "stream",
          "name": "stderr",
          "text": [
            "\r612it [16:04,  1.60s/it]"
          ]
        },
        {
          "output_type": "stream",
          "name": "stdout",
          "text": [
            "Processing Locus ID: PA14_57890, Feature ID: 1660233\n"
          ]
        },
        {
          "output_type": "stream",
          "name": "stderr",
          "text": [
            "\r613it [16:06,  1.57s/it]"
          ]
        },
        {
          "output_type": "stream",
          "name": "stdout",
          "text": [
            "Processing Locus ID: PA14_57910, Feature ID: 1660237\n"
          ]
        },
        {
          "output_type": "stream",
          "name": "stderr",
          "text": [
            "\r614it [16:07,  1.55s/it]"
          ]
        },
        {
          "output_type": "stream",
          "name": "stdout",
          "text": [
            "Processing Locus ID: PA14_57920, Feature ID: 1660239\n"
          ]
        },
        {
          "output_type": "stream",
          "name": "stderr",
          "text": [
            "\r615it [16:09,  1.67s/it]"
          ]
        },
        {
          "output_type": "stream",
          "name": "stdout",
          "text": [
            "Processing Locus ID: PA14_57930, Feature ID: 1660241\n"
          ]
        },
        {
          "output_type": "stream",
          "name": "stderr",
          "text": [
            "\r616it [16:11,  1.62s/it]"
          ]
        },
        {
          "output_type": "stream",
          "name": "stdout",
          "text": [
            "Processing Locus ID: PA14_57940, Feature ID: 1660243\n"
          ]
        },
        {
          "output_type": "stream",
          "name": "stderr",
          "text": [
            "\r617it [16:12,  1.65s/it]"
          ]
        },
        {
          "output_type": "stream",
          "name": "stdout",
          "text": [
            "Processing Locus ID: PA14_57960, Feature ID: 1660247\n"
          ]
        },
        {
          "output_type": "stream",
          "name": "stderr",
          "text": [
            "\r618it [16:14,  1.60s/it]"
          ]
        },
        {
          "output_type": "stream",
          "name": "stdout",
          "text": [
            "Processing Locus ID: PA14_58120, Feature ID: 1660277\n"
          ]
        },
        {
          "output_type": "stream",
          "name": "stderr",
          "text": [
            "\r619it [16:15,  1.58s/it]"
          ]
        },
        {
          "output_type": "stream",
          "name": "stdout",
          "text": [
            "Processing Locus ID: PA14_58130, Feature ID: 1660279\n"
          ]
        },
        {
          "output_type": "stream",
          "name": "stderr",
          "text": [
            "\r620it [16:17,  1.56s/it]"
          ]
        },
        {
          "output_type": "stream",
          "name": "stdout",
          "text": [
            "Processing Locus ID: PA14_58150, Feature ID: 1660281\n"
          ]
        },
        {
          "output_type": "stream",
          "name": "stderr",
          "text": [
            "\r621it [16:19,  1.61s/it]"
          ]
        },
        {
          "output_type": "stream",
          "name": "stdout",
          "text": [
            "Processing Locus ID: PA14_58170, Feature ID: 1660283\n"
          ]
        },
        {
          "output_type": "stream",
          "name": "stderr",
          "text": [
            "\r622it [16:20,  1.57s/it]"
          ]
        },
        {
          "output_type": "stream",
          "name": "stdout",
          "text": [
            "Processing Locus ID: PA14_58180, Feature ID: 1660285\n"
          ]
        },
        {
          "output_type": "stream",
          "name": "stderr",
          "text": [
            "\r623it [16:22,  1.60s/it]"
          ]
        },
        {
          "output_type": "stream",
          "name": "stdout",
          "text": [
            "Processing Locus ID: PA14_58190, Feature ID: 1660287\n"
          ]
        },
        {
          "output_type": "stream",
          "name": "stderr",
          "text": [
            "\r624it [16:23,  1.56s/it]"
          ]
        },
        {
          "output_type": "stream",
          "name": "stdout",
          "text": [
            "Processing Locus ID: PA14_58700, Feature ID: 1660367\n"
          ]
        },
        {
          "output_type": "stream",
          "name": "stderr",
          "text": [
            "\r625it [16:25,  1.55s/it]"
          ]
        },
        {
          "output_type": "stream",
          "name": "stdout",
          "text": [
            "Processing Locus ID: PA14_58720, Feature ID: 1660371\n"
          ]
        },
        {
          "output_type": "stream",
          "name": "stderr",
          "text": [
            "\r626it [16:26,  1.60s/it]"
          ]
        },
        {
          "output_type": "stream",
          "name": "stdout",
          "text": [
            "Processing Locus ID: PA14_58730, Feature ID: 1660373\n"
          ]
        },
        {
          "output_type": "stream",
          "name": "stderr",
          "text": [
            "\r627it [16:28,  1.57s/it]"
          ]
        },
        {
          "output_type": "stream",
          "name": "stdout",
          "text": [
            "Processing Locus ID: PA14_58760, Feature ID: 1660379\n"
          ]
        },
        {
          "output_type": "stream",
          "name": "stderr",
          "text": [
            "\r628it [16:29,  1.54s/it]"
          ]
        },
        {
          "output_type": "stream",
          "name": "stdout",
          "text": [
            "Processing Locus ID: PA14_58780, Feature ID: 1660383\n"
          ]
        },
        {
          "output_type": "stream",
          "name": "stderr",
          "text": [
            "\r629it [16:31,  1.52s/it]"
          ]
        },
        {
          "output_type": "stream",
          "name": "stdout",
          "text": [
            "Processing Locus ID: PA14_58920, Feature ID: 1660411\n"
          ]
        },
        {
          "output_type": "stream",
          "name": "stderr",
          "text": [
            "\r630it [16:33,  1.59s/it]"
          ]
        },
        {
          "output_type": "stream",
          "name": "stdout",
          "text": [
            "Processing Locus ID: PA14_58950, Feature ID: 1660417\n"
          ]
        },
        {
          "output_type": "stream",
          "name": "stderr",
          "text": [
            "\r631it [16:34,  1.55s/it]"
          ]
        },
        {
          "output_type": "stream",
          "name": "stdout",
          "text": [
            "Processing Locus ID: PA14_58970, Feature ID: 1660421\n"
          ]
        },
        {
          "output_type": "stream",
          "name": "stderr",
          "text": [
            "\r632it [16:36,  1.61s/it]"
          ]
        },
        {
          "output_type": "stream",
          "name": "stdout",
          "text": [
            "Processing Locus ID: PA14_58990, Feature ID: 1660425\n"
          ]
        },
        {
          "output_type": "stream",
          "name": "stderr",
          "text": [
            "\r633it [16:37,  1.58s/it]"
          ]
        },
        {
          "output_type": "stream",
          "name": "stdout",
          "text": [
            "Processing Locus ID: PA14_59120, Feature ID: 1660447\n"
          ]
        },
        {
          "output_type": "stream",
          "name": "stderr",
          "text": [
            "\r634it [16:39,  1.56s/it]"
          ]
        },
        {
          "output_type": "stream",
          "name": "stdout",
          "text": [
            "Processing Locus ID: PA14_59190, Feature ID: 1660461\n"
          ]
        },
        {
          "output_type": "stream",
          "name": "stderr",
          "text": [
            "\r635it [16:41,  1.59s/it]"
          ]
        },
        {
          "output_type": "stream",
          "name": "stdout",
          "text": [
            "Processing Locus ID: PA14_59220, Feature ID: 1660467\n"
          ]
        },
        {
          "output_type": "stream",
          "name": "stderr",
          "text": [
            "\r636it [16:42,  1.57s/it]"
          ]
        },
        {
          "output_type": "stream",
          "name": "stdout",
          "text": [
            "Processing Locus ID: PA14_59230, Feature ID: 1660469\n"
          ]
        },
        {
          "output_type": "stream",
          "name": "stderr",
          "text": [
            "\r637it [16:44,  1.54s/it]"
          ]
        },
        {
          "output_type": "stream",
          "name": "stdout",
          "text": [
            "Processing Locus ID: PA14_59440, Feature ID: 1660503\n"
          ]
        },
        {
          "output_type": "stream",
          "name": "stderr",
          "text": [
            "\r638it [16:45,  1.58s/it]"
          ]
        },
        {
          "output_type": "stream",
          "name": "stdout",
          "text": [
            "Processing Locus ID: PA14_59550, Feature ID: 1660521\n"
          ]
        },
        {
          "output_type": "stream",
          "name": "stderr",
          "text": [
            "\r639it [16:47,  1.56s/it]"
          ]
        },
        {
          "output_type": "stream",
          "name": "stdout",
          "text": [
            "Processing Locus ID: PA14_59560, Feature ID: 1660523\n"
          ]
        },
        {
          "output_type": "stream",
          "name": "stderr",
          "text": [
            "\r640it [16:48,  1.53s/it]"
          ]
        },
        {
          "output_type": "stream",
          "name": "stdout",
          "text": [
            "Processing Locus ID: PA14_59590, Feature ID: 1660529\n"
          ]
        },
        {
          "output_type": "stream",
          "name": "stderr",
          "text": [
            "\r641it [16:50,  1.61s/it]"
          ]
        },
        {
          "output_type": "stream",
          "name": "stdout",
          "text": [
            "Processing Locus ID: PA14_59610, Feature ID: 1660533\n"
          ]
        },
        {
          "output_type": "stream",
          "name": "stderr",
          "text": [
            "\r642it [16:52,  1.59s/it]"
          ]
        },
        {
          "output_type": "stream",
          "name": "stdout",
          "text": [
            "Processing Locus ID: PA14_59620, Feature ID: 1660535\n"
          ]
        },
        {
          "output_type": "stream",
          "name": "stderr",
          "text": [
            "\r643it [16:53,  1.57s/it]"
          ]
        },
        {
          "output_type": "stream",
          "name": "stdout",
          "text": [
            "Processing Locus ID: PA14_59630, Feature ID: 1660537\n"
          ]
        },
        {
          "output_type": "stream",
          "name": "stderr",
          "text": [
            "\r644it [16:55,  1.62s/it]"
          ]
        },
        {
          "output_type": "stream",
          "name": "stdout",
          "text": [
            "Processing Locus ID: PA14_59840, Feature ID: 1660574\n"
          ]
        },
        {
          "output_type": "stream",
          "name": "stderr",
          "text": [
            "\r645it [16:56,  1.59s/it]"
          ]
        },
        {
          "output_type": "stream",
          "name": "stdout",
          "text": [
            "Processing Locus ID: PA14_59845, Feature ID: 1660576\n"
          ]
        },
        {
          "output_type": "stream",
          "name": "stderr",
          "text": [
            "\r646it [16:58,  1.59s/it]"
          ]
        },
        {
          "output_type": "stream",
          "name": "stdout",
          "text": [
            "Processing Locus ID: PA14_59850, Feature ID: 1660578\n"
          ]
        },
        {
          "output_type": "stream",
          "name": "stderr",
          "text": [
            "\r647it [17:00,  1.61s/it]"
          ]
        },
        {
          "output_type": "stream",
          "name": "stdout",
          "text": [
            "Processing Locus ID: PA14_60090, Feature ID: 1660626\n"
          ]
        },
        {
          "output_type": "stream",
          "name": "stderr",
          "text": [
            "\r648it [17:01,  1.58s/it]"
          ]
        },
        {
          "output_type": "stream",
          "name": "stdout",
          "text": [
            "Processing Locus ID: PA14_60100, Feature ID: 1660628\n"
          ]
        },
        {
          "output_type": "stream",
          "name": "stderr",
          "text": [
            "\r649it [17:03,  1.56s/it]"
          ]
        },
        {
          "output_type": "stream",
          "name": "stdout",
          "text": [
            "Processing Locus ID: PA14_60230, Feature ID: 1660650\n"
          ]
        },
        {
          "output_type": "stream",
          "name": "stderr",
          "text": [
            "\r650it [17:04,  1.62s/it]"
          ]
        },
        {
          "output_type": "stream",
          "name": "stdout",
          "text": [
            "Processing Locus ID: PA14_60320, Feature ID: 1660668\n"
          ]
        },
        {
          "output_type": "stream",
          "name": "stderr",
          "text": [
            "\r651it [17:06,  1.59s/it]"
          ]
        },
        {
          "output_type": "stream",
          "name": "stdout",
          "text": [
            "Processing Locus ID: PA14_60330, Feature ID: 1660670\n"
          ]
        },
        {
          "output_type": "stream",
          "name": "stderr",
          "text": [
            "\r652it [17:07,  1.56s/it]"
          ]
        },
        {
          "output_type": "stream",
          "name": "stdout",
          "text": [
            "Processing Locus ID: PA14_60360, Feature ID: 1660674\n"
          ]
        },
        {
          "output_type": "stream",
          "name": "stderr",
          "text": [
            "\r653it [17:09,  1.61s/it]"
          ]
        },
        {
          "output_type": "stream",
          "name": "stdout",
          "text": [
            "Processing Locus ID: PA14_60370, Feature ID: 1660676\n"
          ]
        },
        {
          "output_type": "stream",
          "name": "stderr",
          "text": [
            "\r654it [17:11,  1.61s/it]"
          ]
        },
        {
          "output_type": "stream",
          "name": "stdout",
          "text": [
            "Processing Locus ID: PA14_60380, Feature ID: 1660678\n"
          ]
        },
        {
          "output_type": "stream",
          "name": "stderr",
          "text": [
            "\r655it [17:12,  1.58s/it]"
          ]
        },
        {
          "output_type": "stream",
          "name": "stdout",
          "text": [
            "Processing Locus ID: PA14_60390, Feature ID: 1660680\n"
          ]
        },
        {
          "output_type": "stream",
          "name": "stderr",
          "text": [
            "\r656it [17:14,  1.63s/it]"
          ]
        },
        {
          "output_type": "stream",
          "name": "stdout",
          "text": [
            "Processing Locus ID: PA14_60400, Feature ID: 1660682\n"
          ]
        },
        {
          "output_type": "stream",
          "name": "stderr",
          "text": [
            "\r657it [17:15,  1.59s/it]"
          ]
        },
        {
          "output_type": "stream",
          "name": "stdout",
          "text": [
            "Processing Locus ID: PA14_60420, Feature ID: 1660686\n"
          ]
        },
        {
          "output_type": "stream",
          "name": "stderr",
          "text": [
            "\r658it [17:17,  1.56s/it]"
          ]
        },
        {
          "output_type": "stream",
          "name": "stdout",
          "text": [
            "Processing Locus ID: PA14_60445, Feature ID: 1660688\n"
          ]
        },
        {
          "output_type": "stream",
          "name": "stderr",
          "text": [
            "\r659it [17:19,  1.59s/it]"
          ]
        },
        {
          "output_type": "stream",
          "name": "stdout",
          "text": [
            "Processing Locus ID: PA14_60450, Feature ID: 1660690\n"
          ]
        },
        {
          "output_type": "stream",
          "name": "stderr",
          "text": [
            "\r660it [17:20,  1.56s/it]"
          ]
        },
        {
          "output_type": "stream",
          "name": "stdout",
          "text": [
            "Processing Locus ID: PA14_60460, Feature ID: 1660692\n"
          ]
        },
        {
          "output_type": "stream",
          "name": "stderr",
          "text": [
            "\r661it [17:22,  1.53s/it]"
          ]
        },
        {
          "output_type": "stream",
          "name": "stdout",
          "text": [
            "Processing Locus ID: PA14_60470, Feature ID: 1660694\n"
          ]
        },
        {
          "output_type": "stream",
          "name": "stderr",
          "text": [
            "\r662it [17:23,  1.59s/it]"
          ]
        },
        {
          "output_type": "stream",
          "name": "stdout",
          "text": [
            "Processing Locus ID: PA14_60860, Feature ID: 1660758\n"
          ]
        },
        {
          "output_type": "stream",
          "name": "stderr",
          "text": [
            "\r663it [17:25,  1.56s/it]"
          ]
        },
        {
          "output_type": "stream",
          "name": "stdout",
          "text": [
            "Processing Locus ID: PA14_60890, Feature ID: 1660762\n"
          ]
        },
        {
          "output_type": "stream",
          "name": "stderr",
          "text": [
            "\r664it [17:26,  1.55s/it]"
          ]
        },
        {
          "output_type": "stream",
          "name": "stdout",
          "text": [
            "Processing Locus ID: PA14_61360, Feature ID: 1660836\n"
          ]
        },
        {
          "output_type": "stream",
          "name": "stderr",
          "text": [
            "\r665it [17:28,  1.61s/it]"
          ]
        },
        {
          "output_type": "stream",
          "name": "stdout",
          "text": [
            "Processing Locus ID: PA14_61400, Feature ID: 1660844\n"
          ]
        },
        {
          "output_type": "stream",
          "name": "stderr",
          "text": [
            "\r666it [17:29,  1.56s/it]"
          ]
        },
        {
          "output_type": "stream",
          "name": "stdout",
          "text": [
            "Processing Locus ID: PA14_61580, Feature ID: 1660874\n"
          ]
        },
        {
          "output_type": "stream",
          "name": "stderr",
          "text": [
            "\r667it [17:31,  1.57s/it]"
          ]
        },
        {
          "output_type": "stream",
          "name": "stdout",
          "text": [
            "Processing Locus ID: PA14_61660, Feature ID: 1660888\n"
          ]
        },
        {
          "output_type": "stream",
          "name": "stderr",
          "text": [
            "\r668it [17:33,  1.62s/it]"
          ]
        },
        {
          "output_type": "stream",
          "name": "stdout",
          "text": [
            "Processing Locus ID: PA14_61670, Feature ID: 1660890\n"
          ]
        },
        {
          "output_type": "stream",
          "name": "stderr",
          "text": [
            "\r669it [17:34,  1.59s/it]"
          ]
        },
        {
          "output_type": "stream",
          "name": "stdout",
          "text": [
            "Processing Locus ID: PA14_61700, Feature ID: 1660894\n"
          ]
        },
        {
          "output_type": "stream",
          "name": "stderr",
          "text": [
            "\r670it [17:36,  1.65s/it]"
          ]
        },
        {
          "output_type": "stream",
          "name": "stdout",
          "text": [
            "Processing Locus ID: PA14_61710, Feature ID: 1660896\n"
          ]
        },
        {
          "output_type": "stream",
          "name": "stderr",
          "text": [
            "\r671it [17:38,  1.62s/it]"
          ]
        },
        {
          "output_type": "stream",
          "name": "stdout",
          "text": [
            "Processing Locus ID: PA14_61720, Feature ID: 1660898\n"
          ]
        },
        {
          "output_type": "stream",
          "name": "stderr",
          "text": [
            "\r672it [17:39,  1.58s/it]"
          ]
        },
        {
          "output_type": "stream",
          "name": "stdout",
          "text": [
            "Processing Locus ID: PA14_61740, Feature ID: 1660900\n"
          ]
        },
        {
          "output_type": "stream",
          "name": "stderr",
          "text": [
            "\r673it [17:41,  1.55s/it]"
          ]
        },
        {
          "output_type": "stream",
          "name": "stdout",
          "text": [
            "Processing Locus ID: PA14_61750, Feature ID: 1660902\n"
          ]
        },
        {
          "output_type": "stream",
          "name": "stderr",
          "text": [
            "\r674it [17:42,  1.60s/it]"
          ]
        },
        {
          "output_type": "stream",
          "name": "stdout",
          "text": [
            "Processing Locus ID: PA14_61770, Feature ID: 1660906\n"
          ]
        },
        {
          "output_type": "stream",
          "name": "stderr",
          "text": [
            "\r675it [17:44,  1.59s/it]"
          ]
        },
        {
          "output_type": "stream",
          "name": "stdout",
          "text": [
            "Processing Locus ID: PA14_61790, Feature ID: 1660910\n"
          ]
        },
        {
          "output_type": "stream",
          "name": "stderr",
          "text": [
            "\r676it [17:45,  1.58s/it]"
          ]
        },
        {
          "output_type": "stream",
          "name": "stdout",
          "text": [
            "Processing Locus ID: PA14_61840, Feature ID: 1660916\n"
          ]
        },
        {
          "output_type": "stream",
          "name": "stderr",
          "text": [
            "\r677it [17:47,  1.62s/it]"
          ]
        },
        {
          "output_type": "stream",
          "name": "stdout",
          "text": [
            "Processing Locus ID: PA14_61890, Feature ID: 1660926\n"
          ]
        },
        {
          "output_type": "stream",
          "name": "stderr",
          "text": [
            "\r678it [17:49,  1.59s/it]"
          ]
        },
        {
          "output_type": "stream",
          "name": "stdout",
          "text": [
            "Processing Locus ID: PA14_62120, Feature ID: 1660966\n"
          ]
        },
        {
          "output_type": "stream",
          "name": "stderr",
          "text": [
            "\r679it [17:50,  1.63s/it]"
          ]
        },
        {
          "output_type": "stream",
          "name": "stdout",
          "text": [
            "Processing Locus ID: PA14_62130, Feature ID: 1660968\n"
          ]
        },
        {
          "output_type": "stream",
          "name": "stderr",
          "text": [
            "\r680it [17:52,  1.59s/it]"
          ]
        },
        {
          "output_type": "stream",
          "name": "stdout",
          "text": [
            "Processing Locus ID: PA14_62150, Feature ID: 1660970\n"
          ]
        },
        {
          "output_type": "stream",
          "name": "stderr",
          "text": [
            "\r681it [17:53,  1.56s/it]"
          ]
        },
        {
          "output_type": "stream",
          "name": "stdout",
          "text": [
            "Processing Locus ID: PA14_62160, Feature ID: 1660972\n"
          ]
        },
        {
          "output_type": "stream",
          "name": "stderr",
          "text": [
            "\r682it [17:55,  1.54s/it]"
          ]
        },
        {
          "output_type": "stream",
          "name": "stdout",
          "text": [
            "Processing Locus ID: PA14_62530, Feature ID: 1661032\n"
          ]
        },
        {
          "output_type": "stream",
          "name": "stderr",
          "text": [
            "\r683it [17:57,  1.58s/it]"
          ]
        },
        {
          "output_type": "stream",
          "name": "stdout",
          "text": [
            "Processing Locus ID: PA14_62540, Feature ID: 1661034\n"
          ]
        },
        {
          "output_type": "stream",
          "name": "stderr",
          "text": [
            "\r684it [17:58,  1.56s/it]"
          ]
        },
        {
          "output_type": "stream",
          "name": "stdout",
          "text": [
            "Processing Locus ID: PA14_62570, Feature ID: 1661038\n"
          ]
        },
        {
          "output_type": "stream",
          "name": "stderr",
          "text": [
            "\r685it [18:00,  1.64s/it]"
          ]
        },
        {
          "output_type": "stream",
          "name": "stdout",
          "text": [
            "Processing Locus ID: PA14_62580, Feature ID: 1661040\n"
          ]
        },
        {
          "output_type": "stream",
          "name": "stderr",
          "text": [
            "\r686it [18:01,  1.60s/it]"
          ]
        },
        {
          "output_type": "stream",
          "name": "stdout",
          "text": [
            "Processing Locus ID: PA14_62590, Feature ID: 1661042\n"
          ]
        },
        {
          "output_type": "stream",
          "name": "stderr",
          "text": [
            "\r687it [18:03,  1.57s/it]"
          ]
        },
        {
          "output_type": "stream",
          "name": "stdout",
          "text": [
            "Processing Locus ID: PA14_62620, Feature ID: 1661046\n"
          ]
        },
        {
          "output_type": "stream",
          "name": "stderr",
          "text": [
            "\r688it [18:05,  1.62s/it]"
          ]
        },
        {
          "output_type": "stream",
          "name": "stdout",
          "text": [
            "Processing Locus ID: PA14_62710, Feature ID: 1661062\n"
          ]
        },
        {
          "output_type": "stream",
          "name": "stderr",
          "text": [
            "\r689it [18:06,  1.58s/it]"
          ]
        },
        {
          "output_type": "stream",
          "name": "stdout",
          "text": [
            "Processing Locus ID: PA14_62720, Feature ID: 1661064\n"
          ]
        },
        {
          "output_type": "stream",
          "name": "stderr",
          "text": [
            "\r690it [18:08,  1.56s/it]"
          ]
        },
        {
          "output_type": "stream",
          "name": "stdout",
          "text": [
            "Processing Locus ID: PA14_62760, Feature ID: 1661070\n"
          ]
        },
        {
          "output_type": "stream",
          "name": "stderr",
          "text": [
            "\r691it [18:09,  1.54s/it]"
          ]
        },
        {
          "output_type": "stream",
          "name": "stdout",
          "text": [
            "Processing Locus ID: PA14_62770, Feature ID: 1661072\n"
          ]
        },
        {
          "output_type": "stream",
          "name": "stderr",
          "text": [
            "\r692it [18:11,  1.60s/it]"
          ]
        },
        {
          "output_type": "stream",
          "name": "stdout",
          "text": [
            "Processing Locus ID: PA14_62780, Feature ID: 1661074\n"
          ]
        },
        {
          "output_type": "stream",
          "name": "stderr",
          "text": [
            "\r693it [18:12,  1.57s/it]"
          ]
        },
        {
          "output_type": "stream",
          "name": "stdout",
          "text": [
            "Processing Locus ID: PA14_62810, Feature ID: 1661080\n"
          ]
        },
        {
          "output_type": "stream",
          "name": "stderr",
          "text": [
            "\r694it [18:14,  1.61s/it]"
          ]
        },
        {
          "output_type": "stream",
          "name": "stdout",
          "text": [
            "Processing Locus ID: PA14_62830, Feature ID: 1661082\n"
          ]
        },
        {
          "output_type": "stream",
          "name": "stderr",
          "text": [
            "\r695it [18:16,  1.57s/it]"
          ]
        },
        {
          "output_type": "stream",
          "name": "stdout",
          "text": [
            "Processing Locus ID: PA14_62840, Feature ID: 1661084\n"
          ]
        },
        {
          "output_type": "stream",
          "name": "stderr",
          "text": [
            "\r696it [18:17,  1.57s/it]"
          ]
        },
        {
          "output_type": "stream",
          "name": "stdout",
          "text": [
            "Processing Locus ID: PA14_62850, Feature ID: 1661086\n"
          ]
        },
        {
          "output_type": "stream",
          "name": "stderr",
          "text": [
            "\r697it [18:19,  1.60s/it]"
          ]
        },
        {
          "output_type": "stream",
          "name": "stdout",
          "text": [
            "Processing Locus ID: PA14_62860, Feature ID: 1661088\n"
          ]
        },
        {
          "output_type": "stream",
          "name": "stderr",
          "text": [
            "\r698it [18:20,  1.57s/it]"
          ]
        },
        {
          "output_type": "stream",
          "name": "stdout",
          "text": [
            "Processing Locus ID: PA14_62870, Feature ID: 1661090\n"
          ]
        },
        {
          "output_type": "stream",
          "name": "stderr",
          "text": [
            "\r699it [18:22,  1.55s/it]"
          ]
        },
        {
          "output_type": "stream",
          "name": "stdout",
          "text": [
            "Processing Locus ID: PA14_62880, Feature ID: 1661092\n"
          ]
        },
        {
          "output_type": "stream",
          "name": "stderr",
          "text": [
            "\r700it [18:24,  1.61s/it]"
          ]
        },
        {
          "output_type": "stream",
          "name": "stdout",
          "text": [
            "Processing Locus ID: PA14_62910, Feature ID: 1661098\n"
          ]
        },
        {
          "output_type": "stream",
          "name": "stderr",
          "text": [
            "\r701it [18:25,  1.59s/it]"
          ]
        },
        {
          "output_type": "stream",
          "name": "stdout",
          "text": [
            "Processing Locus ID: PA14_62930, Feature ID: 1661102\n"
          ]
        },
        {
          "output_type": "stream",
          "name": "stderr",
          "text": [
            "\r702it [18:27,  1.57s/it]"
          ]
        },
        {
          "output_type": "stream",
          "name": "stdout",
          "text": [
            "Processing Locus ID: PA14_62940, Feature ID: 1661104\n"
          ]
        },
        {
          "output_type": "stream",
          "name": "stderr",
          "text": [
            "\r703it [18:28,  1.59s/it]"
          ]
        },
        {
          "output_type": "stream",
          "name": "stdout",
          "text": [
            "Processing Locus ID: PA14_62960, Feature ID: 1661106\n"
          ]
        },
        {
          "output_type": "stream",
          "name": "stderr",
          "text": [
            "\r704it [18:30,  1.56s/it]"
          ]
        },
        {
          "output_type": "stream",
          "name": "stdout",
          "text": [
            "Processing Locus ID: PA14_62970, Feature ID: 1661108\n"
          ]
        },
        {
          "output_type": "stream",
          "name": "stderr",
          "text": [
            "\r705it [18:31,  1.56s/it]"
          ]
        },
        {
          "output_type": "stream",
          "name": "stdout",
          "text": [
            "Processing Locus ID: PA14_62990, Feature ID: 1661110\n"
          ]
        },
        {
          "output_type": "stream",
          "name": "stderr",
          "text": [
            "\r706it [18:33,  1.59s/it]"
          ]
        },
        {
          "output_type": "stream",
          "name": "stdout",
          "text": [
            "Processing Locus ID: PA14_63020, Feature ID: 1661114\n"
          ]
        },
        {
          "output_type": "stream",
          "name": "stderr",
          "text": [
            "\r707it [18:35,  1.57s/it]"
          ]
        },
        {
          "output_type": "stream",
          "name": "stdout",
          "text": [
            "Processing Locus ID: PA14_63030, Feature ID: 1661116\n"
          ]
        },
        {
          "output_type": "stream",
          "name": "stderr",
          "text": [
            "\r708it [18:36,  1.58s/it]"
          ]
        },
        {
          "output_type": "stream",
          "name": "stdout",
          "text": [
            "Processing Locus ID: PA14_63050, Feature ID: 1661120\n"
          ]
        },
        {
          "output_type": "stream",
          "name": "stderr",
          "text": [
            "\r709it [18:38,  1.65s/it]"
          ]
        },
        {
          "output_type": "stream",
          "name": "stdout",
          "text": [
            "Processing Locus ID: PA14_64090, Feature ID: 1661284\n"
          ]
        },
        {
          "output_type": "stream",
          "name": "stderr",
          "text": [
            "\r710it [18:39,  1.60s/it]"
          ]
        },
        {
          "output_type": "stream",
          "name": "stdout",
          "text": [
            "Processing Locus ID: PA14_64100, Feature ID: 1661286\n"
          ]
        },
        {
          "output_type": "stream",
          "name": "stderr",
          "text": [
            "\r711it [18:41,  1.60s/it]"
          ]
        },
        {
          "output_type": "stream",
          "name": "stdout",
          "text": [
            "Processing Locus ID: PA14_64110, Feature ID: 1661288\n"
          ]
        },
        {
          "output_type": "stream",
          "name": "stderr",
          "text": [
            "\r712it [18:43,  1.62s/it]"
          ]
        },
        {
          "output_type": "stream",
          "name": "stdout",
          "text": [
            "Processing Locus ID: PA14_64190, Feature ID: 1661298\n"
          ]
        },
        {
          "output_type": "stream",
          "name": "stderr",
          "text": [
            "\r713it [18:44,  1.57s/it]"
          ]
        },
        {
          "output_type": "stream",
          "name": "stdout",
          "text": [
            "Processing Locus ID: PA14_64200, Feature ID: 1661300\n"
          ]
        },
        {
          "output_type": "stream",
          "name": "stderr",
          "text": [
            "\r714it [18:46,  1.56s/it]"
          ]
        },
        {
          "output_type": "stream",
          "name": "stdout",
          "text": [
            "Processing Locus ID: PA14_64220, Feature ID: 1661302\n"
          ]
        },
        {
          "output_type": "stream",
          "name": "stderr",
          "text": [
            "\r715it [18:47,  1.59s/it]"
          ]
        },
        {
          "output_type": "stream",
          "name": "stdout",
          "text": [
            "Processing Locus ID: PA14_64230, Feature ID: 1661304\n"
          ]
        },
        {
          "output_type": "stream",
          "name": "stderr",
          "text": [
            "\r716it [18:49,  1.56s/it]"
          ]
        },
        {
          "output_type": "stream",
          "name": "stdout",
          "text": [
            "Processing Locus ID: PA14_64950, Feature ID: 1661432\n"
          ]
        },
        {
          "output_type": "stream",
          "name": "stderr",
          "text": [
            "\r717it [18:50,  1.58s/it]"
          ]
        },
        {
          "output_type": "stream",
          "name": "stdout",
          "text": [
            "Processing Locus ID: PA14_64980, Feature ID: 1661436\n"
          ]
        },
        {
          "output_type": "stream",
          "name": "stderr",
          "text": [
            "\r718it [18:52,  1.55s/it]"
          ]
        },
        {
          "output_type": "stream",
          "name": "stdout",
          "text": [
            "Processing Locus ID: PA14_65110, Feature ID: 1661456\n"
          ]
        },
        {
          "output_type": "stream",
          "name": "stderr",
          "text": [
            "\r719it [18:53,  1.53s/it]"
          ]
        },
        {
          "output_type": "stream",
          "name": "stdout",
          "text": [
            "Processing Locus ID: PA14_65130, Feature ID: 1661458\n"
          ]
        },
        {
          "output_type": "stream",
          "name": "stderr",
          "text": [
            "\r720it [18:55,  1.51s/it]"
          ]
        },
        {
          "output_type": "stream",
          "name": "stdout",
          "text": [
            "Processing Locus ID: PA14_65170, Feature ID: 1661464\n"
          ]
        },
        {
          "output_type": "stream",
          "name": "stderr",
          "text": [
            "\r721it [18:57,  1.56s/it]"
          ]
        },
        {
          "output_type": "stream",
          "name": "stdout",
          "text": [
            "Processing Locus ID: PA14_65180, Feature ID: 1661466\n"
          ]
        },
        {
          "output_type": "stream",
          "name": "stderr",
          "text": [
            "\r722it [18:58,  1.53s/it]"
          ]
        },
        {
          "output_type": "stream",
          "name": "stdout",
          "text": [
            "Processing Locus ID: PA14_65230, Feature ID: 1661476\n"
          ]
        },
        {
          "output_type": "stream",
          "name": "stderr",
          "text": [
            "\r723it [19:00,  1.56s/it]"
          ]
        },
        {
          "output_type": "stream",
          "name": "stdout",
          "text": [
            "Processing Locus ID: PA14_65250, Feature ID: 1661478\n"
          ]
        },
        {
          "output_type": "stream",
          "name": "stderr",
          "text": [
            "\r724it [19:01,  1.58s/it]"
          ]
        },
        {
          "output_type": "stream",
          "name": "stdout",
          "text": [
            "Processing Locus ID: PA14_65270, Feature ID: 1661482\n"
          ]
        },
        {
          "output_type": "stream",
          "name": "stderr",
          "text": [
            "\r725it [19:03,  1.55s/it]"
          ]
        },
        {
          "output_type": "stream",
          "name": "stdout",
          "text": [
            "Processing Locus ID: PA14_65280, Feature ID: 1661484\n"
          ]
        },
        {
          "output_type": "stream",
          "name": "stderr",
          "text": [
            "\r726it [19:04,  1.59s/it]"
          ]
        },
        {
          "output_type": "stream",
          "name": "stdout",
          "text": [
            "Processing Locus ID: PA14_65310, Feature ID: 1661488\n"
          ]
        },
        {
          "output_type": "stream",
          "name": "stderr",
          "text": [
            "\r727it [19:06,  1.58s/it]"
          ]
        },
        {
          "output_type": "stream",
          "name": "stdout",
          "text": [
            "Processing Locus ID: PA14_65370, Feature ID: 1661494\n"
          ]
        },
        {
          "output_type": "stream",
          "name": "stderr",
          "text": [
            "\r728it [19:07,  1.55s/it]"
          ]
        },
        {
          "output_type": "stream",
          "name": "stdout",
          "text": [
            "Processing Locus ID: PA14_65380, Feature ID: 1661496\n"
          ]
        },
        {
          "output_type": "stream",
          "name": "stderr",
          "text": [
            "\r729it [19:09,  1.59s/it]"
          ]
        },
        {
          "output_type": "stream",
          "name": "stdout",
          "text": [
            "Processing Locus ID: PA14_65410, Feature ID: 1661502\n"
          ]
        },
        {
          "output_type": "stream",
          "name": "stderr",
          "text": [
            "\r730it [19:11,  1.56s/it]"
          ]
        },
        {
          "output_type": "stream",
          "name": "stdout",
          "text": [
            "Processing Locus ID: PA14_65500, Feature ID: 1661514\n"
          ]
        },
        {
          "output_type": "stream",
          "name": "stderr",
          "text": [
            "\r731it [19:12,  1.53s/it]"
          ]
        },
        {
          "output_type": "stream",
          "name": "stdout",
          "text": [
            "Processing Locus ID: PA14_65560, Feature ID: 1661520\n"
          ]
        },
        {
          "output_type": "stream",
          "name": "stderr",
          "text": [
            "\r732it [19:14,  1.58s/it]"
          ]
        },
        {
          "output_type": "stream",
          "name": "stdout",
          "text": [
            "Processing Locus ID: PA14_65570, Feature ID: 1661522\n"
          ]
        },
        {
          "output_type": "stream",
          "name": "stderr",
          "text": [
            "\r733it [19:15,  1.56s/it]"
          ]
        },
        {
          "output_type": "stream",
          "name": "stdout",
          "text": [
            "Processing Locus ID: PA14_65605, Feature ID: 1661528\n"
          ]
        },
        {
          "output_type": "stream",
          "name": "stderr",
          "text": [
            "\r734it [19:17,  1.54s/it]"
          ]
        },
        {
          "output_type": "stream",
          "name": "stdout",
          "text": [
            "Processing Locus ID: PA14_65660, Feature ID: 1661534\n"
          ]
        },
        {
          "output_type": "stream",
          "name": "stderr",
          "text": [
            "\r735it [19:19,  1.60s/it]"
          ]
        },
        {
          "output_type": "stream",
          "name": "stdout",
          "text": [
            "Processing Locus ID: PA14_65690, Feature ID: 1661538\n"
          ]
        },
        {
          "output_type": "stream",
          "name": "stderr",
          "text": [
            "\r736it [19:20,  1.56s/it]"
          ]
        },
        {
          "output_type": "stream",
          "name": "stdout",
          "text": [
            "Processing Locus ID: PA14_65740, Feature ID: 1661546\n"
          ]
        },
        {
          "output_type": "stream",
          "name": "stderr",
          "text": [
            "\r737it [19:22,  1.55s/it]"
          ]
        },
        {
          "output_type": "stream",
          "name": "stdout",
          "text": [
            "Processing Locus ID: PA14_65960, Feature ID: 1661578\n"
          ]
        },
        {
          "output_type": "stream",
          "name": "stderr",
          "text": [
            "\r738it [19:23,  1.58s/it]"
          ]
        },
        {
          "output_type": "stream",
          "name": "stdout",
          "text": [
            "Processing Locus ID: PA14_66000, Feature ID: 1661584\n"
          ]
        },
        {
          "output_type": "stream",
          "name": "stderr",
          "text": [
            "\r739it [19:25,  1.55s/it]"
          ]
        },
        {
          "output_type": "stream",
          "name": "stdout",
          "text": [
            "Processing Locus ID: PA14_66010, Feature ID: 1661586\n"
          ]
        },
        {
          "output_type": "stream",
          "name": "stderr",
          "text": [
            "\r740it [19:26,  1.54s/it]"
          ]
        },
        {
          "output_type": "stream",
          "name": "stdout",
          "text": [
            "Processing Locus ID: PA14_66060, Feature ID: 1661594\n"
          ]
        },
        {
          "output_type": "stream",
          "name": "stderr",
          "text": [
            "\r741it [19:28,  1.58s/it]"
          ]
        },
        {
          "output_type": "stream",
          "name": "stdout",
          "text": [
            "Processing Locus ID: PA14_66080, Feature ID: 1661596\n"
          ]
        },
        {
          "output_type": "stream",
          "name": "stderr",
          "text": [
            "\r742it [19:29,  1.55s/it]"
          ]
        },
        {
          "output_type": "stream",
          "name": "stdout",
          "text": [
            "Processing Locus ID: PA14_66090, Feature ID: 1661598\n"
          ]
        },
        {
          "output_type": "stream",
          "name": "stderr",
          "text": [
            "\r743it [19:31,  1.54s/it]"
          ]
        },
        {
          "output_type": "stream",
          "name": "stdout",
          "text": [
            "Processing Locus ID: PA14_66110, Feature ID: 1661602\n"
          ]
        },
        {
          "output_type": "stream",
          "name": "stderr",
          "text": [
            "\r744it [19:33,  1.60s/it]"
          ]
        },
        {
          "output_type": "stream",
          "name": "stdout",
          "text": [
            "Processing Locus ID: PA14_66120, Feature ID: 1661604\n"
          ]
        },
        {
          "output_type": "stream",
          "name": "stderr",
          "text": [
            "\r745it [19:34,  1.57s/it]"
          ]
        },
        {
          "output_type": "stream",
          "name": "stdout",
          "text": [
            "Processing Locus ID: PA14_66160, Feature ID: 1661610\n"
          ]
        },
        {
          "output_type": "stream",
          "name": "stderr",
          "text": [
            "\r746it [19:36,  1.55s/it]"
          ]
        },
        {
          "output_type": "stream",
          "name": "stdout",
          "text": [
            "Processing Locus ID: PA14_66170, Feature ID: 1661612\n"
          ]
        },
        {
          "output_type": "stream",
          "name": "stderr",
          "text": [
            "\r747it [19:37,  1.60s/it]"
          ]
        },
        {
          "output_type": "stream",
          "name": "stdout",
          "text": [
            "Processing Locus ID: PA14_66190, Feature ID: 1661614\n"
          ]
        },
        {
          "output_type": "stream",
          "name": "stderr",
          "text": [
            "\r748it [19:39,  1.58s/it]"
          ]
        },
        {
          "output_type": "stream",
          "name": "stdout",
          "text": [
            "Processing Locus ID: PA14_66210, Feature ID: 1661618\n"
          ]
        },
        {
          "output_type": "stream",
          "name": "stderr",
          "text": [
            "\r749it [19:40,  1.55s/it]"
          ]
        },
        {
          "output_type": "stream",
          "name": "stdout",
          "text": [
            "Processing Locus ID: PA14_66220, Feature ID: 1661620\n"
          ]
        },
        {
          "output_type": "stream",
          "name": "stderr",
          "text": [
            "\r750it [19:42,  1.59s/it]"
          ]
        },
        {
          "output_type": "stream",
          "name": "stdout",
          "text": [
            "Processing Locus ID: PA14_66230, Feature ID: 1661622\n"
          ]
        },
        {
          "output_type": "stream",
          "name": "stderr",
          "text": [
            "\r751it [19:43,  1.55s/it]"
          ]
        },
        {
          "output_type": "stream",
          "name": "stdout",
          "text": [
            "Processing Locus ID: PA14_66240, Feature ID: 1661624\n"
          ]
        },
        {
          "output_type": "stream",
          "name": "stderr",
          "text": [
            "\r752it [19:45,  1.53s/it]"
          ]
        },
        {
          "output_type": "stream",
          "name": "stdout",
          "text": [
            "Processing Locus ID: PA14_66250, Feature ID: 1661626\n"
          ]
        },
        {
          "output_type": "stream",
          "name": "stderr",
          "text": [
            "\r753it [19:47,  1.59s/it]"
          ]
        },
        {
          "output_type": "stream",
          "name": "stdout",
          "text": [
            "Processing Locus ID: PA14_66290, Feature ID: 1661632\n"
          ]
        },
        {
          "output_type": "stream",
          "name": "stderr",
          "text": [
            "\r754it [19:48,  1.56s/it]"
          ]
        },
        {
          "output_type": "stream",
          "name": "stdout",
          "text": [
            "Processing Locus ID: PA14_66310, Feature ID: 1661634\n"
          ]
        },
        {
          "output_type": "stream",
          "name": "stderr",
          "text": [
            "\r755it [19:50,  1.65s/it]"
          ]
        },
        {
          "output_type": "stream",
          "name": "stdout",
          "text": [
            "Processing Locus ID: PA14_66550, Feature ID: 1661670\n"
          ]
        },
        {
          "output_type": "stream",
          "name": "stderr",
          "text": [
            "\r756it [19:52,  1.59s/it]"
          ]
        },
        {
          "output_type": "stream",
          "name": "stdout",
          "text": [
            "Processing Locus ID: PA14_66600, Feature ID: 1661678\n"
          ]
        },
        {
          "output_type": "stream",
          "name": "stderr",
          "text": [
            "\r757it [19:53,  1.57s/it]"
          ]
        },
        {
          "output_type": "stream",
          "name": "stdout",
          "text": [
            "Processing Locus ID: PA14_66610, Feature ID: 1661680\n"
          ]
        },
        {
          "output_type": "stream",
          "name": "stderr",
          "text": [
            "\r758it [19:55,  1.54s/it]"
          ]
        },
        {
          "output_type": "stream",
          "name": "stdout",
          "text": [
            "Processing Locus ID: PA14_66720, Feature ID: 1661702\n"
          ]
        },
        {
          "output_type": "stream",
          "name": "stderr",
          "text": [
            "\r759it [19:56,  1.60s/it]"
          ]
        },
        {
          "output_type": "stream",
          "name": "stdout",
          "text": [
            "Processing Locus ID: PA14_66750, Feature ID: 1661704\n"
          ]
        },
        {
          "output_type": "stream",
          "name": "stderr",
          "text": [
            "\r760it [19:58,  1.56s/it]"
          ]
        },
        {
          "output_type": "stream",
          "name": "stdout",
          "text": [
            "Processing Locus ID: PA14_66760, Feature ID: 1661706\n"
          ]
        },
        {
          "output_type": "stream",
          "name": "stderr",
          "text": [
            "\r761it [19:59,  1.54s/it]"
          ]
        },
        {
          "output_type": "stream",
          "name": "stdout",
          "text": [
            "Processing Locus ID: PA14_66800, Feature ID: 1661712\n"
          ]
        },
        {
          "output_type": "stream",
          "name": "stderr",
          "text": [
            "\r762it [20:01,  1.59s/it]"
          ]
        },
        {
          "output_type": "stream",
          "name": "stdout",
          "text": [
            "Processing Locus ID: PA14_66900, Feature ID: 1661728\n"
          ]
        },
        {
          "output_type": "stream",
          "name": "stderr",
          "text": [
            "\r763it [20:02,  1.56s/it]"
          ]
        },
        {
          "output_type": "stream",
          "name": "stdout",
          "text": [
            "Processing Locus ID: PA14_66910, Feature ID: 1661730\n"
          ]
        },
        {
          "output_type": "stream",
          "name": "stderr",
          "text": [
            "\r764it [20:04,  1.59s/it]"
          ]
        },
        {
          "output_type": "stream",
          "name": "stdout",
          "text": [
            "Processing Locus ID: PA14_66920, Feature ID: 1661732\n"
          ]
        },
        {
          "output_type": "stream",
          "name": "stderr",
          "text": [
            "\r765it [20:06,  1.56s/it]"
          ]
        },
        {
          "output_type": "stream",
          "name": "stdout",
          "text": [
            "Processing Locus ID: PA14_66940, Feature ID: 1661734\n"
          ]
        },
        {
          "output_type": "stream",
          "name": "stderr",
          "text": [
            "\r766it [20:07,  1.58s/it]"
          ]
        },
        {
          "output_type": "stream",
          "name": "stdout",
          "text": [
            "Processing Locus ID: PA14_66950, Feature ID: 1661736\n"
          ]
        },
        {
          "output_type": "stream",
          "name": "stderr",
          "text": [
            "\r767it [20:09,  1.61s/it]"
          ]
        },
        {
          "output_type": "stream",
          "name": "stdout",
          "text": [
            "Processing Locus ID: PA14_66970, Feature ID: 1661740\n"
          ]
        },
        {
          "output_type": "stream",
          "name": "stderr",
          "text": [
            "\r768it [20:10,  1.59s/it]"
          ]
        },
        {
          "output_type": "stream",
          "name": "stdout",
          "text": [
            "Processing Locus ID: PA14_66980, Feature ID: 1661742\n"
          ]
        },
        {
          "output_type": "stream",
          "name": "stderr",
          "text": [
            "\r769it [20:12,  1.57s/it]"
          ]
        },
        {
          "output_type": "stream",
          "name": "stdout",
          "text": [
            "Processing Locus ID: PA14_66990, Feature ID: 1661744\n"
          ]
        },
        {
          "output_type": "stream",
          "name": "stderr",
          "text": [
            "\r770it [20:14,  1.61s/it]"
          ]
        },
        {
          "output_type": "stream",
          "name": "stdout",
          "text": [
            "Processing Locus ID: PA14_67180, Feature ID: 1661774\n"
          ]
        },
        {
          "output_type": "stream",
          "name": "stderr",
          "text": [
            "\r771it [20:15,  1.57s/it]"
          ]
        },
        {
          "output_type": "stream",
          "name": "stdout",
          "text": [
            "Processing Locus ID: PA14_67190, Feature ID: 1661776\n"
          ]
        },
        {
          "output_type": "stream",
          "name": "stderr",
          "text": [
            "\r772it [20:17,  1.56s/it]"
          ]
        },
        {
          "output_type": "stream",
          "name": "stdout",
          "text": [
            "Processing Locus ID: PA14_67200, Feature ID: 1661778\n"
          ]
        },
        {
          "output_type": "stream",
          "name": "stderr",
          "text": [
            "\r773it [20:18,  1.61s/it]"
          ]
        },
        {
          "output_type": "stream",
          "name": "stdout",
          "text": [
            "Processing Locus ID: PA14_67210, Feature ID: 1661780\n"
          ]
        },
        {
          "output_type": "stream",
          "name": "stderr",
          "text": [
            "\r774it [20:20,  1.58s/it]"
          ]
        },
        {
          "output_type": "stream",
          "name": "stdout",
          "text": [
            "Processing Locus ID: PA14_67490, Feature ID: 1661824\n"
          ]
        },
        {
          "output_type": "stream",
          "name": "stderr",
          "text": [
            "\r775it [20:21,  1.56s/it]"
          ]
        },
        {
          "output_type": "stream",
          "name": "stdout",
          "text": [
            "Processing Locus ID: PA14_67600, Feature ID: 1661842\n"
          ]
        },
        {
          "output_type": "stream",
          "name": "stderr",
          "text": [
            "\r776it [20:23,  1.59s/it]"
          ]
        },
        {
          "output_type": "stream",
          "name": "stdout",
          "text": [
            "Processing Locus ID: PA14_67700, Feature ID: 1661856\n"
          ]
        },
        {
          "output_type": "stream",
          "name": "stderr",
          "text": [
            "\r777it [20:25,  1.56s/it]"
          ]
        },
        {
          "output_type": "stream",
          "name": "stdout",
          "text": [
            "Processing Locus ID: PA14_67770, Feature ID: 1661866\n"
          ]
        },
        {
          "output_type": "stream",
          "name": "stderr",
          "text": [
            "\r778it [20:26,  1.55s/it]"
          ]
        },
        {
          "output_type": "stream",
          "name": "stdout",
          "text": [
            "Processing Locus ID: PA14_67880, Feature ID: 1661884\n"
          ]
        },
        {
          "output_type": "stream",
          "name": "stderr",
          "text": [
            "\r779it [20:28,  1.60s/it]"
          ]
        },
        {
          "output_type": "stream",
          "name": "stdout",
          "text": [
            "Processing Locus ID: PA14_67890, Feature ID: 1661886\n"
          ]
        },
        {
          "output_type": "stream",
          "name": "stderr",
          "text": [
            "\r780it [20:29,  1.57s/it]"
          ]
        },
        {
          "output_type": "stream",
          "name": "stdout",
          "text": [
            "Processing Locus ID: PA14_67920, Feature ID: 1661890\n"
          ]
        },
        {
          "output_type": "stream",
          "name": "stderr",
          "text": [
            "\r781it [20:31,  1.55s/it]"
          ]
        },
        {
          "output_type": "stream",
          "name": "stdout",
          "text": [
            "Processing Locus ID: PA14_67930, Feature ID: 1661892\n"
          ]
        },
        {
          "output_type": "stream",
          "name": "stderr",
          "text": [
            "\r782it [20:33,  1.61s/it]"
          ]
        },
        {
          "output_type": "stream",
          "name": "stdout",
          "text": [
            "Processing Locus ID: PA14_68170, Feature ID: 1661934\n"
          ]
        },
        {
          "output_type": "stream",
          "name": "stderr",
          "text": [
            "\r783it [20:34,  1.58s/it]"
          ]
        },
        {
          "output_type": "stream",
          "name": "stdout",
          "text": [
            "Processing Locus ID: PA14_68190, Feature ID: 1661936\n"
          ]
        },
        {
          "output_type": "stream",
          "name": "stderr",
          "text": [
            "\r784it [20:36,  1.55s/it]"
          ]
        },
        {
          "output_type": "stream",
          "name": "stdout",
          "text": [
            "Processing Locus ID: PA14_68200, Feature ID: 1661938\n"
          ]
        },
        {
          "output_type": "stream",
          "name": "stderr",
          "text": [
            "\r785it [20:37,  1.62s/it]"
          ]
        },
        {
          "output_type": "stream",
          "name": "stdout",
          "text": [
            "Processing Locus ID: PA14_68210, Feature ID: 1661940\n"
          ]
        },
        {
          "output_type": "stream",
          "name": "stderr",
          "text": [
            "\r786it [20:39,  1.58s/it]"
          ]
        },
        {
          "output_type": "stream",
          "name": "stdout",
          "text": [
            "Processing Locus ID: PA14_68360, Feature ID: 1661960\n"
          ]
        },
        {
          "output_type": "stream",
          "name": "stderr",
          "text": [
            "\r787it [20:40,  1.56s/it]"
          ]
        },
        {
          "output_type": "stream",
          "name": "stdout",
          "text": [
            "Processing Locus ID: PA14_68670, Feature ID: 1662010\n"
          ]
        },
        {
          "output_type": "stream",
          "name": "stderr",
          "text": [
            "\r788it [20:42,  1.59s/it]"
          ]
        },
        {
          "output_type": "stream",
          "name": "stdout",
          "text": [
            "Processing Locus ID: PA14_68740, Feature ID: 1662022\n"
          ]
        },
        {
          "output_type": "stream",
          "name": "stderr",
          "text": [
            "\r789it [20:43,  1.56s/it]"
          ]
        },
        {
          "output_type": "stream",
          "name": "stdout",
          "text": [
            "Processing Locus ID: PA14_68955, Feature ID: 1662056\n"
          ]
        },
        {
          "output_type": "stream",
          "name": "stderr",
          "text": [
            "\r790it [20:45,  1.54s/it]"
          ]
        },
        {
          "output_type": "stream",
          "name": "stdout",
          "text": [
            "Processing Locus ID: PA14_68980, Feature ID: 1662060\n"
          ]
        },
        {
          "output_type": "stream",
          "name": "stderr",
          "text": [
            "\r791it [20:47,  1.58s/it]"
          ]
        },
        {
          "output_type": "stream",
          "name": "stdout",
          "text": [
            "Processing Locus ID: PA14_69150, Feature ID: 1662088\n"
          ]
        },
        {
          "output_type": "stream",
          "name": "stderr",
          "text": [
            "\r792it [20:48,  1.56s/it]"
          ]
        },
        {
          "output_type": "stream",
          "name": "stdout",
          "text": [
            "Processing Locus ID: PA14_69190, Feature ID: 1662092\n"
          ]
        },
        {
          "output_type": "stream",
          "name": "stderr",
          "text": [
            "\r793it [20:50,  1.67s/it]"
          ]
        },
        {
          "output_type": "stream",
          "name": "stdout",
          "text": [
            "Processing Locus ID: PA14_69200, Feature ID: 1662094\n"
          ]
        },
        {
          "output_type": "stream",
          "name": "stderr",
          "text": [
            "\r794it [20:52,  1.69s/it]"
          ]
        },
        {
          "output_type": "stream",
          "name": "stdout",
          "text": [
            "Processing Locus ID: PA14_69240, Feature ID: 1662100\n"
          ]
        },
        {
          "output_type": "stream",
          "name": "stderr",
          "text": [
            "\r795it [20:53,  1.64s/it]"
          ]
        },
        {
          "output_type": "stream",
          "name": "stdout",
          "text": [
            "Processing Locus ID: PA14_69440, Feature ID: 1662134\n"
          ]
        },
        {
          "output_type": "stream",
          "name": "stderr",
          "text": [
            "\r796it [20:55,  1.61s/it]"
          ]
        },
        {
          "output_type": "stream",
          "name": "stdout",
          "text": [
            "Processing Locus ID: PA14_69450, Feature ID: 1662136\n"
          ]
        },
        {
          "output_type": "stream",
          "name": "stderr",
          "text": [
            "\r797it [20:57,  1.63s/it]"
          ]
        },
        {
          "output_type": "stream",
          "name": "stdout",
          "text": [
            "Processing Locus ID: PA14_69500, Feature ID: 1662142\n"
          ]
        },
        {
          "output_type": "stream",
          "name": "stderr",
          "text": [
            "\r798it [20:58,  1.59s/it]"
          ]
        },
        {
          "output_type": "stream",
          "name": "stdout",
          "text": [
            "Processing Locus ID: PA14_69660, Feature ID: 1662170\n"
          ]
        },
        {
          "output_type": "stream",
          "name": "stderr",
          "text": [
            "\r799it [21:00,  1.55s/it]"
          ]
        },
        {
          "output_type": "stream",
          "name": "stdout",
          "text": [
            "Processing Locus ID: PA14_69670, Feature ID: 1662172\n"
          ]
        },
        {
          "output_type": "stream",
          "name": "stderr",
          "text": [
            "\r800it [21:01,  1.59s/it]"
          ]
        },
        {
          "output_type": "stream",
          "name": "stdout",
          "text": [
            "Processing Locus ID: PA14_69690, Feature ID: 1662174\n"
          ]
        },
        {
          "output_type": "stream",
          "name": "stderr",
          "text": [
            "\r801it [21:03,  1.57s/it]"
          ]
        },
        {
          "output_type": "stream",
          "name": "stdout",
          "text": [
            "Processing Locus ID: PA14_69810, Feature ID: 1662194\n"
          ]
        },
        {
          "output_type": "stream",
          "name": "stderr",
          "text": [
            "\r802it [21:04,  1.55s/it]"
          ]
        },
        {
          "output_type": "stream",
          "name": "stdout",
          "text": [
            "Processing Locus ID: PA14_69910, Feature ID: 1662210\n"
          ]
        },
        {
          "output_type": "stream",
          "name": "stderr",
          "text": [
            "\r803it [21:06,  1.59s/it]"
          ]
        },
        {
          "output_type": "stream",
          "name": "stdout",
          "text": [
            "Processing Locus ID: PA14_70190, Feature ID: 1662250\n"
          ]
        },
        {
          "output_type": "stream",
          "name": "stderr",
          "text": [
            "\r804it [21:07,  1.56s/it]"
          ]
        },
        {
          "output_type": "stream",
          "name": "stdout",
          "text": [
            "Processing Locus ID: PA14_70240, Feature ID: 1662258\n"
          ]
        },
        {
          "output_type": "stream",
          "name": "stderr",
          "text": [
            "\r805it [21:09,  1.53s/it]"
          ]
        },
        {
          "output_type": "stream",
          "name": "stdout",
          "text": [
            "Processing Locus ID: PA14_70260, Feature ID: 1662260\n"
          ]
        },
        {
          "output_type": "stream",
          "name": "stderr",
          "text": [
            "\r806it [21:11,  1.57s/it]"
          ]
        },
        {
          "output_type": "stream",
          "name": "stdout",
          "text": [
            "Processing Locus ID: PA14_70270, Feature ID: 1662262\n"
          ]
        },
        {
          "output_type": "stream",
          "name": "stderr",
          "text": [
            "\r807it [21:12,  1.55s/it]"
          ]
        },
        {
          "output_type": "stream",
          "name": "stdout",
          "text": [
            "Processing Locus ID: PA14_70280, Feature ID: 1662264\n"
          ]
        },
        {
          "output_type": "stream",
          "name": "stderr",
          "text": [
            "\r808it [21:14,  1.54s/it]"
          ]
        },
        {
          "output_type": "stream",
          "name": "stdout",
          "text": [
            "Processing Locus ID: PA14_70370, Feature ID: 1662280\n"
          ]
        },
        {
          "output_type": "stream",
          "name": "stderr",
          "text": [
            "\r809it [21:15,  1.61s/it]"
          ]
        },
        {
          "output_type": "stream",
          "name": "stdout",
          "text": [
            "Processing Locus ID: PA14_70440, Feature ID: 1662290\n"
          ]
        },
        {
          "output_type": "stream",
          "name": "stderr",
          "text": [
            "\r810it [21:17,  1.57s/it]"
          ]
        },
        {
          "output_type": "stream",
          "name": "stdout",
          "text": [
            "Processing Locus ID: PA14_70470, Feature ID: 1662294\n"
          ]
        },
        {
          "output_type": "stream",
          "name": "stderr",
          "text": [
            "\r811it [21:18,  1.60s/it]"
          ]
        },
        {
          "output_type": "stream",
          "name": "stdout",
          "text": [
            "Processing Locus ID: PA14_70480, Feature ID: 1662296\n"
          ]
        },
        {
          "output_type": "stream",
          "name": "stderr",
          "text": [
            "\r812it [21:20,  1.57s/it]"
          ]
        },
        {
          "output_type": "stream",
          "name": "stdout",
          "text": [
            "Processing Locus ID: PA14_70730, Feature ID: 1662334\n"
          ]
        },
        {
          "output_type": "stream",
          "name": "stderr",
          "text": [
            "\r813it [21:21,  1.53s/it]"
          ]
        },
        {
          "output_type": "stream",
          "name": "stdout",
          "text": [
            "Processing Locus ID: PA14_70800, Feature ID: 1662348\n"
          ]
        },
        {
          "output_type": "stream",
          "name": "stderr",
          "text": [
            "\r814it [21:23,  1.59s/it]"
          ]
        },
        {
          "output_type": "stream",
          "name": "stdout",
          "text": [
            "Processing Locus ID: PA14_70810, Feature ID: 1662350\n"
          ]
        },
        {
          "output_type": "stream",
          "name": "stderr",
          "text": [
            "\r815it [21:25,  1.55s/it]"
          ]
        },
        {
          "output_type": "stream",
          "name": "stdout",
          "text": [
            "Processing Locus ID: PA14_71600, Feature ID: 1662480\n"
          ]
        },
        {
          "output_type": "stream",
          "name": "stderr",
          "text": [
            "\r816it [21:26,  1.54s/it]"
          ]
        },
        {
          "output_type": "stream",
          "name": "stdout",
          "text": [
            "Processing Locus ID: PA14_71620, Feature ID: 1662482\n"
          ]
        },
        {
          "output_type": "stream",
          "name": "stderr",
          "text": [
            "\r817it [21:28,  1.62s/it]"
          ]
        },
        {
          "output_type": "stream",
          "name": "stdout",
          "text": [
            "Processing Locus ID: PA14_71720, Feature ID: 1662500\n"
          ]
        },
        {
          "output_type": "stream",
          "name": "stderr",
          "text": [
            "\r818it [21:29,  1.59s/it]"
          ]
        },
        {
          "output_type": "stream",
          "name": "stdout",
          "text": [
            "Processing Locus ID: PA14_71740, Feature ID: 1662502\n"
          ]
        },
        {
          "output_type": "stream",
          "name": "stderr",
          "text": [
            "\r819it [21:31,  1.64s/it]"
          ]
        },
        {
          "output_type": "stream",
          "name": "stdout",
          "text": [
            "Processing Locus ID: PA14_71750, Feature ID: 1662504\n"
          ]
        },
        {
          "output_type": "stream",
          "name": "stderr",
          "text": [
            "\r820it [21:33,  1.59s/it]"
          ]
        },
        {
          "output_type": "stream",
          "name": "stdout",
          "text": [
            "Processing Locus ID: PA14_72460, Feature ID: 1662614\n"
          ]
        },
        {
          "output_type": "stream",
          "name": "stderr",
          "text": [
            "\r821it [21:34,  1.56s/it]"
          ]
        },
        {
          "output_type": "stream",
          "name": "stdout",
          "text": [
            "Processing Locus ID: PA14_72480, Feature ID: 1662618\n"
          ]
        },
        {
          "output_type": "stream",
          "name": "stderr",
          "text": [
            "\r822it [21:36,  1.55s/it]"
          ]
        },
        {
          "output_type": "stream",
          "name": "stdout",
          "text": [
            "Processing Locus ID: PA14_72490, Feature ID: 1662620\n"
          ]
        },
        {
          "output_type": "stream",
          "name": "stderr",
          "text": [
            "\r823it [21:37,  1.61s/it]"
          ]
        },
        {
          "output_type": "stream",
          "name": "stdout",
          "text": [
            "Processing Locus ID: PA14_72510, Feature ID: 1662624\n"
          ]
        },
        {
          "output_type": "stream",
          "name": "stderr",
          "text": [
            "\r824it [21:39,  1.59s/it]"
          ]
        },
        {
          "output_type": "stream",
          "name": "stdout",
          "text": [
            "Processing Locus ID: PA14_72970, Feature ID: 1662698\n"
          ]
        },
        {
          "output_type": "stream",
          "name": "stderr",
          "text": [
            "\r825it [21:41,  1.61s/it]"
          ]
        },
        {
          "output_type": "stream",
          "name": "stdout",
          "text": [
            "Processing Locus ID: PA14_73170, Feature ID: 1662734\n"
          ]
        },
        {
          "output_type": "stream",
          "name": "stderr",
          "text": [
            "\r826it [21:42,  1.58s/it]"
          ]
        },
        {
          "output_type": "stream",
          "name": "stdout",
          "text": [
            "Processing Locus ID: PA14_73220, Feature ID: 1662740\n"
          ]
        },
        {
          "output_type": "stream",
          "name": "stderr",
          "text": [
            "\r827it [21:44,  1.57s/it]"
          ]
        },
        {
          "output_type": "stream",
          "name": "stdout",
          "text": [
            "Processing Locus ID: PA14_73230, Feature ID: 1662742\n"
          ]
        },
        {
          "output_type": "stream",
          "name": "stderr",
          "text": [
            "\r828it [21:45,  1.60s/it]"
          ]
        },
        {
          "output_type": "stream",
          "name": "stdout",
          "text": [
            "Processing Locus ID: PA14_73240, Feature ID: 1662744\n"
          ]
        },
        {
          "output_type": "stream",
          "name": "stderr",
          "text": [
            "\r829it [21:47,  1.59s/it]"
          ]
        },
        {
          "output_type": "stream",
          "name": "stdout",
          "text": [
            "Processing Locus ID: PA14_73250, Feature ID: 1662746\n"
          ]
        },
        {
          "output_type": "stream",
          "name": "stderr",
          "text": [
            "\r830it [21:48,  1.56s/it]"
          ]
        },
        {
          "output_type": "stream",
          "name": "stdout",
          "text": [
            "Processing Locus ID: PA14_73260, Feature ID: 1662748\n"
          ]
        },
        {
          "output_type": "stream",
          "name": "stderr",
          "text": [
            "\r831it [21:50,  1.53s/it]"
          ]
        },
        {
          "output_type": "stream",
          "name": "stdout",
          "text": [
            "Processing Locus ID: PA14_73280, Feature ID: 1662750\n"
          ]
        },
        {
          "output_type": "stream",
          "name": "stderr",
          "text": [
            "\r832it [21:52,  1.57s/it]"
          ]
        },
        {
          "output_type": "stream",
          "name": "stdout",
          "text": [
            "Processing Locus ID: PA14_73290, Feature ID: 1662752\n"
          ]
        },
        {
          "output_type": "stream",
          "name": "stderr",
          "text": [
            "\r833it [21:53,  1.55s/it]"
          ]
        },
        {
          "output_type": "stream",
          "name": "stdout",
          "text": [
            "Processing Locus ID: PA14_73310, Feature ID: 1662756\n"
          ]
        },
        {
          "output_type": "stream",
          "name": "stderr",
          "text": [
            "\r834it [21:55,  1.59s/it]"
          ]
        },
        {
          "output_type": "stream",
          "name": "stdout",
          "text": [
            "Processing Locus ID: PA14_73320, Feature ID: 1662758\n"
          ]
        },
        {
          "output_type": "stream",
          "name": "stderr",
          "text": [
            "\r835it [21:56,  1.59s/it]"
          ]
        },
        {
          "output_type": "stream",
          "name": "stdout",
          "text": [
            "Processing Locus ID: PA14_73370, Feature ID: 1662766\n"
          ]
        },
        {
          "output_type": "stream",
          "name": "stderr",
          "text": [
            "\r836it [21:58,  1.56s/it]"
          ]
        },
        {
          "output_type": "stream",
          "name": "stdout",
          "text": [
            "Processing Locus ID: PA14_73400, Feature ID: 1662770\n"
          ]
        },
        {
          "output_type": "stream",
          "name": "stderr",
          "text": [
            "\r837it [22:00,  1.61s/it]"
          ]
        },
        {
          "output_type": "stream",
          "name": "stdout",
          "text": [
            "Processing Locus ID: PA14_73410, Feature ID: 1662772\n"
          ]
        },
        {
          "output_type": "stream",
          "name": "stderr",
          "text": [
            "\r838it [22:01,  1.58s/it]"
          ]
        },
        {
          "output_type": "stream",
          "name": "stdout",
          "text": [
            "Processing Locus ID: PA14_73420, Feature ID: 1662774\n"
          ]
        },
        {
          "output_type": "stream",
          "name": "stderr",
          "text": [
            "839it [22:03,  1.58s/it]"
          ]
        },
        {
          "output_type": "stream",
          "name": "stdout",
          "text": [
            "Data has been saved to gene_information.pkl\n"
          ]
        },
        {
          "output_type": "stream",
          "name": "stderr",
          "text": [
            "\n"
          ]
        }
      ]
    },
    {
      "cell_type": "code",
      "source": [
        "df = pd.read_pickle(\"/content/gene_information.pkl\")\n",
        "print(df.head())\n",
        "print(len(df))"
      ],
      "metadata": {
        "colab": {
          "base_uri": "https://localhost:8080/"
        },
        "id": "mepTQQF98jY0",
        "outputId": "39d9b337-b38b-4113-aad1-76cdff2accbb"
      },
      "execution_count": null,
      "outputs": [
        {
          "output_type": "stream",
          "name": "stdout",
          "text": [
            "   Index    Locus ID  Gene Name  \\\n",
            "0      0  PA14_00010       dnaA   \n",
            "1      1  PA14_00020       dnaN   \n",
            "2      2  PA14_00030       recF   \n",
            "3      3  PA14_00050       gyrB   \n",
            "4      4  PA14_00060  0, 0, 255   \n",
            "\n",
            "                                                 CDS  Length  \\\n",
            "0  GTGTCCGTGGAACTTTGGCAGCAGTGCGTGGATCTTCTCCGCGATG...    1560   \n",
            "1  ATGCATTTCACCATTCAACGCGAAGCCCTGTTGAAACCGCTGCAAC...    1115   \n",
            "2  ATGTCCCTGACCCGCGTTTCGGTCACCGCGGTGCGCAACCTGCACC...    1121   \n",
            "3  ATGAGCGAGAACAACACGTACGACTCTTCCAGCATCAAGGTGCTGA...    2445   \n",
            "4  ATGTCGACAGTGCAGGCCATCAGAACCGTCCTCTTTTACCTGCTGC...     781   \n",
            "\n",
            "                                            Promoter  \\\n",
            "0  TTTAAAGAGACCGGCGATTCTAGTGAAATCGAACGGGCAGGTCAAT...   \n",
            "1  GCAGGCGAAGATCGAGCTGCCGCACGATGCGGCCTTCTTCATCGCC...   \n",
            "2  CTCGTCTGCTCACCGAGCAGGACGGCGAAGTCGGCATCGTCCTGGG...   \n",
            "3  CCGGTATTCGAGGAAACACTCGCCGAATTGGTTTCACTGGATGACC...   \n",
            "4  GACTCCGACGATTACATCAAGACCCTCGACGAGTGGATCCCCATCC...   \n",
            "\n",
            "                                        Promoter_CDS  Length_Promoter_CDS  \n",
            "0  TTTAAAGAGACCGGCGATTCTAGTGAAATCGAACGGGCAGGTCAAT...                 2046  \n",
            "1  GCAGGCGAAGATCGAGCTGCCGCACGATGCGGCCTTCTTCATCGCC...                 1619  \n",
            "2  CTCGTCTGCTCACCGAGCAGGACGGCGAAGTCGGCATCGTCCTGGG...                 1625  \n",
            "3  CCGGTATTCGAGGAAACACTCGCCGAATTGGTTTCACTGGATGACC...                 2949  \n",
            "4  GACTCCGACGATTACATCAAGACCCTCGACGAGTGGATCCCCATCC...                 1285  \n",
            "839\n"
          ]
        }
      ]
    },
    {
      "cell_type": "code",
      "source": [
        "with open('/content/gene_information.pkl', \"rb\") as f:\n",
        "    object = pickle.load(f)\n",
        "\n",
        "df = pd.DataFrame(object)\n",
        "df.to_csv(r'gene_info.csv')"
      ],
      "metadata": {
        "id": "I3qWqLYW8tgk"
      },
      "execution_count": null,
      "outputs": []
    },
    {
      "cell_type": "code",
      "source": [],
      "metadata": {
        "id": "yB4kh2FRVwUF"
      },
      "execution_count": null,
      "outputs": []
    }
  ]
}
